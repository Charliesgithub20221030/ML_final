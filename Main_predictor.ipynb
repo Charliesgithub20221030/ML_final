{
 "cells": [
  {
   "cell_type": "code",
   "execution_count": null,
   "metadata": {},
   "outputs": [],
   "source": []
  },
  {
   "cell_type": "code",
   "execution_count": 1,
   "metadata": {},
   "outputs": [],
   "source": [
    "import pandas as pd\n",
    "import numpy as np\n",
    "import math\n",
    "import os\n",
    "from datetime import datetime\n",
    "from os.path import join as pj\n",
    "from copy import deepcopy\n",
    "import matplotlib.pyplot as plt\n",
    "import torch\n",
    "\n",
    "month_map = dict(zip(['January', 'February', 'March', 'April', 'May', 'June',\n",
    "     'July', 'August', 'September', 'October', 'November', 'December'],\n",
    "     list(range(1,13))))\n",
    "parse_date = lambda x: datetime.strptime(x , '%Y-%m-%d')\n",
    "future_cols =['adr', 'is_canceled', 'reservation_status_date', 'reservation_status']\n",
    "arrival_date_cols =['arrival_date_year', 'arrival_date_month', 'arrival_date_day_of_month'] \n",
    "\n",
    "\n",
    "root = 'dataset'\n",
    "train_x_path = pj(root ,'train.csv')\n",
    "train_y_path = pj(root , 'train_label.csv')\n",
    "test_x_path = pj(root , 'test.csv')\n",
    "test_y_path = pj(root,  'test_nolabel.csv')\n",
    "\n",
    "device = 'cuda' if torch.cuda.is_available() else 'cpu'"
   ]
  },
  {
   "cell_type": "code",
   "execution_count": 6,
   "metadata": {},
   "outputs": [],
   "source": []
  },
  {
   "cell_type": "markdown",
   "metadata": {},
   "source": [
    "## Feature selection\n",
    "\n",
    "Parts:\n",
    "- Main table (with all guessed future columns)\n",
    "- **Target**: is_cancel \n",
    "- **Target**: adr"
   ]
  },
  {
   "cell_type": "code",
   "execution_count": null,
   "metadata": {},
   "outputs": [],
   "source": [
    "### train"
   ]
  },
  {
   "cell_type": "code",
   "execution_count": 2,
   "metadata": {},
   "outputs": [],
   "source": [
    "def preprocessing(df, drop_future = False, Test=False):\n",
    "    df = df.replace({'arrival_date_month' : month_map})\n",
    "    df['arrival_date'] = df[arrival_date_cols].astype(str).agg('-'.join, axis=1)\n",
    "    df['arrival_date'] = df['arrival_date'].apply(parse_date)\n",
    "    df = df.drop(arrival_date_cols, axis = 1)\n",
    "    \n",
    "    if not Test:\n",
    "        df['reservation_status_date']=df['reservation_status_date'].apply(parse_date)\n",
    "        \n",
    "    if drop_future:\n",
    "        for future in future_cols:\n",
    "            if future in df.columns:\n",
    "                df = df.drop([future] ,axis=1)\n",
    "    return df\n",
    "\n",
    "def get_feature(df , adr = False ):\n",
    "    \n",
    "    key = ['arrival_date']\n",
    "    feat_level=[\n",
    "        'hotel', \n",
    "        'meal',\n",
    "        'country',\n",
    "        'market_segment',\n",
    "        'distribution_channel',\n",
    "        'reserved_room_type',\n",
    "        'assigned_room_type',\n",
    "        'deposit_type',\n",
    "        'customer_type']\n",
    "\n",
    "    feat_num=['lead_time',\n",
    "        'stays_in_weekend_nights',\n",
    "        'stays_in_week_nights',\n",
    "        'adults',\n",
    "        'children',\n",
    "        'babies', \n",
    "        'is_repeated_guest',\n",
    "        'previous_cancellations',\n",
    "        'previous_bookings_not_canceled',\n",
    "        'booking_changes',\n",
    "        'agent',\n",
    "        'company', \n",
    "        'days_in_waiting_list',\n",
    "        'required_car_parking_spaces',\n",
    "        'total_of_special_requests']\n",
    "    \n",
    "    df[['children', 'agent' , 'company']] = df[['children', 'agent' , 'company']].fillna(0.0)\n",
    "    df_proce = pd.get_dummies(df[feat_num + feat_level])\n",
    "    df_proce = pd.concat([df[key], df_proce] ,axis=1)\n",
    "\n",
    "    if adr:\n",
    "        return df_proce , df['adr']\n",
    "    return df_proce\n",
    "\n",
    "def agg_by_date(df):\n",
    "    df = df.groupby(['arrival_date']).sum()\n",
    "    return df \n",
    "\n",
    "def data_augmentor(df, y, times = 10, sigma=0.1):\n",
    "    df_g = deepcopy(df)\n",
    "    y_g = deepcopy(y)\n",
    "    print('original shape: ', df_g.shape)\n",
    "    for _ in range(times):\n",
    "        df_noise = np.random.normal(0,sigma, df.shape)\n",
    "        df_g = pd.concat([df_g , df.add(df_noise, axis =1)], axis =0)\n",
    "        y_g = pd.concat([y_g , deepcopy(y)], axis =0)\n",
    "    print('augmented shape:' , df_g.shape)\n",
    "    return df_g , y_g\n",
    "# def agg(df , method='sum'):\n",
    "#     if method=='sum':\n",
    "#         df.groupby(['arrival_date']).sum()\n",
    "#     elif method=='mean':\n",
    "        "
   ]
  },
  {
   "cell_type": "code",
   "execution_count": 3,
   "metadata": {},
   "outputs": [],
   "source": [
    "df_x = pd.read_csv(train_x_path)\n",
    "df_y = pd.read_csv(train_y_path)\n",
    "\n",
    "df_x_t = pd.read_csv(test_x_path)\n",
    "df_y_t = pd.read_csv(test_y_path)\n",
    "df_x = preprocessing(df_x)\n",
    "df_y['arrival_date'] = df_y['arrival_date'].apply(parse_date)\n",
    "\n",
    "\n",
    "df_x_t = preprocessing(df_x_t, Test = True)\n",
    "df_y_t['arrival_date'] = df_y_t['arrival_date'].apply(parse_date)"
   ]
  },
  {
   "cell_type": "code",
   "execution_count": null,
   "metadata": {},
   "outputs": [],
   "source": []
  },
  {
   "cell_type": "code",
   "execution_count": null,
   "metadata": {},
   "outputs": [],
   "source": []
  },
  {
   "cell_type": "markdown",
   "metadata": {},
   "source": [
    "## Sum( adr ) by date"
   ]
  },
  {
   "cell_type": "markdown",
   "metadata": {},
   "source": [
    "- **valid**: no neg. date\n",
    "- **invalid**: with neg. date"
   ]
  },
  {
   "cell_type": "code",
   "execution_count": 56,
   "metadata": {},
   "outputs": [],
   "source": [
    "invalid_x , valid_x = deepcopy(df_x),deepcopy(df_x)\n",
    "valid_x = valid_x.loc[valid_x['is_canceled']==0,:].reset_index(drop=True)\n",
    "valid_x['adr'] = abs(valid_x['adr'])"
   ]
  },
  {
   "cell_type": "code",
   "execution_count": 57,
   "metadata": {},
   "outputs": [],
   "source": [
    "v_adr = valid_x.groupby('arrival_date').sum()[['adr']]\n",
    "inv_adr = invalid_x.groupby('arrival_date').sum()[['adr']]\n",
    "\n",
    "# v_adr = valid_x.groupby('arrival_date').mean()[['adr']]\n",
    "# inv_adr = invalid_x.groupby('arrival_date').mean()[['adr']]\n"
   ]
  },
  {
   "cell_type": "code",
   "execution_count": 58,
   "metadata": {},
   "outputs": [
    {
     "data": {
      "text/plain": [
       "<AxesSubplot:>"
      ]
     },
     "execution_count": 58,
     "metadata": {},
     "output_type": "execute_result"
    },
    {
     "data": {
      "image/png": "[encoded data removed]",
      "text/plain": [
       "<Figure size 432x288 with 1 Axes>"
      ]
     },
     "metadata": {
      "needs_background": "light"
     },
     "output_type": "display_data"
    }
   ],
   "source": [
    "v_normal = v_adr['adr']\n",
    "v_normal = 9*(v_normal - v_normal.min())/\\\n",
    "            (v_normal.max() - v_normal.min())\n",
    "v_normal.hist(density= True,bins=10,cumulative=0,color='b')\n"
   ]
  },
  {
   "cell_type": "code",
   "execution_count": 59,
   "metadata": {
    "scrolled": false
   },
   "outputs": [
    {
     "data": {
      "text/plain": [
       "<AxesSubplot:>"
      ]
     },
     "execution_count": 59,
     "metadata": {},
     "output_type": "execute_result"
    },
    {
     "data": {
      "image/png": "[encoded data removed]",
      "text/plain": [
       "<Figure size 432x288 with 1 Axes>"
      ]
     },
     "metadata": {
      "needs_background": "light"
     },
     "output_type": "display_data"
    }
   ],
   "source": [
    "inv_normal = inv_adr['adr']\n",
    "inv_normal = 9*(inv_normal - inv_normal.min())/\\\n",
    "            (inv_normal.max() - inv_normal.min())\n",
    "\n",
    "inv_normal.hist(density= True,bins=10,cumulative=0,color='r')"
   ]
  },
  {
   "cell_type": "code",
   "execution_count": null,
   "metadata": {},
   "outputs": [],
   "source": []
  },
  {
   "cell_type": "code",
   "execution_count": null,
   "metadata": {},
   "outputs": [],
   "source": []
  },
  {
   "cell_type": "markdown",
   "metadata": {},
   "source": [
    "## Sum( adr $\\times$ date_range) by date"
   ]
  },
  {
   "cell_type": "markdown",
   "metadata": {},
   "source": [
    "- **valid**: no neg. date\n",
    "- **invalid**: with neg. date"
   ]
  },
  {
   "cell_type": "code",
   "execution_count": 60,
   "metadata": {},
   "outputs": [],
   "source": [
    "invalid_x , valid_x = deepcopy(df_x),deepcopy(df_x)\n",
    "valid_x = valid_x.loc[valid_x['is_canceled']==0,:].reset_index(drop=True)\n",
    "valid_x['adr'] = abs(valid_x['adr'])\n",
    "\n",
    "date_range = (df_x['reservation_status_date']-df_x['arrival_date'])\\\n",
    "            .apply(lambda x : x.days)\n",
    "\n",
    "valid_x['date_range']=date_range\n",
    "valid_x['date_range']=valid_x['date_range'].apply(lambda x: 0 if x<0 else x)\n",
    "valid_x['sum_adr'] = valid_x['date_range']*valid_x['adr']\n",
    "\n",
    "invalid_x['date_range']=date_range\n",
    "invalid_x['sum_adr'] = invalid_x['date_range']*invalid_x['adr']"
   ]
  },
  {
   "cell_type": "code",
   "execution_count": 61,
   "metadata": {},
   "outputs": [],
   "source": [
    "v_sumadr = valid_x.groupby('arrival_date').sum()[['sum_adr']]\n",
    "inv_sumadr = invalid_x.groupby('arrival_date').sum()[['sum_adr']]\n",
    "# v_adr = valid_x.groupby('arrival_date').mean()[['adr']]\n",
    "# inv_adr = invalid_x.groupby('arrival_date').mean()[['adr']]\n"
   ]
  },
  {
   "cell_type": "code",
   "execution_count": 70,
   "metadata": {},
   "outputs": [
    {
     "data": {
      "text/plain": [
       "<AxesSubplot:>"
      ]
     },
     "execution_count": 70,
     "metadata": {},
     "output_type": "execute_result"
    },
    {
     "data": {
      "image/png": "[encoded data removed]",
      "text/plain": [
       "<Figure size 432x288 with 1 Axes>"
      ]
     },
     "metadata": {
      "needs_background": "light"
     },
     "output_type": "display_data"
    }
   ],
   "source": [
    "vsum_normal = v_sumadr['sum_adr']\n",
    "vsum_normal = 9*(vsum_normal - vsum_normal.min())/\\\n",
    "            (vsum_normal.max() - vsum_normal.min())\n",
    "vsum_normal.hist(density= True,bins=10,cumulative=0,color='b')\n"
   ]
  },
  {
   "cell_type": "code",
   "execution_count": 71,
   "metadata": {
    "scrolled": false
   },
   "outputs": [
    {
     "data": {
      "text/plain": [
       "<AxesSubplot:>"
      ]
     },
     "execution_count": 71,
     "metadata": {},
     "output_type": "execute_result"
    },
    {
     "data": {
      "image/png": "[encoded data removed]",
      "text/plain": [
       "<Figure size 432x288 with 1 Axes>"
      ]
     },
     "metadata": {
      "needs_background": "light"
     },
     "output_type": "display_data"
    }
   ],
   "source": [
    "invsum_normal = inv_sumadr['sum_adr']\n",
    "invsum_normal = 9*(invsum_normal - invsum_normal.min())/\\\n",
    "            (invsum_normal.max() - invsum_normal.min())\n",
    "\n",
    "invsum_normal.hist(density= True,bins=10,cumulative=0,color='r')"
   ]
  },
  {
   "cell_type": "code",
   "execution_count": null,
   "metadata": {},
   "outputs": [],
   "source": []
  },
  {
   "cell_type": "markdown",
   "metadata": {},
   "source": [
    "## True $x$ label distribuion"
   ]
  },
  {
   "cell_type": "code",
   "execution_count": 12,
   "metadata": {},
   "outputs": [
    {
     "data": {
      "text/plain": [
       "<AxesSubplot:>"
      ]
     },
     "execution_count": 12,
     "metadata": {},
     "output_type": "execute_result"
    },
    {
     "data": {
      "image/png": "[encoded data removed]",
      "text/plain": [
       "<Figure size 432x288 with 1 Axes>"
      ]
     },
     "metadata": {
      "needs_background": "light"
     },
     "output_type": "display_data"
    }
   ],
   "source": [
    "df_y['label'].hist(density=True , bins=10 ,cumulative=0 , color='g')"
   ]
  },
  {
   "cell_type": "code",
   "execution_count": 13,
   "metadata": {},
   "outputs": [
    {
     "data": {
      "image/png": "[encoded data removed]",
      "text/plain": [
       "<Figure size 432x288 with 1 Axes>"
      ]
     },
     "metadata": {
      "needs_background": "light"
     },
     "output_type": "display_data"
    }
   ],
   "source": [
    "infer_label = vsum_normal.values\n",
    "true_label = df_y['label']\n",
    "plt.hist(true_label , \n",
    "        density=True,\n",
    "         cumulative=1 ,\n",
    "         bins=10,\n",
    "         color='black',\n",
    "        label='true')\n",
    "plt.legend(loc='upper right')\n",
    "plt.hist(infer_label ,\n",
    "         density=True,\n",
    "         cumulative=1 ,\n",
    "         bins=10,\n",
    "         color='blue',\n",
    "        label='inferred')\n",
    "\n",
    "plt.show()"
   ]
  },
  {
   "cell_type": "code",
   "execution_count": 14,
   "metadata": {
    "scrolled": true
   },
   "outputs": [
    {
     "data": {
      "text/plain": [
       "0.7965563250884072"
      ]
     },
     "execution_count": 14,
     "metadata": {},
     "output_type": "execute_result"
    }
   ],
   "source": [
    "abs(infer_label - true_label).sum()/len(infer_label)"
   ]
  },
  {
   "cell_type": "code",
   "execution_count": 254,
   "metadata": {},
   "outputs": [],
   "source": [
    "from sklearn.linear_model import LinearRegression\n",
    "from sklearn.svm import SVR, SVC\n",
    "from sklearn.metrics import mean_absolute_error as mae\n",
    "from sklearn.metrics import accuracy_score , f1_score , recall_score\n",
    "from sklearn.neighbors import KNeighborsClassifier\n",
    "from sklearn.model_selection import train_test_split, LeaveOneOut\n",
    "from sklearn.preprocessing import StandardScaler as sc\n",
    "from sklearn.multiclass import OneVsRestClassifier as OVR"
   ]
  },
  {
   "cell_type": "markdown",
   "metadata": {},
   "source": [
    "## From normalized_adr to label"
   ]
  },
  {
   "cell_type": "code",
   "execution_count": 246,
   "metadata": {},
   "outputs": [],
   "source": [
    "x, y = infer_label, true_label.values\n",
    "x, y = x.reshape(-1 ,1) , y.reshape(-1,1)\n",
    "test_size = 300 # from 640"
   ]
  },
  {
   "cell_type": "markdown",
   "metadata": {},
   "source": [
    "### Linear Regression"
   ]
  },
  {
   "cell_type": "code",
   "execution_count": 303,
   "metadata": {
    "scrolled": false
   },
   "outputs": [
    {
     "data": {
      "text/plain": [
       "OneVsRestClassifier(estimator=LinearRegression())"
      ]
     },
     "execution_count": 303,
     "metadata": {},
     "output_type": "execute_result"
    }
   ],
   "source": [
    "model_lr = LinearRegression(normalize=False)\n",
    "model_lr = OVR(model_lr)\n",
    "model_lr.fit(x[:test_size,:] , y[:test_size,:])\n"
   ]
  },
  {
   "cell_type": "code",
   "execution_count": 304,
   "metadata": {},
   "outputs": [
    {
     "data": {
      "text/plain": [
       "0.8647058823529412"
      ]
     },
     "execution_count": 304,
     "metadata": {},
     "output_type": "execute_result"
    }
   ],
   "source": [
    "y_pred = model_lr.predict(x[test_size:,:])\n",
    "mae(y[test_size:,:] , y_pred)"
   ]
  },
  {
   "cell_type": "markdown",
   "metadata": {},
   "source": [
    "### SVR"
   ]
  },
  {
   "cell_type": "code",
   "execution_count": 301,
   "metadata": {
    "scrolled": false
   },
   "outputs": [
    {
     "data": {
      "text/plain": [
       "SVC(C=10)"
      ]
     },
     "execution_count": 301,
     "metadata": {},
     "output_type": "execute_result"
    }
   ],
   "source": [
    "model_svr = SVC(C=10)\n",
    "# model_svr = OVR(model_svr)\n",
    "model_svr.fit(x[:test_size,:] , y[:test_size,:].flatten())\n"
   ]
  },
  {
   "cell_type": "code",
   "execution_count": 302,
   "metadata": {
    "scrolled": true
   },
   "outputs": [
    {
     "data": {
      "text/plain": [
       "0.8647058823529412"
      ]
     },
     "execution_count": 302,
     "metadata": {},
     "output_type": "execute_result"
    }
   ],
   "source": [
    "y_pred = model_lr.predict(x[test_size:,:])\n",
    "mae(y[test_size:,:].flatten() , y_pred)"
   ]
  },
  {
   "cell_type": "markdown",
   "metadata": {},
   "source": [
    "### LGB"
   ]
  },
  {
   "cell_type": "code",
   "execution_count": 307,
   "metadata": {},
   "outputs": [
    {
     "data": {
      "text/plain": [
       "LGBMClassifier(metric='multi_logloss', num_class=10, objective='multiclass')"
      ]
     },
     "execution_count": 307,
     "metadata": {},
     "output_type": "execute_result"
    }
   ],
   "source": [
    "from lightgbm import LGBMClassifier\n",
    "\n",
    "model_lgb = LGBMClassifier(num_class =10 ,\n",
    "                           objective='multiclass',\n",
    "                           metric='multi_logloss')\n",
    "model_lgb.fit(x[:test_size,:] , y[:test_size,:].flatten())"
   ]
  },
  {
   "cell_type": "code",
   "execution_count": 308,
   "metadata": {
    "scrolled": true
   },
   "outputs": [
    {
     "data": {
      "text/plain": [
       "0.08529411764705883"
      ]
     },
     "execution_count": 308,
     "metadata": {},
     "output_type": "execute_result"
    }
   ],
   "source": [
    "y_pred = model_lgb.predict(x[test_size:,:])\n",
    "mae(y[test_size:,:].flatten() , y_pred)"
   ]
  },
  {
   "cell_type": "code",
   "execution_count": 309,
   "metadata": {},
   "outputs": [
    {
     "data": {
      "text/plain": [
       "0.02666666666666667"
      ]
     },
     "execution_count": 309,
     "metadata": {},
     "output_type": "execute_result"
    }
   ],
   "source": [
    "y_p = model_lgb.predict(x[:test_size,:])\n",
    "mae(y[:test_size,:].flatten() , y_p)"
   ]
  },
  {
   "cell_type": "code",
   "execution_count": null,
   "metadata": {},
   "outputs": [],
   "source": [
    "import joblib\n",
    "# from sklearn.model_selection import GridSearchCV \n",
    "\n",
    "# parameters ={\n",
    "#     'max_leaf': [100 , 200, 300 ,400 , 600],\n",
    "#     'max_depth': [2, 5 ,10 , 15, 20,  35],\n",
    "#     'learning_rate': [0.01, 0.02, 0.05, 0.1, 0.15],\n",
    "#     'feature_fraction': [0.6, 0.7, 0.8, 0.95],\n",
    "#     'bagging_fraction': [0.6, 0.7, 0.8, 0.95],\n",
    "#     'bagging_freq': [2, 4, 6, 8],\n",
    "#     'lambda_l1': [0.1, 0.4, 0.6],\n",
    "#     'lambda_l2': [10, 15, 35],\n",
    "#     'cat_smooth': [1, 10, 15, 20, 35],\n",
    "#     }\n",
    "# gs = GridSearchCV(model_lgb , \n",
    "#                   param_grid =parameters , \n",
    "#                   n_jobs = 20)\n",
    "# gs.fit(x[:test_size,:] , y[:test_size,:].flatten())\n",
    "# gs.best_params_\n",
    "gs_ = joblib.load(\"gs_model_yy\")"
   ]
  },
  {
   "cell_type": "code",
   "execution_count": 295,
   "metadata": {},
   "outputs": [],
   "source": [
    "import pickle \n",
    "with open('yy.pickle', 'wb') as f:\n",
    "    pickle.dump([x[:test_size,:] , y[:test_size,:].flatten()] ,f)\n",
    "    "
   ]
  },
  {
   "cell_type": "code",
   "execution_count": 296,
   "metadata": {},
   "outputs": [],
   "source": [
    "with open('yy.pickle' ,'rb') as f:\n",
    "    x_train , y_train  =  pickle.load(f)"
   ]
  },
  {
   "cell_type": "code",
   "execution_count": null,
   "metadata": {},
   "outputs": [],
   "source": []
  },
  {
   "cell_type": "code",
   "execution_count": null,
   "metadata": {},
   "outputs": [],
   "source": []
  },
  {
   "cell_type": "code",
   "execution_count": null,
   "metadata": {},
   "outputs": [],
   "source": []
  },
  {
   "cell_type": "code",
   "execution_count": null,
   "metadata": {},
   "outputs": [],
   "source": []
  },
  {
   "cell_type": "code",
   "execution_count": null,
   "metadata": {},
   "outputs": [],
   "source": []
  },
  {
   "cell_type": "code",
   "execution_count": null,
   "metadata": {},
   "outputs": [],
   "source": []
  },
  {
   "cell_type": "markdown",
   "metadata": {},
   "source": [
    "## Remaining Feature"
   ]
  },
  {
   "cell_type": "code",
   "execution_count": 179,
   "metadata": {},
   "outputs": [],
   "source": [
    "remain_cols=[\\\n",
    "            'lead_time',\n",
    "            'stays_in_weekend_nights', \n",
    "            'stays_in_week_nights',\n",
    "            'adults', \n",
    "            'children',\n",
    "            'babies', \n",
    "#             'meal',\n",
    "#             'country',\n",
    "#             'market_segment',\n",
    "#             'distribution_channel',\n",
    "            'is_repeated_guest', \n",
    "            'previous_cancellations',\n",
    "            'previous_bookings_not_canceled',\n",
    "#             'reserved_room_type',\n",
    "#             'assigned_room_type', \n",
    "            'booking_changes',\n",
    "#             'deposit_type',\n",
    "            'agent',\n",
    "            'company',\n",
    "            'days_in_waiting_list',\n",
    "#             'customer_type',\n",
    "            'required_car_parking_spaces', \n",
    "            'total_of_special_requests',\n",
    "              ]\n"
   ]
  },
  {
   "cell_type": "code",
   "execution_count": 171,
   "metadata": {},
   "outputs": [],
   "source": [
    "valid_x_sum = valid_x.groupby('arrival_date').sum()"
   ]
  },
  {
   "cell_type": "code",
   "execution_count": 176,
   "metadata": {},
   "outputs": [
    {
     "data": {
      "text/plain": [
       "Index(['ID', 'is_canceled', 'lead_time', 'arrival_date_week_number',\n",
       "       'stays_in_weekend_nights', 'stays_in_week_nights', 'adults', 'children',\n",
       "       'babies', 'is_repeated_guest', 'previous_cancellations',\n",
       "       'previous_bookings_not_canceled', 'booking_changes', 'agent', 'company',\n",
       "       'days_in_waiting_list', 'adr', 'required_car_parking_spaces',\n",
       "       'total_of_special_requests', 'date_range', 'sum_adr'],\n",
       "      dtype='object')"
      ]
     },
     "execution_count": 176,
     "metadata": {},
     "output_type": "execute_result"
    }
   ],
   "source": [
    "valid_x_sum.columns"
   ]
  },
  {
   "cell_type": "code",
   "execution_count": 183,
   "metadata": {
    "scrolled": true
   },
   "outputs": [
    {
     "data": {
      "text/plain": [
       "array([[<AxesSubplot:title={'center':'lead_time'}>,\n",
       "        <AxesSubplot:title={'center':'stays_in_weekend_nights'}>],\n",
       "       [<AxesSubplot:title={'center':'stays_in_week_nights'}>,\n",
       "        <AxesSubplot:title={'center':'adults'}>]], dtype=object)"
      ]
     },
     "execution_count": 183,
     "metadata": {},
     "output_type": "execute_result"
    },
    {
     "data": {
      "image/png": "[encoded data removed]",
      "text/plain": [
       "<Figure size 432x288 with 4 Axes>"
      ]
     },
     "metadata": {
      "needs_background": "light"
     },
     "output_type": "display_data"
    }
   ],
   "source": [
    "valid_x_sum[remain_cols[:4]].hist(bins=10,density=True)"
   ]
  },
  {
   "cell_type": "code",
   "execution_count": 184,
   "metadata": {},
   "outputs": [
    {
     "data": {
      "text/plain": [
       "array([[<AxesSubplot:title={'center':'children'}>,\n",
       "        <AxesSubplot:title={'center':'babies'}>],\n",
       "       [<AxesSubplot:title={'center':'is_repeated_guest'}>,\n",
       "        <AxesSubplot:title={'center':'previous_cancellations'}>]],\n",
       "      dtype=object)"
      ]
     },
     "execution_count": 184,
     "metadata": {},
     "output_type": "execute_result"
    },
    {
     "data": {
      "image/png": "[encoded data removed]",
      "text/plain": [
       "<Figure size 432x288 with 4 Axes>"
      ]
     },
     "metadata": {
      "needs_background": "light"
     },
     "output_type": "display_data"
    }
   ],
   "source": [
    "valid_x_sum[remain_cols[4:8]].hist(bins=10,density=True)"
   ]
  },
  {
   "cell_type": "code",
   "execution_count": 185,
   "metadata": {},
   "outputs": [
    {
     "data": {
      "text/plain": [
       "array([[<AxesSubplot:title={'center':'previous_bookings_not_canceled'}>,\n",
       "        <AxesSubplot:title={'center':'booking_changes'}>],\n",
       "       [<AxesSubplot:title={'center':'agent'}>,\n",
       "        <AxesSubplot:title={'center':'company'}>]], dtype=object)"
      ]
     },
     "execution_count": 185,
     "metadata": {},
     "output_type": "execute_result"
    },
    {
     "data": {
      "image/png": "[encoded data removed]",
      "text/plain": [
       "<Figure size 432x288 with 4 Axes>"
      ]
     },
     "metadata": {
      "needs_background": "light"
     },
     "output_type": "display_data"
    }
   ],
   "source": [
    "valid_x_sum[remain_cols[8:12]].hist(bins=10,density=True)"
   ]
  },
  {
   "cell_type": "code",
   "execution_count": 186,
   "metadata": {},
   "outputs": [
    {
     "data": {
      "text/plain": [
       "array([[<AxesSubplot:title={'center':'days_in_waiting_list'}>,\n",
       "        <AxesSubplot:title={'center':'required_car_parking_spaces'}>],\n",
       "       [<AxesSubplot:title={'center':'total_of_special_requests'}>,\n",
       "        <AxesSubplot:>]], dtype=object)"
      ]
     },
     "execution_count": 186,
     "metadata": {},
     "output_type": "execute_result"
    },
    {
     "data": {
      "image/png": "[encoded data removed]",
      "text/plain": [
       "<Figure size 432x288 with 4 Axes>"
      ]
     },
     "metadata": {
      "needs_background": "light"
     },
     "output_type": "display_data"
    }
   ],
   "source": [
    "valid_x_sum[remain_cols[12:]].hist(bins=10,density=True)"
   ]
  },
  {
   "cell_type": "code",
   "execution_count": 187,
   "metadata": {},
   "outputs": [
    {
     "data": {
      "text/plain": [
       "['lead_time',\n",
       " 'stays_in_weekend_nights',\n",
       " 'stays_in_week_nights',\n",
       " 'adults',\n",
       " 'children',\n",
       " 'babies',\n",
       " 'is_repeated_guest',\n",
       " 'previous_cancellations',\n",
       " 'previous_bookings_not_canceled',\n",
       " 'booking_changes',\n",
       " 'agent',\n",
       " 'company',\n",
       " 'days_in_waiting_list',\n",
       " 'required_car_parking_spaces',\n",
       " 'total_of_special_requests']"
      ]
     },
     "execution_count": 187,
     "metadata": {},
     "output_type": "execute_result"
    }
   ],
   "source": [
    "remain_cols"
   ]
  },
  {
   "cell_type": "code",
   "execution_count": 191,
   "metadata": {},
   "outputs": [
    {
     "data": {
      "text/plain": [
       "nan"
      ]
     },
     "execution_count": 191,
     "metadata": {},
     "output_type": "execute_result"
    }
   ],
   "source": [
    "def histogram_intersection(a, b):\n",
    "    v = np.minimum(a, b).sum().round(decimals=1)\n",
    "    return v\n",
    "\n",
    "\n",
    "valid_x_sum['lead_time'].corr(true_label, method='pearson')"
   ]
  },
  {
   "cell_type": "code",
   "execution_count": 313,
   "metadata": {},
   "outputs": [],
   "source": [
    "remain_x_y = deepcopy(valid_x_sum[remain_cols])\n",
    "remain_x_y['label']=true_label.values\n",
    "remain_x_y = remain_x_y[['label']+remain_cols]\n",
    "# .corr(method='pearson')\n"
   ]
  },
  {
   "cell_type": "code",
   "execution_count": 314,
   "metadata": {},
   "outputs": [
    {
     "data": {
      "text/html": [
       "<div>\n",
       "<style scoped>\n",
       "    .dataframe tbody tr th:only-of-type {\n",
       "        vertical-align: middle;\n",
       "    }\n",
       "\n",
       "    .dataframe tbody tr th {\n",
       "        vertical-align: top;\n",
       "    }\n",
       "\n",
       "    .dataframe thead th {\n",
       "        text-align: right;\n",
       "    }\n",
       "</style>\n",
       "<table border=\"1\" class=\"dataframe\">\n",
       "  <thead>\n",
       "    <tr style=\"text-align: right;\">\n",
       "      <th></th>\n",
       "      <th>label</th>\n",
       "      <th>lead_time</th>\n",
       "      <th>stays_in_weekend_nights</th>\n",
       "      <th>stays_in_week_nights</th>\n",
       "      <th>adults</th>\n",
       "      <th>children</th>\n",
       "      <th>babies</th>\n",
       "      <th>is_repeated_guest</th>\n",
       "      <th>previous_cancellations</th>\n",
       "      <th>previous_bookings_not_canceled</th>\n",
       "      <th>booking_changes</th>\n",
       "      <th>agent</th>\n",
       "      <th>company</th>\n",
       "      <th>days_in_waiting_list</th>\n",
       "      <th>required_car_parking_spaces</th>\n",
       "      <th>total_of_special_requests</th>\n",
       "    </tr>\n",
       "  </thead>\n",
       "  <tbody>\n",
       "    <tr>\n",
       "      <th>label</th>\n",
       "      <td>1.000000</td>\n",
       "      <td>0.513087</td>\n",
       "      <td>0.633663</td>\n",
       "      <td>0.556352</td>\n",
       "      <td>0.637922</td>\n",
       "      <td>0.624413</td>\n",
       "      <td>0.347326</td>\n",
       "      <td>0.181930</td>\n",
       "      <td>0.012054</td>\n",
       "      <td>0.120508</td>\n",
       "      <td>0.409913</td>\n",
       "      <td>0.432488</td>\n",
       "      <td>0.076464</td>\n",
       "      <td>0.097123</td>\n",
       "      <td>0.458513</td>\n",
       "      <td>0.626447</td>\n",
       "    </tr>\n",
       "    <tr>\n",
       "      <th>adults</th>\n",
       "      <td>0.637922</td>\n",
       "      <td>0.809737</td>\n",
       "      <td>0.524372</td>\n",
       "      <td>0.826537</td>\n",
       "      <td>1.000000</td>\n",
       "      <td>0.439049</td>\n",
       "      <td>0.185092</td>\n",
       "      <td>0.016638</td>\n",
       "      <td>0.116263</td>\n",
       "      <td>0.039203</td>\n",
       "      <td>0.549339</td>\n",
       "      <td>0.624377</td>\n",
       "      <td>0.155262</td>\n",
       "      <td>0.271310</td>\n",
       "      <td>0.480812</td>\n",
       "      <td>0.636411</td>\n",
       "    </tr>\n",
       "    <tr>\n",
       "      <th>stays_in_weekend_nights</th>\n",
       "      <td>0.633663</td>\n",
       "      <td>0.342950</td>\n",
       "      <td>1.000000</td>\n",
       "      <td>0.242447</td>\n",
       "      <td>0.524372</td>\n",
       "      <td>0.375137</td>\n",
       "      <td>0.275103</td>\n",
       "      <td>0.186849</td>\n",
       "      <td>0.048385</td>\n",
       "      <td>0.148287</td>\n",
       "      <td>0.259763</td>\n",
       "      <td>0.442653</td>\n",
       "      <td>0.111548</td>\n",
       "      <td>0.028835</td>\n",
       "      <td>0.272680</td>\n",
       "      <td>0.458020</td>\n",
       "    </tr>\n",
       "    <tr>\n",
       "      <th>total_of_special_requests</th>\n",
       "      <td>0.626447</td>\n",
       "      <td>0.464766</td>\n",
       "      <td>0.458020</td>\n",
       "      <td>0.537144</td>\n",
       "      <td>0.636411</td>\n",
       "      <td>0.600007</td>\n",
       "      <td>0.270889</td>\n",
       "      <td>0.030378</td>\n",
       "      <td>0.112144</td>\n",
       "      <td>0.029098</td>\n",
       "      <td>0.423111</td>\n",
       "      <td>0.490732</td>\n",
       "      <td>0.001201</td>\n",
       "      <td>0.068228</td>\n",
       "      <td>0.485960</td>\n",
       "      <td>1.000000</td>\n",
       "    </tr>\n",
       "    <tr>\n",
       "      <th>children</th>\n",
       "      <td>0.624413</td>\n",
       "      <td>0.274927</td>\n",
       "      <td>0.375137</td>\n",
       "      <td>0.348007</td>\n",
       "      <td>0.439049</td>\n",
       "      <td>1.000000</td>\n",
       "      <td>0.340986</td>\n",
       "      <td>0.153325</td>\n",
       "      <td>0.101387</td>\n",
       "      <td>0.104211</td>\n",
       "      <td>0.342271</td>\n",
       "      <td>0.338233</td>\n",
       "      <td>0.108282</td>\n",
       "      <td>0.013109</td>\n",
       "      <td>0.487390</td>\n",
       "      <td>0.600007</td>\n",
       "    </tr>\n",
       "    <tr>\n",
       "      <th>stays_in_week_nights</th>\n",
       "      <td>0.556352</td>\n",
       "      <td>0.752619</td>\n",
       "      <td>0.242447</td>\n",
       "      <td>1.000000</td>\n",
       "      <td>0.826537</td>\n",
       "      <td>0.348007</td>\n",
       "      <td>0.112213</td>\n",
       "      <td>0.084009</td>\n",
       "      <td>0.105784</td>\n",
       "      <td>0.102751</td>\n",
       "      <td>0.557976</td>\n",
       "      <td>0.564633</td>\n",
       "      <td>0.240636</td>\n",
       "      <td>0.287191</td>\n",
       "      <td>0.431735</td>\n",
       "      <td>0.537144</td>\n",
       "    </tr>\n",
       "    <tr>\n",
       "      <th>lead_time</th>\n",
       "      <td>0.513087</td>\n",
       "      <td>1.000000</td>\n",
       "      <td>0.342950</td>\n",
       "      <td>0.752619</td>\n",
       "      <td>0.809737</td>\n",
       "      <td>0.274927</td>\n",
       "      <td>0.094193</td>\n",
       "      <td>0.083254</td>\n",
       "      <td>0.128481</td>\n",
       "      <td>0.088290</td>\n",
       "      <td>0.507240</td>\n",
       "      <td>0.449613</td>\n",
       "      <td>0.146675</td>\n",
       "      <td>0.323660</td>\n",
       "      <td>0.307095</td>\n",
       "      <td>0.464766</td>\n",
       "    </tr>\n",
       "    <tr>\n",
       "      <th>required_car_parking_spaces</th>\n",
       "      <td>0.458513</td>\n",
       "      <td>0.307095</td>\n",
       "      <td>0.272680</td>\n",
       "      <td>0.431735</td>\n",
       "      <td>0.480812</td>\n",
       "      <td>0.487390</td>\n",
       "      <td>0.225466</td>\n",
       "      <td>0.006595</td>\n",
       "      <td>0.086548</td>\n",
       "      <td>0.066465</td>\n",
       "      <td>0.383784</td>\n",
       "      <td>0.401743</td>\n",
       "      <td>0.151457</td>\n",
       "      <td>0.094161</td>\n",
       "      <td>1.000000</td>\n",
       "      <td>0.485960</td>\n",
       "    </tr>\n",
       "    <tr>\n",
       "      <th>agent</th>\n",
       "      <td>0.432488</td>\n",
       "      <td>0.449613</td>\n",
       "      <td>0.442653</td>\n",
       "      <td>0.564633</td>\n",
       "      <td>0.624377</td>\n",
       "      <td>0.338233</td>\n",
       "      <td>0.151318</td>\n",
       "      <td>0.014482</td>\n",
       "      <td>0.017619</td>\n",
       "      <td>0.005433</td>\n",
       "      <td>0.385253</td>\n",
       "      <td>1.000000</td>\n",
       "      <td>0.010146</td>\n",
       "      <td>0.121016</td>\n",
       "      <td>0.401743</td>\n",
       "      <td>0.490732</td>\n",
       "    </tr>\n",
       "    <tr>\n",
       "      <th>booking_changes</th>\n",
       "      <td>0.409913</td>\n",
       "      <td>0.507240</td>\n",
       "      <td>0.259763</td>\n",
       "      <td>0.557976</td>\n",
       "      <td>0.549339</td>\n",
       "      <td>0.342271</td>\n",
       "      <td>0.130197</td>\n",
       "      <td>0.009156</td>\n",
       "      <td>0.056233</td>\n",
       "      <td>0.044632</td>\n",
       "      <td>1.000000</td>\n",
       "      <td>0.385253</td>\n",
       "      <td>0.331493</td>\n",
       "      <td>0.141522</td>\n",
       "      <td>0.383784</td>\n",
       "      <td>0.423111</td>\n",
       "    </tr>\n",
       "    <tr>\n",
       "      <th>babies</th>\n",
       "      <td>0.347326</td>\n",
       "      <td>0.094193</td>\n",
       "      <td>0.275103</td>\n",
       "      <td>0.112213</td>\n",
       "      <td>0.185092</td>\n",
       "      <td>0.340986</td>\n",
       "      <td>1.000000</td>\n",
       "      <td>0.102632</td>\n",
       "      <td>0.010549</td>\n",
       "      <td>0.091367</td>\n",
       "      <td>0.130197</td>\n",
       "      <td>0.151318</td>\n",
       "      <td>0.068663</td>\n",
       "      <td>0.040817</td>\n",
       "      <td>0.225466</td>\n",
       "      <td>0.270889</td>\n",
       "    </tr>\n",
       "    <tr>\n",
       "      <th>is_repeated_guest</th>\n",
       "      <td>0.181930</td>\n",
       "      <td>0.083254</td>\n",
       "      <td>0.186849</td>\n",
       "      <td>0.084009</td>\n",
       "      <td>0.016638</td>\n",
       "      <td>0.153325</td>\n",
       "      <td>0.102632</td>\n",
       "      <td>1.000000</td>\n",
       "      <td>0.025757</td>\n",
       "      <td>0.476248</td>\n",
       "      <td>0.009156</td>\n",
       "      <td>0.014482</td>\n",
       "      <td>0.224729</td>\n",
       "      <td>0.012638</td>\n",
       "      <td>0.006595</td>\n",
       "      <td>0.030378</td>\n",
       "    </tr>\n",
       "    <tr>\n",
       "      <th>previous_bookings_not_canceled</th>\n",
       "      <td>0.120508</td>\n",
       "      <td>0.088290</td>\n",
       "      <td>0.148287</td>\n",
       "      <td>0.102751</td>\n",
       "      <td>0.039203</td>\n",
       "      <td>0.104211</td>\n",
       "      <td>0.091367</td>\n",
       "      <td>0.476248</td>\n",
       "      <td>0.032848</td>\n",
       "      <td>1.000000</td>\n",
       "      <td>0.044632</td>\n",
       "      <td>0.005433</td>\n",
       "      <td>0.239803</td>\n",
       "      <td>0.007640</td>\n",
       "      <td>0.066465</td>\n",
       "      <td>0.029098</td>\n",
       "    </tr>\n",
       "    <tr>\n",
       "      <th>days_in_waiting_list</th>\n",
       "      <td>0.097123</td>\n",
       "      <td>0.323660</td>\n",
       "      <td>0.028835</td>\n",
       "      <td>0.287191</td>\n",
       "      <td>0.271310</td>\n",
       "      <td>0.013109</td>\n",
       "      <td>0.040817</td>\n",
       "      <td>0.012638</td>\n",
       "      <td>0.020616</td>\n",
       "      <td>0.007640</td>\n",
       "      <td>0.141522</td>\n",
       "      <td>0.121016</td>\n",
       "      <td>0.011051</td>\n",
       "      <td>1.000000</td>\n",
       "      <td>0.094161</td>\n",
       "      <td>0.068228</td>\n",
       "    </tr>\n",
       "    <tr>\n",
       "      <th>company</th>\n",
       "      <td>0.076464</td>\n",
       "      <td>0.146675</td>\n",
       "      <td>0.111548</td>\n",
       "      <td>0.240636</td>\n",
       "      <td>0.155262</td>\n",
       "      <td>0.108282</td>\n",
       "      <td>0.068663</td>\n",
       "      <td>0.224729</td>\n",
       "      <td>0.026653</td>\n",
       "      <td>0.239803</td>\n",
       "      <td>0.331493</td>\n",
       "      <td>0.010146</td>\n",
       "      <td>1.000000</td>\n",
       "      <td>0.011051</td>\n",
       "      <td>0.151457</td>\n",
       "      <td>0.001201</td>\n",
       "    </tr>\n",
       "    <tr>\n",
       "      <th>previous_cancellations</th>\n",
       "      <td>0.012054</td>\n",
       "      <td>0.128481</td>\n",
       "      <td>0.048385</td>\n",
       "      <td>0.105784</td>\n",
       "      <td>0.116263</td>\n",
       "      <td>0.101387</td>\n",
       "      <td>0.010549</td>\n",
       "      <td>0.025757</td>\n",
       "      <td>1.000000</td>\n",
       "      <td>0.032848</td>\n",
       "      <td>0.056233</td>\n",
       "      <td>0.017619</td>\n",
       "      <td>0.026653</td>\n",
       "      <td>0.020616</td>\n",
       "      <td>0.086548</td>\n",
       "      <td>0.112144</td>\n",
       "    </tr>\n",
       "  </tbody>\n",
       "</table>\n",
       "</div>"
      ],
      "text/plain": [
       "                                   label  lead_time  stays_in_weekend_nights  \\\n",
       "label                           1.000000   0.513087                 0.633663   \n",
       "adults                          0.637922   0.809737                 0.524372   \n",
       "stays_in_weekend_nights         0.633663   0.342950                 1.000000   \n",
       "total_of_special_requests       0.626447   0.464766                 0.458020   \n",
       "children                        0.624413   0.274927                 0.375137   \n",
       "stays_in_week_nights            0.556352   0.752619                 0.242447   \n",
       "lead_time                       0.513087   1.000000                 0.342950   \n",
       "required_car_parking_spaces     0.458513   0.307095                 0.272680   \n",
       "agent                           0.432488   0.449613                 0.442653   \n",
       "booking_changes                 0.409913   0.507240                 0.259763   \n",
       "babies                          0.347326   0.094193                 0.275103   \n",
       "is_repeated_guest               0.181930   0.083254                 0.186849   \n",
       "previous_bookings_not_canceled  0.120508   0.088290                 0.148287   \n",
       "days_in_waiting_list            0.097123   0.323660                 0.028835   \n",
       "company                         0.076464   0.146675                 0.111548   \n",
       "previous_cancellations          0.012054   0.128481                 0.048385   \n",
       "\n",
       "                                stays_in_week_nights    adults  children  \\\n",
       "label                                       0.556352  0.637922  0.624413   \n",
       "adults                                      0.826537  1.000000  0.439049   \n",
       "stays_in_weekend_nights                     0.242447  0.524372  0.375137   \n",
       "total_of_special_requests                   0.537144  0.636411  0.600007   \n",
       "children                                    0.348007  0.439049  1.000000   \n",
       "stays_in_week_nights                        1.000000  0.826537  0.348007   \n",
       "lead_time                                   0.752619  0.809737  0.274927   \n",
       "required_car_parking_spaces                 0.431735  0.480812  0.487390   \n",
       "agent                                       0.564633  0.624377  0.338233   \n",
       "booking_changes                             0.557976  0.549339  0.342271   \n",
       "babies                                      0.112213  0.185092  0.340986   \n",
       "is_repeated_guest                           0.084009  0.016638  0.153325   \n",
       "previous_bookings_not_canceled              0.102751  0.039203  0.104211   \n",
       "days_in_waiting_list                        0.287191  0.271310  0.013109   \n",
       "company                                     0.240636  0.155262  0.108282   \n",
       "previous_cancellations                      0.105784  0.116263  0.101387   \n",
       "\n",
       "                                  babies  is_repeated_guest  \\\n",
       "label                           0.347326           0.181930   \n",
       "adults                          0.185092           0.016638   \n",
       "stays_in_weekend_nights         0.275103           0.186849   \n",
       "total_of_special_requests       0.270889           0.030378   \n",
       "children                        0.340986           0.153325   \n",
       "stays_in_week_nights            0.112213           0.084009   \n",
       "lead_time                       0.094193           0.083254   \n",
       "required_car_parking_spaces     0.225466           0.006595   \n",
       "agent                           0.151318           0.014482   \n",
       "booking_changes                 0.130197           0.009156   \n",
       "babies                          1.000000           0.102632   \n",
       "is_repeated_guest               0.102632           1.000000   \n",
       "previous_bookings_not_canceled  0.091367           0.476248   \n",
       "days_in_waiting_list            0.040817           0.012638   \n",
       "company                         0.068663           0.224729   \n",
       "previous_cancellations          0.010549           0.025757   \n",
       "\n",
       "                                previous_cancellations  \\\n",
       "label                                         0.012054   \n",
       "adults                                        0.116263   \n",
       "stays_in_weekend_nights                       0.048385   \n",
       "total_of_special_requests                     0.112144   \n",
       "children                                      0.101387   \n",
       "stays_in_week_nights                          0.105784   \n",
       "lead_time                                     0.128481   \n",
       "required_car_parking_spaces                   0.086548   \n",
       "agent                                         0.017619   \n",
       "booking_changes                               0.056233   \n",
       "babies                                        0.010549   \n",
       "is_repeated_guest                             0.025757   \n",
       "previous_bookings_not_canceled                0.032848   \n",
       "days_in_waiting_list                          0.020616   \n",
       "company                                       0.026653   \n",
       "previous_cancellations                        1.000000   \n",
       "\n",
       "                                previous_bookings_not_canceled  \\\n",
       "label                                                 0.120508   \n",
       "adults                                                0.039203   \n",
       "stays_in_weekend_nights                               0.148287   \n",
       "total_of_special_requests                             0.029098   \n",
       "children                                              0.104211   \n",
       "stays_in_week_nights                                  0.102751   \n",
       "lead_time                                             0.088290   \n",
       "required_car_parking_spaces                           0.066465   \n",
       "agent                                                 0.005433   \n",
       "booking_changes                                       0.044632   \n",
       "babies                                                0.091367   \n",
       "is_repeated_guest                                     0.476248   \n",
       "previous_bookings_not_canceled                        1.000000   \n",
       "days_in_waiting_list                                  0.007640   \n",
       "company                                               0.239803   \n",
       "previous_cancellations                                0.032848   \n",
       "\n",
       "                                booking_changes     agent   company  \\\n",
       "label                                  0.409913  0.432488  0.076464   \n",
       "adults                                 0.549339  0.624377  0.155262   \n",
       "stays_in_weekend_nights                0.259763  0.442653  0.111548   \n",
       "total_of_special_requests              0.423111  0.490732  0.001201   \n",
       "children                               0.342271  0.338233  0.108282   \n",
       "stays_in_week_nights                   0.557976  0.564633  0.240636   \n",
       "lead_time                              0.507240  0.449613  0.146675   \n",
       "required_car_parking_spaces            0.383784  0.401743  0.151457   \n",
       "agent                                  0.385253  1.000000  0.010146   \n",
       "booking_changes                        1.000000  0.385253  0.331493   \n",
       "babies                                 0.130197  0.151318  0.068663   \n",
       "is_repeated_guest                      0.009156  0.014482  0.224729   \n",
       "previous_bookings_not_canceled         0.044632  0.005433  0.239803   \n",
       "days_in_waiting_list                   0.141522  0.121016  0.011051   \n",
       "company                                0.331493  0.010146  1.000000   \n",
       "previous_cancellations                 0.056233  0.017619  0.026653   \n",
       "\n",
       "                                days_in_waiting_list  \\\n",
       "label                                       0.097123   \n",
       "adults                                      0.271310   \n",
       "stays_in_weekend_nights                     0.028835   \n",
       "total_of_special_requests                   0.068228   \n",
       "children                                    0.013109   \n",
       "stays_in_week_nights                        0.287191   \n",
       "lead_time                                   0.323660   \n",
       "required_car_parking_spaces                 0.094161   \n",
       "agent                                       0.121016   \n",
       "booking_changes                             0.141522   \n",
       "babies                                      0.040817   \n",
       "is_repeated_guest                           0.012638   \n",
       "previous_bookings_not_canceled              0.007640   \n",
       "days_in_waiting_list                        1.000000   \n",
       "company                                     0.011051   \n",
       "previous_cancellations                      0.020616   \n",
       "\n",
       "                                required_car_parking_spaces  \\\n",
       "label                                              0.458513   \n",
       "adults                                             0.480812   \n",
       "stays_in_weekend_nights                            0.272680   \n",
       "total_of_special_requests                          0.485960   \n",
       "children                                           0.487390   \n",
       "stays_in_week_nights                               0.431735   \n",
       "lead_time                                          0.307095   \n",
       "required_car_parking_spaces                        1.000000   \n",
       "agent                                              0.401743   \n",
       "booking_changes                                    0.383784   \n",
       "babies                                             0.225466   \n",
       "is_repeated_guest                                  0.006595   \n",
       "previous_bookings_not_canceled                     0.066465   \n",
       "days_in_waiting_list                               0.094161   \n",
       "company                                            0.151457   \n",
       "previous_cancellations                             0.086548   \n",
       "\n",
       "                                total_of_special_requests  \n",
       "label                                            0.626447  \n",
       "adults                                           0.636411  \n",
       "stays_in_weekend_nights                          0.458020  \n",
       "total_of_special_requests                        1.000000  \n",
       "children                                         0.600007  \n",
       "stays_in_week_nights                             0.537144  \n",
       "lead_time                                        0.464766  \n",
       "required_car_parking_spaces                      0.485960  \n",
       "agent                                            0.490732  \n",
       "booking_changes                                  0.423111  \n",
       "babies                                           0.270889  \n",
       "is_repeated_guest                                0.030378  \n",
       "previous_bookings_not_canceled                   0.029098  \n",
       "days_in_waiting_list                             0.068228  \n",
       "company                                          0.001201  \n",
       "previous_cancellations                           0.112144  "
      ]
     },
     "execution_count": 314,
     "metadata": {},
     "output_type": "execute_result"
    }
   ],
   "source": [
    "((remain_x_y.corr(method='pearson')**2)**.5)\\\n",
    "            .sort_values('label',ascending=False)"
   ]
  },
  {
   "cell_type": "code",
   "execution_count": 315,
   "metadata": {},
   "outputs": [
    {
     "data": {
      "text/html": [
       "<div>\n",
       "<style scoped>\n",
       "    .dataframe tbody tr th:only-of-type {\n",
       "        vertical-align: middle;\n",
       "    }\n",
       "\n",
       "    .dataframe tbody tr th {\n",
       "        vertical-align: top;\n",
       "    }\n",
       "\n",
       "    .dataframe thead th {\n",
       "        text-align: right;\n",
       "    }\n",
       "</style>\n",
       "<table border=\"1\" class=\"dataframe\">\n",
       "  <thead>\n",
       "    <tr style=\"text-align: right;\">\n",
       "      <th></th>\n",
       "      <th>label</th>\n",
       "      <th>lead_time</th>\n",
       "      <th>stays_in_weekend_nights</th>\n",
       "      <th>stays_in_week_nights</th>\n",
       "      <th>adults</th>\n",
       "      <th>children</th>\n",
       "      <th>babies</th>\n",
       "      <th>is_repeated_guest</th>\n",
       "      <th>previous_cancellations</th>\n",
       "      <th>previous_bookings_not_canceled</th>\n",
       "      <th>booking_changes</th>\n",
       "      <th>agent</th>\n",
       "      <th>company</th>\n",
       "      <th>days_in_waiting_list</th>\n",
       "      <th>required_car_parking_spaces</th>\n",
       "      <th>total_of_special_requests</th>\n",
       "    </tr>\n",
       "  </thead>\n",
       "  <tbody>\n",
       "    <tr>\n",
       "      <th>label</th>\n",
       "      <td>1.000000</td>\n",
       "      <td>0.513087</td>\n",
       "      <td>0.633663</td>\n",
       "      <td>0.556352</td>\n",
       "      <td>0.637922</td>\n",
       "      <td>0.624413</td>\n",
       "      <td>0.347326</td>\n",
       "      <td>-0.181930</td>\n",
       "      <td>-0.012054</td>\n",
       "      <td>-0.120508</td>\n",
       "      <td>0.409913</td>\n",
       "      <td>0.432488</td>\n",
       "      <td>-0.076464</td>\n",
       "      <td>0.097123</td>\n",
       "      <td>0.458513</td>\n",
       "      <td>0.626447</td>\n",
       "    </tr>\n",
       "    <tr>\n",
       "      <th>adults</th>\n",
       "      <td>0.637922</td>\n",
       "      <td>0.809737</td>\n",
       "      <td>0.524372</td>\n",
       "      <td>0.826537</td>\n",
       "      <td>1.000000</td>\n",
       "      <td>0.439049</td>\n",
       "      <td>0.185092</td>\n",
       "      <td>-0.016638</td>\n",
       "      <td>0.116263</td>\n",
       "      <td>-0.039203</td>\n",
       "      <td>0.549339</td>\n",
       "      <td>0.624377</td>\n",
       "      <td>0.155262</td>\n",
       "      <td>0.271310</td>\n",
       "      <td>0.480812</td>\n",
       "      <td>0.636411</td>\n",
       "    </tr>\n",
       "    <tr>\n",
       "      <th>stays_in_weekend_nights</th>\n",
       "      <td>0.633663</td>\n",
       "      <td>0.342950</td>\n",
       "      <td>1.000000</td>\n",
       "      <td>0.242447</td>\n",
       "      <td>0.524372</td>\n",
       "      <td>0.375137</td>\n",
       "      <td>0.275103</td>\n",
       "      <td>-0.186849</td>\n",
       "      <td>0.048385</td>\n",
       "      <td>-0.148287</td>\n",
       "      <td>0.259763</td>\n",
       "      <td>0.442653</td>\n",
       "      <td>-0.111548</td>\n",
       "      <td>0.028835</td>\n",
       "      <td>0.272680</td>\n",
       "      <td>0.458020</td>\n",
       "    </tr>\n",
       "    <tr>\n",
       "      <th>total_of_special_requests</th>\n",
       "      <td>0.626447</td>\n",
       "      <td>0.464766</td>\n",
       "      <td>0.458020</td>\n",
       "      <td>0.537144</td>\n",
       "      <td>0.636411</td>\n",
       "      <td>0.600007</td>\n",
       "      <td>0.270889</td>\n",
       "      <td>-0.030378</td>\n",
       "      <td>-0.112144</td>\n",
       "      <td>0.029098</td>\n",
       "      <td>0.423111</td>\n",
       "      <td>0.490732</td>\n",
       "      <td>-0.001201</td>\n",
       "      <td>0.068228</td>\n",
       "      <td>0.485960</td>\n",
       "      <td>1.000000</td>\n",
       "    </tr>\n",
       "    <tr>\n",
       "      <th>children</th>\n",
       "      <td>0.624413</td>\n",
       "      <td>0.274927</td>\n",
       "      <td>0.375137</td>\n",
       "      <td>0.348007</td>\n",
       "      <td>0.439049</td>\n",
       "      <td>1.000000</td>\n",
       "      <td>0.340986</td>\n",
       "      <td>-0.153325</td>\n",
       "      <td>-0.101387</td>\n",
       "      <td>-0.104211</td>\n",
       "      <td>0.342271</td>\n",
       "      <td>0.338233</td>\n",
       "      <td>-0.108282</td>\n",
       "      <td>0.013109</td>\n",
       "      <td>0.487390</td>\n",
       "      <td>0.600007</td>\n",
       "    </tr>\n",
       "    <tr>\n",
       "      <th>stays_in_week_nights</th>\n",
       "      <td>0.556352</td>\n",
       "      <td>0.752619</td>\n",
       "      <td>0.242447</td>\n",
       "      <td>1.000000</td>\n",
       "      <td>0.826537</td>\n",
       "      <td>0.348007</td>\n",
       "      <td>0.112213</td>\n",
       "      <td>0.084009</td>\n",
       "      <td>0.105784</td>\n",
       "      <td>0.102751</td>\n",
       "      <td>0.557976</td>\n",
       "      <td>0.564633</td>\n",
       "      <td>0.240636</td>\n",
       "      <td>0.287191</td>\n",
       "      <td>0.431735</td>\n",
       "      <td>0.537144</td>\n",
       "    </tr>\n",
       "    <tr>\n",
       "      <th>lead_time</th>\n",
       "      <td>0.513087</td>\n",
       "      <td>1.000000</td>\n",
       "      <td>0.342950</td>\n",
       "      <td>0.752619</td>\n",
       "      <td>0.809737</td>\n",
       "      <td>0.274927</td>\n",
       "      <td>0.094193</td>\n",
       "      <td>-0.083254</td>\n",
       "      <td>0.128481</td>\n",
       "      <td>-0.088290</td>\n",
       "      <td>0.507240</td>\n",
       "      <td>0.449613</td>\n",
       "      <td>0.146675</td>\n",
       "      <td>0.323660</td>\n",
       "      <td>0.307095</td>\n",
       "      <td>0.464766</td>\n",
       "    </tr>\n",
       "    <tr>\n",
       "      <th>required_car_parking_spaces</th>\n",
       "      <td>0.458513</td>\n",
       "      <td>0.307095</td>\n",
       "      <td>0.272680</td>\n",
       "      <td>0.431735</td>\n",
       "      <td>0.480812</td>\n",
       "      <td>0.487390</td>\n",
       "      <td>0.225466</td>\n",
       "      <td>0.006595</td>\n",
       "      <td>-0.086548</td>\n",
       "      <td>0.066465</td>\n",
       "      <td>0.383784</td>\n",
       "      <td>0.401743</td>\n",
       "      <td>0.151457</td>\n",
       "      <td>0.094161</td>\n",
       "      <td>1.000000</td>\n",
       "      <td>0.485960</td>\n",
       "    </tr>\n",
       "    <tr>\n",
       "      <th>agent</th>\n",
       "      <td>0.432488</td>\n",
       "      <td>0.449613</td>\n",
       "      <td>0.442653</td>\n",
       "      <td>0.564633</td>\n",
       "      <td>0.624377</td>\n",
       "      <td>0.338233</td>\n",
       "      <td>0.151318</td>\n",
       "      <td>0.014482</td>\n",
       "      <td>0.017619</td>\n",
       "      <td>0.005433</td>\n",
       "      <td>0.385253</td>\n",
       "      <td>1.000000</td>\n",
       "      <td>0.010146</td>\n",
       "      <td>0.121016</td>\n",
       "      <td>0.401743</td>\n",
       "      <td>0.490732</td>\n",
       "    </tr>\n",
       "    <tr>\n",
       "      <th>booking_changes</th>\n",
       "      <td>0.409913</td>\n",
       "      <td>0.507240</td>\n",
       "      <td>0.259763</td>\n",
       "      <td>0.557976</td>\n",
       "      <td>0.549339</td>\n",
       "      <td>0.342271</td>\n",
       "      <td>0.130197</td>\n",
       "      <td>0.009156</td>\n",
       "      <td>-0.056233</td>\n",
       "      <td>0.044632</td>\n",
       "      <td>1.000000</td>\n",
       "      <td>0.385253</td>\n",
       "      <td>0.331493</td>\n",
       "      <td>0.141522</td>\n",
       "      <td>0.383784</td>\n",
       "      <td>0.423111</td>\n",
       "    </tr>\n",
       "    <tr>\n",
       "      <th>babies</th>\n",
       "      <td>0.347326</td>\n",
       "      <td>0.094193</td>\n",
       "      <td>0.275103</td>\n",
       "      <td>0.112213</td>\n",
       "      <td>0.185092</td>\n",
       "      <td>0.340986</td>\n",
       "      <td>1.000000</td>\n",
       "      <td>-0.102632</td>\n",
       "      <td>-0.010549</td>\n",
       "      <td>-0.091367</td>\n",
       "      <td>0.130197</td>\n",
       "      <td>0.151318</td>\n",
       "      <td>-0.068663</td>\n",
       "      <td>-0.040817</td>\n",
       "      <td>0.225466</td>\n",
       "      <td>0.270889</td>\n",
       "    </tr>\n",
       "    <tr>\n",
       "      <th>days_in_waiting_list</th>\n",
       "      <td>0.097123</td>\n",
       "      <td>0.323660</td>\n",
       "      <td>0.028835</td>\n",
       "      <td>0.287191</td>\n",
       "      <td>0.271310</td>\n",
       "      <td>0.013109</td>\n",
       "      <td>-0.040817</td>\n",
       "      <td>0.012638</td>\n",
       "      <td>-0.020616</td>\n",
       "      <td>0.007640</td>\n",
       "      <td>0.141522</td>\n",
       "      <td>0.121016</td>\n",
       "      <td>-0.011051</td>\n",
       "      <td>1.000000</td>\n",
       "      <td>0.094161</td>\n",
       "      <td>0.068228</td>\n",
       "    </tr>\n",
       "    <tr>\n",
       "      <th>previous_cancellations</th>\n",
       "      <td>-0.012054</td>\n",
       "      <td>0.128481</td>\n",
       "      <td>0.048385</td>\n",
       "      <td>0.105784</td>\n",
       "      <td>0.116263</td>\n",
       "      <td>-0.101387</td>\n",
       "      <td>-0.010549</td>\n",
       "      <td>0.025757</td>\n",
       "      <td>1.000000</td>\n",
       "      <td>-0.032848</td>\n",
       "      <td>-0.056233</td>\n",
       "      <td>0.017619</td>\n",
       "      <td>-0.026653</td>\n",
       "      <td>-0.020616</td>\n",
       "      <td>-0.086548</td>\n",
       "      <td>-0.112144</td>\n",
       "    </tr>\n",
       "    <tr>\n",
       "      <th>company</th>\n",
       "      <td>-0.076464</td>\n",
       "      <td>0.146675</td>\n",
       "      <td>-0.111548</td>\n",
       "      <td>0.240636</td>\n",
       "      <td>0.155262</td>\n",
       "      <td>-0.108282</td>\n",
       "      <td>-0.068663</td>\n",
       "      <td>0.224729</td>\n",
       "      <td>-0.026653</td>\n",
       "      <td>0.239803</td>\n",
       "      <td>0.331493</td>\n",
       "      <td>0.010146</td>\n",
       "      <td>1.000000</td>\n",
       "      <td>-0.011051</td>\n",
       "      <td>0.151457</td>\n",
       "      <td>-0.001201</td>\n",
       "    </tr>\n",
       "    <tr>\n",
       "      <th>previous_bookings_not_canceled</th>\n",
       "      <td>-0.120508</td>\n",
       "      <td>-0.088290</td>\n",
       "      <td>-0.148287</td>\n",
       "      <td>0.102751</td>\n",
       "      <td>-0.039203</td>\n",
       "      <td>-0.104211</td>\n",
       "      <td>-0.091367</td>\n",
       "      <td>0.476248</td>\n",
       "      <td>-0.032848</td>\n",
       "      <td>1.000000</td>\n",
       "      <td>0.044632</td>\n",
       "      <td>0.005433</td>\n",
       "      <td>0.239803</td>\n",
       "      <td>0.007640</td>\n",
       "      <td>0.066465</td>\n",
       "      <td>0.029098</td>\n",
       "    </tr>\n",
       "    <tr>\n",
       "      <th>is_repeated_guest</th>\n",
       "      <td>-0.181930</td>\n",
       "      <td>-0.083254</td>\n",
       "      <td>-0.186849</td>\n",
       "      <td>0.084009</td>\n",
       "      <td>-0.016638</td>\n",
       "      <td>-0.153325</td>\n",
       "      <td>-0.102632</td>\n",
       "      <td>1.000000</td>\n",
       "      <td>0.025757</td>\n",
       "      <td>0.476248</td>\n",
       "      <td>0.009156</td>\n",
       "      <td>0.014482</td>\n",
       "      <td>0.224729</td>\n",
       "      <td>0.012638</td>\n",
       "      <td>0.006595</td>\n",
       "      <td>-0.030378</td>\n",
       "    </tr>\n",
       "  </tbody>\n",
       "</table>\n",
       "</div>"
      ],
      "text/plain": [
       "                                   label  lead_time  stays_in_weekend_nights  \\\n",
       "label                           1.000000   0.513087                 0.633663   \n",
       "adults                          0.637922   0.809737                 0.524372   \n",
       "stays_in_weekend_nights         0.633663   0.342950                 1.000000   \n",
       "total_of_special_requests       0.626447   0.464766                 0.458020   \n",
       "children                        0.624413   0.274927                 0.375137   \n",
       "stays_in_week_nights            0.556352   0.752619                 0.242447   \n",
       "lead_time                       0.513087   1.000000                 0.342950   \n",
       "required_car_parking_spaces     0.458513   0.307095                 0.272680   \n",
       "agent                           0.432488   0.449613                 0.442653   \n",
       "booking_changes                 0.409913   0.507240                 0.259763   \n",
       "babies                          0.347326   0.094193                 0.275103   \n",
       "days_in_waiting_list            0.097123   0.323660                 0.028835   \n",
       "previous_cancellations         -0.012054   0.128481                 0.048385   \n",
       "company                        -0.076464   0.146675                -0.111548   \n",
       "previous_bookings_not_canceled -0.120508  -0.088290                -0.148287   \n",
       "is_repeated_guest              -0.181930  -0.083254                -0.186849   \n",
       "\n",
       "                                stays_in_week_nights    adults  children  \\\n",
       "label                                       0.556352  0.637922  0.624413   \n",
       "adults                                      0.826537  1.000000  0.439049   \n",
       "stays_in_weekend_nights                     0.242447  0.524372  0.375137   \n",
       "total_of_special_requests                   0.537144  0.636411  0.600007   \n",
       "children                                    0.348007  0.439049  1.000000   \n",
       "stays_in_week_nights                        1.000000  0.826537  0.348007   \n",
       "lead_time                                   0.752619  0.809737  0.274927   \n",
       "required_car_parking_spaces                 0.431735  0.480812  0.487390   \n",
       "agent                                       0.564633  0.624377  0.338233   \n",
       "booking_changes                             0.557976  0.549339  0.342271   \n",
       "babies                                      0.112213  0.185092  0.340986   \n",
       "days_in_waiting_list                        0.287191  0.271310  0.013109   \n",
       "previous_cancellations                      0.105784  0.116263 -0.101387   \n",
       "company                                     0.240636  0.155262 -0.108282   \n",
       "previous_bookings_not_canceled              0.102751 -0.039203 -0.104211   \n",
       "is_repeated_guest                           0.084009 -0.016638 -0.153325   \n",
       "\n",
       "                                  babies  is_repeated_guest  \\\n",
       "label                           0.347326          -0.181930   \n",
       "adults                          0.185092          -0.016638   \n",
       "stays_in_weekend_nights         0.275103          -0.186849   \n",
       "total_of_special_requests       0.270889          -0.030378   \n",
       "children                        0.340986          -0.153325   \n",
       "stays_in_week_nights            0.112213           0.084009   \n",
       "lead_time                       0.094193          -0.083254   \n",
       "required_car_parking_spaces     0.225466           0.006595   \n",
       "agent                           0.151318           0.014482   \n",
       "booking_changes                 0.130197           0.009156   \n",
       "babies                          1.000000          -0.102632   \n",
       "days_in_waiting_list           -0.040817           0.012638   \n",
       "previous_cancellations         -0.010549           0.025757   \n",
       "company                        -0.068663           0.224729   \n",
       "previous_bookings_not_canceled -0.091367           0.476248   \n",
       "is_repeated_guest              -0.102632           1.000000   \n",
       "\n",
       "                                previous_cancellations  \\\n",
       "label                                        -0.012054   \n",
       "adults                                        0.116263   \n",
       "stays_in_weekend_nights                       0.048385   \n",
       "total_of_special_requests                    -0.112144   \n",
       "children                                     -0.101387   \n",
       "stays_in_week_nights                          0.105784   \n",
       "lead_time                                     0.128481   \n",
       "required_car_parking_spaces                  -0.086548   \n",
       "agent                                         0.017619   \n",
       "booking_changes                              -0.056233   \n",
       "babies                                       -0.010549   \n",
       "days_in_waiting_list                         -0.020616   \n",
       "previous_cancellations                        1.000000   \n",
       "company                                      -0.026653   \n",
       "previous_bookings_not_canceled               -0.032848   \n",
       "is_repeated_guest                             0.025757   \n",
       "\n",
       "                                previous_bookings_not_canceled  \\\n",
       "label                                                -0.120508   \n",
       "adults                                               -0.039203   \n",
       "stays_in_weekend_nights                              -0.148287   \n",
       "total_of_special_requests                             0.029098   \n",
       "children                                             -0.104211   \n",
       "stays_in_week_nights                                  0.102751   \n",
       "lead_time                                            -0.088290   \n",
       "required_car_parking_spaces                           0.066465   \n",
       "agent                                                 0.005433   \n",
       "booking_changes                                       0.044632   \n",
       "babies                                               -0.091367   \n",
       "days_in_waiting_list                                  0.007640   \n",
       "previous_cancellations                               -0.032848   \n",
       "company                                               0.239803   \n",
       "previous_bookings_not_canceled                        1.000000   \n",
       "is_repeated_guest                                     0.476248   \n",
       "\n",
       "                                booking_changes     agent   company  \\\n",
       "label                                  0.409913  0.432488 -0.076464   \n",
       "adults                                 0.549339  0.624377  0.155262   \n",
       "stays_in_weekend_nights                0.259763  0.442653 -0.111548   \n",
       "total_of_special_requests              0.423111  0.490732 -0.001201   \n",
       "children                               0.342271  0.338233 -0.108282   \n",
       "stays_in_week_nights                   0.557976  0.564633  0.240636   \n",
       "lead_time                              0.507240  0.449613  0.146675   \n",
       "required_car_parking_spaces            0.383784  0.401743  0.151457   \n",
       "agent                                  0.385253  1.000000  0.010146   \n",
       "booking_changes                        1.000000  0.385253  0.331493   \n",
       "babies                                 0.130197  0.151318 -0.068663   \n",
       "days_in_waiting_list                   0.141522  0.121016 -0.011051   \n",
       "previous_cancellations                -0.056233  0.017619 -0.026653   \n",
       "company                                0.331493  0.010146  1.000000   \n",
       "previous_bookings_not_canceled         0.044632  0.005433  0.239803   \n",
       "is_repeated_guest                      0.009156  0.014482  0.224729   \n",
       "\n",
       "                                days_in_waiting_list  \\\n",
       "label                                       0.097123   \n",
       "adults                                      0.271310   \n",
       "stays_in_weekend_nights                     0.028835   \n",
       "total_of_special_requests                   0.068228   \n",
       "children                                    0.013109   \n",
       "stays_in_week_nights                        0.287191   \n",
       "lead_time                                   0.323660   \n",
       "required_car_parking_spaces                 0.094161   \n",
       "agent                                       0.121016   \n",
       "booking_changes                             0.141522   \n",
       "babies                                     -0.040817   \n",
       "days_in_waiting_list                        1.000000   \n",
       "previous_cancellations                     -0.020616   \n",
       "company                                    -0.011051   \n",
       "previous_bookings_not_canceled              0.007640   \n",
       "is_repeated_guest                           0.012638   \n",
       "\n",
       "                                required_car_parking_spaces  \\\n",
       "label                                              0.458513   \n",
       "adults                                             0.480812   \n",
       "stays_in_weekend_nights                            0.272680   \n",
       "total_of_special_requests                          0.485960   \n",
       "children                                           0.487390   \n",
       "stays_in_week_nights                               0.431735   \n",
       "lead_time                                          0.307095   \n",
       "required_car_parking_spaces                        1.000000   \n",
       "agent                                              0.401743   \n",
       "booking_changes                                    0.383784   \n",
       "babies                                             0.225466   \n",
       "days_in_waiting_list                               0.094161   \n",
       "previous_cancellations                            -0.086548   \n",
       "company                                            0.151457   \n",
       "previous_bookings_not_canceled                     0.066465   \n",
       "is_repeated_guest                                  0.006595   \n",
       "\n",
       "                                total_of_special_requests  \n",
       "label                                            0.626447  \n",
       "adults                                           0.636411  \n",
       "stays_in_weekend_nights                          0.458020  \n",
       "total_of_special_requests                        1.000000  \n",
       "children                                         0.600007  \n",
       "stays_in_week_nights                             0.537144  \n",
       "lead_time                                        0.464766  \n",
       "required_car_parking_spaces                      0.485960  \n",
       "agent                                            0.490732  \n",
       "booking_changes                                  0.423111  \n",
       "babies                                           0.270889  \n",
       "days_in_waiting_list                             0.068228  \n",
       "previous_cancellations                          -0.112144  \n",
       "company                                         -0.001201  \n",
       "previous_bookings_not_canceled                   0.029098  \n",
       "is_repeated_guest                               -0.030378  "
      ]
     },
     "execution_count": 315,
     "metadata": {},
     "output_type": "execute_result"
    }
   ],
   "source": [
    "((remain_x_y.corr(method='pearson')**1)**1)\\\n",
    "            .sort_values('label',ascending=False)"
   ]
  },
  {
   "cell_type": "code",
   "execution_count": 317,
   "metadata": {},
   "outputs": [],
   "source": [
    "related_cols= [ \n",
    "        'adults',\n",
    "        'stays_in_weekend_nights',\n",
    "        'total_of_special_requests',\n",
    "        'children',\n",
    "        'stays_in_week_nights',\n",
    "        'lead_time',\n",
    "        'required_car_parking_spaces',\n",
    "        'agent',\n",
    "        'booking_changes',\n",
    "        'babies'] \n",
    "related_x = remain_x_y[related_cols]"
   ]
  },
  {
   "cell_type": "code",
   "execution_count": null,
   "metadata": {},
   "outputs": [],
   "source": []
  },
  {
   "cell_type": "code",
   "execution_count": null,
   "metadata": {},
   "outputs": [],
   "source": [
    "x, y = \n",
    "\n",
    "model_lgb = LGBMClassifier(num_class =10 ,\n",
    "                           objective='multiclass',\n",
    "                           metric='multi_logloss')\n",
    "model_lgb.fit(x[:test_size,:] , y[:test_size,:].flatten())"
   ]
  },
  {
   "cell_type": "code",
   "execution_count": null,
   "metadata": {},
   "outputs": [],
   "source": []
  },
  {
   "cell_type": "code",
   "execution_count": null,
   "metadata": {},
   "outputs": [],
   "source": []
  },
  {
   "cell_type": "code",
   "execution_count": null,
   "metadata": {},
   "outputs": [],
   "source": []
  },
  {
   "cell_type": "code",
   "execution_count": null,
   "metadata": {},
   "outputs": [],
   "source": []
  },
  {
   "cell_type": "code",
   "execution_count": null,
   "metadata": {},
   "outputs": [],
   "source": []
  }
 ],
 "metadata": {
  "kernelspec": {
   "display_name": "Python 3",
   "language": "python",
   "name": "python3"
  },
  "language_info": {
   "codemirror_mode": {
    "name": "ipython",
    "version": 3
   },
   "file_extension": ".py",
   "mimetype": "text/x-python",
   "name": "python",
   "nbconvert_exporter": "python",
   "pygments_lexer": "ipython3",
   "version": "3.8.5"
  }
 },
 "nbformat": 4,
 "nbformat_minor": 4
}
