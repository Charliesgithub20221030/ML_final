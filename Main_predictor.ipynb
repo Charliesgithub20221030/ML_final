{
 "cells": [
  {
   "cell_type": "code",
   "execution_count": null,
   "metadata": {},
   "outputs": [],
   "source": []
  },
  {
   "cell_type": "code",
   "execution_count": 1,
   "metadata": {},
   "outputs": [],
   "source": [
    "import pandas as pd\n",
    "import numpy as np\n",
    "import math\n",
    "from collections import Counter\n",
    "import os\n",
    "from datetime import datetime\n",
    "from os.path import join as pj\n",
    "from copy import deepcopy\n",
    "import matplotlib.pyplot as plt\n",
    "from sklearn.metrics import zero_one_loss\n",
    "import torch\n",
    "from sklearn.decomposition import PCA\n",
    "from sklearn.svm import SVC , SVR\n",
    "from sklearn.metrics import mean_absolute_error as mae\n",
    "from sklearn.model_selection import train_test_split , LeaveOneOut, cross_val_score\n",
    "from lightgbm import LGBMClassifier , LGBMRegressor\n",
    "\n",
    "month_map = dict(zip(['January', 'February', 'March', 'April', 'May', 'June',\n",
    "     'July', 'August', 'September', 'October', 'November', 'December'],\n",
    "     list(range(1,13))))\n",
    "parse_date = lambda x: datetime.strptime(x , '%Y-%m-%d')\n",
    "future_cols =['adr', 'is_canceled', 'reservation_status_date', 'reservation_status']\n",
    "arrival_date_cols =['arrival_date_year', 'arrival_date_month', 'arrival_date_day_of_month'] \n",
    "\n",
    "\n",
    "root = 'dataset'\n",
    "train_x_path = pj(root ,'train.csv')\n",
    "train_y_path = pj(root , 'train_label.csv')\n",
    "test_x_path = pj(root , 'test.csv')\n",
    "test_y_path = pj(root,  'test_nolabel.csv')\n",
    "\n",
    "device = 'cuda' if torch.cuda.is_available() else 'cpu'"
   ]
  },
  {
   "cell_type": "markdown",
   "metadata": {},
   "source": [
    "## Feature selection\n",
    "\n",
    "Parts:\n",
    "- Main table (with all guessed future columns)\n",
    "- **Target**: is_cancel \n",
    "- **Target**: adr"
   ]
  },
  {
   "cell_type": "code",
   "execution_count": 2,
   "metadata": {},
   "outputs": [],
   "source": [
    "### train\n"
   ]
  },
  {
   "cell_type": "code",
   "execution_count": 3,
   "metadata": {},
   "outputs": [],
   "source": [
    "def preprocessing(df, drop_future = False, Test=False):\n",
    "    \n",
    "    df = df.fillna(0)\n",
    "    df = df.replace({'arrival_date_month' : month_map})\n",
    "    df['arrival_date'] = df[arrival_date_cols].astype(str).agg('-'.join, axis=1)\n",
    "    df['arrival_date'] = df['arrival_date'].apply(parse_date)\n",
    "    df = df.drop(arrival_date_cols, axis = 1)\n",
    "    \n",
    "    \n",
    "\n",
    "    if not Test:\n",
    "        df['reservation_status_date']=df['reservation_status_date'].apply(parse_date)\n",
    "\n",
    "        stay_days = (df['reservation_status_date']-df['arrival_date'])\\\n",
    "                    .apply(lambda x : x.days)\n",
    "        df['stay_days']=stay_days\n",
    "        df['stay_days']=df['stay_days'].apply(lambda x: 0 if x<=0 else x)\n",
    "        \n",
    "    if drop_future:\n",
    "        for future in future_cols:\n",
    "            if future in df.columns:\n",
    "                df = df.drop([future] ,axis=1)\n",
    "    return df\n",
    "\n",
    "def get_sub_target(df_x ,df_x_t, target = 'adr',remove_redun=True ):\n",
    "    \"\"\"cols_future :\n",
    "    \n",
    "        'adr',\n",
    "        'is_canceled',\n",
    "        'reservation_status',\n",
    "        'reservation_status_date',\n",
    "        'stay_days'\n",
    "    \"\"\"\n",
    "    cols = [\n",
    "        'arrival_date',\n",
    "        'hotel',\n",
    "        'lead_time',\n",
    "        'arrival_date_week_number',\n",
    "        'stays_in_weekend_nights',\n",
    "        'stays_in_week_nights',\n",
    "        'adults',\n",
    "        'children',\n",
    "        'babies',\n",
    "        'meal',\n",
    "        'country',\n",
    "        'market_segment',\n",
    "        'distribution_channel',\n",
    "        'is_repeated_guest',\n",
    "        'previous_cancellations',\n",
    "        'previous_bookings_not_canceled',\n",
    "        'reserved_room_type',\n",
    "        'assigned_room_type',\n",
    "        'booking_changes',\n",
    "        'deposit_type',\n",
    "        'agent',\n",
    "        'company',\n",
    "        'days_in_waiting_list',\n",
    "        'customer_type',\n",
    "        'required_car_parking_spaces',\n",
    "        'total_of_special_requests']\n",
    "\n",
    "    if remove_redun:\n",
    "        if target=='adr':\n",
    "            print('Detect target ',target)\n",
    "            pass\n",
    "        if target=='is_canceled':\n",
    "            print('Detect target ',target)\n",
    "            pass\n",
    "        if target=='stay_days':\n",
    "            print('Detect target ',target)\n",
    "            cols.remove('arrival_date_week_number')\n",
    "            cols.remove('company')\n",
    "            cols.remove('children')\n",
    "            \n",
    "            df_x = deepcopy(df_x)\n",
    "            df_x['adr']=df_x['adr'].apply(lambda x: max(0, x))\n",
    "            \n",
    "\n",
    "    \n",
    "    df_all = pd.concat([            \\\n",
    "                        df_x[cols], \\\n",
    "                        df_x_t[cols]\\\n",
    "                       ] ,          \\\n",
    "                       axis=0).reset_index(drop=True)\n",
    "    \n",
    "    target_y = df_x[target].values\n",
    "\n",
    "    n_train = target_y.shape[0]\n",
    "    print('n of train: ',n_train)\n",
    "    df_feat = pd.get_dummies(df_all)\n",
    "    print('Total shape: ',df_feat.shape)\n",
    "    df_feat_train =df_feat.iloc[:n_train,:]\n",
    "    print('Train shape: ',df_feat_train.shape)\n",
    "    df_feat_test = df_feat.iloc[n_train: , :]\n",
    "    print('Test shape: ',df_feat_test.shape)\n",
    "    \n",
    "    return df_feat_train, df_feat_test , target_y\n",
    "\n",
    "def DR(np_x_train , np_x_test , n=40):\n",
    "    pca = PCA(n_components=n)\n",
    "    transformed = pca.fit_transform(deepcopy(np_x_train))\n",
    "    transformed_t = pca.transform(deepcopy(np_x_test))\n",
    "    return transformed , transformed_t\n",
    "\n",
    "\n",
    "\n",
    "def train_sub_target(df_x,y,target='is_canceled',df_x_test = None ,model='lgb',stratify=False,params={}):\n",
    "    \n",
    "    x=df_x.drop(['arrival_date'],axis=1)\n",
    "\n",
    "    \n",
    "    if target==  'is_canceled':\n",
    "        if model=='svm':\n",
    "            model_sub = SVC()\n",
    "        else:\n",
    "            model_sub = LGBMClassifier(objective='binary',\n",
    "                              metric='cross-entropy',\n",
    "                              **params)\n",
    "        \n",
    "    elif target==  'stay_days':\n",
    "        if model=='svm':\n",
    "            model_sub = SVR()\n",
    "        else:\n",
    "            model_sub = LGBMRegressor(objective='regression',\n",
    "                               metrics='mse')\n",
    "        \n",
    "    elif target==  'adr':\n",
    "        if model=='svm':\n",
    "            model_sub = SVR()\n",
    "        else:\n",
    "            model_sub = LGBMRegressor(objective='regression',\n",
    "                               metrics='mse')\n",
    "        \n",
    "    \n",
    "    measure = lambda true,pred : mae(true , pred) \\\n",
    "                                 if target in ['adr' , 'stay_days']\\\n",
    "                                 else zero_one_loss(true, pred)\n",
    "\n",
    "    \n",
    "    \n",
    "    if df_x_test is not None:\n",
    "        x_test =df_x_test.drop(['arrival_date'], axis=1)\n",
    "        x_train, y_train = x,y\n",
    "    else:\n",
    "        \n",
    "        if stratify:\n",
    "            x_train, x_val , y_train, y_val = train_test_split(x,y,\n",
    "                                                               test_size=.5,\n",
    "                                                              stratify=y)\n",
    "        else:\n",
    "            x_train, x_val , y_train, y_val = train_test_split(x,y,\n",
    "                                                               test_size=.5)\n",
    "        \n",
    "    model_sub.fit(x_train ,y_train)\n",
    "    y_trained = model_sub.predict(x_train)\n",
    "    print('fitness: ',measure(y_train , y_trained))\n",
    "    \n",
    "    if df_x_test is not None:\n",
    "        y_pred = model_sub.predict(x_test)\n",
    "        print('Test set predict shape: ',y_pred.shape)\n",
    "        \n",
    "        return model_sub , y_pred\n",
    "        \n",
    "    else:\n",
    "        y_pred = model_sub.predict(x_val)\n",
    "        print('validation: ',\n",
    "              measure(y_val , y_pred) )\n",
    "        return model_sub , model_sub.predict(x)\n",
    "\n",
    "def data_augmentor(x, y, sigma=0.1, times=10, balance = True, df=False):\n",
    "    x_g = deepcopy(x)\n",
    "    y_g = deepcopy(y)\n",
    "    \n",
    "    \n",
    "    if df:\n",
    "        x_date = x_g[['arrival_date']].values\n",
    "        x_g = x_g.drop('arrival_date' , axis =1).values\n",
    "        y_g = y_g[['label']].values\n",
    "    else:\n",
    "        y_g = np.array(y_g).reshape(-1 ,1)\n",
    "    print('original shape: ', x_g.shape)\n",
    "    if balance:\n",
    "        y_flat = y_g.flatten()\n",
    "        most_count_per_class= max([v for k,v in Counter(y_flat).items()])\n",
    "        hope_num_per_class = most_count_per_class + 2\n",
    "\n",
    "        class_id_map ={}\n",
    "        for i,v in enumerate(y_flat):\n",
    "            if class_id_map.get(v , None) == None:\n",
    "                class_id_map[v]=[]\n",
    "            class_id_map[v].append(i)\n",
    "        for k,v in class_id_map.items():\n",
    "            class_id_map[k] = np.array(v)\n",
    "            \n",
    "        all_selected_index = []\n",
    "\n",
    "        for cla,id_list in class_id_map.items():\n",
    "            num_to_gene = hope_num_per_class - len(id_list)\n",
    "            selected_index_of_list = np.random.randint(0, len(id_list) ,num_to_gene)\n",
    "            selected_index_of_row = id_list[selected_index_of_list]\n",
    "\n",
    "            all_selected_index = all_selected_index + selected_index_of_row.tolist()\n",
    "        x_for_balance = deepcopy(x_g[all_selected_index ,:])\n",
    "        y_for_balance = deepcopy(y_g[all_selected_index ,:])\n",
    "        \n",
    "        if df:\n",
    "            date_for_balance = deepcopy(x_date[all_selected_index , :])\n",
    "            x_date = np.concatenate([x_date , date_for_balance] , axis =0)\n",
    "            \n",
    "            \n",
    "        \n",
    "        x_noise = np.random.normal(0 , sigma , (len(all_selected_index) ,x_g.shape[1]))\n",
    "        x_g = np.concatenate([x_g , x_for_balance+x_noise], axis =0)\n",
    "        y_g = np.concatenate([y_g , y_for_balance], axis =0)\n",
    "        print('balanced shape: ', x_g.shape)\n",
    "    \n",
    "    \n",
    "    if df:\n",
    "        x_date_ = deepcopy(x_date)\n",
    "    x_ = deepcopy(x_g)\n",
    "    y_ = deepcopy(y_g)\n",
    "    for _ in range(times):\n",
    "        \n",
    "        if df:\n",
    "            x_date = np.concatenate([x_date , x_date_] , axis =0)\n",
    "\n",
    "        \n",
    "        x_noise = np.random.normal(0,sigma, x_.shape)\n",
    "        x_g = np.concatenate([x_g , x_ +x_noise], axis =0)\n",
    "        y_g = np.concatenate([y_g , y_], axis =0)\n",
    "    print('augmented shape:' , x_g.shape)\n",
    "    \n",
    "    \n",
    "    if df:\n",
    "        x_date = pd.DataFrame(x_date , columns = ['arrival_date'])\n",
    "        x_g = pd.DataFrame(x_g , columns = x.drop('arrival_date',axis=1 ).columns)\n",
    "        x_g = pd.concat([x_date , x_g] , axis = 1)\n",
    "        y_g = pd.DataFrame( y_g , columns =  ['label'] )\n",
    "        y_g = pd.concat([x_date , y_g] , axis =1)\n",
    "        \n",
    "    \n",
    "    return x_g , y_g\n",
    "\n",
    "    \n",
    "def final(df , df_y , df_test = None, times = 10 , \n",
    "          df_y_t= None,\n",
    "          output_fn ='test_output_.csv',\n",
    "          model='lgb', \n",
    "          params={}):\n",
    "    \"\"\"\n",
    "    df, df_test : DataFrame\n",
    "    [\n",
    "        arrival_date , \n",
    "        adr* , \n",
    "        is_cannceled*, \n",
    "        stay_days*\n",
    "    ]\n",
    "    還沒aggregation\n",
    "    \n",
    "    -> df_y , df_y_t: DataFrame\n",
    "    \"\"\"\n",
    "    \n",
    "    # Training data\n",
    "    valid_x =deepcopy(df)\n",
    "    \n",
    "    valid_x_drop = valid_x.loc[valid_x['is_canceled']==0,:].reset_index(drop=True)\n",
    "    valid_x_drop = valid_x.drop('is_canceled', axis=1)\n",
    "#     df_y = df_y.loc[valid_x['is_canceled']==0,:].reset_index(drop=True)\n",
    "    valid_x_drop['adr'] = valid_x_drop['adr'].apply(lambda x: max(0,x))\n",
    "    valid_x_drop['stay_days'] = valid_x_drop['stay_days'].apply(lambda x: max(0,x))\n",
    "    valid_x_drop['sum_adr'] = valid_x_drop['stay_days']*valid_x_drop['adr']\n",
    "    sum_adr = valid_x_drop.groupby('arrival_date').sum()[['sum_adr']]\n",
    "\n",
    "    vsum_normal = sum_adr['sum_adr']\n",
    "    vsum_normal = 9*(vsum_normal - vsum_normal.min())/\\\n",
    "                (vsum_normal.max() - vsum_normal.min())\n",
    "\n",
    "    \n",
    "    x, y =  vsum_normal.values.reshape(-1 , 1),df_y['label']\n",
    "    \n",
    "    sc = StandardScaler()\n",
    "    \n",
    "    if df_test is not None:\n",
    "        # Testing data\n",
    "        valid_x_test =deepcopy(df_test)\n",
    "\n",
    "        valid_x_drop_test = valid_x_test.loc[valid_x['is_canceled']==0,:].reset_index(drop=True)\n",
    "        valid_x_drop_test['adr'] = valid_x_drop_test['adr'].apply(lambda x: max(0,x))\n",
    "        valid_x_drop_test['sum_adr'] = valid_x_drop_test['stay_days']*valid_x_drop_test['adr']\n",
    "        sum_adr_test = valid_x_drop_test.groupby('arrival_date').sum()[['sum_adr']]\n",
    "\n",
    "        vsum_normal_test = sum_adr_test['sum_adr']\n",
    "        vsum_normal_test = 9*(vsum_normal_test - vsum_normal_test.min())/\\\n",
    "                    (vsum_normal_test.max() - vsum_normal_test.min())\n",
    "        x_train, y_train = x,y\n",
    "        \n",
    "        x_test = vsum_normal_test.values.reshape(-1 , 1 )\n",
    "        \n",
    "        \n",
    "        ######## augmentation \n",
    "        x_train , y_train = data_augmentor(x_train ,y_train , times = times , balance = True )\n",
    "        \n",
    "        \n",
    "        x_train = sc.fit_transform(x_train)\n",
    "        x_test = sc.transform(x_test)\n",
    "        \n",
    "        \n",
    "    else:\n",
    "    \n",
    "        \n",
    "        ######## augmentation -- just balance\n",
    "        x, y = data_augmentor(x, y , times = 0 , balance = True )\n",
    "        \n",
    "        x_train,x_val,y_train,y_val = train_test_split(x,y , test_size = 0.5, stratify = y)\n",
    "        \n",
    "        ######## augmentation -- for training data\n",
    "        x_train , y_train = data_augmentor(x_train ,y_train , times = times , balance = True )\n",
    "        \n",
    "        x_train = sc.fit_transform(x_train)\n",
    "        x_val = sc.transform(x_val)\n",
    "    \n",
    "    \n",
    "    \n",
    "    \n",
    "    if model=='svm':\n",
    "        model_lgb= SVC()\n",
    "    else:\n",
    "        model_lgb = LGBMClassifier(num_class =10 ,\n",
    "                                   objective='multiclass',\n",
    "                                   metric='multi_logloss',\n",
    "                                  **params)\n",
    "    if df_test is not None:\n",
    "        y_train = y_train.reshape(-1,)\n",
    "        \n",
    "        if model=='lgb':\n",
    "            model_lgb.fit(x_train , y_train )\n",
    "        elif model=='lgbreg':\n",
    "            \n",
    "            model_lgb = LGBMRegressor(objective='regression',\n",
    "                               metrics='mse')\n",
    "            model_lgb.fit(x_train , y_train )\n",
    "            y_train_svc = model_lgb.predict(x_train)\n",
    "            \n",
    "            svc = SVC()\n",
    "            svc.fit(y_train_svc.reshape(-1,1) , y_train)\n",
    "            \n",
    "        else:\n",
    "            model_lgb.fit(x_train , y_train)\n",
    "    \n",
    "    else:\n",
    "        if model=='lgb':\n",
    "            model_lgb.fit(x_train , y_train ,eval_set = (x_val,y_val))\n",
    "        elif model=='lgbreg':\n",
    "            \n",
    "            y_train , y_val = y_train.reshape(-1 ,) , y_val.reshape(-1 ,)\n",
    "            \n",
    "            model_lgb = LGBMRegressor(objective='regression',\n",
    "                               metrics='mse')\n",
    "            model_lgb.fit(x_train , y_train , eval_set = (x_val , y_val))\n",
    "            y_train_svc = model_lgb.predict(x_train)\n",
    "            \n",
    "            svc = SVC()\n",
    "            svc.fit(y_train_svc.reshape(-1 ,1) , y_train)\n",
    "            \n",
    "        else:\n",
    "            model_lgb.fit(x_train , y_train)\n",
    "    \n",
    "    y_trained = model_lgb.predict(x_train)\n",
    "    print('fitness: ',mae(y_train , y_trained))\n",
    "    \n",
    "    if df_test is not None:\n",
    "        y_pred = model_lgb.predict(x_test)\n",
    "        \n",
    "        if model=='lgbreg':\n",
    "            y_pred = svc.predict(y_pred.reshape(-1 ,1))\n",
    "        \n",
    "        print('Test set predict shape: ',y_pred.shape)\n",
    "        print('Test df_y_t shape:      ',df_y_t.shape)\n",
    "        df_y_t['label']=y_pred\n",
    "        print('Test set label \\n',df_y_t.head())\n",
    "        df_y_t.to_csv(output_fn , index = False)\n",
    "        \n",
    "        return model_lgb , df_y_t\n",
    "        \n",
    "    else:\n",
    "        y_pred = model_lgb.predict(x_val)\n",
    "        if model=='lgbreg':\n",
    "            y_pred = svc.predict(y_pred.reshape(-1 ,1))\n",
    "        print('validation mae: ',mae(y_val , y_pred))\n",
    "    \n",
    "    return model_lgb, x , y\n",
    "\n",
    "\n"
   ]
  },
  {
   "cell_type": "markdown",
   "metadata": {},
   "source": [
    "## Load data"
   ]
  },
  {
   "cell_type": "code",
   "execution_count": 4,
   "metadata": {},
   "outputs": [],
   "source": [
    "df_x = pd.read_csv(train_x_path)\n",
    "df_y = pd.read_csv(train_y_path)\n",
    "\n",
    "df_x_t = pd.read_csv(test_x_path)\n",
    "df_y_t = pd.read_csv(test_y_path)\n",
    "df_x = preprocessing(df_x)\n",
    "df_y['arrival_date'] = df_y['arrival_date'].apply(parse_date)\n",
    "\n",
    "\n",
    "df_x_t = preprocessing(df_x_t, Test = True)\n",
    "df_y_t['arrival_date'] = df_y_t['arrival_date'].apply(parse_date)"
   ]
  },
  {
   "cell_type": "code",
   "execution_count": 5,
   "metadata": {},
   "outputs": [
    {
     "data": {
      "text/plain": [
       "Index(['ID', 'hotel', 'is_canceled', 'lead_time', 'arrival_date_week_number',\n",
       "       'stays_in_weekend_nights', 'stays_in_week_nights', 'adults', 'children',\n",
       "       'babies', 'meal', 'country', 'market_segment', 'distribution_channel',\n",
       "       'is_repeated_guest', 'previous_cancellations',\n",
       "       'previous_bookings_not_canceled', 'reserved_room_type',\n",
       "       'assigned_room_type', 'booking_changes', 'deposit_type', 'agent',\n",
       "       'company', 'days_in_waiting_list', 'customer_type', 'adr',\n",
       "       'required_car_parking_spaces', 'total_of_special_requests',\n",
       "       'reservation_status', 'reservation_status_date', 'arrival_date',\n",
       "       'stay_days'],\n",
       "      dtype='object')"
      ]
     },
     "execution_count": 5,
     "metadata": {},
     "output_type": "execute_result"
    }
   ],
   "source": [
    "df_x.columns"
   ]
  },
  {
   "cell_type": "markdown",
   "metadata": {},
   "source": [
    "# Target: is_canceled"
   ]
  },
  {
   "cell_type": "code",
   "execution_count": 6,
   "metadata": {
    "scrolled": true
   },
   "outputs": [
    {
     "name": "stdout",
     "output_type": "stream",
     "text": [
      "Detect target  is_canceled\n",
      "n of train:  91531\n",
      "Total shape:  (119390, 244)\n",
      "Train shape:  (91531, 244)\n",
      "Test shape:  (27859, 244)\n"
     ]
    }
   ],
   "source": [
    "df_can , df_can_t, can_y = get_sub_target(df_x ,\n",
    "                                          df_x_t ,\n",
    "                                          target = 'is_canceled')\n"
   ]
  },
  {
   "cell_type": "code",
   "execution_count": 7,
   "metadata": {},
   "outputs": [
    {
     "name": "stdout",
     "output_type": "stream",
     "text": [
      "fitness:  0.10444662952037587\n",
      "validation:  0.11569724249442814\n"
     ]
    }
   ],
   "source": [
    "# df_can_y = deepcopy(df_can[['arrival_date']])\n",
    "# df_can_y['label'] = can_y\n",
    "# df_can_aug , can_y_aug = data_augmentor(df_can , df_can_y ,  times = 10 , df=True , balance=True) \n",
    "\n",
    "# can_model,can_pred = train_sub_target(df_can_aug, can_y_aug.label,\n",
    "#                              target='is_canceled', stratify =True)\n",
    "can_model,can_pred = train_sub_target(df_can, can_y,\n",
    "                             target='is_canceled', stratify =True)"
   ]
  },
  {
   "cell_type": "code",
   "execution_count": 8,
   "metadata": {},
   "outputs": [
    {
     "name": "stdout",
     "output_type": "stream",
     "text": [
      "fitness:  0.10885929357266932\n",
      "Test set predict shape:  (27859,)\n"
     ]
    }
   ],
   "source": [
    "can_model,can_pred_t = train_sub_target(df_can, can_y,\n",
    "                                 target='is_canceled',\n",
    "                                 df_x_test = df_can_t )\n",
    "# can_model,can_pred_t = train_sub_target(df_can_aug, can_y_aug.label,\n",
    "#                                  target='is_canceled',\n",
    "#                                  df_x_test = df_can_t ,\n",
    "#                                        stratify=True)"
   ]
  },
  {
   "cell_type": "markdown",
   "metadata": {},
   "source": [
    "# Target: adr"
   ]
  },
  {
   "cell_type": "code",
   "execution_count": 9,
   "metadata": {
    "scrolled": true
   },
   "outputs": [
    {
     "name": "stdout",
     "output_type": "stream",
     "text": [
      "Detect target  adr\n",
      "n of train:  91531\n",
      "Total shape:  (119390, 244)\n",
      "Train shape:  (91531, 244)\n",
      "Test shape:  (27859, 244)\n"
     ]
    }
   ],
   "source": [
    "df_adr, df_adr_t, adr_y = get_sub_target(df_x ,\n",
    "                                         df_x_t,\n",
    "                                         target = 'adr')\n"
   ]
  },
  {
   "cell_type": "code",
   "execution_count": 10,
   "metadata": {
    "scrolled": true
   },
   "outputs": [
    {
     "name": "stdout",
     "output_type": "stream",
     "text": [
      "fitness:  14.07167642450709\n",
      "validation:  14.577928071938187\n"
     ]
    }
   ],
   "source": [
    "adr_model,adr_pred = train_sub_target(df_adr, adr_y,\n",
    "                             target='adr')"
   ]
  },
  {
   "cell_type": "code",
   "execution_count": 11,
   "metadata": {},
   "outputs": [
    {
     "name": "stdout",
     "output_type": "stream",
     "text": [
      "fitness:  14.319592695842827\n",
      "Test set predict shape:  (27859,)\n"
     ]
    }
   ],
   "source": [
    "adr_model,adr_pred_t = train_sub_target(df_adr, adr_y,\n",
    "                                         target='adr',\n",
    "                                         df_x_test = df_adr_t )"
   ]
  },
  {
   "cell_type": "code",
   "execution_count": 12,
   "metadata": {},
   "outputs": [
    {
     "data": {
      "text/plain": [
       "3.3039037394708894"
      ]
     },
     "execution_count": 12,
     "metadata": {},
     "output_type": "execute_result"
    }
   ],
   "source": [
    "n1,n2 = 9*(adr_y-adr_y.min())/(adr_y.max()- adr_y.min()) ,9*(adr_pred-adr_pred.min())/(adr_pred.max()-adr_pred.min())\n",
    "\n",
    "\n",
    "\n",
    "mae(n1,n2)"
   ]
  },
  {
   "cell_type": "markdown",
   "metadata": {},
   "source": [
    "# Target: stay_days"
   ]
  },
  {
   "cell_type": "code",
   "execution_count": 13,
   "metadata": {},
   "outputs": [
    {
     "name": "stdout",
     "output_type": "stream",
     "text": [
      "Detect target  stay_days\n",
      "n of train:  91531\n",
      "Total shape:  (119390, 241)\n",
      "Train shape:  (91531, 241)\n",
      "Test shape:  (27859, 241)\n"
     ]
    }
   ],
   "source": [
    "df_day, df_day_t, day_y = get_sub_target(df_x ,\n",
    "                                         df_x_t,\n",
    "                                         target = 'stay_days',\n",
    "                                         remove_redun=True)\n",
    "# params={'max_depth':1,\n",
    "#         'max_leaf':100}"
   ]
  },
  {
   "cell_type": "code",
   "execution_count": 14,
   "metadata": {
    "scrolled": true
   },
   "outputs": [
    {
     "name": "stdout",
     "output_type": "stream",
     "text": [
      "fitness:  0.6873427671143668\n",
      "validation:  0.720100791027553\n"
     ]
    }
   ],
   "source": [
    "day_model,day_pred = train_sub_target(df_day, day_y,\n",
    "                             target='stay_days',\n",
    "                             model='lgb')"
   ]
  },
  {
   "cell_type": "code",
   "execution_count": 15,
   "metadata": {},
   "outputs": [
    {
     "name": "stdout",
     "output_type": "stream",
     "text": [
      "fitness:  0.6895243168566692\n",
      "Test set predict shape:  (27859,)\n"
     ]
    }
   ],
   "source": [
    "day_model,day_pred_t = train_sub_target(df_day, day_y,\n",
    "                                         target='stay_days',\n",
    "                                         df_x_test = df_day_t )"
   ]
  },
  {
   "cell_type": "code",
   "execution_count": null,
   "metadata": {},
   "outputs": [],
   "source": []
  },
  {
   "cell_type": "code",
   "execution_count": null,
   "metadata": {},
   "outputs": [],
   "source": []
  },
  {
   "cell_type": "markdown",
   "metadata": {},
   "source": [
    "# Final"
   ]
  },
  {
   "cell_type": "code",
   "execution_count": 16,
   "metadata": {
    "scrolled": false
   },
   "outputs": [
    {
     "name": "stdout",
     "output_type": "stream",
     "text": [
      "\n",
      "train array shape:\n",
      "\n",
      " [(91531,), (91531,), (91531,)]\n",
      "\n",
      "test array shape:\n",
      "\n",
      " [(27859,), (27859,), (27859,)]\n"
     ]
    }
   ],
   "source": [
    "\n",
    "print('\\ntrain array shape:\\n\\n',[adr_pred.shape,\n",
    "    can_pred.shape,\n",
    "    day_pred.shape])\n",
    "print('\\ntest array shape:\\n\\n',[adr_pred_t.shape,\n",
    "    can_pred_t.shape,\n",
    "    day_pred_t.shape])"
   ]
  },
  {
   "cell_type": "code",
   "execution_count": 17,
   "metadata": {},
   "outputs": [
    {
     "data": {
      "text/plain": [
       "(91531,)"
      ]
     },
     "execution_count": 17,
     "metadata": {},
     "output_type": "execute_result"
    }
   ],
   "source": [
    "df_x['arrival_date'].values.shape"
   ]
  },
  {
   "cell_type": "code",
   "execution_count": 18,
   "metadata": {
    "scrolled": true
   },
   "outputs": [],
   "source": [
    "day_pred = np.array(list(map(lambda x: math.ceil(x),day_pred)))"
   ]
  },
  {
   "cell_type": "code",
   "execution_count": 19,
   "metadata": {},
   "outputs": [],
   "source": [
    "df_final   = pd.DataFrame(dict(zip(['arrival_date', 'adr' , 'stay_days', 'is_canceled'],\n",
    "                                   [    df_x['arrival_date'].values,\n",
    "                                        adr_pred,\n",
    "                                        day_pred,\n",
    "                                        can_pred]\n",
    "                                  )\n",
    "                              ))\n",
    "df_final_true = deepcopy(df_x[[ 'adr' , 'stay_days', 'is_canceled']])\n",
    "df_final_true.columns=['adr_T', 'stay_days_T', 'is_canceled_T']\n",
    "df_final_cat   = pd.concat([df_final, df_final_true], axis=1)\n",
    "df_final_cat = df_final_cat[ ['adr' ,'adr_T',   'stay_days','stay_days_T', 'is_canceled','is_canceled_T']]\n",
    "\n",
    "df_final_t = pd.DataFrame(dict(zip(['arrival_date', 'adr' , 'stay_days', 'is_canceled'],\n",
    "                                   [    df_x_t['arrival_date'].values,\n",
    "                                        adr_pred_t,\n",
    "                                        day_pred_t,\n",
    "                                        can_pred_t]\n",
    "                                  )\n",
    "                              ))"
   ]
  },
  {
   "cell_type": "code",
   "execution_count": 20,
   "metadata": {
    "scrolled": false
   },
   "outputs": [
    {
     "name": "stdout",
     "output_type": "stream",
     "text": [
      "==================== Real ================================== \n",
      "  arrival_date        adr  stay_days  is_canceled\n",
      "0   2015-07-01 -26.179980          1            0\n",
      "1   2015-07-01  55.925976          2            0\n",
      "2   2015-07-01  82.000499          2            0\n",
      "3   2015-07-01  82.000499          2            0\n",
      "4   2015-07-01  82.000499          2            0\n",
      "5   2015-07-01  82.000499          2            0\n",
      "6   2015-07-01  82.000499          2            0\n",
      "7   2015-07-01  82.000499          2            0\n",
      "8   2015-07-01  82.000499          2            0\n",
      "9   2015-07-01  55.925976          2            0\n",
      "==================== Test ================================== \n",
      "  arrival_date         adr  stay_days  is_canceled\n",
      "0   2017-04-01   89.763629   4.807530            0\n",
      "1   2017-04-01   51.686171   3.813217            1\n",
      "2   2017-04-01   60.913530   4.108961            0\n",
      "3   2017-04-01  129.834947   2.289515            1\n",
      "4   2017-04-01  194.868244   2.377707            1\n",
      "5   2017-04-01   98.191486   3.168999            0\n",
      "6   2017-04-01  117.865035   1.178293            0\n",
      "7   2017-04-01  197.098611   1.227842            1\n",
      "8   2017-04-01  109.692055   1.669043            0\n",
      "9   2017-04-01   93.211848   0.778760            1\n",
      "=============== Predict & Real ============================= \n",
      "          adr      adr_T  stay_days  stay_days_T  is_canceled  is_canceled_T\n",
      "0  -26.179980  -6.305161          1            0            0              0\n",
      "1   55.925976  75.052227          2            2            0              0\n",
      "2   82.000499  74.546401          2            2            0              0\n",
      "3   82.000499  76.376288          2            2            0              0\n",
      "4   82.000499  49.411647          2            2            0              0\n",
      "5   82.000499  92.832887          2            2            0              0\n",
      "6   82.000499  80.667361          2            2            0              0\n",
      "7   82.000499  71.138396          2            2            0              0\n",
      "8   82.000499  63.114261          2            2            0              0\n",
      "9   55.925976  44.073611          2            2            0              0\n",
      "10  82.000499  86.861973          2            2            0              0\n",
      "11  82.000499  90.992705          2            2            0              0\n",
      "12  82.000499  73.295947          2            2            0              0\n",
      "13  82.000499  66.504576          2            2            0              0\n",
      "14  82.000499  87.503376          2            2            0              0\n"
     ]
    }
   ],
   "source": [
    "print('==================== Real ================================== ')\n",
    "print(df_final.head(10))\n",
    "print('==================== Test ================================== ')\n",
    "print(df_final_t.head(10))\n",
    "print('=============== Predict & Real ============================= ')\n",
    "print(df_final_cat.head(15))"
   ]
  },
  {
   "cell_type": "markdown",
   "metadata": {},
   "source": [
    "## Partial training with aug\n"
   ]
  },
  {
   "cell_type": "code",
   "execution_count": 25,
   "metadata": {
    "scrolled": false
   },
   "outputs": [
    {
     "name": "stdout",
     "output_type": "stream",
     "text": [
      "original shape:  (640, 1)\n",
      "balanced shape:  (1880, 1)\n",
      "augmented shape: (1880, 1)\n",
      "original shape:  (940, 1)\n",
      "balanced shape:  (960, 1)\n",
      "augmented shape: (10560, 1)\n",
      "[1]\tvalid_0's multi_logloss: 1.71428\n",
      "[2]\tvalid_0's multi_logloss: 1.44111\n",
      "[3]\tvalid_0's multi_logloss: 1.25703\n",
      "[4]\tvalid_0's multi_logloss: 1.12098\n",
      "[5]\tvalid_0's multi_logloss: 1.01652\n",
      "[6]\tvalid_0's multi_logloss: 0.934207\n",
      "[7]\tvalid_0's multi_logloss: 0.86821\n",
      "[8]\tvalid_0's multi_logloss: 0.814873\n",
      "[9]\tvalid_0's multi_logloss: 0.771301\n",
      "[10]\tvalid_0's multi_logloss: 0.735503\n",
      "[11]\tvalid_0's multi_logloss: 0.706133\n",
      "[12]\tvalid_0's multi_logloss: 0.681912\n",
      "[13]\tvalid_0's multi_logloss: 0.661747\n",
      "[14]\tvalid_0's multi_logloss: 0.645229\n",
      "[15]\tvalid_0's multi_logloss: 0.631429\n",
      "[16]\tvalid_0's multi_logloss: 0.619901\n",
      "[17]\tvalid_0's multi_logloss: 0.61042\n",
      "[18]\tvalid_0's multi_logloss: 0.602554\n",
      "[19]\tvalid_0's multi_logloss: 0.596186\n",
      "[20]\tvalid_0's multi_logloss: 0.590735\n",
      "[21]\tvalid_0's multi_logloss: 0.586233\n"
     ]
    },
    {
     "name": "stderr",
     "output_type": "stream",
     "text": [
      "/mnt/data/anaconda3/envs/charlie_dgtn/lib/python3.8/site-packages/sklearn/utils/validation.py:63: DataConversionWarning: A column-vector y was passed when a 1d array was expected. Please change the shape of y to (n_samples, ), for example using ravel().\n",
      "  return f(*args, **kwargs)\n"
     ]
    },
    {
     "name": "stdout",
     "output_type": "stream",
     "text": [
      "[22]\tvalid_0's multi_logloss: 0.582443\n",
      "[23]\tvalid_0's multi_logloss: 0.579341\n",
      "[24]\tvalid_0's multi_logloss: 0.576885\n",
      "[25]\tvalid_0's multi_logloss: 0.574866\n",
      "[26]\tvalid_0's multi_logloss: 0.573235\n",
      "[27]\tvalid_0's multi_logloss: 0.571883\n",
      "[28]\tvalid_0's multi_logloss: 0.57092\n",
      "[29]\tvalid_0's multi_logloss: 0.570112\n",
      "[30]\tvalid_0's multi_logloss: 0.569721\n",
      "[31]\tvalid_0's multi_logloss: 0.56935\n",
      "[32]\tvalid_0's multi_logloss: 0.569437\n",
      "[33]\tvalid_0's multi_logloss: 0.569588\n",
      "[34]\tvalid_0's multi_logloss: 0.569856\n",
      "[35]\tvalid_0's multi_logloss: 0.57019\n",
      "[36]\tvalid_0's multi_logloss: 0.570605\n",
      "[37]\tvalid_0's multi_logloss: 0.571051\n",
      "[38]\tvalid_0's multi_logloss: 0.57173\n",
      "[39]\tvalid_0's multi_logloss: 0.572395\n",
      "[40]\tvalid_0's multi_logloss: 0.573184\n",
      "[41]\tvalid_0's multi_logloss: 0.573983\n",
      "[42]\tvalid_0's multi_logloss: 0.574817\n",
      "[43]\tvalid_0's multi_logloss: 0.575713\n",
      "[44]\tvalid_0's multi_logloss: 0.576454\n",
      "[45]\tvalid_0's multi_logloss: 0.577279\n",
      "[46]\tvalid_0's multi_logloss: 0.578287\n",
      "[47]\tvalid_0's multi_logloss: 0.579301\n",
      "[48]\tvalid_0's multi_logloss: 0.580226\n",
      "[49]\tvalid_0's multi_logloss: 0.581218\n",
      "[50]\tvalid_0's multi_logloss: 0.582132\n",
      "[51]\tvalid_0's multi_logloss: 0.583179\n",
      "[52]\tvalid_0's multi_logloss: 0.584249\n",
      "[53]\tvalid_0's multi_logloss: 0.585273\n",
      "[54]\tvalid_0's multi_logloss: 0.586089\n",
      "[55]\tvalid_0's multi_logloss: 0.587029\n",
      "[56]\tvalid_0's multi_logloss: 0.587841\n",
      "[57]\tvalid_0's multi_logloss: 0.588778\n",
      "[58]\tvalid_0's multi_logloss: 0.589631\n",
      "[59]\tvalid_0's multi_logloss: 0.590387\n",
      "[60]\tvalid_0's multi_logloss: 0.59119\n",
      "[61]\tvalid_0's multi_logloss: 0.591965\n",
      "[62]\tvalid_0's multi_logloss: 0.592942\n",
      "[63]\tvalid_0's multi_logloss: 0.593962\n",
      "[64]\tvalid_0's multi_logloss: 0.595013\n",
      "[65]\tvalid_0's multi_logloss: 0.59604\n",
      "[66]\tvalid_0's multi_logloss: 0.596863\n",
      "[67]\tvalid_0's multi_logloss: 0.597691\n",
      "[68]\tvalid_0's multi_logloss: 0.598518\n",
      "[69]\tvalid_0's multi_logloss: 0.599386\n",
      "[70]\tvalid_0's multi_logloss: 0.600219\n",
      "[71]\tvalid_0's multi_logloss: 0.601185\n",
      "[72]\tvalid_0's multi_logloss: 0.602123\n",
      "[73]\tvalid_0's multi_logloss: 0.603067\n",
      "[74]\tvalid_0's multi_logloss: 0.604053\n",
      "[75]\tvalid_0's multi_logloss: 0.604997\n",
      "[76]\tvalid_0's multi_logloss: 0.605989\n",
      "[77]\tvalid_0's multi_logloss: 0.606922\n",
      "[78]\tvalid_0's multi_logloss: 0.60787\n",
      "[79]\tvalid_0's multi_logloss: 0.608857\n",
      "[80]\tvalid_0's multi_logloss: 0.609812\n",
      "[81]\tvalid_0's multi_logloss: 0.610765\n",
      "[82]\tvalid_0's multi_logloss: 0.611753\n",
      "[83]\tvalid_0's multi_logloss: 0.612749\n",
      "[84]\tvalid_0's multi_logloss: 0.613744\n",
      "[85]\tvalid_0's multi_logloss: 0.614732\n",
      "[86]\tvalid_0's multi_logloss: 0.615706\n",
      "[87]\tvalid_0's multi_logloss: 0.616565\n",
      "[88]\tvalid_0's multi_logloss: 0.617427\n",
      "[89]\tvalid_0's multi_logloss: 0.618418\n",
      "[90]\tvalid_0's multi_logloss: 0.61939\n",
      "[91]\tvalid_0's multi_logloss: 0.620385\n",
      "[92]\tvalid_0's multi_logloss: 0.621334\n",
      "[93]\tvalid_0's multi_logloss: 0.622281\n",
      "[94]\tvalid_0's multi_logloss: 0.62327\n",
      "[95]\tvalid_0's multi_logloss: 0.624218\n",
      "[96]\tvalid_0's multi_logloss: 0.625169\n",
      "[97]\tvalid_0's multi_logloss: 0.626121\n",
      "[98]\tvalid_0's multi_logloss: 0.627169\n",
      "[99]\tvalid_0's multi_logloss: 0.628311\n",
      "[100]\tvalid_0's multi_logloss: 0.629452\n",
      "fitness:  0.1918560606060606\n",
      "validation mae:  0.21382978723404256\n"
     ]
    }
   ],
   "source": [
    "\n",
    "model_partial,x_all,y_all = final(df_final,\n",
    "                                    df_y,\n",
    "                                 model='lgb')"
   ]
  },
  {
   "cell_type": "code",
   "execution_count": 26,
   "metadata": {},
   "outputs": [
    {
     "name": "stdout",
     "output_type": "stream",
     "text": [
      "original shape:  (640, 1)\n",
      "balanced shape:  (1880, 1)\n",
      "augmented shape: (1880, 1)\n",
      "original shape:  (940, 1)\n",
      "balanced shape:  (960, 1)\n",
      "augmented shape: (10560, 1)\n",
      "[1]\tvalid_0's l2: 6.7165\n",
      "[2]\tvalid_0's l2: 5.47293\n",
      "[3]\tvalid_0's l2: 4.46681\n",
      "[4]\tvalid_0's l2: 3.64957\n",
      "[5]\tvalid_0's l2: 2.9893\n",
      "[6]\tvalid_0's l2: 2.45446\n",
      "[7]\tvalid_0's l2: 2.02073\n",
      "[8]\tvalid_0's l2: 1.67038\n",
      "[9]\tvalid_0's l2: 1.386\n",
      "[10]\tvalid_0's l2: 1.15615\n",
      "[11]\tvalid_0's l2: 0.970184\n",
      "[12]\tvalid_0's l2: 0.819452\n",
      "[13]\tvalid_0's l2: 0.697129\n",
      "[14]\tvalid_0's l2: 0.598464\n",
      "[15]\tvalid_0's l2: 0.518616\n",
      "[16]\tvalid_0's l2: 0.454216\n",
      "[17]\tvalid_0's l2: 0.401792\n",
      "[18]\tvalid_0's l2: 0.359282\n",
      "[19]\tvalid_0's l2: 0.325044\n",
      "[20]\tvalid_0's l2: 0.297365\n",
      "[21]\tvalid_0's l2: 0.275206\n",
      "[22]\tvalid_0's l2: 0.257023\n",
      "[23]\tvalid_0's l2: 0.242374\n",
      "[24]\tvalid_0's l2: 0.230453\n",
      "[25]\tvalid_0's l2: 0.220916\n",
      "[26]\tvalid_0's l2: 0.213124\n",
      "[27]\tvalid_0's l2: 0.20693\n",
      "[28]\tvalid_0's l2: 0.201925\n",
      "[29]\tvalid_0's l2: 0.197889\n",
      "[30]\tvalid_0's l2: 0.194534\n",
      "[31]\tvalid_0's l2: 0.191844\n",
      "[32]\tvalid_0's l2: 0.189783\n",
      "[33]\tvalid_0's l2: 0.1881\n",
      "[34]\tvalid_0's l2: 0.186802\n",
      "[35]\tvalid_0's l2: 0.185804\n",
      "[36]\tvalid_0's l2: 0.184905\n",
      "[37]\tvalid_0's l2: 0.184309\n",
      "[38]\tvalid_0's l2: 0.183802\n",
      "[39]\tvalid_0's l2: 0.183339\n",
      "[40]\tvalid_0's l2: 0.182933\n",
      "[41]\tvalid_0's l2: 0.182702\n",
      "[42]\tvalid_0's l2: 0.182614\n",
      "[43]\tvalid_0's l2: 0.182539\n",
      "[44]\tvalid_0's l2: 0.182461\n",
      "[45]\tvalid_0's l2: 0.182408\n",
      "[46]\tvalid_0's l2: 0.182279\n",
      "[47]\tvalid_0's l2: 0.182306\n",
      "[48]\tvalid_0's l2: 0.182353\n",
      "[49]\tvalid_0's l2: 0.182319\n",
      "[50]\tvalid_0's l2: 0.182365\n",
      "[51]\tvalid_0's l2: 0.182357\n",
      "[52]\tvalid_0's l2: 0.182422\n",
      "[53]\tvalid_0's l2: 0.18241\n",
      "[54]\tvalid_0's l2: 0.182454\n",
      "[55]\tvalid_0's l2: 0.182493\n",
      "[56]\tvalid_0's l2: 0.182549\n",
      "[57]\tvalid_0's l2: 0.182543\n",
      "[58]\tvalid_0's l2: 0.18262\n",
      "[59]\tvalid_0's l2: 0.182591\n",
      "[60]\tvalid_0's l2: 0.182664\n",
      "[61]\tvalid_0's l2: 0.182661\n",
      "[62]\tvalid_0's l2: 0.18269\n",
      "[63]\tvalid_0's l2: 0.182676\n",
      "[64]\tvalid_0's l2: 0.182746\n",
      "[65]\tvalid_0's l2: 0.182752\n",
      "[66]\tvalid_0's l2: 0.182767\n",
      "[67]\tvalid_0's l2: 0.182806\n",
      "[68]\tvalid_0's l2: 0.182871\n",
      "[69]\tvalid_0's l2: 0.182891\n",
      "[70]\tvalid_0's l2: 0.182935\n",
      "[71]\tvalid_0's l2: 0.182999\n",
      "[72]\tvalid_0's l2: 0.183042\n",
      "[73]\tvalid_0's l2: 0.18307\n",
      "[74]\tvalid_0's l2: 0.183102\n",
      "[75]\tvalid_0's l2: 0.183134\n",
      "[76]\tvalid_0's l2: 0.183199\n",
      "[77]\tvalid_0's l2: 0.183211\n",
      "[78]\tvalid_0's l2: 0.183258\n",
      "[79]\tvalid_0's l2: 0.183279\n",
      "[80]\tvalid_0's l2: 0.183293\n",
      "[81]\tvalid_0's l2: 0.183308\n",
      "[82]\tvalid_0's l2: 0.183334\n",
      "[83]\tvalid_0's l2: 0.183355\n",
      "[84]\tvalid_0's l2: 0.183395\n",
      "[85]\tvalid_0's l2: 0.183405\n",
      "[86]\tvalid_0's l2: 0.183423\n",
      "[87]\tvalid_0's l2: 0.183435\n",
      "[88]\tvalid_0's l2: 0.183439\n",
      "[89]\tvalid_0's l2: 0.183456\n",
      "[90]\tvalid_0's l2: 0.183485\n",
      "[91]\tvalid_0's l2: 0.183488\n",
      "[92]\tvalid_0's l2: 0.183488\n",
      "[93]\tvalid_0's l2: 0.183496\n",
      "[94]\tvalid_0's l2: 0.183501\n",
      "[95]\tvalid_0's l2: 0.183523\n",
      "[96]\tvalid_0's l2: 0.183522\n",
      "[97]\tvalid_0's l2: 0.183531\n",
      "[98]\tvalid_0's l2: 0.183547\n",
      "[99]\tvalid_0's l2: 0.18356\n",
      "[100]\tvalid_0's l2: 0.183584\n",
      "fitness:  0.2927057252064145\n",
      "validation mae:  0.22340425531914893\n"
     ]
    }
   ],
   "source": [
    "\n",
    "model_partial,x_all,y_all = final(df_final,\n",
    "                                    df_y,\n",
    "                                 model='lgbreg')"
   ]
  },
  {
   "cell_type": "markdown",
   "metadata": {},
   "source": [
    "### Partial training"
   ]
  },
  {
   "cell_type": "code",
   "execution_count": null,
   "metadata": {
    "scrolled": true
   },
   "outputs": [],
   "source": [
    "\n",
    "model_partial,x_all,y_all = final(df_catfinal,\n",
    "                                    df_y,\n",
    "                                 model='lgb')"
   ]
  },
  {
   "cell_type": "code",
   "execution_count": null,
   "metadata": {},
   "outputs": [],
   "source": [
    "model_partial,x_all,y_all = final(df_final[['arrival_date',\n",
    "                                          'adr' ,\n",
    "                                          'stay_days' ,\n",
    "                                          'is_canceled']],\n",
    "                                    df_y,\n",
    "                                 model='svm')\n"
   ]
  },
  {
   "cell_type": "code",
   "execution_count": null,
   "metadata": {},
   "outputs": [],
   "source": [
    "model_partial,x_all,y_all = final(df_final[['arrival_date',\n",
    "                                          'adr' ,\n",
    "                                          'stay_days' ,\n",
    "                                          'is_canceled']],\n",
    "                                    df_y,\n",
    "                                 model='svm')\n"
   ]
  },
  {
   "cell_type": "code",
   "execution_count": null,
   "metadata": {},
   "outputs": [],
   "source": [
    "params = {\n",
    "    'num_leaves':  30 ,\n",
    "    'max_leaf': 100,\n",
    "    'max_depth': 15,\n",
    "    'learning_rate': 0.01,\n",
    "    'feature_fraction': 0.5,\n",
    "    'bagging_fraction': 0.5,\n",
    "    'bagging_freq': 2,\n",
    "    'lambda_l1': .1,\n",
    "    'cat_smooth': 1,\n",
    "    'verbose':0,\n",
    "    }\n",
    "\n",
    "model_partial,x_all,y_all = final(df_final[['arrival_date',\n",
    "                                  'adr' ,\n",
    "                                  'stay_days' ,\n",
    "                                  'is_canceled']],\n",
    "                                  df_y,\n",
    "                                 params=params)"
   ]
  },
  {
   "cell_type": "markdown",
   "metadata": {},
   "source": [
    "## Model selection"
   ]
  },
  {
   "cell_type": "markdown",
   "metadata": {},
   "source": [
    "### 5-Fold CV"
   ]
  },
  {
   "cell_type": "code",
   "execution_count": null,
   "metadata": {
    "scrolled": true
   },
   "outputs": [],
   "source": [
    "scores=cross_val_score(model_partial ,\n",
    "                x_all ,\n",
    "                y_all,\n",
    "                cv=10,\n",
    "                scoring='neg_mean_absolute_error',\n",
    "                n_jobs=5)\n",
    "print(abs(scores))\n",
    "print(abs(scores.mean()))"
   ]
  },
  {
   "cell_type": "markdown",
   "metadata": {},
   "source": [
    "### Leave-One-Out CV"
   ]
  },
  {
   "cell_type": "code",
   "execution_count": 566,
   "metadata": {},
   "outputs": [],
   "source": [
    "loo = LeaveOneOut()\n",
    "loocv_score=cross_val_score(model_partial,\n",
    "                x_all,\n",
    "                y_all,\n",
    "                cv = loo,\n",
    "                n_jobs=5\n",
    "                scoring = 'neg_mean_absolute_error')\n",
    "print(abs(loocv_scores))\n",
    "print(abs(loocv_scores.mean()))"
   ]
  },
  {
   "cell_type": "code",
   "execution_count": null,
   "metadata": {},
   "outputs": [],
   "source": []
  },
  {
   "cell_type": "code",
   "execution_count": null,
   "metadata": {},
   "outputs": [],
   "source": []
  },
  {
   "cell_type": "markdown",
   "metadata": {},
   "source": [
    "### Whole training"
   ]
  },
  {
   "cell_type": "code",
   "execution_count": 27,
   "metadata": {
    "scrolled": true
   },
   "outputs": [
    {
     "name": "stdout",
     "output_type": "stream",
     "text": [
      "original shape:  (640, 1)\n",
      "balanced shape:  (1880, 1)\n",
      "augmented shape: (20680, 1)\n",
      "fitness:  0.2845768292077686\n",
      "Test set predict shape:  (153,)\n",
      "Test df_y_t shape:       (153, 1)\n",
      "Test set label \n",
      "   arrival_date  label\n",
      "0   2017-04-01    3.0\n",
      "1   2017-04-02    1.0\n",
      "2   2017-04-03    2.0\n",
      "3   2017-04-04    0.0\n",
      "4   2017-04-05    2.0\n"
     ]
    }
   ],
   "source": [
    "model_whole , df_y_t_output = final(df= df_final ,\n",
    "                                    df_y = df_y ,\n",
    "                                    df_test = df_final_t , \n",
    "                                    df_y_t = df_y_t,\n",
    "                                    times=10,\n",
    "                                    output_fn ='test_output_20210111-1.csv',\n",
    "                                   model='lgbreg')\n",
    "\n",
    "\n"
   ]
  },
  {
   "cell_type": "code",
   "execution_count": null,
   "metadata": {},
   "outputs": [],
   "source": []
  },
  {
   "cell_type": "code",
   "execution_count": 1074,
   "metadata": {},
   "outputs": [
    {
     "name": "stdout",
     "output_type": "stream",
     "text": [
      "original shape:  (640, 1)\n",
      "balanced shape:  (1880, 1)\n",
      "augmented shape: (565880, 1)\n",
      "fitness:  0.23589983742136142\n",
      "Test set predict shape:  (153,)\n",
      "Test df_y_t shape:       (153, 2)\n",
      "Test set label \n",
      "   arrival_date  label\n",
      "0   2017-04-01    3.0\n",
      "1   2017-04-02    1.0\n",
      "2   2017-04-03    2.0\n",
      "3   2017-04-04    0.0\n",
      "4   2017-04-05    2.0\n"
     ]
    }
   ],
   "source": [
    "model_whole , df_y_t_output_cat = final(df= df_catfinal ,\n",
    "                                    df_y = df_y ,\n",
    "                                    df_test = df_catfinal_t , \n",
    "                                    df_y_t = df_y_t,\n",
    "                                    times=300,\n",
    "                                    output_fn ='test_output_20210110-1.csv')\n",
    "\n",
    "\n"
   ]
  },
  {
   "cell_type": "code",
   "execution_count": 111,
   "metadata": {
    "scrolled": true
   },
   "outputs": [],
   "source": [
    "\n",
    "def compare_with(df_y_t_output ,fn='test_output_20210105-3.csv' ,np_only = False):\n",
    "    \n",
    "    if np_only:\n",
    "        pred = df_y_t_output\n",
    "    else:\n",
    "        pred = df_y_t_output['label']\n",
    "\n",
    "    kv= sorted([[k,v] for k,v in Counter(abs(pred-pd.read_csv(fn)['label']).astype(int)).items()] ,\\\n",
    "            key = lambda x: -x[0])\n",
    "    for n in kv:\n",
    "        k,v = n\n",
    "        print('differ '+str(k)+': '+str(v))\n",
    "    print('mae ', mae(pred, pd.read_csv(fn)['label']))\n",
    "\n",
    "\n",
    "# compare_with(df_y_t_output , 'test_output_20210105-3.csv')"
   ]
  },
  {
   "cell_type": "code",
   "execution_count": 145,
   "metadata": {
    "scrolled": false
   },
   "outputs": [
    {
     "name": "stdout",
     "output_type": "stream",
     "text": [
      "differ 8: 1\n",
      "differ 7: 2\n",
      "differ 6: 6\n",
      "differ 5: 7\n",
      "differ 4: 6\n",
      "differ 3: 22\n",
      "differ 2: 29\n",
      "differ 1: 46\n",
      "differ 0: 34\n",
      "mae  1.8758169934640523\n"
     ]
    }
   ],
   "source": [
    "compare_with(pre_test3 , 'test_output_20210108-1.csv',np_only = True)"
   ]
  },
  {
   "cell_type": "code",
   "execution_count": 142,
   "metadata": {},
   "outputs": [
    {
     "name": "stdout",
     "output_type": "stream",
     "text": [
      "differ 7: 1\n",
      "differ 6: 3\n",
      "differ 5: 5\n",
      "differ 4: 9\n",
      "differ 3: 21\n",
      "differ 2: 43\n",
      "differ 1: 41\n",
      "differ 0: 30\n",
      "mae  1.803921568627451\n"
     ]
    }
   ],
   "source": [
    "compare_with(pre_test3 , 'test_output_20210105-3.csv',np_only= True)"
   ]
  },
  {
   "cell_type": "code",
   "execution_count": 144,
   "metadata": {},
   "outputs": [
    {
     "name": "stdout",
     "output_type": "stream",
     "text": [
      "differ 8: 1\n",
      "differ 7: 2\n",
      "differ 6: 4\n",
      "differ 5: 6\n",
      "differ 4: 9\n",
      "differ 3: 20\n",
      "differ 2: 33\n",
      "differ 1: 45\n",
      "differ 0: 33\n",
      "mae  1.8496732026143792\n"
     ]
    }
   ],
   "source": [
    "compare_with(pre_test3 , 'test_output_20210111-1.csv',np_only= True)"
   ]
  },
  {
   "cell_type": "code",
   "execution_count": 143,
   "metadata": {},
   "outputs": [
    {
     "data": {
      "text/plain": [
       "0.6470588235294118"
      ]
     },
     "execution_count": 143,
     "metadata": {},
     "output_type": "execute_result"
    }
   ],
   "source": [
    "mae(pre_test, pre_test3)"
   ]
  },
  {
   "cell_type": "code",
   "execution_count": null,
   "metadata": {},
   "outputs": [],
   "source": []
  },
  {
   "cell_type": "code",
   "execution_count": 1077,
   "metadata": {
    "scrolled": true
   },
   "outputs": [
    {
     "name": "stdout",
     "output_type": "stream",
     "text": [
      "differ 5: 2\n",
      "differ 4: 4\n",
      "differ 3: 13\n",
      "differ 2: 31\n",
      "differ 1: 62\n",
      "differ 0: 41\n"
     ]
    }
   ],
   "source": [
    "\n",
    "compare_with(df_y_t_output_cat , 'test_output_20210105-3.csv')"
   ]
  },
  {
   "cell_type": "code",
   "execution_count": 1078,
   "metadata": {
    "scrolled": true
   },
   "outputs": [
    {
     "name": "stdout",
     "output_type": "stream",
     "text": [
      "differ 1: 40\n",
      "differ 0: 113\n"
     ]
    }
   ],
   "source": [
    "compare_with(df_y_t_output_cat , 'test_output_20210108-1.csv')"
   ]
  },
  {
   "cell_type": "code",
   "execution_count": 154,
   "metadata": {},
   "outputs": [],
   "source": [
    "template = pd.read_csv('test_output_20210105-3.csv')\n",
    "template['label']=pre_test3.astype(float)\n",
    "template.to_csv('test_output_2021011-2_retry.csv', index=False)"
   ]
  },
  {
   "cell_type": "code",
   "execution_count": 148,
   "metadata": {},
   "outputs": [],
   "source": [
    "template['arrival_data'] =  template['arrival_date'] \n",
    "template.to_csv('test_output_2021011-2_data.csv')"
   ]
  },
  {
   "cell_type": "code",
   "execution_count": 150,
   "metadata": {},
   "outputs": [
    {
     "data": {
      "text/html": [
       "<div>\n",
       "<style scoped>\n",
       "    .dataframe tbody tr th:only-of-type {\n",
       "        vertical-align: middle;\n",
       "    }\n",
       "\n",
       "    .dataframe tbody tr th {\n",
       "        vertical-align: top;\n",
       "    }\n",
       "\n",
       "    .dataframe thead th {\n",
       "        text-align: right;\n",
       "    }\n",
       "</style>\n",
       "<table border=\"1\" class=\"dataframe\">\n",
       "  <thead>\n",
       "    <tr style=\"text-align: right;\">\n",
       "      <th></th>\n",
       "      <th>arrival_date</th>\n",
       "      <th>label</th>\n",
       "    </tr>\n",
       "  </thead>\n",
       "  <tbody>\n",
       "    <tr>\n",
       "      <th>0</th>\n",
       "      <td>2017-04-01</td>\n",
       "      <td>1</td>\n",
       "    </tr>\n",
       "    <tr>\n",
       "      <th>1</th>\n",
       "      <td>2017-04-02</td>\n",
       "      <td>0</td>\n",
       "    </tr>\n",
       "    <tr>\n",
       "      <th>2</th>\n",
       "      <td>2017-04-03</td>\n",
       "      <td>2</td>\n",
       "    </tr>\n",
       "    <tr>\n",
       "      <th>3</th>\n",
       "      <td>2017-04-04</td>\n",
       "      <td>8</td>\n",
       "    </tr>\n",
       "    <tr>\n",
       "      <th>4</th>\n",
       "      <td>2017-04-05</td>\n",
       "      <td>5</td>\n",
       "    </tr>\n",
       "    <tr>\n",
       "      <th>...</th>\n",
       "      <td>...</td>\n",
       "      <td>...</td>\n",
       "    </tr>\n",
       "    <tr>\n",
       "      <th>148</th>\n",
       "      <td>2017-08-27</td>\n",
       "      <td>1</td>\n",
       "    </tr>\n",
       "    <tr>\n",
       "      <th>149</th>\n",
       "      <td>2017-08-28</td>\n",
       "      <td>9</td>\n",
       "    </tr>\n",
       "    <tr>\n",
       "      <th>150</th>\n",
       "      <td>2017-08-29</td>\n",
       "      <td>1</td>\n",
       "    </tr>\n",
       "    <tr>\n",
       "      <th>151</th>\n",
       "      <td>2017-08-30</td>\n",
       "      <td>2</td>\n",
       "    </tr>\n",
       "    <tr>\n",
       "      <th>152</th>\n",
       "      <td>2017-08-31</td>\n",
       "      <td>1</td>\n",
       "    </tr>\n",
       "  </tbody>\n",
       "</table>\n",
       "<p>153 rows × 2 columns</p>\n",
       "</div>"
      ],
      "text/plain": [
       "    arrival_date  label\n",
       "0     2017-04-01      1\n",
       "1     2017-04-02      0\n",
       "2     2017-04-03      2\n",
       "3     2017-04-04      8\n",
       "4     2017-04-05      5\n",
       "..           ...    ...\n",
       "148   2017-08-27      1\n",
       "149   2017-08-28      9\n",
       "150   2017-08-29      1\n",
       "151   2017-08-30      2\n",
       "152   2017-08-31      1\n",
       "\n",
       "[153 rows x 2 columns]"
      ]
     },
     "execution_count": 150,
     "metadata": {},
     "output_type": "execute_result"
    }
   ],
   "source": [
    "template"
   ]
  },
  {
   "cell_type": "code",
   "execution_count": 152,
   "metadata": {},
   "outputs": [
    {
     "data": {
      "text/plain": [
       "array([1., 0., 2., 8., 5., 2., 0., 3., 4., 1., 0., 0., 6., 6., 5., 3., 2.,\n",
       "       0., 2., 0., 2., 5., 2., 2., 2., 3., 2., 8., 4., 1., 4., 1., 7., 8.,\n",
       "       5., 3., 0., 2., 3., 0., 3., 0., 5., 4., 9., 2., 3., 5., 3., 8., 0.,\n",
       "       1., 2., 3., 4., 1., 1., 6., 1., 3., 3., 7., 8., 4., 5., 2., 1., 2.,\n",
       "       2., 3., 2., 7., 0., 2., 3., 8., 3., 4., 5., 5., 5., 1., 2., 3., 8.,\n",
       "       6., 9., 0., 2., 0., 2., 8., 5., 5., 3., 1., 6., 3., 4., 6., 7., 7.,\n",
       "       4., 3., 0., 8., 5., 6., 3., 0., 4., 0., 4., 5., 7., 5., 6., 5., 7.,\n",
       "       8., 5., 6., 8., 7., 6., 6., 6., 7., 6., 6., 5., 1., 4., 4., 5., 6.,\n",
       "       5., 6., 7., 6., 6., 7., 7., 0., 1., 1., 3., 8., 1., 9., 1., 2., 1.])"
      ]
     },
     "execution_count": 152,
     "metadata": {},
     "output_type": "execute_result"
    }
   ],
   "source": [
    "pre_test3.astype(float)"
   ]
  },
  {
   "cell_type": "code",
   "execution_count": null,
   "metadata": {},
   "outputs": [],
   "source": []
  },
  {
   "cell_type": "code",
   "execution_count": null,
   "metadata": {},
   "outputs": [],
   "source": []
  },
  {
   "cell_type": "markdown",
   "metadata": {},
   "source": [
    "# Experimental block"
   ]
  },
  {
   "cell_type": "code",
   "execution_count": null,
   "metadata": {},
   "outputs": [],
   "source": []
  },
  {
   "cell_type": "markdown",
   "metadata": {},
   "source": [
    "## Sum( adr ) by date"
   ]
  },
  {
   "cell_type": "markdown",
   "metadata": {},
   "source": [
    "- **valid**: no neg. date\n",
    "- **invalid**: with neg. date"
   ]
  },
  {
   "cell_type": "code",
   "execution_count": 484,
   "metadata": {},
   "outputs": [],
   "source": [
    "invalid_x , valid_x = deepcopy(df_x),deepcopy(df_x)\n",
    "valid_x = valid_x.loc[valid_x['is_canceled']==0,:].reset_index(drop=True)\n",
    "# valid_x['adr'] = abs(valid_x['adr'])"
   ]
  },
  {
   "cell_type": "code",
   "execution_count": 485,
   "metadata": {},
   "outputs": [],
   "source": [
    "v_adr = valid_x.groupby('arrival_date').sum()[['adr']]\n",
    "inv_adr = invalid_x.groupby('arrival_date').sum()[['adr']]\n",
    "\n",
    "# v_adr = valid_x.groupby('arrival_date').mean()[['adr']]\n",
    "# inv_adr = invalid_x.groupby('arrival_date').mean()[['adr']]\n"
   ]
  },
  {
   "cell_type": "code",
   "execution_count": 486,
   "metadata": {},
   "outputs": [
    {
     "data": {
      "text/plain": [
       "<AxesSubplot:>"
      ]
     },
     "execution_count": 486,
     "metadata": {},
     "output_type": "execute_result"
    },
    {
     "data": {
      "image/png": "[encoded data removed]",
      "text/plain": [
       "<Figure size 432x288 with 1 Axes>"
      ]
     },
     "metadata": {
      "needs_background": "light"
     },
     "output_type": "display_data"
    }
   ],
   "source": [
    "v_normal = v_adr['adr']\n",
    "v_normal = 9*(v_normal - v_normal.min())/\\\n",
    "            (v_normal.max() - v_normal.min())\n",
    "v_normal.hist(density= True,bins=10,cumulative=0,color='b')\n"
   ]
  },
  {
   "cell_type": "code",
   "execution_count": 487,
   "metadata": {
    "scrolled": true
   },
   "outputs": [
    {
     "data": {
      "text/plain": [
       "<AxesSubplot:>"
      ]
     },
     "execution_count": 487,
     "metadata": {},
     "output_type": "execute_result"
    },
    {
     "data": {
      "image/png": "[encoded data removed]",
      "text/plain": [
       "<Figure size 432x288 with 1 Axes>"
      ]
     },
     "metadata": {
      "needs_background": "light"
     },
     "output_type": "display_data"
    }
   ],
   "source": [
    "inv_normal = inv_adr['adr']\n",
    "inv_normal = 9*(inv_normal - inv_normal.min())/\\\n",
    "            (inv_normal.max() - inv_normal.min())\n",
    "\n",
    "inv_normal.hist(density= True,bins=10,cumulative=0,color='r')"
   ]
  },
  {
   "cell_type": "code",
   "execution_count": null,
   "metadata": {},
   "outputs": [],
   "source": []
  },
  {
   "cell_type": "code",
   "execution_count": null,
   "metadata": {},
   "outputs": [],
   "source": []
  },
  {
   "cell_type": "markdown",
   "metadata": {},
   "source": [
    "## Sum( adr $\\times$ date_range) by date"
   ]
  },
  {
   "cell_type": "markdown",
   "metadata": {},
   "source": [
    "- **valid**: no neg. date\n",
    "- **invalid**: with neg. date"
   ]
  },
  {
   "cell_type": "code",
   "execution_count": 488,
   "metadata": {},
   "outputs": [],
   "source": [
    "invalid_x , valid_x = deepcopy(df_x),deepcopy(df_x)\n",
    "valid_x = valid_x.loc[valid_x['is_canceled']==0,:].reset_index(drop=True)\n",
    "valid_x['adr'] = valid_x['adr'].apply(lambda x: max(0,x))\n",
    "\n",
    "\n",
    "\n",
    "# date_range_v = (valid_x['reservation_status_date']-valid_x['arrival_date'])\\\n",
    "#             .apply(lambda x : x.days)\n",
    "\n",
    "# date_range_inv = (invalid_x['reservation_status_date']-invalid_x['arrival_date'])\\\n",
    "#             .apply(lambda x : x.days)\n",
    "# valid_x['date_range']=date_range_v\n",
    "# valid_x['date_range']=valid_x['date_range'].apply(lambda x: 0 if x<=0 else x)\n",
    "valid_x['sum_adr'] = valid_x['stay_days']*valid_x['adr']\n",
    "\n",
    "# invalid_x['date_range']=date_range_inv\n",
    "invalid_x['sum_adr'] = invalid_x['stay_days']*invalid_x['adr']"
   ]
  },
  {
   "cell_type": "code",
   "execution_count": null,
   "metadata": {},
   "outputs": [],
   "source": []
  },
  {
   "cell_type": "code",
   "execution_count": 489,
   "metadata": {},
   "outputs": [],
   "source": [
    "v_sumadr = valid_x.groupby('arrival_date').sum()[['sum_adr']]\n",
    "inv_sumadr = invalid_x.groupby('arrival_date').sum()[['sum_adr']]\n",
    "# v_adr = valid_x.groupby('arrival_date').mean()[['adr']]\n",
    "# inv_adr = invalid_x.groupby('arrival_date').mean()[['adr']]\n"
   ]
  },
  {
   "cell_type": "code",
   "execution_count": 490,
   "metadata": {
    "scrolled": false
   },
   "outputs": [
    {
     "data": {
      "text/plain": [
       "<AxesSubplot:>"
      ]
     },
     "execution_count": 490,
     "metadata": {},
     "output_type": "execute_result"
    },
    {
     "data": {
      "image/png": "[encoded data removed]",
      "text/plain": [
       "<Figure size 432x288 with 1 Axes>"
      ]
     },
     "metadata": {
      "needs_background": "light"
     },
     "output_type": "display_data"
    }
   ],
   "source": [
    "vsum_normal = v_sumadr['sum_adr']\n",
    "vsum_normal = 9*(vsum_normal - vsum_normal.min())/\\\n",
    "            (vsum_normal.max() - vsum_normal.min())\n",
    "vsum_normal.hist(density= True,bins=10,cumulative=0,color='b')\n"
   ]
  },
  {
   "cell_type": "code",
   "execution_count": 492,
   "metadata": {},
   "outputs": [
    {
     "data": {
      "text/plain": [
       "arrival_date\n",
       "2015-07-01    1.865014\n",
       "2015-07-02    1.545745\n",
       "2015-07-03    1.208752\n",
       "2015-07-04    1.635575\n",
       "2015-07-05    1.835166\n",
       "                ...   \n",
       "2017-03-27    2.461691\n",
       "2017-03-28    1.513079\n",
       "2017-03-29    2.252236\n",
       "2017-03-30    3.112044\n",
       "2017-03-31    3.392575\n",
       "Name: sum_adr, Length: 640, dtype: float64"
      ]
     },
     "execution_count": 492,
     "metadata": {},
     "output_type": "execute_result"
    }
   ],
   "source": [
    "invsum_normal"
   ]
  },
  {
   "cell_type": "code",
   "execution_count": 499,
   "metadata": {
    "scrolled": false
   },
   "outputs": [
    {
     "data": {
      "text/plain": [
       "<AxesSubplot:>"
      ]
     },
     "execution_count": 499,
     "metadata": {},
     "output_type": "execute_result"
    },
    {
     "data": {
      "image/png": "[encoded data removed]",
      "text/plain": [
       "<Figure size 432x288 with 1 Axes>"
      ]
     },
     "metadata": {
      "needs_background": "light"
     },
     "output_type": "display_data"
    }
   ],
   "source": [
    "invsum_normal = inv_sumadr['sum_adr']\n",
    "invsum_normal = 9*(invsum_normal - invsum_normal.min())/\\\n",
    "            (invsum_normal.max() - invsum_normal.min())\n",
    "\n",
    "invsum_normal.hist(density= True,bins=10,cumulative=0,color='r')"
   ]
  },
  {
   "cell_type": "markdown",
   "metadata": {},
   "source": [
    "## True $x$ label distribuion"
   ]
  },
  {
   "cell_type": "code",
   "execution_count": 494,
   "metadata": {},
   "outputs": [
    {
     "data": {
      "text/plain": [
       "<AxesSubplot:>"
      ]
     },
     "execution_count": 494,
     "metadata": {},
     "output_type": "execute_result"
    },
    {
     "data": {
      "image/png": "[encoded data removed]",
      "text/plain": [
       "<Figure size 432x288 with 1 Axes>"
      ]
     },
     "metadata": {
      "needs_background": "light"
     },
     "output_type": "display_data"
    }
   ],
   "source": [
    "df_y['label'].hist(density=True , bins=10 ,cumulative=0 , color='g')"
   ]
  },
  {
   "cell_type": "code",
   "execution_count": 497,
   "metadata": {
    "scrolled": true
   },
   "outputs": [
    {
     "data": {
      "image/png": "[encoded data removed]",
      "text/plain": [
       "<Figure size 432x288 with 1 Axes>"
      ]
     },
     "metadata": {
      "needs_background": "light"
     },
     "output_type": "display_data"
    }
   ],
   "source": [
    "infer_label = vsum_normal.values\n",
    "# infer_label = invsum_normal.values\n",
    "true_label = df_y['label']\n",
    "plt.hist(true_label , \n",
    "        density=True,\n",
    "         cumulative=1 ,\n",
    "         bins=10,\n",
    "         color='green',\n",
    "        label='true')\n",
    "plt.hist(infer_label ,\n",
    "         density=True,\n",
    "         cumulative=1 ,\n",
    "         bins=10,\n",
    "         color='blue',\n",
    "        label='inferred')\n",
    "\n",
    "\n",
    "plt.legend(loc='upper right')\n",
    "plt.show()"
   ]
  },
  {
   "cell_type": "code",
   "execution_count": 498,
   "metadata": {
    "scrolled": true
   },
   "outputs": [
    {
     "data": {
      "text/plain": [
       "0.3123135872507655"
      ]
     },
     "execution_count": 498,
     "metadata": {},
     "output_type": "execute_result"
    }
   ],
   "source": [
    "abs(infer_label - true_label).sum()/len(infer_label)"
   ]
  },
  {
   "cell_type": "code",
   "execution_count": 24,
   "metadata": {},
   "outputs": [],
   "source": [
    "import pickle\n",
    "from sklearn.linear_model import LinearRegression\n",
    "from sklearn.svm import SVR, SVC\n",
    "from sklearn.metrics import mean_absolute_error as mae\n",
    "from sklearn.metrics import accuracy_score , f1_score , recall_score\n",
    "from sklearn.neighbors import KNeighborsClassifier\n",
    "from sklearn.model_selection import train_test_split, LeaveOneOut\n",
    "from sklearn.preprocessing import StandardScaler \n",
    "\n",
    "from sklearn.multiclass import OneVsRestClassifier as OVR"
   ]
  },
  {
   "cell_type": "markdown",
   "metadata": {},
   "source": [
    "## From normalized_adr to label"
   ]
  },
  {
   "cell_type": "code",
   "execution_count": 324,
   "metadata": {},
   "outputs": [],
   "source": [
    "x, y = infer_label, true_label.values\n",
    "x, y = x.reshape(-1 ,1) , y.reshape(-1,1)\n",
    "test_size = 300 # from 640"
   ]
  },
  {
   "cell_type": "markdown",
   "metadata": {},
   "source": [
    "### Linear Regression"
   ]
  },
  {
   "cell_type": "code",
   "execution_count": 325,
   "metadata": {
    "scrolled": false
   },
   "outputs": [
    {
     "data": {
      "text/plain": [
       "OneVsRestClassifier(estimator=LinearRegression())"
      ]
     },
     "execution_count": 325,
     "metadata": {},
     "output_type": "execute_result"
    }
   ],
   "source": [
    "model_lr = LinearRegression(normalize=False)\n",
    "model_lr = OVR(model_lr)\n",
    "model_lr.fit(x[:test_size,:] , y[:test_size,:])\n"
   ]
  },
  {
   "cell_type": "code",
   "execution_count": 266,
   "metadata": {},
   "outputs": [
    {
     "data": {
      "text/plain": [
       "0.861764705882353"
      ]
     },
     "execution_count": 266,
     "metadata": {},
     "output_type": "execute_result"
    }
   ],
   "source": [
    "y_pred = model_lr.predict(x[test_size:,:])\n",
    "mae(y[test_size:,:] , y_pred)"
   ]
  },
  {
   "cell_type": "markdown",
   "metadata": {},
   "source": [
    "### SVR"
   ]
  },
  {
   "cell_type": "code",
   "execution_count": 326,
   "metadata": {
    "scrolled": false
   },
   "outputs": [
    {
     "data": {
      "text/plain": [
       "SVC(C=10)"
      ]
     },
     "execution_count": 326,
     "metadata": {},
     "output_type": "execute_result"
    }
   ],
   "source": [
    "model_svr = SVC(C=10)\n",
    "# model_svr = OVR(model_svr)\n",
    "model_svr.fit(x[:test_size,:] , y[:test_size,:].flatten())\n"
   ]
  },
  {
   "cell_type": "code",
   "execution_count": 327,
   "metadata": {
    "scrolled": true
   },
   "outputs": [
    {
     "data": {
      "text/plain": [
       "0.861764705882353"
      ]
     },
     "execution_count": 327,
     "metadata": {},
     "output_type": "execute_result"
    }
   ],
   "source": [
    "y_pred = model_lr.predict(x[test_size:,:])\n",
    "mae(y[test_size:,:].flatten() , y_pred)"
   ]
  },
  {
   "cell_type": "markdown",
   "metadata": {},
   "source": [
    "### LGB"
   ]
  },
  {
   "cell_type": "code",
   "execution_count": 328,
   "metadata": {
    "scrolled": true
   },
   "outputs": [
    {
     "data": {
      "text/plain": [
       "LGBMClassifier(metric='multi_logloss', num_class=10, objective='multiclass')"
      ]
     },
     "execution_count": 328,
     "metadata": {},
     "output_type": "execute_result"
    }
   ],
   "source": [
    "from lightgbm import LGBMClassifier\n",
    "\n",
    "model_lgb = LGBMClassifier(num_class =10 ,\n",
    "                           objective='multiclass',\n",
    "                           metric='multi_logloss')\n",
    "model_lgb.fit(x[:test_size,:] , y[:test_size,:].flatten())"
   ]
  },
  {
   "cell_type": "code",
   "execution_count": 329,
   "metadata": {
    "scrolled": false
   },
   "outputs": [
    {
     "data": {
      "text/plain": [
       "0.08823529411764706"
      ]
     },
     "execution_count": 329,
     "metadata": {},
     "output_type": "execute_result"
    }
   ],
   "source": [
    "y_pred = model_lgb.predict(x[test_size:,:])\n",
    "mae(y[test_size:,:].flatten() , y_pred)"
   ]
  },
  {
   "cell_type": "code",
   "execution_count": null,
   "metadata": {},
   "outputs": [],
   "source": []
  },
  {
   "cell_type": "code",
   "execution_count": 72,
   "metadata": {},
   "outputs": [],
   "source": [
    "import joblib\n",
    "# from sklearn.model_selection import GridSearchCV \n",
    "\n",
    "# parameters ={\n",
    "#     'max_leaf': [100 , 200, 300 ,400 , 600],\n",
    "#     'max_depth': [2, 5 ,10 , 15, 20,  35],\n",
    "#     'learning_rate': [0.01, 0.02, 0.05, 0.1, 0.15],\n",
    "#     'feature_fraction': [0.6, 0.7, 0.8, 0.95],\n",
    "#     'bagging_fraction': [0.6, 0.7, 0.8, 0.95],\n",
    "#     'bagging_freq': [2, 4, 6, 8],\n",
    "#     'lambda_l1': [0.1, 0.4, 0.6],\n",
    "#     'lambda_l2': [10, 15, 35],\n",
    "#     'cat_smooth': [1, 10, 15, 20, 35],\n",
    "#     }\n",
    "# gs = GridSearchCV(model_lgb , \n",
    "#                   param_grid =parameters , \n",
    "#                   n_jobs = 20)\n",
    "# gs.fit(x[:test_size,:] , y[:test_size,:].flatten())\n",
    "# gs.best_params_\n",
    "gs_ = joblib.load(\"gs_model_yy\")"
   ]
  },
  {
   "cell_type": "code",
   "execution_count": 253,
   "metadata": {},
   "outputs": [],
   "source": [
    "model =  gs_.estimator\n",
    "params = gs_.best_params_"
   ]
  },
  {
   "cell_type": "code",
   "execution_count": 254,
   "metadata": {},
   "outputs": [
    {
     "data": {
      "text/plain": [
       "{'bagging_fraction': 0.95,\n",
       " 'bagging_freq': 2,\n",
       " 'cat_smooth': 1,\n",
       " 'feature_fraction': 0.6,\n",
       " 'lambda_l1': 0.1,\n",
       " 'lambda_l2': 10,\n",
       " 'learning_rate': 0.15,\n",
       " 'max_depth': 2,\n",
       " 'max_leaf': 100}"
      ]
     },
     "execution_count": 254,
     "metadata": {},
     "output_type": "execute_result"
    }
   ],
   "source": [
    "# model\n",
    "params"
   ]
  },
  {
   "cell_type": "code",
   "execution_count": 255,
   "metadata": {},
   "outputs": [
    {
     "data": {
      "text/plain": [
       "LGBMClassifier(bagging_fraction=0.95, bagging_freq=2, cat_smooth=1,\n",
       "               feature_fraction=0.6, lambda_l1=0.1, lambda_l2=10,\n",
       "               learning_rate=0.15, max_depth=2, max_leaf=100,\n",
       "               metric='multi_logloss', num_class=10, objective='multiclass')"
      ]
     },
     "execution_count": 255,
     "metadata": {},
     "output_type": "execute_result"
    }
   ],
   "source": [
    "model.set_params(**params)"
   ]
  },
  {
   "cell_type": "code",
   "execution_count": 256,
   "metadata": {
    "scrolled": true
   },
   "outputs": [
    {
     "name": "stdout",
     "output_type": "stream",
     "text": [
      "[LightGBM] [Warning] lambda_l2 is set=10, reg_lambda=0.0 will be ignored. Current value: lambda_l2=10\n",
      "[LightGBM] [Warning] lambda_l1 is set=0.1, reg_alpha=0.0 will be ignored. Current value: lambda_l1=0.1\n",
      "[LightGBM] [Warning] num_leaves is set=31, max_leaf=100 will be ignored. Current value: num_leaves=31\n",
      "[LightGBM] [Warning] feature_fraction is set=0.6, colsample_bytree=1.0 will be ignored. Current value: feature_fraction=0.6\n",
      "[LightGBM] [Warning] bagging_fraction is set=0.95, subsample=1.0 will be ignored. Current value: bagging_fraction=0.95\n",
      "[LightGBM] [Warning] bagging_freq is set=2, subsample_freq=0 will be ignored. Current value: bagging_freq=2\n"
     ]
    },
    {
     "data": {
      "text/plain": [
       "LGBMClassifier(bagging_fraction=0.95, bagging_freq=2, cat_smooth=1,\n",
       "               feature_fraction=0.6, lambda_l1=0.1, lambda_l2=10,\n",
       "               learning_rate=0.15, max_depth=2, max_leaf=100,\n",
       "               metric='multi_logloss', num_class=10, objective='multiclass')"
      ]
     },
     "execution_count": 256,
     "metadata": {},
     "output_type": "execute_result"
    }
   ],
   "source": [
    "model.fit(x[:test_size,:] , y[:test_size,:].flatten())"
   ]
  },
  {
   "cell_type": "code",
   "execution_count": 257,
   "metadata": {},
   "outputs": [
    {
     "data": {
      "text/plain": [
       "0.24259259259259258"
      ]
     },
     "execution_count": 257,
     "metadata": {},
     "output_type": "execute_result"
    }
   ],
   "source": [
    "y_pred = model.predict(x[test_size:,:])\n",
    "mae(y[test_size:,:].flatten() , y_pred)"
   ]
  },
  {
   "cell_type": "code",
   "execution_count": null,
   "metadata": {},
   "outputs": [],
   "source": []
  },
  {
   "cell_type": "code",
   "execution_count": null,
   "metadata": {},
   "outputs": [],
   "source": []
  },
  {
   "cell_type": "code",
   "execution_count": 295,
   "metadata": {},
   "outputs": [],
   "source": [
    "import pickle \n",
    "with open('yy.pickle', 'wb') as f:\n",
    "    pickle.dump([x[:test_size,:] , y[:test_size,:].flatten()] ,f)\n",
    "    "
   ]
  },
  {
   "cell_type": "code",
   "execution_count": 296,
   "metadata": {},
   "outputs": [],
   "source": [
    "with open('yy.pickle' ,'rb') as f:\n",
    "    x_train , y_train  =  pickle.load(f)"
   ]
  },
  {
   "cell_type": "code",
   "execution_count": null,
   "metadata": {},
   "outputs": [],
   "source": [
    "y_pred = model_lgb.predict(x[test_size:,:])\n",
    "mae(y[test_size:,:].flatten() , y_pred)"
   ]
  },
  {
   "cell_type": "code",
   "execution_count": null,
   "metadata": {},
   "outputs": [],
   "source": []
  },
  {
   "cell_type": "code",
   "execution_count": null,
   "metadata": {},
   "outputs": [],
   "source": []
  },
  {
   "cell_type": "code",
   "execution_count": null,
   "metadata": {},
   "outputs": [],
   "source": []
  },
  {
   "cell_type": "code",
   "execution_count": null,
   "metadata": {},
   "outputs": [],
   "source": []
  },
  {
   "cell_type": "code",
   "execution_count": null,
   "metadata": {},
   "outputs": [],
   "source": []
  },
  {
   "cell_type": "markdown",
   "metadata": {},
   "source": [
    "## Remaining Feature for ADR"
   ]
  },
  {
   "cell_type": "code",
   "execution_count": 179,
   "metadata": {},
   "outputs": [],
   "source": [
    "remain_cols=[\\\n",
    "            'lead_time',\n",
    "            'stays_in_weekend_nights', \n",
    "            'stays_in_week_nights',\n",
    "            'adults', \n",
    "            'children',\n",
    "            'babies', \n",
    "#             'meal',\n",
    "#             'country',\n",
    "#             'market_segment',\n",
    "#             'distribution_channel',\n",
    "            'is_repeated_guest', \n",
    "            'previous_cancellations',\n",
    "            'previous_bookings_not_canceled',\n",
    "#             'reserved_room_type',\n",
    "#             'assigned_room_type', \n",
    "            'booking_changes',\n",
    "#             'deposit_type',\n",
    "            'agent',\n",
    "            'company',\n",
    "            'days_in_waiting_list',\n",
    "#             'customer_type',\n",
    "            'required_car_parking_spaces', \n",
    "            'total_of_special_requests',\n",
    "              ]\n"
   ]
  },
  {
   "cell_type": "code",
   "execution_count": 171,
   "metadata": {},
   "outputs": [],
   "source": [
    "valid_x_sum = valid_x.groupby('arrival_date').sum()"
   ]
  },
  {
   "cell_type": "code",
   "execution_count": 176,
   "metadata": {},
   "outputs": [
    {
     "data": {
      "text/plain": [
       "Index(['ID', 'is_canceled', 'lead_time', 'arrival_date_week_number',\n",
       "       'stays_in_weekend_nights', 'stays_in_week_nights', 'adults', 'children',\n",
       "       'babies', 'is_repeated_guest', 'previous_cancellations',\n",
       "       'previous_bookings_not_canceled', 'booking_changes', 'agent', 'company',\n",
       "       'days_in_waiting_list', 'adr', 'required_car_parking_spaces',\n",
       "       'total_of_special_requests', 'date_range', 'sum_adr'],\n",
       "      dtype='object')"
      ]
     },
     "execution_count": 176,
     "metadata": {},
     "output_type": "execute_result"
    }
   ],
   "source": [
    "valid_x_sum.columns"
   ]
  },
  {
   "cell_type": "code",
   "execution_count": 183,
   "metadata": {
    "scrolled": true
   },
   "outputs": [
    {
     "data": {
      "text/plain": [
       "array([[<AxesSubplot:title={'center':'lead_time'}>,\n",
       "        <AxesSubplot:title={'center':'stays_in_weekend_nights'}>],\n",
       "       [<AxesSubplot:title={'center':'stays_in_week_nights'}>,\n",
       "        <AxesSubplot:title={'center':'adults'}>]], dtype=object)"
      ]
     },
     "execution_count": 183,
     "metadata": {},
     "output_type": "execute_result"
    },
    {
     "data": {
      "image/png": "[encoded data removed]",
      "text/plain": [
       "<Figure size 432x288 with 4 Axes>"
      ]
     },
     "metadata": {
      "needs_background": "light"
     },
     "output_type": "display_data"
    }
   ],
   "source": [
    "valid_x_sum[remain_cols[:4]].hist(bins=10,density=True)"
   ]
  },
  {
   "cell_type": "code",
   "execution_count": 184,
   "metadata": {},
   "outputs": [
    {
     "data": {
      "text/plain": [
       "array([[<AxesSubplot:title={'center':'children'}>,\n",
       "        <AxesSubplot:title={'center':'babies'}>],\n",
       "       [<AxesSubplot:title={'center':'is_repeated_guest'}>,\n",
       "        <AxesSubplot:title={'center':'previous_cancellations'}>]],\n",
       "      dtype=object)"
      ]
     },
     "execution_count": 184,
     "metadata": {},
     "output_type": "execute_result"
    },
    {
     "data": {
      "image/png": "[encoded data removed]",
      "text/plain": [
       "<Figure size 432x288 with 4 Axes>"
      ]
     },
     "metadata": {
      "needs_background": "light"
     },
     "output_type": "display_data"
    }
   ],
   "source": [
    "valid_x_sum[remain_cols[4:8]].hist(bins=10,density=True)"
   ]
  },
  {
   "cell_type": "code",
   "execution_count": 185,
   "metadata": {},
   "outputs": [
    {
     "data": {
      "text/plain": [
       "array([[<AxesSubplot:title={'center':'previous_bookings_not_canceled'}>,\n",
       "        <AxesSubplot:title={'center':'booking_changes'}>],\n",
       "       [<AxesSubplot:title={'center':'agent'}>,\n",
       "        <AxesSubplot:title={'center':'company'}>]], dtype=object)"
      ]
     },
     "execution_count": 185,
     "metadata": {},
     "output_type": "execute_result"
    },
    {
     "data": {
      "image/png": "[encoded data removed]",
      "text/plain": [
       "<Figure size 432x288 with 4 Axes>"
      ]
     },
     "metadata": {
      "needs_background": "light"
     },
     "output_type": "display_data"
    }
   ],
   "source": [
    "valid_x_sum[remain_cols[8:12]].hist(bins=10,density=True)"
   ]
  },
  {
   "cell_type": "code",
   "execution_count": 186,
   "metadata": {},
   "outputs": [
    {
     "data": {
      "text/plain": [
       "array([[<AxesSubplot:title={'center':'days_in_waiting_list'}>,\n",
       "        <AxesSubplot:title={'center':'required_car_parking_spaces'}>],\n",
       "       [<AxesSubplot:title={'center':'total_of_special_requests'}>,\n",
       "        <AxesSubplot:>]], dtype=object)"
      ]
     },
     "execution_count": 186,
     "metadata": {},
     "output_type": "execute_result"
    },
    {
     "data": {
      "image/png": "[encoded data removed]",
      "text/plain": [
       "<Figure size 432x288 with 4 Axes>"
      ]
     },
     "metadata": {
      "needs_background": "light"
     },
     "output_type": "display_data"
    }
   ],
   "source": [
    "valid_x_sum[remain_cols[12:]].hist(bins=10,density=True)"
   ]
  },
  {
   "cell_type": "code",
   "execution_count": 187,
   "metadata": {},
   "outputs": [
    {
     "data": {
      "text/plain": [
       "['lead_time',\n",
       " 'stays_in_weekend_nights',\n",
       " 'stays_in_week_nights',\n",
       " 'adults',\n",
       " 'children',\n",
       " 'babies',\n",
       " 'is_repeated_guest',\n",
       " 'previous_cancellations',\n",
       " 'previous_bookings_not_canceled',\n",
       " 'booking_changes',\n",
       " 'agent',\n",
       " 'company',\n",
       " 'days_in_waiting_list',\n",
       " 'required_car_parking_spaces',\n",
       " 'total_of_special_requests']"
      ]
     },
     "execution_count": 187,
     "metadata": {},
     "output_type": "execute_result"
    }
   ],
   "source": [
    "remain_cols"
   ]
  },
  {
   "cell_type": "code",
   "execution_count": 191,
   "metadata": {},
   "outputs": [
    {
     "data": {
      "text/plain": [
       "nan"
      ]
     },
     "execution_count": 191,
     "metadata": {},
     "output_type": "execute_result"
    }
   ],
   "source": [
    "def histogram_intersection(a, b):\n",
    "    v = np.minimum(a, b).sum().round(decimals=1)\n",
    "    return v\n",
    "\n",
    "\n",
    "valid_x_sum['lead_time'].corr(true_label, method='pearson')"
   ]
  },
  {
   "cell_type": "code",
   "execution_count": 313,
   "metadata": {},
   "outputs": [],
   "source": [
    "remain_x_y = deepcopy(valid_x_sum[remain_cols])\n",
    "remain_x_y['label']=true_label.values\n",
    "remain_x_y = remain_x_y[['label']+remain_cols]\n",
    "# .corr(method='pearson')\n"
   ]
  },
  {
   "cell_type": "code",
   "execution_count": 314,
   "metadata": {},
   "outputs": [
    {
     "data": {
      "text/html": [
       "<div>\n",
       "<style scoped>\n",
       "    .dataframe tbody tr th:only-of-type {\n",
       "        vertical-align: middle;\n",
       "    }\n",
       "\n",
       "    .dataframe tbody tr th {\n",
       "        vertical-align: top;\n",
       "    }\n",
       "\n",
       "    .dataframe thead th {\n",
       "        text-align: right;\n",
       "    }\n",
       "</style>\n",
       "<table border=\"1\" class=\"dataframe\">\n",
       "  <thead>\n",
       "    <tr style=\"text-align: right;\">\n",
       "      <th></th>\n",
       "      <th>label</th>\n",
       "      <th>lead_time</th>\n",
       "      <th>stays_in_weekend_nights</th>\n",
       "      <th>stays_in_week_nights</th>\n",
       "      <th>adults</th>\n",
       "      <th>children</th>\n",
       "      <th>babies</th>\n",
       "      <th>is_repeated_guest</th>\n",
       "      <th>previous_cancellations</th>\n",
       "      <th>previous_bookings_not_canceled</th>\n",
       "      <th>booking_changes</th>\n",
       "      <th>agent</th>\n",
       "      <th>company</th>\n",
       "      <th>days_in_waiting_list</th>\n",
       "      <th>required_car_parking_spaces</th>\n",
       "      <th>total_of_special_requests</th>\n",
       "    </tr>\n",
       "  </thead>\n",
       "  <tbody>\n",
       "    <tr>\n",
       "      <th>label</th>\n",
       "      <td>1.000000</td>\n",
       "      <td>0.513087</td>\n",
       "      <td>0.633663</td>\n",
       "      <td>0.556352</td>\n",
       "      <td>0.637922</td>\n",
       "      <td>0.624413</td>\n",
       "      <td>0.347326</td>\n",
       "      <td>0.181930</td>\n",
       "      <td>0.012054</td>\n",
       "      <td>0.120508</td>\n",
       "      <td>0.409913</td>\n",
       "      <td>0.432488</td>\n",
       "      <td>0.076464</td>\n",
       "      <td>0.097123</td>\n",
       "      <td>0.458513</td>\n",
       "      <td>0.626447</td>\n",
       "    </tr>\n",
       "    <tr>\n",
       "      <th>adults</th>\n",
       "      <td>0.637922</td>\n",
       "      <td>0.809737</td>\n",
       "      <td>0.524372</td>\n",
       "      <td>0.826537</td>\n",
       "      <td>1.000000</td>\n",
       "      <td>0.439049</td>\n",
       "      <td>0.185092</td>\n",
       "      <td>0.016638</td>\n",
       "      <td>0.116263</td>\n",
       "      <td>0.039203</td>\n",
       "      <td>0.549339</td>\n",
       "      <td>0.624377</td>\n",
       "      <td>0.155262</td>\n",
       "      <td>0.271310</td>\n",
       "      <td>0.480812</td>\n",
       "      <td>0.636411</td>\n",
       "    </tr>\n",
       "    <tr>\n",
       "      <th>stays_in_weekend_nights</th>\n",
       "      <td>0.633663</td>\n",
       "      <td>0.342950</td>\n",
       "      <td>1.000000</td>\n",
       "      <td>0.242447</td>\n",
       "      <td>0.524372</td>\n",
       "      <td>0.375137</td>\n",
       "      <td>0.275103</td>\n",
       "      <td>0.186849</td>\n",
       "      <td>0.048385</td>\n",
       "      <td>0.148287</td>\n",
       "      <td>0.259763</td>\n",
       "      <td>0.442653</td>\n",
       "      <td>0.111548</td>\n",
       "      <td>0.028835</td>\n",
       "      <td>0.272680</td>\n",
       "      <td>0.458020</td>\n",
       "    </tr>\n",
       "    <tr>\n",
       "      <th>total_of_special_requests</th>\n",
       "      <td>0.626447</td>\n",
       "      <td>0.464766</td>\n",
       "      <td>0.458020</td>\n",
       "      <td>0.537144</td>\n",
       "      <td>0.636411</td>\n",
       "      <td>0.600007</td>\n",
       "      <td>0.270889</td>\n",
       "      <td>0.030378</td>\n",
       "      <td>0.112144</td>\n",
       "      <td>0.029098</td>\n",
       "      <td>0.423111</td>\n",
       "      <td>0.490732</td>\n",
       "      <td>0.001201</td>\n",
       "      <td>0.068228</td>\n",
       "      <td>0.485960</td>\n",
       "      <td>1.000000</td>\n",
       "    </tr>\n",
       "    <tr>\n",
       "      <th>children</th>\n",
       "      <td>0.624413</td>\n",
       "      <td>0.274927</td>\n",
       "      <td>0.375137</td>\n",
       "      <td>0.348007</td>\n",
       "      <td>0.439049</td>\n",
       "      <td>1.000000</td>\n",
       "      <td>0.340986</td>\n",
       "      <td>0.153325</td>\n",
       "      <td>0.101387</td>\n",
       "      <td>0.104211</td>\n",
       "      <td>0.342271</td>\n",
       "      <td>0.338233</td>\n",
       "      <td>0.108282</td>\n",
       "      <td>0.013109</td>\n",
       "      <td>0.487390</td>\n",
       "      <td>0.600007</td>\n",
       "    </tr>\n",
       "    <tr>\n",
       "      <th>stays_in_week_nights</th>\n",
       "      <td>0.556352</td>\n",
       "      <td>0.752619</td>\n",
       "      <td>0.242447</td>\n",
       "      <td>1.000000</td>\n",
       "      <td>0.826537</td>\n",
       "      <td>0.348007</td>\n",
       "      <td>0.112213</td>\n",
       "      <td>0.084009</td>\n",
       "      <td>0.105784</td>\n",
       "      <td>0.102751</td>\n",
       "      <td>0.557976</td>\n",
       "      <td>0.564633</td>\n",
       "      <td>0.240636</td>\n",
       "      <td>0.287191</td>\n",
       "      <td>0.431735</td>\n",
       "      <td>0.537144</td>\n",
       "    </tr>\n",
       "    <tr>\n",
       "      <th>lead_time</th>\n",
       "      <td>0.513087</td>\n",
       "      <td>1.000000</td>\n",
       "      <td>0.342950</td>\n",
       "      <td>0.752619</td>\n",
       "      <td>0.809737</td>\n",
       "      <td>0.274927</td>\n",
       "      <td>0.094193</td>\n",
       "      <td>0.083254</td>\n",
       "      <td>0.128481</td>\n",
       "      <td>0.088290</td>\n",
       "      <td>0.507240</td>\n",
       "      <td>0.449613</td>\n",
       "      <td>0.146675</td>\n",
       "      <td>0.323660</td>\n",
       "      <td>0.307095</td>\n",
       "      <td>0.464766</td>\n",
       "    </tr>\n",
       "    <tr>\n",
       "      <th>required_car_parking_spaces</th>\n",
       "      <td>0.458513</td>\n",
       "      <td>0.307095</td>\n",
       "      <td>0.272680</td>\n",
       "      <td>0.431735</td>\n",
       "      <td>0.480812</td>\n",
       "      <td>0.487390</td>\n",
       "      <td>0.225466</td>\n",
       "      <td>0.006595</td>\n",
       "      <td>0.086548</td>\n",
       "      <td>0.066465</td>\n",
       "      <td>0.383784</td>\n",
       "      <td>0.401743</td>\n",
       "      <td>0.151457</td>\n",
       "      <td>0.094161</td>\n",
       "      <td>1.000000</td>\n",
       "      <td>0.485960</td>\n",
       "    </tr>\n",
       "    <tr>\n",
       "      <th>agent</th>\n",
       "      <td>0.432488</td>\n",
       "      <td>0.449613</td>\n",
       "      <td>0.442653</td>\n",
       "      <td>0.564633</td>\n",
       "      <td>0.624377</td>\n",
       "      <td>0.338233</td>\n",
       "      <td>0.151318</td>\n",
       "      <td>0.014482</td>\n",
       "      <td>0.017619</td>\n",
       "      <td>0.005433</td>\n",
       "      <td>0.385253</td>\n",
       "      <td>1.000000</td>\n",
       "      <td>0.010146</td>\n",
       "      <td>0.121016</td>\n",
       "      <td>0.401743</td>\n",
       "      <td>0.490732</td>\n",
       "    </tr>\n",
       "    <tr>\n",
       "      <th>booking_changes</th>\n",
       "      <td>0.409913</td>\n",
       "      <td>0.507240</td>\n",
       "      <td>0.259763</td>\n",
       "      <td>0.557976</td>\n",
       "      <td>0.549339</td>\n",
       "      <td>0.342271</td>\n",
       "      <td>0.130197</td>\n",
       "      <td>0.009156</td>\n",
       "      <td>0.056233</td>\n",
       "      <td>0.044632</td>\n",
       "      <td>1.000000</td>\n",
       "      <td>0.385253</td>\n",
       "      <td>0.331493</td>\n",
       "      <td>0.141522</td>\n",
       "      <td>0.383784</td>\n",
       "      <td>0.423111</td>\n",
       "    </tr>\n",
       "    <tr>\n",
       "      <th>babies</th>\n",
       "      <td>0.347326</td>\n",
       "      <td>0.094193</td>\n",
       "      <td>0.275103</td>\n",
       "      <td>0.112213</td>\n",
       "      <td>0.185092</td>\n",
       "      <td>0.340986</td>\n",
       "      <td>1.000000</td>\n",
       "      <td>0.102632</td>\n",
       "      <td>0.010549</td>\n",
       "      <td>0.091367</td>\n",
       "      <td>0.130197</td>\n",
       "      <td>0.151318</td>\n",
       "      <td>0.068663</td>\n",
       "      <td>0.040817</td>\n",
       "      <td>0.225466</td>\n",
       "      <td>0.270889</td>\n",
       "    </tr>\n",
       "    <tr>\n",
       "      <th>is_repeated_guest</th>\n",
       "      <td>0.181930</td>\n",
       "      <td>0.083254</td>\n",
       "      <td>0.186849</td>\n",
       "      <td>0.084009</td>\n",
       "      <td>0.016638</td>\n",
       "      <td>0.153325</td>\n",
       "      <td>0.102632</td>\n",
       "      <td>1.000000</td>\n",
       "      <td>0.025757</td>\n",
       "      <td>0.476248</td>\n",
       "      <td>0.009156</td>\n",
       "      <td>0.014482</td>\n",
       "      <td>0.224729</td>\n",
       "      <td>0.012638</td>\n",
       "      <td>0.006595</td>\n",
       "      <td>0.030378</td>\n",
       "    </tr>\n",
       "    <tr>\n",
       "      <th>previous_bookings_not_canceled</th>\n",
       "      <td>0.120508</td>\n",
       "      <td>0.088290</td>\n",
       "      <td>0.148287</td>\n",
       "      <td>0.102751</td>\n",
       "      <td>0.039203</td>\n",
       "      <td>0.104211</td>\n",
       "      <td>0.091367</td>\n",
       "      <td>0.476248</td>\n",
       "      <td>0.032848</td>\n",
       "      <td>1.000000</td>\n",
       "      <td>0.044632</td>\n",
       "      <td>0.005433</td>\n",
       "      <td>0.239803</td>\n",
       "      <td>0.007640</td>\n",
       "      <td>0.066465</td>\n",
       "      <td>0.029098</td>\n",
       "    </tr>\n",
       "    <tr>\n",
       "      <th>days_in_waiting_list</th>\n",
       "      <td>0.097123</td>\n",
       "      <td>0.323660</td>\n",
       "      <td>0.028835</td>\n",
       "      <td>0.287191</td>\n",
       "      <td>0.271310</td>\n",
       "      <td>0.013109</td>\n",
       "      <td>0.040817</td>\n",
       "      <td>0.012638</td>\n",
       "      <td>0.020616</td>\n",
       "      <td>0.007640</td>\n",
       "      <td>0.141522</td>\n",
       "      <td>0.121016</td>\n",
       "      <td>0.011051</td>\n",
       "      <td>1.000000</td>\n",
       "      <td>0.094161</td>\n",
       "      <td>0.068228</td>\n",
       "    </tr>\n",
       "    <tr>\n",
       "      <th>company</th>\n",
       "      <td>0.076464</td>\n",
       "      <td>0.146675</td>\n",
       "      <td>0.111548</td>\n",
       "      <td>0.240636</td>\n",
       "      <td>0.155262</td>\n",
       "      <td>0.108282</td>\n",
       "      <td>0.068663</td>\n",
       "      <td>0.224729</td>\n",
       "      <td>0.026653</td>\n",
       "      <td>0.239803</td>\n",
       "      <td>0.331493</td>\n",
       "      <td>0.010146</td>\n",
       "      <td>1.000000</td>\n",
       "      <td>0.011051</td>\n",
       "      <td>0.151457</td>\n",
       "      <td>0.001201</td>\n",
       "    </tr>\n",
       "    <tr>\n",
       "      <th>previous_cancellations</th>\n",
       "      <td>0.012054</td>\n",
       "      <td>0.128481</td>\n",
       "      <td>0.048385</td>\n",
       "      <td>0.105784</td>\n",
       "      <td>0.116263</td>\n",
       "      <td>0.101387</td>\n",
       "      <td>0.010549</td>\n",
       "      <td>0.025757</td>\n",
       "      <td>1.000000</td>\n",
       "      <td>0.032848</td>\n",
       "      <td>0.056233</td>\n",
       "      <td>0.017619</td>\n",
       "      <td>0.026653</td>\n",
       "      <td>0.020616</td>\n",
       "      <td>0.086548</td>\n",
       "      <td>0.112144</td>\n",
       "    </tr>\n",
       "  </tbody>\n",
       "</table>\n",
       "</div>"
      ],
      "text/plain": [
       "                                   label  lead_time  stays_in_weekend_nights  \\\n",
       "label                           1.000000   0.513087                 0.633663   \n",
       "adults                          0.637922   0.809737                 0.524372   \n",
       "stays_in_weekend_nights         0.633663   0.342950                 1.000000   \n",
       "total_of_special_requests       0.626447   0.464766                 0.458020   \n",
       "children                        0.624413   0.274927                 0.375137   \n",
       "stays_in_week_nights            0.556352   0.752619                 0.242447   \n",
       "lead_time                       0.513087   1.000000                 0.342950   \n",
       "required_car_parking_spaces     0.458513   0.307095                 0.272680   \n",
       "agent                           0.432488   0.449613                 0.442653   \n",
       "booking_changes                 0.409913   0.507240                 0.259763   \n",
       "babies                          0.347326   0.094193                 0.275103   \n",
       "is_repeated_guest               0.181930   0.083254                 0.186849   \n",
       "previous_bookings_not_canceled  0.120508   0.088290                 0.148287   \n",
       "days_in_waiting_list            0.097123   0.323660                 0.028835   \n",
       "company                         0.076464   0.146675                 0.111548   \n",
       "previous_cancellations          0.012054   0.128481                 0.048385   \n",
       "\n",
       "                                stays_in_week_nights    adults  children  \\\n",
       "label                                       0.556352  0.637922  0.624413   \n",
       "adults                                      0.826537  1.000000  0.439049   \n",
       "stays_in_weekend_nights                     0.242447  0.524372  0.375137   \n",
       "total_of_special_requests                   0.537144  0.636411  0.600007   \n",
       "children                                    0.348007  0.439049  1.000000   \n",
       "stays_in_week_nights                        1.000000  0.826537  0.348007   \n",
       "lead_time                                   0.752619  0.809737  0.274927   \n",
       "required_car_parking_spaces                 0.431735  0.480812  0.487390   \n",
       "agent                                       0.564633  0.624377  0.338233   \n",
       "booking_changes                             0.557976  0.549339  0.342271   \n",
       "babies                                      0.112213  0.185092  0.340986   \n",
       "is_repeated_guest                           0.084009  0.016638  0.153325   \n",
       "previous_bookings_not_canceled              0.102751  0.039203  0.104211   \n",
       "days_in_waiting_list                        0.287191  0.271310  0.013109   \n",
       "company                                     0.240636  0.155262  0.108282   \n",
       "previous_cancellations                      0.105784  0.116263  0.101387   \n",
       "\n",
       "                                  babies  is_repeated_guest  \\\n",
       "label                           0.347326           0.181930   \n",
       "adults                          0.185092           0.016638   \n",
       "stays_in_weekend_nights         0.275103           0.186849   \n",
       "total_of_special_requests       0.270889           0.030378   \n",
       "children                        0.340986           0.153325   \n",
       "stays_in_week_nights            0.112213           0.084009   \n",
       "lead_time                       0.094193           0.083254   \n",
       "required_car_parking_spaces     0.225466           0.006595   \n",
       "agent                           0.151318           0.014482   \n",
       "booking_changes                 0.130197           0.009156   \n",
       "babies                          1.000000           0.102632   \n",
       "is_repeated_guest               0.102632           1.000000   \n",
       "previous_bookings_not_canceled  0.091367           0.476248   \n",
       "days_in_waiting_list            0.040817           0.012638   \n",
       "company                         0.068663           0.224729   \n",
       "previous_cancellations          0.010549           0.025757   \n",
       "\n",
       "                                previous_cancellations  \\\n",
       "label                                         0.012054   \n",
       "adults                                        0.116263   \n",
       "stays_in_weekend_nights                       0.048385   \n",
       "total_of_special_requests                     0.112144   \n",
       "children                                      0.101387   \n",
       "stays_in_week_nights                          0.105784   \n",
       "lead_time                                     0.128481   \n",
       "required_car_parking_spaces                   0.086548   \n",
       "agent                                         0.017619   \n",
       "booking_changes                               0.056233   \n",
       "babies                                        0.010549   \n",
       "is_repeated_guest                             0.025757   \n",
       "previous_bookings_not_canceled                0.032848   \n",
       "days_in_waiting_list                          0.020616   \n",
       "company                                       0.026653   \n",
       "previous_cancellations                        1.000000   \n",
       "\n",
       "                                previous_bookings_not_canceled  \\\n",
       "label                                                 0.120508   \n",
       "adults                                                0.039203   \n",
       "stays_in_weekend_nights                               0.148287   \n",
       "total_of_special_requests                             0.029098   \n",
       "children                                              0.104211   \n",
       "stays_in_week_nights                                  0.102751   \n",
       "lead_time                                             0.088290   \n",
       "required_car_parking_spaces                           0.066465   \n",
       "agent                                                 0.005433   \n",
       "booking_changes                                       0.044632   \n",
       "babies                                                0.091367   \n",
       "is_repeated_guest                                     0.476248   \n",
       "previous_bookings_not_canceled                        1.000000   \n",
       "days_in_waiting_list                                  0.007640   \n",
       "company                                               0.239803   \n",
       "previous_cancellations                                0.032848   \n",
       "\n",
       "                                booking_changes     agent   company  \\\n",
       "label                                  0.409913  0.432488  0.076464   \n",
       "adults                                 0.549339  0.624377  0.155262   \n",
       "stays_in_weekend_nights                0.259763  0.442653  0.111548   \n",
       "total_of_special_requests              0.423111  0.490732  0.001201   \n",
       "children                               0.342271  0.338233  0.108282   \n",
       "stays_in_week_nights                   0.557976  0.564633  0.240636   \n",
       "lead_time                              0.507240  0.449613  0.146675   \n",
       "required_car_parking_spaces            0.383784  0.401743  0.151457   \n",
       "agent                                  0.385253  1.000000  0.010146   \n",
       "booking_changes                        1.000000  0.385253  0.331493   \n",
       "babies                                 0.130197  0.151318  0.068663   \n",
       "is_repeated_guest                      0.009156  0.014482  0.224729   \n",
       "previous_bookings_not_canceled         0.044632  0.005433  0.239803   \n",
       "days_in_waiting_list                   0.141522  0.121016  0.011051   \n",
       "company                                0.331493  0.010146  1.000000   \n",
       "previous_cancellations                 0.056233  0.017619  0.026653   \n",
       "\n",
       "                                days_in_waiting_list  \\\n",
       "label                                       0.097123   \n",
       "adults                                      0.271310   \n",
       "stays_in_weekend_nights                     0.028835   \n",
       "total_of_special_requests                   0.068228   \n",
       "children                                    0.013109   \n",
       "stays_in_week_nights                        0.287191   \n",
       "lead_time                                   0.323660   \n",
       "required_car_parking_spaces                 0.094161   \n",
       "agent                                       0.121016   \n",
       "booking_changes                             0.141522   \n",
       "babies                                      0.040817   \n",
       "is_repeated_guest                           0.012638   \n",
       "previous_bookings_not_canceled              0.007640   \n",
       "days_in_waiting_list                        1.000000   \n",
       "company                                     0.011051   \n",
       "previous_cancellations                      0.020616   \n",
       "\n",
       "                                required_car_parking_spaces  \\\n",
       "label                                              0.458513   \n",
       "adults                                             0.480812   \n",
       "stays_in_weekend_nights                            0.272680   \n",
       "total_of_special_requests                          0.485960   \n",
       "children                                           0.487390   \n",
       "stays_in_week_nights                               0.431735   \n",
       "lead_time                                          0.307095   \n",
       "required_car_parking_spaces                        1.000000   \n",
       "agent                                              0.401743   \n",
       "booking_changes                                    0.383784   \n",
       "babies                                             0.225466   \n",
       "is_repeated_guest                                  0.006595   \n",
       "previous_bookings_not_canceled                     0.066465   \n",
       "days_in_waiting_list                               0.094161   \n",
       "company                                            0.151457   \n",
       "previous_cancellations                             0.086548   \n",
       "\n",
       "                                total_of_special_requests  \n",
       "label                                            0.626447  \n",
       "adults                                           0.636411  \n",
       "stays_in_weekend_nights                          0.458020  \n",
       "total_of_special_requests                        1.000000  \n",
       "children                                         0.600007  \n",
       "stays_in_week_nights                             0.537144  \n",
       "lead_time                                        0.464766  \n",
       "required_car_parking_spaces                      0.485960  \n",
       "agent                                            0.490732  \n",
       "booking_changes                                  0.423111  \n",
       "babies                                           0.270889  \n",
       "is_repeated_guest                                0.030378  \n",
       "previous_bookings_not_canceled                   0.029098  \n",
       "days_in_waiting_list                             0.068228  \n",
       "company                                          0.001201  \n",
       "previous_cancellations                           0.112144  "
      ]
     },
     "execution_count": 314,
     "metadata": {},
     "output_type": "execute_result"
    }
   ],
   "source": [
    "((remain_x_y.corr(method='pearson')**2)**.5)\\\n",
    "            .sort_values('label',ascending=False)"
   ]
  },
  {
   "cell_type": "code",
   "execution_count": 315,
   "metadata": {
    "scrolled": true
   },
   "outputs": [
    {
     "data": {
      "text/html": [
       "<div>\n",
       "<style scoped>\n",
       "    .dataframe tbody tr th:only-of-type {\n",
       "        vertical-align: middle;\n",
       "    }\n",
       "\n",
       "    .dataframe tbody tr th {\n",
       "        vertical-align: top;\n",
       "    }\n",
       "\n",
       "    .dataframe thead th {\n",
       "        text-align: right;\n",
       "    }\n",
       "</style>\n",
       "<table border=\"1\" class=\"dataframe\">\n",
       "  <thead>\n",
       "    <tr style=\"text-align: right;\">\n",
       "      <th></th>\n",
       "      <th>label</th>\n",
       "      <th>lead_time</th>\n",
       "      <th>stays_in_weekend_nights</th>\n",
       "      <th>stays_in_week_nights</th>\n",
       "      <th>adults</th>\n",
       "      <th>children</th>\n",
       "      <th>babies</th>\n",
       "      <th>is_repeated_guest</th>\n",
       "      <th>previous_cancellations</th>\n",
       "      <th>previous_bookings_not_canceled</th>\n",
       "      <th>booking_changes</th>\n",
       "      <th>agent</th>\n",
       "      <th>company</th>\n",
       "      <th>days_in_waiting_list</th>\n",
       "      <th>required_car_parking_spaces</th>\n",
       "      <th>total_of_special_requests</th>\n",
       "    </tr>\n",
       "  </thead>\n",
       "  <tbody>\n",
       "    <tr>\n",
       "      <th>label</th>\n",
       "      <td>1.000000</td>\n",
       "      <td>0.513087</td>\n",
       "      <td>0.633663</td>\n",
       "      <td>0.556352</td>\n",
       "      <td>0.637922</td>\n",
       "      <td>0.624413</td>\n",
       "      <td>0.347326</td>\n",
       "      <td>-0.181930</td>\n",
       "      <td>-0.012054</td>\n",
       "      <td>-0.120508</td>\n",
       "      <td>0.409913</td>\n",
       "      <td>0.432488</td>\n",
       "      <td>-0.076464</td>\n",
       "      <td>0.097123</td>\n",
       "      <td>0.458513</td>\n",
       "      <td>0.626447</td>\n",
       "    </tr>\n",
       "    <tr>\n",
       "      <th>adults</th>\n",
       "      <td>0.637922</td>\n",
       "      <td>0.809737</td>\n",
       "      <td>0.524372</td>\n",
       "      <td>0.826537</td>\n",
       "      <td>1.000000</td>\n",
       "      <td>0.439049</td>\n",
       "      <td>0.185092</td>\n",
       "      <td>-0.016638</td>\n",
       "      <td>0.116263</td>\n",
       "      <td>-0.039203</td>\n",
       "      <td>0.549339</td>\n",
       "      <td>0.624377</td>\n",
       "      <td>0.155262</td>\n",
       "      <td>0.271310</td>\n",
       "      <td>0.480812</td>\n",
       "      <td>0.636411</td>\n",
       "    </tr>\n",
       "    <tr>\n",
       "      <th>stays_in_weekend_nights</th>\n",
       "      <td>0.633663</td>\n",
       "      <td>0.342950</td>\n",
       "      <td>1.000000</td>\n",
       "      <td>0.242447</td>\n",
       "      <td>0.524372</td>\n",
       "      <td>0.375137</td>\n",
       "      <td>0.275103</td>\n",
       "      <td>-0.186849</td>\n",
       "      <td>0.048385</td>\n",
       "      <td>-0.148287</td>\n",
       "      <td>0.259763</td>\n",
       "      <td>0.442653</td>\n",
       "      <td>-0.111548</td>\n",
       "      <td>0.028835</td>\n",
       "      <td>0.272680</td>\n",
       "      <td>0.458020</td>\n",
       "    </tr>\n",
       "    <tr>\n",
       "      <th>total_of_special_requests</th>\n",
       "      <td>0.626447</td>\n",
       "      <td>0.464766</td>\n",
       "      <td>0.458020</td>\n",
       "      <td>0.537144</td>\n",
       "      <td>0.636411</td>\n",
       "      <td>0.600007</td>\n",
       "      <td>0.270889</td>\n",
       "      <td>-0.030378</td>\n",
       "      <td>-0.112144</td>\n",
       "      <td>0.029098</td>\n",
       "      <td>0.423111</td>\n",
       "      <td>0.490732</td>\n",
       "      <td>-0.001201</td>\n",
       "      <td>0.068228</td>\n",
       "      <td>0.485960</td>\n",
       "      <td>1.000000</td>\n",
       "    </tr>\n",
       "    <tr>\n",
       "      <th>children</th>\n",
       "      <td>0.624413</td>\n",
       "      <td>0.274927</td>\n",
       "      <td>0.375137</td>\n",
       "      <td>0.348007</td>\n",
       "      <td>0.439049</td>\n",
       "      <td>1.000000</td>\n",
       "      <td>0.340986</td>\n",
       "      <td>-0.153325</td>\n",
       "      <td>-0.101387</td>\n",
       "      <td>-0.104211</td>\n",
       "      <td>0.342271</td>\n",
       "      <td>0.338233</td>\n",
       "      <td>-0.108282</td>\n",
       "      <td>0.013109</td>\n",
       "      <td>0.487390</td>\n",
       "      <td>0.600007</td>\n",
       "    </tr>\n",
       "    <tr>\n",
       "      <th>stays_in_week_nights</th>\n",
       "      <td>0.556352</td>\n",
       "      <td>0.752619</td>\n",
       "      <td>0.242447</td>\n",
       "      <td>1.000000</td>\n",
       "      <td>0.826537</td>\n",
       "      <td>0.348007</td>\n",
       "      <td>0.112213</td>\n",
       "      <td>0.084009</td>\n",
       "      <td>0.105784</td>\n",
       "      <td>0.102751</td>\n",
       "      <td>0.557976</td>\n",
       "      <td>0.564633</td>\n",
       "      <td>0.240636</td>\n",
       "      <td>0.287191</td>\n",
       "      <td>0.431735</td>\n",
       "      <td>0.537144</td>\n",
       "    </tr>\n",
       "    <tr>\n",
       "      <th>lead_time</th>\n",
       "      <td>0.513087</td>\n",
       "      <td>1.000000</td>\n",
       "      <td>0.342950</td>\n",
       "      <td>0.752619</td>\n",
       "      <td>0.809737</td>\n",
       "      <td>0.274927</td>\n",
       "      <td>0.094193</td>\n",
       "      <td>-0.083254</td>\n",
       "      <td>0.128481</td>\n",
       "      <td>-0.088290</td>\n",
       "      <td>0.507240</td>\n",
       "      <td>0.449613</td>\n",
       "      <td>0.146675</td>\n",
       "      <td>0.323660</td>\n",
       "      <td>0.307095</td>\n",
       "      <td>0.464766</td>\n",
       "    </tr>\n",
       "    <tr>\n",
       "      <th>required_car_parking_spaces</th>\n",
       "      <td>0.458513</td>\n",
       "      <td>0.307095</td>\n",
       "      <td>0.272680</td>\n",
       "      <td>0.431735</td>\n",
       "      <td>0.480812</td>\n",
       "      <td>0.487390</td>\n",
       "      <td>0.225466</td>\n",
       "      <td>0.006595</td>\n",
       "      <td>-0.086548</td>\n",
       "      <td>0.066465</td>\n",
       "      <td>0.383784</td>\n",
       "      <td>0.401743</td>\n",
       "      <td>0.151457</td>\n",
       "      <td>0.094161</td>\n",
       "      <td>1.000000</td>\n",
       "      <td>0.485960</td>\n",
       "    </tr>\n",
       "    <tr>\n",
       "      <th>agent</th>\n",
       "      <td>0.432488</td>\n",
       "      <td>0.449613</td>\n",
       "      <td>0.442653</td>\n",
       "      <td>0.564633</td>\n",
       "      <td>0.624377</td>\n",
       "      <td>0.338233</td>\n",
       "      <td>0.151318</td>\n",
       "      <td>0.014482</td>\n",
       "      <td>0.017619</td>\n",
       "      <td>0.005433</td>\n",
       "      <td>0.385253</td>\n",
       "      <td>1.000000</td>\n",
       "      <td>0.010146</td>\n",
       "      <td>0.121016</td>\n",
       "      <td>0.401743</td>\n",
       "      <td>0.490732</td>\n",
       "    </tr>\n",
       "    <tr>\n",
       "      <th>booking_changes</th>\n",
       "      <td>0.409913</td>\n",
       "      <td>0.507240</td>\n",
       "      <td>0.259763</td>\n",
       "      <td>0.557976</td>\n",
       "      <td>0.549339</td>\n",
       "      <td>0.342271</td>\n",
       "      <td>0.130197</td>\n",
       "      <td>0.009156</td>\n",
       "      <td>-0.056233</td>\n",
       "      <td>0.044632</td>\n",
       "      <td>1.000000</td>\n",
       "      <td>0.385253</td>\n",
       "      <td>0.331493</td>\n",
       "      <td>0.141522</td>\n",
       "      <td>0.383784</td>\n",
       "      <td>0.423111</td>\n",
       "    </tr>\n",
       "    <tr>\n",
       "      <th>babies</th>\n",
       "      <td>0.347326</td>\n",
       "      <td>0.094193</td>\n",
       "      <td>0.275103</td>\n",
       "      <td>0.112213</td>\n",
       "      <td>0.185092</td>\n",
       "      <td>0.340986</td>\n",
       "      <td>1.000000</td>\n",
       "      <td>-0.102632</td>\n",
       "      <td>-0.010549</td>\n",
       "      <td>-0.091367</td>\n",
       "      <td>0.130197</td>\n",
       "      <td>0.151318</td>\n",
       "      <td>-0.068663</td>\n",
       "      <td>-0.040817</td>\n",
       "      <td>0.225466</td>\n",
       "      <td>0.270889</td>\n",
       "    </tr>\n",
       "    <tr>\n",
       "      <th>days_in_waiting_list</th>\n",
       "      <td>0.097123</td>\n",
       "      <td>0.323660</td>\n",
       "      <td>0.028835</td>\n",
       "      <td>0.287191</td>\n",
       "      <td>0.271310</td>\n",
       "      <td>0.013109</td>\n",
       "      <td>-0.040817</td>\n",
       "      <td>0.012638</td>\n",
       "      <td>-0.020616</td>\n",
       "      <td>0.007640</td>\n",
       "      <td>0.141522</td>\n",
       "      <td>0.121016</td>\n",
       "      <td>-0.011051</td>\n",
       "      <td>1.000000</td>\n",
       "      <td>0.094161</td>\n",
       "      <td>0.068228</td>\n",
       "    </tr>\n",
       "    <tr>\n",
       "      <th>previous_cancellations</th>\n",
       "      <td>-0.012054</td>\n",
       "      <td>0.128481</td>\n",
       "      <td>0.048385</td>\n",
       "      <td>0.105784</td>\n",
       "      <td>0.116263</td>\n",
       "      <td>-0.101387</td>\n",
       "      <td>-0.010549</td>\n",
       "      <td>0.025757</td>\n",
       "      <td>1.000000</td>\n",
       "      <td>-0.032848</td>\n",
       "      <td>-0.056233</td>\n",
       "      <td>0.017619</td>\n",
       "      <td>-0.026653</td>\n",
       "      <td>-0.020616</td>\n",
       "      <td>-0.086548</td>\n",
       "      <td>-0.112144</td>\n",
       "    </tr>\n",
       "    <tr>\n",
       "      <th>company</th>\n",
       "      <td>-0.076464</td>\n",
       "      <td>0.146675</td>\n",
       "      <td>-0.111548</td>\n",
       "      <td>0.240636</td>\n",
       "      <td>0.155262</td>\n",
       "      <td>-0.108282</td>\n",
       "      <td>-0.068663</td>\n",
       "      <td>0.224729</td>\n",
       "      <td>-0.026653</td>\n",
       "      <td>0.239803</td>\n",
       "      <td>0.331493</td>\n",
       "      <td>0.010146</td>\n",
       "      <td>1.000000</td>\n",
       "      <td>-0.011051</td>\n",
       "      <td>0.151457</td>\n",
       "      <td>-0.001201</td>\n",
       "    </tr>\n",
       "    <tr>\n",
       "      <th>previous_bookings_not_canceled</th>\n",
       "      <td>-0.120508</td>\n",
       "      <td>-0.088290</td>\n",
       "      <td>-0.148287</td>\n",
       "      <td>0.102751</td>\n",
       "      <td>-0.039203</td>\n",
       "      <td>-0.104211</td>\n",
       "      <td>-0.091367</td>\n",
       "      <td>0.476248</td>\n",
       "      <td>-0.032848</td>\n",
       "      <td>1.000000</td>\n",
       "      <td>0.044632</td>\n",
       "      <td>0.005433</td>\n",
       "      <td>0.239803</td>\n",
       "      <td>0.007640</td>\n",
       "      <td>0.066465</td>\n",
       "      <td>0.029098</td>\n",
       "    </tr>\n",
       "    <tr>\n",
       "      <th>is_repeated_guest</th>\n",
       "      <td>-0.181930</td>\n",
       "      <td>-0.083254</td>\n",
       "      <td>-0.186849</td>\n",
       "      <td>0.084009</td>\n",
       "      <td>-0.016638</td>\n",
       "      <td>-0.153325</td>\n",
       "      <td>-0.102632</td>\n",
       "      <td>1.000000</td>\n",
       "      <td>0.025757</td>\n",
       "      <td>0.476248</td>\n",
       "      <td>0.009156</td>\n",
       "      <td>0.014482</td>\n",
       "      <td>0.224729</td>\n",
       "      <td>0.012638</td>\n",
       "      <td>0.006595</td>\n",
       "      <td>-0.030378</td>\n",
       "    </tr>\n",
       "  </tbody>\n",
       "</table>\n",
       "</div>"
      ],
      "text/plain": [
       "                                   label  lead_time  stays_in_weekend_nights  \\\n",
       "label                           1.000000   0.513087                 0.633663   \n",
       "adults                          0.637922   0.809737                 0.524372   \n",
       "stays_in_weekend_nights         0.633663   0.342950                 1.000000   \n",
       "total_of_special_requests       0.626447   0.464766                 0.458020   \n",
       "children                        0.624413   0.274927                 0.375137   \n",
       "stays_in_week_nights            0.556352   0.752619                 0.242447   \n",
       "lead_time                       0.513087   1.000000                 0.342950   \n",
       "required_car_parking_spaces     0.458513   0.307095                 0.272680   \n",
       "agent                           0.432488   0.449613                 0.442653   \n",
       "booking_changes                 0.409913   0.507240                 0.259763   \n",
       "babies                          0.347326   0.094193                 0.275103   \n",
       "days_in_waiting_list            0.097123   0.323660                 0.028835   \n",
       "previous_cancellations         -0.012054   0.128481                 0.048385   \n",
       "company                        -0.076464   0.146675                -0.111548   \n",
       "previous_bookings_not_canceled -0.120508  -0.088290                -0.148287   \n",
       "is_repeated_guest              -0.181930  -0.083254                -0.186849   \n",
       "\n",
       "                                stays_in_week_nights    adults  children  \\\n",
       "label                                       0.556352  0.637922  0.624413   \n",
       "adults                                      0.826537  1.000000  0.439049   \n",
       "stays_in_weekend_nights                     0.242447  0.524372  0.375137   \n",
       "total_of_special_requests                   0.537144  0.636411  0.600007   \n",
       "children                                    0.348007  0.439049  1.000000   \n",
       "stays_in_week_nights                        1.000000  0.826537  0.348007   \n",
       "lead_time                                   0.752619  0.809737  0.274927   \n",
       "required_car_parking_spaces                 0.431735  0.480812  0.487390   \n",
       "agent                                       0.564633  0.624377  0.338233   \n",
       "booking_changes                             0.557976  0.549339  0.342271   \n",
       "babies                                      0.112213  0.185092  0.340986   \n",
       "days_in_waiting_list                        0.287191  0.271310  0.013109   \n",
       "previous_cancellations                      0.105784  0.116263 -0.101387   \n",
       "company                                     0.240636  0.155262 -0.108282   \n",
       "previous_bookings_not_canceled              0.102751 -0.039203 -0.104211   \n",
       "is_repeated_guest                           0.084009 -0.016638 -0.153325   \n",
       "\n",
       "                                  babies  is_repeated_guest  \\\n",
       "label                           0.347326          -0.181930   \n",
       "adults                          0.185092          -0.016638   \n",
       "stays_in_weekend_nights         0.275103          -0.186849   \n",
       "total_of_special_requests       0.270889          -0.030378   \n",
       "children                        0.340986          -0.153325   \n",
       "stays_in_week_nights            0.112213           0.084009   \n",
       "lead_time                       0.094193          -0.083254   \n",
       "required_car_parking_spaces     0.225466           0.006595   \n",
       "agent                           0.151318           0.014482   \n",
       "booking_changes                 0.130197           0.009156   \n",
       "babies                          1.000000          -0.102632   \n",
       "days_in_waiting_list           -0.040817           0.012638   \n",
       "previous_cancellations         -0.010549           0.025757   \n",
       "company                        -0.068663           0.224729   \n",
       "previous_bookings_not_canceled -0.091367           0.476248   \n",
       "is_repeated_guest              -0.102632           1.000000   \n",
       "\n",
       "                                previous_cancellations  \\\n",
       "label                                        -0.012054   \n",
       "adults                                        0.116263   \n",
       "stays_in_weekend_nights                       0.048385   \n",
       "total_of_special_requests                    -0.112144   \n",
       "children                                     -0.101387   \n",
       "stays_in_week_nights                          0.105784   \n",
       "lead_time                                     0.128481   \n",
       "required_car_parking_spaces                  -0.086548   \n",
       "agent                                         0.017619   \n",
       "booking_changes                              -0.056233   \n",
       "babies                                       -0.010549   \n",
       "days_in_waiting_list                         -0.020616   \n",
       "previous_cancellations                        1.000000   \n",
       "company                                      -0.026653   \n",
       "previous_bookings_not_canceled               -0.032848   \n",
       "is_repeated_guest                             0.025757   \n",
       "\n",
       "                                previous_bookings_not_canceled  \\\n",
       "label                                                -0.120508   \n",
       "adults                                               -0.039203   \n",
       "stays_in_weekend_nights                              -0.148287   \n",
       "total_of_special_requests                             0.029098   \n",
       "children                                             -0.104211   \n",
       "stays_in_week_nights                                  0.102751   \n",
       "lead_time                                            -0.088290   \n",
       "required_car_parking_spaces                           0.066465   \n",
       "agent                                                 0.005433   \n",
       "booking_changes                                       0.044632   \n",
       "babies                                               -0.091367   \n",
       "days_in_waiting_list                                  0.007640   \n",
       "previous_cancellations                               -0.032848   \n",
       "company                                               0.239803   \n",
       "previous_bookings_not_canceled                        1.000000   \n",
       "is_repeated_guest                                     0.476248   \n",
       "\n",
       "                                booking_changes     agent   company  \\\n",
       "label                                  0.409913  0.432488 -0.076464   \n",
       "adults                                 0.549339  0.624377  0.155262   \n",
       "stays_in_weekend_nights                0.259763  0.442653 -0.111548   \n",
       "total_of_special_requests              0.423111  0.490732 -0.001201   \n",
       "children                               0.342271  0.338233 -0.108282   \n",
       "stays_in_week_nights                   0.557976  0.564633  0.240636   \n",
       "lead_time                              0.507240  0.449613  0.146675   \n",
       "required_car_parking_spaces            0.383784  0.401743  0.151457   \n",
       "agent                                  0.385253  1.000000  0.010146   \n",
       "booking_changes                        1.000000  0.385253  0.331493   \n",
       "babies                                 0.130197  0.151318 -0.068663   \n",
       "days_in_waiting_list                   0.141522  0.121016 -0.011051   \n",
       "previous_cancellations                -0.056233  0.017619 -0.026653   \n",
       "company                                0.331493  0.010146  1.000000   \n",
       "previous_bookings_not_canceled         0.044632  0.005433  0.239803   \n",
       "is_repeated_guest                      0.009156  0.014482  0.224729   \n",
       "\n",
       "                                days_in_waiting_list  \\\n",
       "label                                       0.097123   \n",
       "adults                                      0.271310   \n",
       "stays_in_weekend_nights                     0.028835   \n",
       "total_of_special_requests                   0.068228   \n",
       "children                                    0.013109   \n",
       "stays_in_week_nights                        0.287191   \n",
       "lead_time                                   0.323660   \n",
       "required_car_parking_spaces                 0.094161   \n",
       "agent                                       0.121016   \n",
       "booking_changes                             0.141522   \n",
       "babies                                     -0.040817   \n",
       "days_in_waiting_list                        1.000000   \n",
       "previous_cancellations                     -0.020616   \n",
       "company                                    -0.011051   \n",
       "previous_bookings_not_canceled              0.007640   \n",
       "is_repeated_guest                           0.012638   \n",
       "\n",
       "                                required_car_parking_spaces  \\\n",
       "label                                              0.458513   \n",
       "adults                                             0.480812   \n",
       "stays_in_weekend_nights                            0.272680   \n",
       "total_of_special_requests                          0.485960   \n",
       "children                                           0.487390   \n",
       "stays_in_week_nights                               0.431735   \n",
       "lead_time                                          0.307095   \n",
       "required_car_parking_spaces                        1.000000   \n",
       "agent                                              0.401743   \n",
       "booking_changes                                    0.383784   \n",
       "babies                                             0.225466   \n",
       "days_in_waiting_list                               0.094161   \n",
       "previous_cancellations                            -0.086548   \n",
       "company                                            0.151457   \n",
       "previous_bookings_not_canceled                     0.066465   \n",
       "is_repeated_guest                                  0.006595   \n",
       "\n",
       "                                total_of_special_requests  \n",
       "label                                            0.626447  \n",
       "adults                                           0.636411  \n",
       "stays_in_weekend_nights                          0.458020  \n",
       "total_of_special_requests                        1.000000  \n",
       "children                                         0.600007  \n",
       "stays_in_week_nights                             0.537144  \n",
       "lead_time                                        0.464766  \n",
       "required_car_parking_spaces                      0.485960  \n",
       "agent                                            0.490732  \n",
       "booking_changes                                  0.423111  \n",
       "babies                                           0.270889  \n",
       "days_in_waiting_list                             0.068228  \n",
       "previous_cancellations                          -0.112144  \n",
       "company                                         -0.001201  \n",
       "previous_bookings_not_canceled                   0.029098  \n",
       "is_repeated_guest                               -0.030378  "
      ]
     },
     "execution_count": 315,
     "metadata": {},
     "output_type": "execute_result"
    }
   ],
   "source": [
    "((remain_x_y.corr(method='pearson')**1)**1)\\\n",
    "            .sort_values('label',ascending=False)"
   ]
  },
  {
   "cell_type": "code",
   "execution_count": null,
   "metadata": {},
   "outputs": [],
   "source": []
  },
  {
   "cell_type": "code",
   "execution_count": 317,
   "metadata": {},
   "outputs": [],
   "source": [
    "related_cols= [ \n",
    "        'adults',\n",
    "        'stays_in_weekend_nights',\n",
    "        'total_of_special_requests',\n",
    "        'children',\n",
    "        'stays_in_week_nights',\n",
    "        'lead_time',\n",
    "        'required_car_parking_spaces',\n",
    "        'agent',\n",
    "        'booking_changes',\n",
    "        'babies'] \n",
    "related_x = remain_x_y[related_cols]"
   ]
  },
  {
   "cell_type": "code",
   "execution_count": null,
   "metadata": {},
   "outputs": [],
   "source": []
  },
  {
   "cell_type": "code",
   "execution_count": null,
   "metadata": {},
   "outputs": [],
   "source": []
  },
  {
   "cell_type": "markdown",
   "metadata": {},
   "source": [
    "## Remaining feature for Stay_days"
   ]
  },
  {
   "cell_type": "code",
   "execution_count": 46,
   "metadata": {},
   "outputs": [],
   "source": [
    "valid_x = deepcopy(df_x)\n",
    "# valid_x = valid_x.loc[valid_x['is_canceled']==0,:].reset_index(drop=True)\n",
    "# valid_x['adr'] = abs(valid_x['adr'])\n",
    "# valid_x['adr'] = valid_x['adr'].apply(lambda x: max(0,x))\n",
    "\n"
   ]
  },
  {
   "cell_type": "code",
   "execution_count": 50,
   "metadata": {},
   "outputs": [],
   "source": [
    "date_related_cols = [ \n",
    "                    'stay_days',\n",
    "                    'hotel', \n",
    "#                     'is_canceled',\n",
    "                    'lead_time',\n",
    "                    'arrival_date_week_number',\n",
    "                    'stays_in_weekend_nights', \n",
    "                    'stays_in_week_nights',\n",
    "                    'adults',\n",
    "                    'children',\n",
    "                    'babies', \n",
    "                    'meal',\n",
    "                    'country',\n",
    "                    'market_segment',\n",
    "                    'distribution_channel',\n",
    "                    'is_repeated_guest', \n",
    "                    'previous_cancellations',\n",
    "                    'previous_bookings_not_canceled', \n",
    "                    'reserved_room_type',\n",
    "                    'assigned_room_type', \n",
    "                    'booking_changes', \n",
    "                    'deposit_type',\n",
    "                    'agent',\n",
    "                    'company', \n",
    "                    'days_in_waiting_list', \n",
    "                    'customer_type', \n",
    "#                     'adr',\n",
    "                    'required_car_parking_spaces',\n",
    "                    'total_of_special_requests',\n",
    "#                     'reservation_status',\n",
    "#                     'reservation_status_date',\n",
    "                    'arrival_date', \n",
    "#                     'sum_adr'\n",
    "]"
   ]
  },
  {
   "cell_type": "code",
   "execution_count": 51,
   "metadata": {},
   "outputs": [
    {
     "data": {
      "text/html": [
       "<div>\n",
       "<style scoped>\n",
       "    .dataframe tbody tr th:only-of-type {\n",
       "        vertical-align: middle;\n",
       "    }\n",
       "\n",
       "    .dataframe tbody tr th {\n",
       "        vertical-align: top;\n",
       "    }\n",
       "\n",
       "    .dataframe thead th {\n",
       "        text-align: right;\n",
       "    }\n",
       "</style>\n",
       "<table border=\"1\" class=\"dataframe\">\n",
       "  <thead>\n",
       "    <tr style=\"text-align: right;\">\n",
       "      <th></th>\n",
       "      <th>stay_days</th>\n",
       "      <th>lead_time</th>\n",
       "      <th>arrival_date_week_number</th>\n",
       "      <th>stays_in_weekend_nights</th>\n",
       "      <th>stays_in_week_nights</th>\n",
       "      <th>adults</th>\n",
       "      <th>children</th>\n",
       "      <th>babies</th>\n",
       "      <th>is_repeated_guest</th>\n",
       "      <th>previous_cancellations</th>\n",
       "      <th>previous_bookings_not_canceled</th>\n",
       "      <th>booking_changes</th>\n",
       "      <th>agent</th>\n",
       "      <th>company</th>\n",
       "      <th>days_in_waiting_list</th>\n",
       "      <th>required_car_parking_spaces</th>\n",
       "      <th>total_of_special_requests</th>\n",
       "    </tr>\n",
       "  </thead>\n",
       "  <tbody>\n",
       "    <tr>\n",
       "      <th>stay_days</th>\n",
       "      <td>1.000000</td>\n",
       "      <td>0.054806</td>\n",
       "      <td>0.008990</td>\n",
       "      <td>0.493316</td>\n",
       "      <td>0.591092</td>\n",
       "      <td>0.043852</td>\n",
       "      <td>0.011899</td>\n",
       "      <td>0.027962</td>\n",
       "      <td>0.052972</td>\n",
       "      <td>0.085501</td>\n",
       "      <td>0.013274</td>\n",
       "      <td>0.176687</td>\n",
       "      <td>0.156025</td>\n",
       "      <td>0.011216</td>\n",
       "      <td>0.043557</td>\n",
       "      <td>0.094056</td>\n",
       "      <td>0.191755</td>\n",
       "    </tr>\n",
       "    <tr>\n",
       "      <th>stays_in_week_nights</th>\n",
       "      <td>0.591092</td>\n",
       "      <td>0.145017</td>\n",
       "      <td>0.015237</td>\n",
       "      <td>0.517161</td>\n",
       "      <td>1.000000</td>\n",
       "      <td>0.084698</td>\n",
       "      <td>0.036939</td>\n",
       "      <td>0.016841</td>\n",
       "      <td>0.103593</td>\n",
       "      <td>0.011113</td>\n",
       "      <td>0.050100</td>\n",
       "      <td>0.103896</td>\n",
       "      <td>0.187774</td>\n",
       "      <td>0.037305</td>\n",
       "      <td>0.001383</td>\n",
       "      <td>0.026595</td>\n",
       "      <td>0.068818</td>\n",
       "    </tr>\n",
       "    <tr>\n",
       "      <th>stays_in_weekend_nights</th>\n",
       "      <td>0.493316</td>\n",
       "      <td>0.057351</td>\n",
       "      <td>0.022775</td>\n",
       "      <td>1.000000</td>\n",
       "      <td>0.517161</td>\n",
       "      <td>0.089761</td>\n",
       "      <td>0.040300</td>\n",
       "      <td>0.017438</td>\n",
       "      <td>0.092898</td>\n",
       "      <td>0.009460</td>\n",
       "      <td>0.041479</td>\n",
       "      <td>0.073775</td>\n",
       "      <td>0.150099</td>\n",
       "      <td>0.071796</td>\n",
       "      <td>0.058431</td>\n",
       "      <td>0.018331</td>\n",
       "      <td>0.075139</td>\n",
       "    </tr>\n",
       "    <tr>\n",
       "      <th>total_of_special_requests</th>\n",
       "      <td>0.191755</td>\n",
       "      <td>0.137366</td>\n",
       "      <td>0.031282</td>\n",
       "      <td>0.075139</td>\n",
       "      <td>0.068818</td>\n",
       "      <td>0.122553</td>\n",
       "      <td>0.089910</td>\n",
       "      <td>0.104010</td>\n",
       "      <td>0.001424</td>\n",
       "      <td>0.056001</td>\n",
       "      <td>0.029086</td>\n",
       "      <td>0.040245</td>\n",
       "      <td>0.067079</td>\n",
       "      <td>0.092341</td>\n",
       "      <td>0.088337</td>\n",
       "      <td>0.083928</td>\n",
       "      <td>1.000000</td>\n",
       "    </tr>\n",
       "    <tr>\n",
       "      <th>booking_changes</th>\n",
       "      <td>0.176687</td>\n",
       "      <td>0.016268</td>\n",
       "      <td>0.004075</td>\n",
       "      <td>0.073775</td>\n",
       "      <td>0.103896</td>\n",
       "      <td>0.051519</td>\n",
       "      <td>0.048040</td>\n",
       "      <td>0.080451</td>\n",
       "      <td>0.009094</td>\n",
       "      <td>0.030735</td>\n",
       "      <td>0.013024</td>\n",
       "      <td>1.000000</td>\n",
       "      <td>0.032488</td>\n",
       "      <td>0.096162</td>\n",
       "      <td>0.013164</td>\n",
       "      <td>0.060834</td>\n",
       "      <td>0.040245</td>\n",
       "    </tr>\n",
       "    <tr>\n",
       "      <th>agent</th>\n",
       "      <td>0.156025</td>\n",
       "      <td>0.060550</td>\n",
       "      <td>0.017567</td>\n",
       "      <td>0.150099</td>\n",
       "      <td>0.187774</td>\n",
       "      <td>0.018516</td>\n",
       "      <td>0.039087</td>\n",
       "      <td>0.029710</td>\n",
       "      <td>0.054154</td>\n",
       "      <td>0.015396</td>\n",
       "      <td>0.046498</td>\n",
       "      <td>0.032488</td>\n",
       "      <td>1.000000</td>\n",
       "      <td>0.119147</td>\n",
       "      <td>0.044693</td>\n",
       "      <td>0.123260</td>\n",
       "      <td>0.067079</td>\n",
       "    </tr>\n",
       "    <tr>\n",
       "      <th>required_car_parking_spaces</th>\n",
       "      <td>0.094056</td>\n",
       "      <td>0.117076</td>\n",
       "      <td>0.002775</td>\n",
       "      <td>0.018331</td>\n",
       "      <td>0.026595</td>\n",
       "      <td>0.016953</td>\n",
       "      <td>0.063271</td>\n",
       "      <td>0.032005</td>\n",
       "      <td>0.068502</td>\n",
       "      <td>0.023007</td>\n",
       "      <td>0.043570</td>\n",
       "      <td>0.060834</td>\n",
       "      <td>0.123260</td>\n",
       "      <td>0.034371</td>\n",
       "      <td>0.035900</td>\n",
       "      <td>1.000000</td>\n",
       "      <td>0.083928</td>\n",
       "    </tr>\n",
       "    <tr>\n",
       "      <th>previous_cancellations</th>\n",
       "      <td>0.085501</td>\n",
       "      <td>0.111519</td>\n",
       "      <td>0.029807</td>\n",
       "      <td>0.009460</td>\n",
       "      <td>0.011113</td>\n",
       "      <td>0.000663</td>\n",
       "      <td>0.025354</td>\n",
       "      <td>0.008460</td>\n",
       "      <td>0.073088</td>\n",
       "      <td>1.000000</td>\n",
       "      <td>0.128712</td>\n",
       "      <td>0.030735</td>\n",
       "      <td>0.015396</td>\n",
       "      <td>0.006418</td>\n",
       "      <td>0.002727</td>\n",
       "      <td>0.023007</td>\n",
       "      <td>0.056001</td>\n",
       "    </tr>\n",
       "    <tr>\n",
       "      <th>lead_time</th>\n",
       "      <td>0.054806</td>\n",
       "      <td>1.000000</td>\n",
       "      <td>0.155992</td>\n",
       "      <td>0.057351</td>\n",
       "      <td>0.145017</td>\n",
       "      <td>0.114516</td>\n",
       "      <td>0.060126</td>\n",
       "      <td>0.025167</td>\n",
       "      <td>0.117214</td>\n",
       "      <td>0.111519</td>\n",
       "      <td>0.071374</td>\n",
       "      <td>0.016268</td>\n",
       "      <td>0.060550</td>\n",
       "      <td>0.073823</td>\n",
       "      <td>0.205704</td>\n",
       "      <td>0.117076</td>\n",
       "      <td>0.137366</td>\n",
       "    </tr>\n",
       "    <tr>\n",
       "      <th>is_repeated_guest</th>\n",
       "      <td>0.052972</td>\n",
       "      <td>0.117214</td>\n",
       "      <td>0.036474</td>\n",
       "      <td>0.092898</td>\n",
       "      <td>0.103593</td>\n",
       "      <td>0.137987</td>\n",
       "      <td>0.031516</td>\n",
       "      <td>0.009471</td>\n",
       "      <td>1.000000</td>\n",
       "      <td>0.073088</td>\n",
       "      <td>0.413832</td>\n",
       "      <td>0.009094</td>\n",
       "      <td>0.054154</td>\n",
       "      <td>0.145311</td>\n",
       "      <td>0.025981</td>\n",
       "      <td>0.068502</td>\n",
       "      <td>0.001424</td>\n",
       "    </tr>\n",
       "    <tr>\n",
       "      <th>adults</th>\n",
       "      <td>0.043852</td>\n",
       "      <td>0.114516</td>\n",
       "      <td>0.029081</td>\n",
       "      <td>0.089761</td>\n",
       "      <td>0.084698</td>\n",
       "      <td>1.000000</td>\n",
       "      <td>0.030118</td>\n",
       "      <td>0.019994</td>\n",
       "      <td>0.137987</td>\n",
       "      <td>0.000663</td>\n",
       "      <td>0.104113</td>\n",
       "      <td>0.051519</td>\n",
       "      <td>0.018516</td>\n",
       "      <td>0.154378</td>\n",
       "      <td>0.003905</td>\n",
       "      <td>0.016953</td>\n",
       "      <td>0.122553</td>\n",
       "    </tr>\n",
       "    <tr>\n",
       "      <th>days_in_waiting_list</th>\n",
       "      <td>0.043557</td>\n",
       "      <td>0.205704</td>\n",
       "      <td>0.015575</td>\n",
       "      <td>0.058431</td>\n",
       "      <td>0.001383</td>\n",
       "      <td>0.003905</td>\n",
       "      <td>0.034798</td>\n",
       "      <td>0.012222</td>\n",
       "      <td>0.025981</td>\n",
       "      <td>0.002727</td>\n",
       "      <td>0.011044</td>\n",
       "      <td>0.013164</td>\n",
       "      <td>0.044693</td>\n",
       "      <td>0.028586</td>\n",
       "      <td>1.000000</td>\n",
       "      <td>0.035900</td>\n",
       "      <td>0.088337</td>\n",
       "    </tr>\n",
       "    <tr>\n",
       "      <th>babies</th>\n",
       "      <td>0.027962</td>\n",
       "      <td>0.025167</td>\n",
       "      <td>0.009022</td>\n",
       "      <td>0.017438</td>\n",
       "      <td>0.016841</td>\n",
       "      <td>0.019994</td>\n",
       "      <td>0.027087</td>\n",
       "      <td>1.000000</td>\n",
       "      <td>0.009471</td>\n",
       "      <td>0.008460</td>\n",
       "      <td>0.006843</td>\n",
       "      <td>0.080451</td>\n",
       "      <td>0.029710</td>\n",
       "      <td>0.008453</td>\n",
       "      <td>0.012222</td>\n",
       "      <td>0.032005</td>\n",
       "      <td>0.104010</td>\n",
       "    </tr>\n",
       "    <tr>\n",
       "      <th>previous_bookings_not_canceled</th>\n",
       "      <td>0.013274</td>\n",
       "      <td>0.071374</td>\n",
       "      <td>0.026496</td>\n",
       "      <td>0.041479</td>\n",
       "      <td>0.050100</td>\n",
       "      <td>0.104113</td>\n",
       "      <td>0.020663</td>\n",
       "      <td>0.006843</td>\n",
       "      <td>0.413832</td>\n",
       "      <td>0.128712</td>\n",
       "      <td>1.000000</td>\n",
       "      <td>0.013024</td>\n",
       "      <td>0.046498</td>\n",
       "      <td>0.107816</td>\n",
       "      <td>0.011044</td>\n",
       "      <td>0.043570</td>\n",
       "      <td>0.029086</td>\n",
       "    </tr>\n",
       "    <tr>\n",
       "      <th>children</th>\n",
       "      <td>0.011899</td>\n",
       "      <td>0.060126</td>\n",
       "      <td>0.000642</td>\n",
       "      <td>0.040300</td>\n",
       "      <td>0.036939</td>\n",
       "      <td>0.030118</td>\n",
       "      <td>1.000000</td>\n",
       "      <td>0.027087</td>\n",
       "      <td>0.031516</td>\n",
       "      <td>0.025354</td>\n",
       "      <td>0.020663</td>\n",
       "      <td>0.048040</td>\n",
       "      <td>0.039087</td>\n",
       "      <td>0.041981</td>\n",
       "      <td>0.034798</td>\n",
       "      <td>0.063271</td>\n",
       "      <td>0.089910</td>\n",
       "    </tr>\n",
       "    <tr>\n",
       "      <th>company</th>\n",
       "      <td>0.011216</td>\n",
       "      <td>0.073823</td>\n",
       "      <td>0.029201</td>\n",
       "      <td>0.071796</td>\n",
       "      <td>0.037305</td>\n",
       "      <td>0.154378</td>\n",
       "      <td>0.041981</td>\n",
       "      <td>0.008453</td>\n",
       "      <td>0.145311</td>\n",
       "      <td>0.006418</td>\n",
       "      <td>0.107816</td>\n",
       "      <td>0.096162</td>\n",
       "      <td>0.119147</td>\n",
       "      <td>1.000000</td>\n",
       "      <td>0.028586</td>\n",
       "      <td>0.034371</td>\n",
       "      <td>0.092341</td>\n",
       "    </tr>\n",
       "    <tr>\n",
       "      <th>arrival_date_week_number</th>\n",
       "      <td>0.008990</td>\n",
       "      <td>0.155992</td>\n",
       "      <td>1.000000</td>\n",
       "      <td>0.022775</td>\n",
       "      <td>0.015237</td>\n",
       "      <td>0.029081</td>\n",
       "      <td>0.000642</td>\n",
       "      <td>0.009022</td>\n",
       "      <td>0.036474</td>\n",
       "      <td>0.029807</td>\n",
       "      <td>0.026496</td>\n",
       "      <td>0.004075</td>\n",
       "      <td>0.017567</td>\n",
       "      <td>0.029201</td>\n",
       "      <td>0.015575</td>\n",
       "      <td>0.002775</td>\n",
       "      <td>0.031282</td>\n",
       "    </tr>\n",
       "  </tbody>\n",
       "</table>\n",
       "</div>"
      ],
      "text/plain": [
       "                                stay_days  lead_time  \\\n",
       "stay_days                        1.000000   0.054806   \n",
       "stays_in_week_nights             0.591092   0.145017   \n",
       "stays_in_weekend_nights          0.493316   0.057351   \n",
       "total_of_special_requests        0.191755   0.137366   \n",
       "booking_changes                  0.176687   0.016268   \n",
       "agent                            0.156025   0.060550   \n",
       "required_car_parking_spaces      0.094056   0.117076   \n",
       "previous_cancellations           0.085501   0.111519   \n",
       "lead_time                        0.054806   1.000000   \n",
       "is_repeated_guest                0.052972   0.117214   \n",
       "adults                           0.043852   0.114516   \n",
       "days_in_waiting_list             0.043557   0.205704   \n",
       "babies                           0.027962   0.025167   \n",
       "previous_bookings_not_canceled   0.013274   0.071374   \n",
       "children                         0.011899   0.060126   \n",
       "company                          0.011216   0.073823   \n",
       "arrival_date_week_number         0.008990   0.155992   \n",
       "\n",
       "                                arrival_date_week_number  \\\n",
       "stay_days                                       0.008990   \n",
       "stays_in_week_nights                            0.015237   \n",
       "stays_in_weekend_nights                         0.022775   \n",
       "total_of_special_requests                       0.031282   \n",
       "booking_changes                                 0.004075   \n",
       "agent                                           0.017567   \n",
       "required_car_parking_spaces                     0.002775   \n",
       "previous_cancellations                          0.029807   \n",
       "lead_time                                       0.155992   \n",
       "is_repeated_guest                               0.036474   \n",
       "adults                                          0.029081   \n",
       "days_in_waiting_list                            0.015575   \n",
       "babies                                          0.009022   \n",
       "previous_bookings_not_canceled                  0.026496   \n",
       "children                                        0.000642   \n",
       "company                                         0.029201   \n",
       "arrival_date_week_number                        1.000000   \n",
       "\n",
       "                                stays_in_weekend_nights  stays_in_week_nights  \\\n",
       "stay_days                                      0.493316              0.591092   \n",
       "stays_in_week_nights                           0.517161              1.000000   \n",
       "stays_in_weekend_nights                        1.000000              0.517161   \n",
       "total_of_special_requests                      0.075139              0.068818   \n",
       "booking_changes                                0.073775              0.103896   \n",
       "agent                                          0.150099              0.187774   \n",
       "required_car_parking_spaces                    0.018331              0.026595   \n",
       "previous_cancellations                         0.009460              0.011113   \n",
       "lead_time                                      0.057351              0.145017   \n",
       "is_repeated_guest                              0.092898              0.103593   \n",
       "adults                                         0.089761              0.084698   \n",
       "days_in_waiting_list                           0.058431              0.001383   \n",
       "babies                                         0.017438              0.016841   \n",
       "previous_bookings_not_canceled                 0.041479              0.050100   \n",
       "children                                       0.040300              0.036939   \n",
       "company                                        0.071796              0.037305   \n",
       "arrival_date_week_number                       0.022775              0.015237   \n",
       "\n",
       "                                  adults  children    babies  \\\n",
       "stay_days                       0.043852  0.011899  0.027962   \n",
       "stays_in_week_nights            0.084698  0.036939  0.016841   \n",
       "stays_in_weekend_nights         0.089761  0.040300  0.017438   \n",
       "total_of_special_requests       0.122553  0.089910  0.104010   \n",
       "booking_changes                 0.051519  0.048040  0.080451   \n",
       "agent                           0.018516  0.039087  0.029710   \n",
       "required_car_parking_spaces     0.016953  0.063271  0.032005   \n",
       "previous_cancellations          0.000663  0.025354  0.008460   \n",
       "lead_time                       0.114516  0.060126  0.025167   \n",
       "is_repeated_guest               0.137987  0.031516  0.009471   \n",
       "adults                          1.000000  0.030118  0.019994   \n",
       "days_in_waiting_list            0.003905  0.034798  0.012222   \n",
       "babies                          0.019994  0.027087  1.000000   \n",
       "previous_bookings_not_canceled  0.104113  0.020663  0.006843   \n",
       "children                        0.030118  1.000000  0.027087   \n",
       "company                         0.154378  0.041981  0.008453   \n",
       "arrival_date_week_number        0.029081  0.000642  0.009022   \n",
       "\n",
       "                                is_repeated_guest  previous_cancellations  \\\n",
       "stay_days                                0.052972                0.085501   \n",
       "stays_in_week_nights                     0.103593                0.011113   \n",
       "stays_in_weekend_nights                  0.092898                0.009460   \n",
       "total_of_special_requests                0.001424                0.056001   \n",
       "booking_changes                          0.009094                0.030735   \n",
       "agent                                    0.054154                0.015396   \n",
       "required_car_parking_spaces              0.068502                0.023007   \n",
       "previous_cancellations                   0.073088                1.000000   \n",
       "lead_time                                0.117214                0.111519   \n",
       "is_repeated_guest                        1.000000                0.073088   \n",
       "adults                                   0.137987                0.000663   \n",
       "days_in_waiting_list                     0.025981                0.002727   \n",
       "babies                                   0.009471                0.008460   \n",
       "previous_bookings_not_canceled           0.413832                0.128712   \n",
       "children                                 0.031516                0.025354   \n",
       "company                                  0.145311                0.006418   \n",
       "arrival_date_week_number                 0.036474                0.029807   \n",
       "\n",
       "                                previous_bookings_not_canceled  \\\n",
       "stay_days                                             0.013274   \n",
       "stays_in_week_nights                                  0.050100   \n",
       "stays_in_weekend_nights                               0.041479   \n",
       "total_of_special_requests                             0.029086   \n",
       "booking_changes                                       0.013024   \n",
       "agent                                                 0.046498   \n",
       "required_car_parking_spaces                           0.043570   \n",
       "previous_cancellations                                0.128712   \n",
       "lead_time                                             0.071374   \n",
       "is_repeated_guest                                     0.413832   \n",
       "adults                                                0.104113   \n",
       "days_in_waiting_list                                  0.011044   \n",
       "babies                                                0.006843   \n",
       "previous_bookings_not_canceled                        1.000000   \n",
       "children                                              0.020663   \n",
       "company                                               0.107816   \n",
       "arrival_date_week_number                              0.026496   \n",
       "\n",
       "                                booking_changes     agent   company  \\\n",
       "stay_days                              0.176687  0.156025  0.011216   \n",
       "stays_in_week_nights                   0.103896  0.187774  0.037305   \n",
       "stays_in_weekend_nights                0.073775  0.150099  0.071796   \n",
       "total_of_special_requests              0.040245  0.067079  0.092341   \n",
       "booking_changes                        1.000000  0.032488  0.096162   \n",
       "agent                                  0.032488  1.000000  0.119147   \n",
       "required_car_parking_spaces            0.060834  0.123260  0.034371   \n",
       "previous_cancellations                 0.030735  0.015396  0.006418   \n",
       "lead_time                              0.016268  0.060550  0.073823   \n",
       "is_repeated_guest                      0.009094  0.054154  0.145311   \n",
       "adults                                 0.051519  0.018516  0.154378   \n",
       "days_in_waiting_list                   0.013164  0.044693  0.028586   \n",
       "babies                                 0.080451  0.029710  0.008453   \n",
       "previous_bookings_not_canceled         0.013024  0.046498  0.107816   \n",
       "children                               0.048040  0.039087  0.041981   \n",
       "company                                0.096162  0.119147  1.000000   \n",
       "arrival_date_week_number               0.004075  0.017567  0.029201   \n",
       "\n",
       "                                days_in_waiting_list  \\\n",
       "stay_days                                   0.043557   \n",
       "stays_in_week_nights                        0.001383   \n",
       "stays_in_weekend_nights                     0.058431   \n",
       "total_of_special_requests                   0.088337   \n",
       "booking_changes                             0.013164   \n",
       "agent                                       0.044693   \n",
       "required_car_parking_spaces                 0.035900   \n",
       "previous_cancellations                      0.002727   \n",
       "lead_time                                   0.205704   \n",
       "is_repeated_guest                           0.025981   \n",
       "adults                                      0.003905   \n",
       "days_in_waiting_list                        1.000000   \n",
       "babies                                      0.012222   \n",
       "previous_bookings_not_canceled              0.011044   \n",
       "children                                    0.034798   \n",
       "company                                     0.028586   \n",
       "arrival_date_week_number                    0.015575   \n",
       "\n",
       "                                required_car_parking_spaces  \\\n",
       "stay_days                                          0.094056   \n",
       "stays_in_week_nights                               0.026595   \n",
       "stays_in_weekend_nights                            0.018331   \n",
       "total_of_special_requests                          0.083928   \n",
       "booking_changes                                    0.060834   \n",
       "agent                                              0.123260   \n",
       "required_car_parking_spaces                        1.000000   \n",
       "previous_cancellations                             0.023007   \n",
       "lead_time                                          0.117076   \n",
       "is_repeated_guest                                  0.068502   \n",
       "adults                                             0.016953   \n",
       "days_in_waiting_list                               0.035900   \n",
       "babies                                             0.032005   \n",
       "previous_bookings_not_canceled                     0.043570   \n",
       "children                                           0.063271   \n",
       "company                                            0.034371   \n",
       "arrival_date_week_number                           0.002775   \n",
       "\n",
       "                                total_of_special_requests  \n",
       "stay_days                                        0.191755  \n",
       "stays_in_week_nights                             0.068818  \n",
       "stays_in_weekend_nights                          0.075139  \n",
       "total_of_special_requests                        1.000000  \n",
       "booking_changes                                  0.040245  \n",
       "agent                                            0.067079  \n",
       "required_car_parking_spaces                      0.083928  \n",
       "previous_cancellations                           0.056001  \n",
       "lead_time                                        0.137366  \n",
       "is_repeated_guest                                0.001424  \n",
       "adults                                           0.122553  \n",
       "days_in_waiting_list                             0.088337  \n",
       "babies                                           0.104010  \n",
       "previous_bookings_not_canceled                   0.029086  \n",
       "children                                         0.089910  \n",
       "company                                          0.092341  \n",
       "arrival_date_week_number                         0.031282  "
      ]
     },
     "execution_count": 51,
     "metadata": {},
     "output_type": "execute_result"
    }
   ],
   "source": [
    "date_related = valid_x[date_related_cols]\n",
    "\n",
    "((date_related.corr(method='pearson')**2)**.5)\\\n",
    "            .sort_values('stay_days',ascending=False)"
   ]
  },
  {
   "cell_type": "code",
   "execution_count": 404,
   "metadata": {},
   "outputs": [],
   "source": [
    "top_related_cols = ['lead_time',\n",
    "                    'total_of_special_requests',\n",
    "                    'previous_cancellations',\n",
    "                    'agent',\n",
    "                    'required_car_parking_spaces',\n",
    "                    'booking_changes']"
   ]
  },
  {
   "cell_type": "code",
   "execution_count": 402,
   "metadata": {
    "scrolled": true
   },
   "outputs": [
    {
     "data": {
      "text/html": [
       "<div>\n",
       "<style scoped>\n",
       "    .dataframe tbody tr th:only-of-type {\n",
       "        vertical-align: middle;\n",
       "    }\n",
       "\n",
       "    .dataframe tbody tr th {\n",
       "        vertical-align: top;\n",
       "    }\n",
       "\n",
       "    .dataframe thead th {\n",
       "        text-align: right;\n",
       "    }\n",
       "</style>\n",
       "<table border=\"1\" class=\"dataframe\">\n",
       "  <thead>\n",
       "    <tr style=\"text-align: right;\">\n",
       "      <th></th>\n",
       "      <th>date_range</th>\n",
       "      <th>lead_time</th>\n",
       "      <th>arrival_date_week_number</th>\n",
       "      <th>stays_in_weekend_nights</th>\n",
       "      <th>stays_in_week_nights</th>\n",
       "      <th>adults</th>\n",
       "      <th>children</th>\n",
       "      <th>babies</th>\n",
       "      <th>is_repeated_guest</th>\n",
       "      <th>previous_cancellations</th>\n",
       "      <th>previous_bookings_not_canceled</th>\n",
       "      <th>booking_changes</th>\n",
       "      <th>agent</th>\n",
       "      <th>company</th>\n",
       "      <th>days_in_waiting_list</th>\n",
       "      <th>required_car_parking_spaces</th>\n",
       "      <th>total_of_special_requests</th>\n",
       "    </tr>\n",
       "  </thead>\n",
       "  <tbody>\n",
       "    <tr>\n",
       "      <th>date_range</th>\n",
       "      <td>1.000000</td>\n",
       "      <td>-0.619249</td>\n",
       "      <td>-0.070563</td>\n",
       "      <td>0.080944</td>\n",
       "      <td>0.009283</td>\n",
       "      <td>-0.071434</td>\n",
       "      <td>0.036163</td>\n",
       "      <td>0.023896</td>\n",
       "      <td>0.020217</td>\n",
       "      <td>-0.140024</td>\n",
       "      <td>0.036299</td>\n",
       "      <td>0.113867</td>\n",
       "      <td>0.125809</td>\n",
       "      <td>0.005578</td>\n",
       "      <td>-0.050100</td>\n",
       "      <td>0.114044</td>\n",
       "      <td>0.210708</td>\n",
       "    </tr>\n",
       "    <tr>\n",
       "      <th>total_of_special_requests</th>\n",
       "      <td>0.210708</td>\n",
       "      <td>-0.137366</td>\n",
       "      <td>0.031282</td>\n",
       "      <td>0.075139</td>\n",
       "      <td>0.068818</td>\n",
       "      <td>0.122553</td>\n",
       "      <td>0.089923</td>\n",
       "      <td>0.104010</td>\n",
       "      <td>0.001424</td>\n",
       "      <td>-0.056001</td>\n",
       "      <td>0.029086</td>\n",
       "      <td>0.040245</td>\n",
       "      <td>0.043028</td>\n",
       "      <td>-0.085697</td>\n",
       "      <td>-0.088337</td>\n",
       "      <td>0.083928</td>\n",
       "      <td>1.000000</td>\n",
       "    </tr>\n",
       "    <tr>\n",
       "      <th>agent</th>\n",
       "      <td>0.125809</td>\n",
       "      <td>-0.125697</td>\n",
       "      <td>-0.031241</td>\n",
       "      <td>0.126642</td>\n",
       "      <td>0.173179</td>\n",
       "      <td>-0.039348</td>\n",
       "      <td>0.030731</td>\n",
       "      <td>0.036703</td>\n",
       "      <td>0.024725</td>\n",
       "      <td>-0.011313</td>\n",
       "      <td>0.021735</td>\n",
       "      <td>0.068828</td>\n",
       "      <td>1.000000</td>\n",
       "      <td>0.430367</td>\n",
       "      <td>-0.062414</td>\n",
       "      <td>0.186292</td>\n",
       "      <td>0.043028</td>\n",
       "    </tr>\n",
       "    <tr>\n",
       "      <th>required_car_parking_spaces</th>\n",
       "      <td>0.114044</td>\n",
       "      <td>-0.117076</td>\n",
       "      <td>-0.002775</td>\n",
       "      <td>-0.018331</td>\n",
       "      <td>-0.026595</td>\n",
       "      <td>0.016953</td>\n",
       "      <td>0.063268</td>\n",
       "      <td>0.032005</td>\n",
       "      <td>0.068502</td>\n",
       "      <td>-0.023007</td>\n",
       "      <td>0.043570</td>\n",
       "      <td>0.060834</td>\n",
       "      <td>0.186292</td>\n",
       "      <td>-0.010881</td>\n",
       "      <td>-0.035900</td>\n",
       "      <td>1.000000</td>\n",
       "      <td>0.083928</td>\n",
       "    </tr>\n",
       "    <tr>\n",
       "      <th>booking_changes</th>\n",
       "      <td>0.113867</td>\n",
       "      <td>-0.016268</td>\n",
       "      <td>0.004075</td>\n",
       "      <td>0.073775</td>\n",
       "      <td>0.103896</td>\n",
       "      <td>-0.051519</td>\n",
       "      <td>0.048037</td>\n",
       "      <td>0.080451</td>\n",
       "      <td>0.009094</td>\n",
       "      <td>-0.030735</td>\n",
       "      <td>0.013024</td>\n",
       "      <td>1.000000</td>\n",
       "      <td>0.068828</td>\n",
       "      <td>0.129543</td>\n",
       "      <td>-0.013164</td>\n",
       "      <td>0.060834</td>\n",
       "      <td>0.040245</td>\n",
       "    </tr>\n",
       "    <tr>\n",
       "      <th>stays_in_weekend_nights</th>\n",
       "      <td>0.080944</td>\n",
       "      <td>0.057351</td>\n",
       "      <td>0.022775</td>\n",
       "      <td>1.000000</td>\n",
       "      <td>0.517161</td>\n",
       "      <td>0.089761</td>\n",
       "      <td>0.040299</td>\n",
       "      <td>0.017438</td>\n",
       "      <td>-0.092898</td>\n",
       "      <td>-0.009460</td>\n",
       "      <td>-0.041479</td>\n",
       "      <td>0.073775</td>\n",
       "      <td>0.126642</td>\n",
       "      <td>0.097765</td>\n",
       "      <td>-0.058431</td>\n",
       "      <td>-0.018331</td>\n",
       "      <td>0.075139</td>\n",
       "    </tr>\n",
       "    <tr>\n",
       "      <th>previous_bookings_not_canceled</th>\n",
       "      <td>0.036299</td>\n",
       "      <td>-0.071374</td>\n",
       "      <td>-0.026496</td>\n",
       "      <td>-0.041479</td>\n",
       "      <td>-0.050100</td>\n",
       "      <td>-0.104113</td>\n",
       "      <td>-0.020664</td>\n",
       "      <td>-0.006843</td>\n",
       "      <td>0.413832</td>\n",
       "      <td>0.128712</td>\n",
       "      <td>1.000000</td>\n",
       "      <td>0.013024</td>\n",
       "      <td>0.021735</td>\n",
       "      <td>-0.203653</td>\n",
       "      <td>-0.011044</td>\n",
       "      <td>0.043570</td>\n",
       "      <td>0.029086</td>\n",
       "    </tr>\n",
       "    <tr>\n",
       "      <th>children</th>\n",
       "      <td>0.036163</td>\n",
       "      <td>-0.060137</td>\n",
       "      <td>-0.000639</td>\n",
       "      <td>0.040299</td>\n",
       "      <td>0.036938</td>\n",
       "      <td>0.030126</td>\n",
       "      <td>1.000000</td>\n",
       "      <td>0.027086</td>\n",
       "      <td>-0.031518</td>\n",
       "      <td>-0.025355</td>\n",
       "      <td>-0.020664</td>\n",
       "      <td>0.048037</td>\n",
       "      <td>0.030731</td>\n",
       "      <td>0.035497</td>\n",
       "      <td>-0.034799</td>\n",
       "      <td>0.063268</td>\n",
       "      <td>0.089923</td>\n",
       "    </tr>\n",
       "    <tr>\n",
       "      <th>babies</th>\n",
       "      <td>0.023896</td>\n",
       "      <td>-0.025167</td>\n",
       "      <td>0.009022</td>\n",
       "      <td>0.017438</td>\n",
       "      <td>0.016841</td>\n",
       "      <td>0.019994</td>\n",
       "      <td>0.027086</td>\n",
       "      <td>1.000000</td>\n",
       "      <td>-0.009471</td>\n",
       "      <td>-0.008460</td>\n",
       "      <td>-0.006843</td>\n",
       "      <td>0.080451</td>\n",
       "      <td>0.036703</td>\n",
       "      <td>0.024929</td>\n",
       "      <td>-0.012222</td>\n",
       "      <td>0.032005</td>\n",
       "      <td>0.104010</td>\n",
       "    </tr>\n",
       "    <tr>\n",
       "      <th>is_repeated_guest</th>\n",
       "      <td>0.020217</td>\n",
       "      <td>-0.117214</td>\n",
       "      <td>-0.036474</td>\n",
       "      <td>-0.092898</td>\n",
       "      <td>-0.103593</td>\n",
       "      <td>-0.137987</td>\n",
       "      <td>-0.031518</td>\n",
       "      <td>-0.009471</td>\n",
       "      <td>1.000000</td>\n",
       "      <td>0.073088</td>\n",
       "      <td>0.413832</td>\n",
       "      <td>0.009094</td>\n",
       "      <td>0.024725</td>\n",
       "      <td>-0.237287</td>\n",
       "      <td>-0.025981</td>\n",
       "      <td>0.068502</td>\n",
       "      <td>0.001424</td>\n",
       "    </tr>\n",
       "    <tr>\n",
       "      <th>stays_in_week_nights</th>\n",
       "      <td>0.009283</td>\n",
       "      <td>0.145017</td>\n",
       "      <td>0.015237</td>\n",
       "      <td>0.517161</td>\n",
       "      <td>1.000000</td>\n",
       "      <td>0.084698</td>\n",
       "      <td>0.036938</td>\n",
       "      <td>0.016841</td>\n",
       "      <td>-0.103593</td>\n",
       "      <td>-0.011113</td>\n",
       "      <td>-0.050100</td>\n",
       "      <td>0.103896</td>\n",
       "      <td>0.173179</td>\n",
       "      <td>0.191097</td>\n",
       "      <td>0.001383</td>\n",
       "      <td>-0.026595</td>\n",
       "      <td>0.068818</td>\n",
       "    </tr>\n",
       "    <tr>\n",
       "      <th>company</th>\n",
       "      <td>0.005578</td>\n",
       "      <td>0.151244</td>\n",
       "      <td>-0.057809</td>\n",
       "      <td>0.097765</td>\n",
       "      <td>0.191097</td>\n",
       "      <td>0.219433</td>\n",
       "      <td>0.035497</td>\n",
       "      <td>0.024929</td>\n",
       "      <td>-0.237287</td>\n",
       "      <td>-0.173977</td>\n",
       "      <td>-0.203653</td>\n",
       "      <td>0.129543</td>\n",
       "      <td>0.430367</td>\n",
       "      <td>1.000000</td>\n",
       "      <td>-0.007491</td>\n",
       "      <td>-0.010881</td>\n",
       "      <td>-0.085697</td>\n",
       "    </tr>\n",
       "    <tr>\n",
       "      <th>days_in_waiting_list</th>\n",
       "      <td>-0.050100</td>\n",
       "      <td>0.205704</td>\n",
       "      <td>0.015575</td>\n",
       "      <td>-0.058431</td>\n",
       "      <td>0.001383</td>\n",
       "      <td>-0.003905</td>\n",
       "      <td>-0.034799</td>\n",
       "      <td>-0.012222</td>\n",
       "      <td>-0.025981</td>\n",
       "      <td>0.002727</td>\n",
       "      <td>-0.011044</td>\n",
       "      <td>-0.013164</td>\n",
       "      <td>-0.062414</td>\n",
       "      <td>-0.007491</td>\n",
       "      <td>1.000000</td>\n",
       "      <td>-0.035900</td>\n",
       "      <td>-0.088337</td>\n",
       "    </tr>\n",
       "    <tr>\n",
       "      <th>arrival_date_week_number</th>\n",
       "      <td>-0.070563</td>\n",
       "      <td>0.155992</td>\n",
       "      <td>1.000000</td>\n",
       "      <td>0.022775</td>\n",
       "      <td>0.015237</td>\n",
       "      <td>0.029081</td>\n",
       "      <td>-0.000639</td>\n",
       "      <td>0.009022</td>\n",
       "      <td>-0.036474</td>\n",
       "      <td>0.029807</td>\n",
       "      <td>-0.026496</td>\n",
       "      <td>0.004075</td>\n",
       "      <td>-0.031241</td>\n",
       "      <td>-0.057809</td>\n",
       "      <td>0.015575</td>\n",
       "      <td>-0.002775</td>\n",
       "      <td>0.031282</td>\n",
       "    </tr>\n",
       "    <tr>\n",
       "      <th>adults</th>\n",
       "      <td>-0.071434</td>\n",
       "      <td>0.114516</td>\n",
       "      <td>0.029081</td>\n",
       "      <td>0.089761</td>\n",
       "      <td>0.084698</td>\n",
       "      <td>1.000000</td>\n",
       "      <td>0.030126</td>\n",
       "      <td>0.019994</td>\n",
       "      <td>-0.137987</td>\n",
       "      <td>0.000663</td>\n",
       "      <td>-0.104113</td>\n",
       "      <td>-0.051519</td>\n",
       "      <td>-0.039348</td>\n",
       "      <td>0.219433</td>\n",
       "      <td>-0.003905</td>\n",
       "      <td>0.016953</td>\n",
       "      <td>0.122553</td>\n",
       "    </tr>\n",
       "    <tr>\n",
       "      <th>previous_cancellations</th>\n",
       "      <td>-0.140024</td>\n",
       "      <td>0.111519</td>\n",
       "      <td>0.029807</td>\n",
       "      <td>-0.009460</td>\n",
       "      <td>-0.011113</td>\n",
       "      <td>0.000663</td>\n",
       "      <td>-0.025355</td>\n",
       "      <td>-0.008460</td>\n",
       "      <td>0.073088</td>\n",
       "      <td>1.000000</td>\n",
       "      <td>0.128712</td>\n",
       "      <td>-0.030735</td>\n",
       "      <td>-0.011313</td>\n",
       "      <td>-0.173977</td>\n",
       "      <td>0.002727</td>\n",
       "      <td>-0.023007</td>\n",
       "      <td>-0.056001</td>\n",
       "    </tr>\n",
       "    <tr>\n",
       "      <th>lead_time</th>\n",
       "      <td>-0.619249</td>\n",
       "      <td>1.000000</td>\n",
       "      <td>0.155992</td>\n",
       "      <td>0.057351</td>\n",
       "      <td>0.145017</td>\n",
       "      <td>0.114516</td>\n",
       "      <td>-0.060137</td>\n",
       "      <td>-0.025167</td>\n",
       "      <td>-0.117214</td>\n",
       "      <td>0.111519</td>\n",
       "      <td>-0.071374</td>\n",
       "      <td>-0.016268</td>\n",
       "      <td>-0.125697</td>\n",
       "      <td>0.151244</td>\n",
       "      <td>0.205704</td>\n",
       "      <td>-0.117076</td>\n",
       "      <td>-0.137366</td>\n",
       "    </tr>\n",
       "  </tbody>\n",
       "</table>\n",
       "</div>"
      ],
      "text/plain": [
       "                                date_range  lead_time  \\\n",
       "date_range                        1.000000  -0.619249   \n",
       "total_of_special_requests         0.210708  -0.137366   \n",
       "agent                             0.125809  -0.125697   \n",
       "required_car_parking_spaces       0.114044  -0.117076   \n",
       "booking_changes                   0.113867  -0.016268   \n",
       "stays_in_weekend_nights           0.080944   0.057351   \n",
       "previous_bookings_not_canceled    0.036299  -0.071374   \n",
       "children                          0.036163  -0.060137   \n",
       "babies                            0.023896  -0.025167   \n",
       "is_repeated_guest                 0.020217  -0.117214   \n",
       "stays_in_week_nights              0.009283   0.145017   \n",
       "company                           0.005578   0.151244   \n",
       "days_in_waiting_list             -0.050100   0.205704   \n",
       "arrival_date_week_number         -0.070563   0.155992   \n",
       "adults                           -0.071434   0.114516   \n",
       "previous_cancellations           -0.140024   0.111519   \n",
       "lead_time                        -0.619249   1.000000   \n",
       "\n",
       "                                arrival_date_week_number  \\\n",
       "date_range                                     -0.070563   \n",
       "total_of_special_requests                       0.031282   \n",
       "agent                                          -0.031241   \n",
       "required_car_parking_spaces                    -0.002775   \n",
       "booking_changes                                 0.004075   \n",
       "stays_in_weekend_nights                         0.022775   \n",
       "previous_bookings_not_canceled                 -0.026496   \n",
       "children                                       -0.000639   \n",
       "babies                                          0.009022   \n",
       "is_repeated_guest                              -0.036474   \n",
       "stays_in_week_nights                            0.015237   \n",
       "company                                        -0.057809   \n",
       "days_in_waiting_list                            0.015575   \n",
       "arrival_date_week_number                        1.000000   \n",
       "adults                                          0.029081   \n",
       "previous_cancellations                          0.029807   \n",
       "lead_time                                       0.155992   \n",
       "\n",
       "                                stays_in_weekend_nights  stays_in_week_nights  \\\n",
       "date_range                                     0.080944              0.009283   \n",
       "total_of_special_requests                      0.075139              0.068818   \n",
       "agent                                          0.126642              0.173179   \n",
       "required_car_parking_spaces                   -0.018331             -0.026595   \n",
       "booking_changes                                0.073775              0.103896   \n",
       "stays_in_weekend_nights                        1.000000              0.517161   \n",
       "previous_bookings_not_canceled                -0.041479             -0.050100   \n",
       "children                                       0.040299              0.036938   \n",
       "babies                                         0.017438              0.016841   \n",
       "is_repeated_guest                             -0.092898             -0.103593   \n",
       "stays_in_week_nights                           0.517161              1.000000   \n",
       "company                                        0.097765              0.191097   \n",
       "days_in_waiting_list                          -0.058431              0.001383   \n",
       "arrival_date_week_number                       0.022775              0.015237   \n",
       "adults                                         0.089761              0.084698   \n",
       "previous_cancellations                        -0.009460             -0.011113   \n",
       "lead_time                                      0.057351              0.145017   \n",
       "\n",
       "                                  adults  children    babies  \\\n",
       "date_range                     -0.071434  0.036163  0.023896   \n",
       "total_of_special_requests       0.122553  0.089923  0.104010   \n",
       "agent                          -0.039348  0.030731  0.036703   \n",
       "required_car_parking_spaces     0.016953  0.063268  0.032005   \n",
       "booking_changes                -0.051519  0.048037  0.080451   \n",
       "stays_in_weekend_nights         0.089761  0.040299  0.017438   \n",
       "previous_bookings_not_canceled -0.104113 -0.020664 -0.006843   \n",
       "children                        0.030126  1.000000  0.027086   \n",
       "babies                          0.019994  0.027086  1.000000   \n",
       "is_repeated_guest              -0.137987 -0.031518 -0.009471   \n",
       "stays_in_week_nights            0.084698  0.036938  0.016841   \n",
       "company                         0.219433  0.035497  0.024929   \n",
       "days_in_waiting_list           -0.003905 -0.034799 -0.012222   \n",
       "arrival_date_week_number        0.029081 -0.000639  0.009022   \n",
       "adults                          1.000000  0.030126  0.019994   \n",
       "previous_cancellations          0.000663 -0.025355 -0.008460   \n",
       "lead_time                       0.114516 -0.060137 -0.025167   \n",
       "\n",
       "                                is_repeated_guest  previous_cancellations  \\\n",
       "date_range                               0.020217               -0.140024   \n",
       "total_of_special_requests                0.001424               -0.056001   \n",
       "agent                                    0.024725               -0.011313   \n",
       "required_car_parking_spaces              0.068502               -0.023007   \n",
       "booking_changes                          0.009094               -0.030735   \n",
       "stays_in_weekend_nights                 -0.092898               -0.009460   \n",
       "previous_bookings_not_canceled           0.413832                0.128712   \n",
       "children                                -0.031518               -0.025355   \n",
       "babies                                  -0.009471               -0.008460   \n",
       "is_repeated_guest                        1.000000                0.073088   \n",
       "stays_in_week_nights                    -0.103593               -0.011113   \n",
       "company                                 -0.237287               -0.173977   \n",
       "days_in_waiting_list                    -0.025981                0.002727   \n",
       "arrival_date_week_number                -0.036474                0.029807   \n",
       "adults                                  -0.137987                0.000663   \n",
       "previous_cancellations                   0.073088                1.000000   \n",
       "lead_time                               -0.117214                0.111519   \n",
       "\n",
       "                                previous_bookings_not_canceled  \\\n",
       "date_range                                            0.036299   \n",
       "total_of_special_requests                             0.029086   \n",
       "agent                                                 0.021735   \n",
       "required_car_parking_spaces                           0.043570   \n",
       "booking_changes                                       0.013024   \n",
       "stays_in_weekend_nights                              -0.041479   \n",
       "previous_bookings_not_canceled                        1.000000   \n",
       "children                                             -0.020664   \n",
       "babies                                               -0.006843   \n",
       "is_repeated_guest                                     0.413832   \n",
       "stays_in_week_nights                                 -0.050100   \n",
       "company                                              -0.203653   \n",
       "days_in_waiting_list                                 -0.011044   \n",
       "arrival_date_week_number                             -0.026496   \n",
       "adults                                               -0.104113   \n",
       "previous_cancellations                                0.128712   \n",
       "lead_time                                            -0.071374   \n",
       "\n",
       "                                booking_changes     agent   company  \\\n",
       "date_range                             0.113867  0.125809  0.005578   \n",
       "total_of_special_requests              0.040245  0.043028 -0.085697   \n",
       "agent                                  0.068828  1.000000  0.430367   \n",
       "required_car_parking_spaces            0.060834  0.186292 -0.010881   \n",
       "booking_changes                        1.000000  0.068828  0.129543   \n",
       "stays_in_weekend_nights                0.073775  0.126642  0.097765   \n",
       "previous_bookings_not_canceled         0.013024  0.021735 -0.203653   \n",
       "children                               0.048037  0.030731  0.035497   \n",
       "babies                                 0.080451  0.036703  0.024929   \n",
       "is_repeated_guest                      0.009094  0.024725 -0.237287   \n",
       "stays_in_week_nights                   0.103896  0.173179  0.191097   \n",
       "company                                0.129543  0.430367  1.000000   \n",
       "days_in_waiting_list                  -0.013164 -0.062414 -0.007491   \n",
       "arrival_date_week_number               0.004075 -0.031241 -0.057809   \n",
       "adults                                -0.051519 -0.039348  0.219433   \n",
       "previous_cancellations                -0.030735 -0.011313 -0.173977   \n",
       "lead_time                             -0.016268 -0.125697  0.151244   \n",
       "\n",
       "                                days_in_waiting_list  \\\n",
       "date_range                                 -0.050100   \n",
       "total_of_special_requests                  -0.088337   \n",
       "agent                                      -0.062414   \n",
       "required_car_parking_spaces                -0.035900   \n",
       "booking_changes                            -0.013164   \n",
       "stays_in_weekend_nights                    -0.058431   \n",
       "previous_bookings_not_canceled             -0.011044   \n",
       "children                                   -0.034799   \n",
       "babies                                     -0.012222   \n",
       "is_repeated_guest                          -0.025981   \n",
       "stays_in_week_nights                        0.001383   \n",
       "company                                    -0.007491   \n",
       "days_in_waiting_list                        1.000000   \n",
       "arrival_date_week_number                    0.015575   \n",
       "adults                                     -0.003905   \n",
       "previous_cancellations                      0.002727   \n",
       "lead_time                                   0.205704   \n",
       "\n",
       "                                required_car_parking_spaces  \\\n",
       "date_range                                         0.114044   \n",
       "total_of_special_requests                          0.083928   \n",
       "agent                                              0.186292   \n",
       "required_car_parking_spaces                        1.000000   \n",
       "booking_changes                                    0.060834   \n",
       "stays_in_weekend_nights                           -0.018331   \n",
       "previous_bookings_not_canceled                     0.043570   \n",
       "children                                           0.063268   \n",
       "babies                                             0.032005   \n",
       "is_repeated_guest                                  0.068502   \n",
       "stays_in_week_nights                              -0.026595   \n",
       "company                                           -0.010881   \n",
       "days_in_waiting_list                              -0.035900   \n",
       "arrival_date_week_number                          -0.002775   \n",
       "adults                                             0.016953   \n",
       "previous_cancellations                            -0.023007   \n",
       "lead_time                                         -0.117076   \n",
       "\n",
       "                                total_of_special_requests  \n",
       "date_range                                       0.210708  \n",
       "total_of_special_requests                        1.000000  \n",
       "agent                                            0.043028  \n",
       "required_car_parking_spaces                      0.083928  \n",
       "booking_changes                                  0.040245  \n",
       "stays_in_weekend_nights                          0.075139  \n",
       "previous_bookings_not_canceled                   0.029086  \n",
       "children                                         0.089923  \n",
       "babies                                           0.104010  \n",
       "is_repeated_guest                                0.001424  \n",
       "stays_in_week_nights                             0.068818  \n",
       "company                                         -0.085697  \n",
       "days_in_waiting_list                            -0.088337  \n",
       "arrival_date_week_number                         0.031282  \n",
       "adults                                           0.122553  \n",
       "previous_cancellations                          -0.056001  \n",
       "lead_time                                       -0.137366  "
      ]
     },
     "execution_count": 402,
     "metadata": {},
     "output_type": "execute_result"
    }
   ],
   "source": [
    "((date_related.corr(method='pearson')))\\\n",
    "            .sort_values('date_range',ascending=False)"
   ]
  },
  {
   "cell_type": "code",
   "execution_count": null,
   "metadata": {},
   "outputs": [],
   "source": []
  },
  {
   "cell_type": "code",
   "execution_count": 452,
   "metadata": {},
   "outputs": [
    {
     "name": "stdout",
     "output_type": "stream",
     "text": [
      "<class 'pandas.core.frame.DataFrame'>\n",
      "RangeIndex: 91531 entries, 0 to 91530\n",
      "Data columns (total 27 columns):\n",
      " #   Column                          Non-Null Count  Dtype         \n",
      "---  ------                          --------------  -----         \n",
      " 0   date_range                      91531 non-null  int64         \n",
      " 1   hotel                           91531 non-null  object        \n",
      " 2   lead_time                       91531 non-null  int64         \n",
      " 3   arrival_date_week_number        91531 non-null  int64         \n",
      " 4   stays_in_weekend_nights         91531 non-null  int64         \n",
      " 5   stays_in_week_nights            91531 non-null  int64         \n",
      " 6   adults                          91531 non-null  int64         \n",
      " 7   children                        91527 non-null  float64       \n",
      " 8   babies                          91531 non-null  int64         \n",
      " 9   meal                            91531 non-null  object        \n",
      " 10  country                         91063 non-null  object        \n",
      " 11  market_segment                  91531 non-null  object        \n",
      " 12  distribution_channel            91531 non-null  object        \n",
      " 13  is_repeated_guest               91531 non-null  int64         \n",
      " 14  previous_cancellations          91531 non-null  int64         \n",
      " 15  previous_bookings_not_canceled  91531 non-null  int64         \n",
      " 16  reserved_room_type              91531 non-null  object        \n",
      " 17  assigned_room_type              91531 non-null  object        \n",
      " 18  booking_changes                 91531 non-null  int64         \n",
      " 19  deposit_type                    91531 non-null  object        \n",
      " 20  agent                           78314 non-null  float64       \n",
      " 21  company                         5614 non-null   float64       \n",
      " 22  days_in_waiting_list            91531 non-null  int64         \n",
      " 23  customer_type                   91531 non-null  object        \n",
      " 24  required_car_parking_spaces     91531 non-null  int64         \n",
      " 25  total_of_special_requests       91531 non-null  int64         \n",
      " 26  arrival_date                    91531 non-null  datetime64[ns]\n",
      "dtypes: datetime64[ns](1), float64(3), int64(14), object(9)\n",
      "memory usage: 18.9+ MB\n"
     ]
    }
   ],
   "source": [
    "date_related.info()"
   ]
  },
  {
   "cell_type": "code",
   "execution_count": null,
   "metadata": {},
   "outputs": [],
   "source": []
  },
  {
   "cell_type": "code",
   "execution_count": null,
   "metadata": {},
   "outputs": [],
   "source": []
  },
  {
   "cell_type": "code",
   "execution_count": null,
   "metadata": {},
   "outputs": [],
   "source": []
  },
  {
   "cell_type": "code",
   "execution_count": 21,
   "metadata": {},
   "outputs": [],
   "source": [
    "from torch import optim\n",
    "from torch import nn\n",
    "import torch.nn.functional as F\n",
    "from torch.utils.data import DataLoader\n",
    "from torch.autograd import Variable"
   ]
  },
  {
   "cell_type": "markdown",
   "metadata": {},
   "source": [
    "## Loader"
   ]
  },
  {
   "cell_type": "code",
   "execution_count": 41,
   "metadata": {
    "scrolled": true
   },
   "outputs": [
    {
     "name": "stdout",
     "output_type": "stream",
     "text": [
      "Using device: cuda\n"
     ]
    }
   ],
   "source": [
    "device = torch.device('cuda' if torch.cuda.is_available() else 'cpu')\n",
    "print('Using device:', device)\n",
    "\n",
    "\n",
    "class Loader:\n",
    "    def __init__(self, x,y, batch_size , device):\n",
    "        self.device = device\n",
    "        self.x=x\n",
    "        self.y=y\n",
    "        self.num = len(y)\n",
    "        self.bsize= batch_size\n",
    "    def get_batch(self):\n",
    "        index = np.random.randint(0 , self.num , self.bsize)\n",
    "        return  self.cuda(self.x[index] ,self.y[index])\n",
    "        \n",
    "    def cuda(self , x,y):\n",
    "        x = Variable(torch.FloatTensor(x))\n",
    "        y = Variable(torch.FloatTensor(y))\n",
    "        return x.to(self.device) ,y.to(self.device)\n",
    "    \n",
    "    def get_val(self):\n",
    "        return self.cuda(self.x,  self.y)\n",
    "\n",
    "class TwoPhaseLoader:\n",
    "    def __init__(self, df ,df_test = None, device = 'cuda'):\n",
    "        self.sc = StandardScaler()\n",
    "        self.test = df_test\n",
    "        self.device = device\n",
    "        self.date_unique = df['arrival_date'].unique()\n",
    "        self.x=df.drop(['adr' , 'is_canceled' , 'stay_days' , 'label'] , axis=1)\n",
    "        self.y=df[['arrival_date','adr' , 'is_canceled' , 'stay_days' , 'label']]\n",
    "        self.feature_cols = deepcopy(self.x.columns)\n",
    "        self.num = len(self.y)\n",
    "        \n",
    "        date_id = self.get_date_ids(self.y[['arrival_date']])\n",
    "        self.df_date_id = deepcopy(self.y[['arrival_date']])\n",
    "        self.df_date_id['date_id'] = date_id\n",
    "        \n",
    "        \n",
    "    def get_batch(self, n_day = 3,  get_all = False):\n",
    "        # Unique random int\n",
    "        index = np.arange(0, n_day)\n",
    "        np.random.shuffle(index)\n",
    "        selected_date = self.date_unique[index]\n",
    "        print('select ' , selected_date)\n",
    "        \n",
    "        if get_all:\n",
    "            batch_x = self.x.drop('arrival_date',axis=1).values\n",
    "            batch_y = self.y.drop('arrival_date',axis=1).values\n",
    "\n",
    "        \n",
    "        batch_x = self.x[self.x['arrival_date'].apply(lambda x: x in selected_date)]\\\n",
    "                                               .drop('arrival_date',axis=1).values\n",
    "        batch_y = self.y[self.y['arrival_date'].apply(lambda x: x in selected_date)]\\\n",
    "                                               .drop('arrival_date',axis=1).values\n",
    "        batch_date_id = self.df_date_id[self.df_date_id['arrival_date']\\\n",
    "                                        .apply(lambda x: x in selected_date)][['date_id']]\n",
    "        batch_agg_matrix = self.agg_matrix(batch_date_id)\n",
    "        \"\"\" x: np [feature]\n",
    "            y: np ['adr' , 'is_canceled' , 'stay_days' , 'label']\n",
    "        \"\"\"\n",
    "        return  self.cuda(batch_agg_matrix, batch_x,  batch_y )\n",
    "        \n",
    "    def cuda(self , agg_matrix,x,y):\n",
    "#         agg_matrix = torch.FloatTensor(agg_matrix)\n",
    "        x = Variable(torch.FloatTensor(x))\n",
    "        y = Variable(torch.FloatTensor(y))\n",
    "        \n",
    "        return agg_matrix.to(self.device),\\\n",
    "                x.to(self.device) ,\\\n",
    "                y.to(self.device)\n",
    "    \n",
    "    def get_test(self):\n",
    "        if self.test is None:\n",
    "            print('no testing data')\n",
    "        test_data = self.test.drop('arrival_date' , axis=1).values\n",
    "        test_data = self.sc.transform(test_data)\n",
    "        return torch.FloatTensor(test_data).to(self.device)  \n",
    "    \n",
    "    def scale(self):\n",
    "        tmp_x=self.x.drop('arrival_date', axis=1)\n",
    "        x=self.sc.fit_transform(tmp_x.values)\n",
    "        tmp_x =pd.DataFrame(x ,\n",
    "                            index = tmp_x.index ,\n",
    "                            columns = tmp_x.columns)\n",
    "        self.x = pd.concat([self.x['arrival_date'] , tmp_x]  ,axis=1)\n",
    "        print('rescale x')\n",
    "    def scale_val(self, sc):\n",
    "        tmp_x=self.x.drop('arrival_date', axis=1)\n",
    "        x=sc.transform(tmp_x.values)\n",
    "        tmp_x =pd.DataFrame(x ,\n",
    "                            index = tmp_x.index ,\n",
    "                            columns = tmp_x.columns)\n",
    "        self.x = pd.concat([self.x['arrival_date'] , tmp_x]  ,axis=1)\n",
    "        print('rescale val x')\n",
    "    \n",
    "    def get_date_ids(self, df_date):\n",
    "        date_unique = df_date['arrival_date'].apply(str).unique()\n",
    "        date_dict = dict(zip(date_unique, [i for i in range(len(date_unique))]))\n",
    "        return df_date['arrival_date'].apply(lambda x: date_dict[str(x)]).values\n",
    "        \n",
    "    def agg_matrix(self, batch_date_id):\n",
    "        batch_size= batch_date_id.shape[0]\n",
    "#         date_unique = batch_date['date_id'].unique()\n",
    "        print(batch_date_id['date_id'].max(),batch_size)\n",
    "        agg_matrix = torch.zeros(int(batch_date_id['date_id'].max())+1,\\\n",
    "                                 batch_size)\n",
    "        agg_matrix[batch_date_id['date_id'].values,\\\n",
    "                   torch.arange(batch_size)] =1\n",
    "        return agg_matrix\n",
    "        \n",
    "        "
   ]
  },
  {
   "cell_type": "markdown",
   "metadata": {},
   "source": [
    "## 4 Nets"
   ]
  },
  {
   "cell_type": "code",
   "execution_count": 23,
   "metadata": {},
   "outputs": [],
   "source": [
    "nn_x = df_can.drop('arrival_date' , axis=1).values\n",
    "nn_y = np.concatenate([can_y.reshape( -1, 1) ,\n",
    "                       adr_y.reshape(-1 ,1) ,\n",
    "                       day_y.reshape(-1 ,1)] , axis=1)\n"
   ]
  },
  {
   "cell_type": "code",
   "execution_count": 24,
   "metadata": {},
   "outputs": [
    {
     "data": {
      "text/plain": [
       "(91531, 243)"
      ]
     },
     "execution_count": 24,
     "metadata": {},
     "output_type": "execute_result"
    }
   ],
   "source": [
    "nn_x.shape"
   ]
  },
  {
   "cell_type": "code",
   "execution_count": 25,
   "metadata": {
    "scrolled": true
   },
   "outputs": [
    {
     "data": {
      "text/plain": [
       "array([[ 0.        , -6.30516084,  0.        ],\n",
       "       [ 0.        , 75.05222697,  2.        ],\n",
       "       [ 0.        , 74.54640111,  2.        ],\n",
       "       ...,\n",
       "       [ 0.        , 90.81455355,  1.        ],\n",
       "       [ 0.        , 38.1355651 , 10.        ],\n",
       "       [ 0.        , 58.19647044,  1.        ]])"
      ]
     },
     "execution_count": 25,
     "metadata": {},
     "output_type": "execute_result"
    }
   ],
   "source": [
    "nn_y"
   ]
  },
  {
   "cell_type": "code",
   "execution_count": 35,
   "metadata": {},
   "outputs": [],
   "source": [
    "from sklearn.preprocessing import StandardScaler\n",
    "scx = StandardScaler()\n",
    "scy = StandardScaler()"
   ]
  },
  {
   "cell_type": "code",
   "execution_count": 36,
   "metadata": {},
   "outputs": [],
   "source": [
    "nn_x_train, nn_x_val , nn_y_train , nn_y_val = train_test_split(nn_x ,nn_y , test_size = .5)\n",
    "\n",
    "scx.fit(nn_x_train)\n",
    "scy.fit(nn_y_train)\n",
    "x_train_sc = scx.transform(nn_x_train)\n",
    "y_train_sc = scy.transform(nn_y_train)\n",
    "x_val_sc=scx.transform(nn_x_val)\n",
    "y_val_sc = scy.transform(nn_y_val)\n",
    "\n",
    "# x_train_sc , x_val_sc ,y_train_sc , y_val_sc = nn_x_train,\\\n",
    "#                                                 nn_x_val ,\\\n",
    "#                                                 nn_y_train ,\\\n",
    "#                                                 nn_y_val\n",
    "\n",
    "# x_train_sc , x_val_sc = DR(x_train_sc , x_val_sc)\n",
    "# x_train_sc , y_train_sc = data_augmentor(x_train_sc, y_train_sc, times = 3, sigma=0.1, balance=True)\n",
    "\n",
    "\n",
    "# train_loader = Loader(x_train_sc , y_train_sc, 64 ,device)\n",
    "# test_loader = Loader(x_val_sc , y_val_sc ,64 , device)\n"
   ]
  },
  {
   "cell_type": "code",
   "execution_count": null,
   "metadata": {},
   "outputs": [],
   "source": []
  },
  {
   "cell_type": "code",
   "execution_count": null,
   "metadata": {},
   "outputs": [],
   "source": []
  },
  {
   "cell_type": "code",
   "execution_count": null,
   "metadata": {},
   "outputs": [],
   "source": []
  },
  {
   "cell_type": "code",
   "execution_count": null,
   "metadata": {},
   "outputs": [],
   "source": []
  },
  {
   "cell_type": "code",
   "execution_count": null,
   "metadata": {},
   "outputs": [],
   "source": []
  },
  {
   "cell_type": "code",
   "execution_count": null,
   "metadata": {},
   "outputs": [],
   "source": []
  },
  {
   "cell_type": "code",
   "execution_count": null,
   "metadata": {},
   "outputs": [],
   "source": []
  },
  {
   "cell_type": "code",
   "execution_count": null,
   "metadata": {},
   "outputs": [],
   "source": []
  },
  {
   "cell_type": "markdown",
   "metadata": {},
   "source": [
    "## join model from here"
   ]
  },
  {
   "cell_type": "code",
   "execution_count": 26,
   "metadata": {
    "scrolled": true
   },
   "outputs": [
    {
     "ename": "NameError",
     "evalue": "name 'TwoPhaseLoader' is not defined",
     "output_type": "error",
     "traceback": [
      "\u001b[0;31m---------------------------------------------------------------------------\u001b[0m",
      "\u001b[0;31mNameError\u001b[0m                                 Traceback (most recent call last)",
      "\u001b[0;32m<ipython-input-26-f94a1e5e246a>\u001b[0m in \u001b[0;36m<module>\u001b[0;34m\u001b[0m\n\u001b[1;32m      7\u001b[0m \u001b[0;34m\u001b[0m\u001b[0m\n\u001b[1;32m      8\u001b[0m \u001b[0;34m\u001b[0m\u001b[0m\n\u001b[0;32m----> 9\u001b[0;31m \u001b[0mall_loader\u001b[0m \u001b[0;34m=\u001b[0m \u001b[0mTwoPhaseLoader\u001b[0m\u001b[0;34m(\u001b[0m\u001b[0mdf_merged\u001b[0m \u001b[0;34m,\u001b[0m \u001b[0mdf_can_t\u001b[0m\u001b[0;34m,\u001b[0m  \u001b[0mdevice\u001b[0m\u001b[0;34m)\u001b[0m\u001b[0;34m\u001b[0m\u001b[0;34m\u001b[0m\u001b[0m\n\u001b[0m\u001b[1;32m     10\u001b[0m \u001b[0mtrain_loader\u001b[0m\u001b[0;34m=\u001b[0m \u001b[0mTwoPhaseLoader\u001b[0m\u001b[0;34m(\u001b[0m\u001b[0mdf_merged_train\u001b[0m  \u001b[0;34m,\u001b[0m\u001b[0mdevice\u001b[0m\u001b[0;34m)\u001b[0m\u001b[0;34m\u001b[0m\u001b[0;34m\u001b[0m\u001b[0m\n\u001b[1;32m     11\u001b[0m \u001b[0mval_loader\u001b[0m \u001b[0;34m=\u001b[0m \u001b[0mTwoPhaseLoader\u001b[0m\u001b[0;34m(\u001b[0m\u001b[0mdf_merged_val\u001b[0m  \u001b[0;34m,\u001b[0m\u001b[0mdevice\u001b[0m\u001b[0;34m)\u001b[0m\u001b[0;34m\u001b[0m\u001b[0;34m\u001b[0m\u001b[0m\n",
      "\u001b[0;31mNameError\u001b[0m: name 'TwoPhaseLoader' is not defined"
     ]
    }
   ],
   "source": [
    "\n",
    "\n",
    "\n",
    "df_merged =df_can.merge(df_y  ,how='left',left_on ='arrival_date', right_on = 'arrival_date')\n",
    "y_merged = pd.DataFrame({  'is_canceled':can_y ,\n",
    "                           'adr':adr_y ,\n",
    "                           'stay_days': day_y})\n",
    "df_merged = pd.concat([df_merged , y_merged] , axis =1)\n",
    "df_merged_train , df_merged_val = train_test_split(df_merged , test_size = .5)\n",
    "\n",
    "\n",
    "all_loader = TwoPhaseLoader(df_merged , df_can_t,  device)\n",
    "train_loader= TwoPhaseLoader(df_merged_train  ,device)\n",
    "val_loader = TwoPhaseLoader(df_merged_val  ,device)\n",
    "\n",
    "\n",
    "all_loader.scale()\n",
    "train_loader.scale()\n",
    "val_loader.scale_val(train_loader.sc)"
   ]
  },
  {
   "cell_type": "code",
   "execution_count": 59,
   "metadata": {
    "scrolled": false
   },
   "outputs": [
    {
     "name": "stdout",
     "output_type": "stream",
     "text": [
      "select  ['2015-10-24T00:00:00.000000000']\n",
      "0 81\n"
     ]
    },
    {
     "data": {
      "text/plain": [
       "(torch.Size([1, 81]), torch.Size([81, 243]), torch.Size([81, 4]))"
      ]
     },
     "execution_count": 59,
     "metadata": {},
     "output_type": "execute_result"
    }
   ],
   "source": [
    "b = val_loader.get_batch(n_day=1)\n",
    "(b[0].shape , b[1].shape , b[2].shape)\n",
    "# val_loader.df_date_id"
   ]
  },
  {
   "cell_type": "code",
   "execution_count": 90,
   "metadata": {},
   "outputs": [
    {
     "data": {
      "text/plain": [
       "array([[<AxesSubplot:title={'center':'adr'}>]], dtype=object)"
      ]
     },
     "execution_count": 90,
     "metadata": {},
     "output_type": "execute_result"
    },
    {
     "data": {
      "image/png": "[encoded data removed]",
      "text/plain": [
       "<Figure size 432x288 with 1 Axes>"
      ]
     },
     "metadata": {
      "needs_background": "light"
     },
     "output_type": "display_data"
    }
   ],
   "source": [
    "y_3[['adr']].hist(density=True)"
   ]
  },
  {
   "cell_type": "code",
   "execution_count": 165,
   "metadata": {},
   "outputs": [],
   "source": [
    "class AGGNet(nn.Module):\n",
    "    def __init__(self,input_dim , output_dim):\n",
    "        super().__init__()\n",
    "        self.w_1=nn.Linear(input_dim , 1000)\n",
    "        self.bn_1=nn.BatchNorm1d(1000)\n",
    "        self.w_2=nn.Linear(1000 , 500)\n",
    "        self.bn_2=nn.BatchNorm1d(500)\n",
    "        self.w_3=nn.Linear(500 , 250)\n",
    "        self.bn_3=nn.BatchNorm1d(250)\n",
    "        self.w_4=nn.Linear(250 , 70)\n",
    "        self.bn_4=nn.BatchNorm1d(70)\n",
    "        self.output=nn.Linear(70 , output_dim)\n",
    "        self.sf = nn.LogSoftmax(dim=1)\n",
    "        \n",
    "        self.dr_1 = nn.Dropout(.4)\n",
    "        self.dr_2 = nn.Dropout(.4)\n",
    "        self.dr_3 = nn.Dropout(.4)\n",
    "        self.dr_4 = nn.Dropout(.4)\n",
    "\n",
    "    def forward(self, x):\n",
    "        x=F.relu(self.w_1(x))\n",
    "        x=self.dr_1(x)\n",
    "        x=self.bn_1(x)\n",
    "        x=F.relu(self.w_2(x))\n",
    "        x=self.dr_2(x)\n",
    "        x=self.bn_2(x)\n",
    "        x=F.relu(self.w_3(x))\n",
    "        x=self.dr_3(x)\n",
    "        x=self.bn_3(x)\n",
    "        x=F.relu(self.w_4(x))\n",
    "        x=self.dr_4(x)\n",
    "        x=self.bn_4(x)\n",
    "        x=self.output(x)\n",
    "        return self.sf(x)\n",
    "    \n",
    "    \n",
    "net=AGGNet(x_group.shape[1],10)"
   ]
  },
  {
   "cell_type": "code",
   "execution_count": 166,
   "metadata": {},
   "outputs": [
    {
     "data": {
      "text/plain": [
       "AGGNet(\n",
       "  (w_1): Linear(in_features=244, out_features=1000, bias=True)\n",
       "  (bn_1): BatchNorm1d(1000, eps=1e-05, momentum=0.1, affine=True, track_running_stats=True)\n",
       "  (w_2): Linear(in_features=1000, out_features=500, bias=True)\n",
       "  (bn_2): BatchNorm1d(500, eps=1e-05, momentum=0.1, affine=True, track_running_stats=True)\n",
       "  (w_3): Linear(in_features=500, out_features=250, bias=True)\n",
       "  (bn_3): BatchNorm1d(250, eps=1e-05, momentum=0.1, affine=True, track_running_stats=True)\n",
       "  (w_4): Linear(in_features=250, out_features=70, bias=True)\n",
       "  (bn_4): BatchNorm1d(70, eps=1e-05, momentum=0.1, affine=True, track_running_stats=True)\n",
       "  (output): Linear(in_features=70, out_features=10, bias=True)\n",
       "  (sf): LogSoftmax(dim=1)\n",
       "  (dr_1): Dropout(p=0.4, inplace=False)\n",
       "  (dr_2): Dropout(p=0.4, inplace=False)\n",
       "  (dr_3): Dropout(p=0.4, inplace=False)\n",
       "  (dr_4): Dropout(p=0.4, inplace=False)\n",
       ")"
      ]
     },
     "execution_count": 166,
     "metadata": {},
     "output_type": "execute_result"
    }
   ],
   "source": [
    "net"
   ]
  },
  {
   "cell_type": "code",
   "execution_count": 163,
   "metadata": {
    "scrolled": true
   },
   "outputs": [
    {
     "name": "stdout",
     "output_type": "stream",
     "text": [
      "original shape:  (640, 244)\n",
      "balanced shape:  (1880, 244)\n",
      "augmented shape: (20680, 244)\n",
      "((20680, 244), (20680, 1))\n"
     ]
    }
   ],
   "source": [
    "\n",
    "\n",
    "\n",
    "x_group = df_merged.groupby('arrival_date').sum()\n",
    "x_group['label'] = df_merged.groupby('arrival_date')['label'].first().values\n",
    "y_3 = x_group[['label' , 'adr' , 'stay_days' , 'is_canceled']]\n",
    "x_group = x_group.drop(['label' , 'adr' , 'stay_days' , 'is_canceled'] , axis=1)\n",
    "\n",
    "x_group_t = df_can_t.groupby('arrival_date').sum()\n",
    "\n",
    "\n",
    "aug_x , aug_y = data_augmentor(x_group.values , y_3[['label']] , times=10 , df=False)\n",
    "print((aug_x.shape,  aug_y.shape))\n",
    "\n",
    "\n",
    "x_train , x_val , y_train , y_val = train_test_split(aug_x, \\\n",
    "                                                   aug_y, test_size = .5, stratify=aug_y)\n",
    "\n",
    "\n",
    "# x_train , x_val , y_train , y_val = train_test_split(x_group.values, \\\n",
    "#                                                     y_3[['label']].values, test_size = .1, stratify=y_3['label'])\n",
    "\n",
    "y_train , y_val =y_train.ravel() , y_val.ravel()\n",
    "x_train=torch.FloatTensor(x_train).to(device)\n",
    "x_val = torch.FloatTensor(x_val).to(device)\n",
    "y_train=torch.LongTensor(y_train).to(device)\n",
    "y_val=torch.LongTensor(y_val).to(device)"
   ]
  },
  {
   "cell_type": "code",
   "execution_count": 167,
   "metadata": {
    "scrolled": true
   },
   "outputs": [
    {
     "name": "stdout",
     "output_type": "stream",
     "text": [
      "epoch:   1 , loss: 2.4632, val_loss 2.4485, val_mae 3.4094\n",
      "epoch: 1001 , loss: 2.4564, val_loss 2.4569, val_mae 3.4361\n",
      "epoch: 2001 , loss: 2.4490, val_loss 2.4530, val_mae 3.4108\n",
      "epoch: 3001 , loss: 2.4387, val_loss 2.4476, val_mae 3.3861\n",
      "epoch: 4001 , loss: 2.4340, val_loss 2.4478, val_mae 3.3803\n",
      "epoch: 5001 , loss: 2.4300, val_loss 2.4372, val_mae 3.3774\n",
      "epoch: 6001 , loss: 2.4356, val_loss 2.4406, val_mae 3.3525\n",
      "epoch: 7001 , loss: 2.4287, val_loss 2.4269, val_mae 3.3643\n",
      "epoch: 8001 , loss: 2.4352, val_loss 2.4326, val_mae 3.3322\n",
      "epoch: 9001 , loss: 2.4216, val_loss 2.4193, val_mae 3.3011\n"
     ]
    },
    {
     "data": {
      "text/plain": [
       "3.3271760154738876"
      ]
     },
     "execution_count": 167,
     "metadata": {},
     "output_type": "execute_result"
    }
   ],
   "source": [
    "net.train()\n",
    "net.to(device)\n",
    "\n",
    "\n",
    "criterion = nn.CrossEntropyLoss()\n",
    "# criterion= nn.NLLLoss()\n",
    "optimizer = optim.Adam(net.parameters(), lr=1e-8)\n",
    "\n",
    "\n",
    "\n",
    "his_los = []\n",
    "his_val_los = []\n",
    "\n",
    "for epoch in range(1, 10000):\n",
    "    optimizer.zero_grad()\n",
    "    y_pred = net(x_train)\n",
    "    \n",
    "    loss = criterion(y_pred, y_train)\n",
    "    loss.backward()\n",
    "    optimizer.step() \n",
    "\n",
    "    y_pred_val = net(x_val)\n",
    "    loss_val = criterion( y_pred_val , y_val)\n",
    "    los , val_los =loss.cpu().data, loss_val.cpu().data\n",
    "    if epoch%300 == 1:\n",
    "        \n",
    "        his_los.append(los.numpy().tolist())\n",
    "        his_val_los.append(val_los.numpy().tolist())\n",
    "    if (epoch % 1000 == 1) :\n",
    "        maeloss= mae(torch.argmax(y_pred_val , axis=1).cpu().data , y_val.cpu().data)\n",
    "        print('epoch: %3d , loss: %2.4f, val_loss %2.4f, val_mae %2.4f'%(epoch,los , val_los ,maeloss ))\n",
    "        \n",
    "\n",
    "        \n",
    "y_pred = net(x_val).cpu().data\n",
    "mae(torch.argmax(y_pred , axis=1) , y_val.cpu().data)\n",
    "# loss = criterion(y_pred, y_total_val)bb\n",
    "# print('validation loss' , loss.cpu().detach().numpy())"
   ]
  },
  {
   "cell_type": "code",
   "execution_count": 168,
   "metadata": {
    "scrolled": false
   },
   "outputs": [
    {
     "data": {
      "image/png": "[encoded data removed]",
      "text/plain": [
       "<Figure size 432x288 with 1 Axes>"
      ]
     },
     "metadata": {
      "needs_background": "light"
     },
     "output_type": "display_data"
    }
   ],
   "source": [
    "plt.plot(his_los , label = 'train', color=  'blue')\n",
    "plt.plot(his_val_los , label ='val' , color= 'red')\n",
    "plt.legend(loc='upper right')\n",
    "# plt.yscale('log')\n",
    "plt.show()"
   ]
  },
  {
   "cell_type": "code",
   "execution_count": 147,
   "metadata": {},
   "outputs": [
    {
     "data": {
      "text/plain": [
       "torch.Size([2820, 1])"
      ]
     },
     "execution_count": 147,
     "metadata": {},
     "output_type": "execute_result"
    }
   ],
   "source": [
    "y_train.shape"
   ]
  },
  {
   "cell_type": "code",
   "execution_count": 48,
   "metadata": {},
   "outputs": [
    {
     "data": {
      "text/plain": [
       "0.6091876208897485"
      ]
     },
     "execution_count": 48,
     "metadata": {},
     "output_type": "execute_result"
    }
   ],
   "source": [
    "mae(torch.argmax(y_pred , axis=1) , y_val.cpu().data)"
   ]
  },
  {
   "cell_type": "code",
   "execution_count": 138,
   "metadata": {},
   "outputs": [],
   "source": [
    "torch.save(net , 'net_model_3.pt')"
   ]
  },
  {
   "cell_type": "code",
   "execution_count": 139,
   "metadata": {},
   "outputs": [],
   "source": [
    "n1 = torch.load('net_model_3.pt').cpu()"
   ]
  },
  {
   "cell_type": "code",
   "execution_count": 56,
   "metadata": {},
   "outputs": [],
   "source": [
    "x_test = torch.FloatTensor(x_group_t.values)\n",
    "\n",
    "\n",
    "# n1()\n",
    "\n"
   ]
  },
  {
   "cell_type": "code",
   "execution_count": 105,
   "metadata": {},
   "outputs": [],
   "source": [
    "pre_test = torch.argmax(n1(x_test) , axis=1).numpy()"
   ]
  },
  {
   "cell_type": "code",
   "execution_count": 140,
   "metadata": {},
   "outputs": [],
   "source": [
    "pre_test3 = torch.argmax(n1(x_test) , axis=1).numpy()"
   ]
  },
  {
   "cell_type": "code",
   "execution_count": null,
   "metadata": {},
   "outputs": [],
   "source": []
  },
  {
   "cell_type": "markdown",
   "metadata": {},
   "source": [
    "## AggNet 2"
   ]
  },
  {
   "cell_type": "code",
   "execution_count": 179,
   "metadata": {},
   "outputs": [],
   "source": [
    "\n",
    "def data_augmentor_aggnet2(df_mer, y_4, sigma=0.1, times=10, balance = True, df=False):\n",
    "    \n",
    "    \n",
    "    df_mer = pd.concat([df_mer[['date_id']] , df_mer.drop('date_id' ,axis=1)]  ,axis=1)\n",
    "    \n",
    "    x_g = deepcopy(df_mer.values)\n",
    "    y_g = deepcopy(y_4.values)\n",
    "    \n",
    "    # for dropped\n",
    "    x_ = deepcopy(df_mer)\n",
    "    y_ = deepcopy(y_4)\n",
    "    \n",
    "    x_date = x_[['date_id']].values\n",
    "    x_ = x_.drop('date_id' , axis=1).values\n",
    "    y_ = y_.label.values\n",
    "    \n",
    "    print('original shape: ', x_g.shape)\n",
    "    if balance:\n",
    "        y_flat = y_.ravel()\n",
    "        most_count_per_class= max([v for k,v in Counter(y_flat).items()])\n",
    "        hope_num_per_class = most_count_per_class + 2\n",
    "\n",
    "        class_id_map ={}\n",
    "        for i,v in enumerate(y_flat):\n",
    "            if class_id_map.get(v , None) == None:\n",
    "                class_id_map[v]=[]\n",
    "            class_id_map[v].append(i)\n",
    "        for k,v in class_id_map.items():\n",
    "            class_id_map[k] = np.array(v)\n",
    "            \n",
    "        all_selected_index = []\n",
    "\n",
    "        for cla,id_list in class_id_map.items():\n",
    "            num_to_gene = hope_num_per_class - len(id_list)\n",
    "            selected_index_of_list = np.random.randint(0, len(id_list) ,num_to_gene)\n",
    "            selected_index_of_row = id_list[selected_index_of_list]\n",
    "\n",
    "            all_selected_index = all_selected_index + selected_index_of_row.tolist()\n",
    "            \n",
    "        x_noise = np.random.normal(0 , sigma , (len(all_selected_index) ,x_.shape[1]))\n",
    "        \n",
    "        x_for_balance = deepcopy(x_[all_selected_index ,:])+x_noise\n",
    "        y_for_balance = deepcopy(y_g[all_selected_index ,:])\n",
    "        date_for_balance = deepcopy(x_date[all_selected_index , :])\n",
    "        \n",
    "        x_for_balance = np.concatenate([date_for_balance, x_for_balance  ] , axis=1)\n",
    "        x_g = np.concatenate([x_g , x_for_balance], axis =0)\n",
    "        y_g = np.concatenate([y_g , y_for_balance], axis =0)\n",
    "        x_date = np.concatenate([x_date , date_for_balance] , axis =0)\n",
    "            \n",
    "        print('balanced shape: ', x_g.shape)\n",
    "        \n",
    "    x_date_ = deepcopy(x_date)\n",
    "    x_ = deepcopy(x_g[:,1:])\n",
    "    y_ = deepcopy(y_g)\n",
    "\n",
    "    for _ in range(times):\n",
    "\n",
    "        \n",
    "        print(x_.shape, x_date.shape)\n",
    "        x_noise = np.random.normal(0,sigma, x_.shape)\n",
    "        x_for_aug = np.concatenate([ x_date_ ,x_+x_noise ] , axis=1)\n",
    "        x_g = np.concatenate([x_g , x_for_aug], axis =0)\n",
    "        y_g = np.concatenate([y_g , y_], axis =0)\n",
    "\n",
    "    print('augmented shape:' , x_g.shape)\n",
    "    \n",
    "    \n",
    "    \n",
    "    return x_g , y_g\n"
   ]
  },
  {
   "cell_type": "code",
   "execution_count": 335,
   "metadata": {},
   "outputs": [],
   "source": [
    "class AGGNet_v2(nn.Module):\n",
    "    def __init__(self,input_dim , output_dim = 10):\n",
    "        super().__init__()\n",
    "#         self.bn_0=nn.BatchNormal1d(input_dim)\n",
    "        self.sidefeature =AGGNet_sidefeature(input_dim)\n",
    "        self.w_1=nn.Linear(input_dim + 3 , 100)\n",
    "        self.w_2=nn.Linear(100 , 30)\n",
    "        self.output=nn.Linear(30 , output_dim)\n",
    "        self.dr_1=nn.Dropout(.4)\n",
    "        self.dr_2=nn.Dropout(.4)\n",
    "        self.sf = nn.Softmax()\n",
    "        \n",
    "\n",
    "    def forward(self, input_feature):\n",
    "#         x=self.bn_0(x)\n",
    "\n",
    "        mid_feature=self.sidefeature(input_feature)\n",
    "    \n",
    "        \n",
    "        fusion = torch.cat([input_feature, mid_feature] , axis=1)\n",
    "        x=torch.sum(fusion , axis=0).unsqueeze(0)\n",
    "\n",
    "        x=F.relu(self.w_1(x))\n",
    "        x=self.dr_1(x)\n",
    "        x=F.relu(self.w_2(x))\n",
    "        x=self.dr_2(x)\n",
    "        x=self.output(x)\n",
    "        x=self.sf(x)\n",
    "        return x, mid_feature\n",
    "    \n",
    "class AGGNet_sidefeature(nn.Module):\n",
    "    def __init__(self, input_dim ,output_dim = 3):\n",
    "        super().__init__()\n",
    "        \n",
    "        self.dr = nn.Dropout(p=0.4)\n",
    "        self.w_1=nn.Linear(input_dim , 500)\n",
    "        self.bn_1=nn.BatchNorm1d(500)\n",
    "        self.w_2=nn.Linear(500 , 200)\n",
    "        self.bn_2=nn.BatchNorm1d(200)\n",
    "        self.output=nn.Linear(200 , output_dim)\n",
    "        \n",
    "\n",
    "    def forward(self, x):\n",
    "        x=F.relu(self.w_1(x))\n",
    "        x=self.bn_1(x)\n",
    "        x=F.relu(self.w_2(x))\n",
    "        x=self.bn_2(x)\n",
    "        x=self.dr(x)\n",
    "        x=self.output(x)\n",
    "        return x\n",
    "\n",
    "    \n",
    "    \n",
    "net_v2=AGGNet_v2(x_group.shape[1]-1,10)"
   ]
  },
  {
   "cell_type": "code",
   "execution_count": 129,
   "metadata": {
    "scrolled": true
   },
   "outputs": [],
   "source": [
    "date_id_map = dict([(str(d) , i) for i,d in   enumerate(df_merged[['arrival_date']].values.ravel())])\n",
    "date_id = np.apply_along_axis(lambda x:date_id_map[str(x[0])],axis=1,arr=df_merged[['arrival_date']].values)\n",
    "df_mer = deepcopy(df_merged)\n",
    "df_mer['date_id'] = date_id\n",
    "\n",
    "\n",
    "date_id_map_t = dict([(str(d) , i) for i,d in   enumerate(df_can_t[['arrival_date']].values.ravel())])\n",
    "date_id_t = np.apply_along_axis(lambda x:date_id_map_t[str(x[0])],axis=1,arr=df_can_t[['arrival_date']].values)\n",
    "df_mer_t  = deepcopy(df_can_t)\n",
    "df_mer_t['date_id'] = date_id_t\n",
    "\n",
    "\n",
    "y_4 = df_mer[['label' , 'adr' , 'stay_days'  , 'is_canceled']]\n",
    "\n",
    "df_mer = df_mer.drop(['arrival_date','label', 'adr' ,'stay_days' , 'is_canceled'],axis=1)\n",
    "df_mer_t = df_mer_t.drop(['arrival_date'],axis=1)\n",
    "# .apply(lambda x: date_id[str(x)])"
   ]
  },
  {
   "cell_type": "code",
   "execution_count": 338,
   "metadata": {
    "scrolled": true
   },
   "outputs": [
    {
     "name": "stdout",
     "output_type": "stream",
     "text": [
      "original shape:  (91531, 244)\n",
      "balanced shape:  (287150, 244)\n",
      "(287150, 243) (287150, 1)\n",
      "(287150, 243) (287150, 1)\n",
      "augmented shape: (861450, 244)\n",
      "((861450, 244), (861450, 4))\n"
     ]
    }
   ],
   "source": [
    "aug_x , aug_y = data_augmentor_aggnet2(df_mer , y_4 , times=2 , df=True)\n",
    "print((aug_x.shape,  aug_y.shape))"
   ]
  },
  {
   "cell_type": "code",
   "execution_count": 247,
   "metadata": {},
   "outputs": [
    {
     "data": {
      "text/html": [
       "<div>\n",
       "<style scoped>\n",
       "    .dataframe tbody tr th:only-of-type {\n",
       "        vertical-align: middle;\n",
       "    }\n",
       "\n",
       "    .dataframe tbody tr th {\n",
       "        vertical-align: top;\n",
       "    }\n",
       "\n",
       "    .dataframe thead th {\n",
       "        text-align: right;\n",
       "    }\n",
       "</style>\n",
       "<table border=\"1\" class=\"dataframe\">\n",
       "  <thead>\n",
       "    <tr style=\"text-align: right;\">\n",
       "      <th></th>\n",
       "      <th>lead_time</th>\n",
       "      <th>arrival_date_week_number</th>\n",
       "      <th>stays_in_weekend_nights</th>\n",
       "      <th>stays_in_week_nights</th>\n",
       "      <th>adults</th>\n",
       "      <th>children</th>\n",
       "      <th>babies</th>\n",
       "      <th>is_repeated_guest</th>\n",
       "      <th>previous_cancellations</th>\n",
       "      <th>previous_bookings_not_canceled</th>\n",
       "      <th>...</th>\n",
       "      <th>assigned_room_type_L</th>\n",
       "      <th>assigned_room_type_P</th>\n",
       "      <th>deposit_type_No Deposit</th>\n",
       "      <th>deposit_type_Non Refund</th>\n",
       "      <th>deposit_type_Refundable</th>\n",
       "      <th>customer_type_Contract</th>\n",
       "      <th>customer_type_Group</th>\n",
       "      <th>customer_type_Transient</th>\n",
       "      <th>customer_type_Transient-Party</th>\n",
       "      <th>date_id</th>\n",
       "    </tr>\n",
       "    <tr>\n",
       "      <th>arrival_date</th>\n",
       "      <th></th>\n",
       "      <th></th>\n",
       "      <th></th>\n",
       "      <th></th>\n",
       "      <th></th>\n",
       "      <th></th>\n",
       "      <th></th>\n",
       "      <th></th>\n",
       "      <th></th>\n",
       "      <th></th>\n",
       "      <th></th>\n",
       "      <th></th>\n",
       "      <th></th>\n",
       "      <th></th>\n",
       "      <th></th>\n",
       "      <th></th>\n",
       "      <th></th>\n",
       "      <th></th>\n",
       "      <th></th>\n",
       "      <th></th>\n",
       "      <th></th>\n",
       "    </tr>\n",
       "  </thead>\n",
       "  <tbody>\n",
       "    <tr>\n",
       "      <th>2015-07-01</th>\n",
       "      <td>22783</td>\n",
       "      <td>3294</td>\n",
       "      <td>45</td>\n",
       "      <td>335</td>\n",
       "      <td>223</td>\n",
       "      <td>2.0</td>\n",
       "      <td>0</td>\n",
       "      <td>1</td>\n",
       "      <td>11</td>\n",
       "      <td>9</td>\n",
       "      <td>...</td>\n",
       "      <td>0.0</td>\n",
       "      <td>0.0</td>\n",
       "      <td>122.0</td>\n",
       "      <td>0.0</td>\n",
       "      <td>0.0</td>\n",
       "      <td>6.0</td>\n",
       "      <td>0.0</td>\n",
       "      <td>114.0</td>\n",
       "      <td>2.0</td>\n",
       "      <td>14762</td>\n",
       "    </tr>\n",
       "    <tr>\n",
       "      <th>2015-07-02</th>\n",
       "      <td>14241</td>\n",
       "      <td>2511</td>\n",
       "      <td>75</td>\n",
       "      <td>291</td>\n",
       "      <td>186</td>\n",
       "      <td>4.0</td>\n",
       "      <td>0</td>\n",
       "      <td>22</td>\n",
       "      <td>47</td>\n",
       "      <td>3</td>\n",
       "      <td>...</td>\n",
       "      <td>0.0</td>\n",
       "      <td>0.0</td>\n",
       "      <td>93.0</td>\n",
       "      <td>0.0</td>\n",
       "      <td>0.0</td>\n",
       "      <td>34.0</td>\n",
       "      <td>0.0</td>\n",
       "      <td>36.0</td>\n",
       "      <td>23.0</td>\n",
       "      <td>19902</td>\n",
       "    </tr>\n",
       "    <tr>\n",
       "      <th>2015-07-03</th>\n",
       "      <td>4080</td>\n",
       "      <td>1512</td>\n",
       "      <td>53</td>\n",
       "      <td>187</td>\n",
       "      <td>112</td>\n",
       "      <td>4.0</td>\n",
       "      <td>0</td>\n",
       "      <td>0</td>\n",
       "      <td>1</td>\n",
       "      <td>0</td>\n",
       "      <td>...</td>\n",
       "      <td>0.0</td>\n",
       "      <td>0.0</td>\n",
       "      <td>56.0</td>\n",
       "      <td>0.0</td>\n",
       "      <td>0.0</td>\n",
       "      <td>7.0</td>\n",
       "      <td>0.0</td>\n",
       "      <td>36.0</td>\n",
       "      <td>13.0</td>\n",
       "      <td>15120</td>\n",
       "    </tr>\n",
       "    <tr>\n",
       "      <th>2015-07-04</th>\n",
       "      <td>13637</td>\n",
       "      <td>2376</td>\n",
       "      <td>164</td>\n",
       "      <td>275</td>\n",
       "      <td>171</td>\n",
       "      <td>8.0</td>\n",
       "      <td>2</td>\n",
       "      <td>0</td>\n",
       "      <td>32</td>\n",
       "      <td>0</td>\n",
       "      <td>...</td>\n",
       "      <td>0.0</td>\n",
       "      <td>0.0</td>\n",
       "      <td>65.0</td>\n",
       "      <td>23.0</td>\n",
       "      <td>0.0</td>\n",
       "      <td>7.0</td>\n",
       "      <td>0.0</td>\n",
       "      <td>44.0</td>\n",
       "      <td>37.0</td>\n",
       "      <td>31504</td>\n",
       "    </tr>\n",
       "    <tr>\n",
       "      <th>2015-07-05</th>\n",
       "      <td>4433</td>\n",
       "      <td>1484</td>\n",
       "      <td>121</td>\n",
       "      <td>195</td>\n",
       "      <td>103</td>\n",
       "      <td>10.0</td>\n",
       "      <td>0</td>\n",
       "      <td>1</td>\n",
       "      <td>8</td>\n",
       "      <td>0</td>\n",
       "      <td>...</td>\n",
       "      <td>0.0</td>\n",
       "      <td>0.0</td>\n",
       "      <td>53.0</td>\n",
       "      <td>0.0</td>\n",
       "      <td>0.0</td>\n",
       "      <td>10.0</td>\n",
       "      <td>1.0</td>\n",
       "      <td>40.0</td>\n",
       "      <td>2.0</td>\n",
       "      <td>21783</td>\n",
       "    </tr>\n",
       "    <tr>\n",
       "      <th>...</th>\n",
       "      <td>...</td>\n",
       "      <td>...</td>\n",
       "      <td>...</td>\n",
       "      <td>...</td>\n",
       "      <td>...</td>\n",
       "      <td>...</td>\n",
       "      <td>...</td>\n",
       "      <td>...</td>\n",
       "      <td>...</td>\n",
       "      <td>...</td>\n",
       "      <td>...</td>\n",
       "      <td>...</td>\n",
       "      <td>...</td>\n",
       "      <td>...</td>\n",
       "      <td>...</td>\n",
       "      <td>...</td>\n",
       "      <td>...</td>\n",
       "      <td>...</td>\n",
       "      <td>...</td>\n",
       "      <td>...</td>\n",
       "      <td>...</td>\n",
       "    </tr>\n",
       "    <tr>\n",
       "      <th>2017-03-27</th>\n",
       "      <td>16987</td>\n",
       "      <td>2379</td>\n",
       "      <td>192</td>\n",
       "      <td>326</td>\n",
       "      <td>338</td>\n",
       "      <td>2.0</td>\n",
       "      <td>0</td>\n",
       "      <td>9</td>\n",
       "      <td>1</td>\n",
       "      <td>18</td>\n",
       "      <td>...</td>\n",
       "      <td>0.0</td>\n",
       "      <td>0.0</td>\n",
       "      <td>138.0</td>\n",
       "      <td>45.0</td>\n",
       "      <td>0.0</td>\n",
       "      <td>0.0</td>\n",
       "      <td>2.0</td>\n",
       "      <td>135.0</td>\n",
       "      <td>46.0</td>\n",
       "      <td>16633968</td>\n",
       "    </tr>\n",
       "    <tr>\n",
       "      <th>2017-03-28</th>\n",
       "      <td>5377</td>\n",
       "      <td>1144</td>\n",
       "      <td>46</td>\n",
       "      <td>308</td>\n",
       "      <td>155</td>\n",
       "      <td>3.0</td>\n",
       "      <td>1</td>\n",
       "      <td>7</td>\n",
       "      <td>1</td>\n",
       "      <td>43</td>\n",
       "      <td>...</td>\n",
       "      <td>0.0</td>\n",
       "      <td>0.0</td>\n",
       "      <td>88.0</td>\n",
       "      <td>0.0</td>\n",
       "      <td>0.0</td>\n",
       "      <td>0.0</td>\n",
       "      <td>1.0</td>\n",
       "      <td>85.0</td>\n",
       "      <td>2.0</td>\n",
       "      <td>8006592</td>\n",
       "    </tr>\n",
       "    <tr>\n",
       "      <th>2017-03-29</th>\n",
       "      <td>6875</td>\n",
       "      <td>2002</td>\n",
       "      <td>38</td>\n",
       "      <td>399</td>\n",
       "      <td>258</td>\n",
       "      <td>8.0</td>\n",
       "      <td>2</td>\n",
       "      <td>17</td>\n",
       "      <td>2</td>\n",
       "      <td>72</td>\n",
       "      <td>...</td>\n",
       "      <td>0.0</td>\n",
       "      <td>0.0</td>\n",
       "      <td>154.0</td>\n",
       "      <td>0.0</td>\n",
       "      <td>0.0</td>\n",
       "      <td>0.0</td>\n",
       "      <td>3.0</td>\n",
       "      <td>149.0</td>\n",
       "      <td>2.0</td>\n",
       "      <td>14035252</td>\n",
       "    </tr>\n",
       "    <tr>\n",
       "      <th>2017-03-30</th>\n",
       "      <td>20737</td>\n",
       "      <td>2327</td>\n",
       "      <td>97</td>\n",
       "      <td>510</td>\n",
       "      <td>311</td>\n",
       "      <td>9.0</td>\n",
       "      <td>3</td>\n",
       "      <td>6</td>\n",
       "      <td>1</td>\n",
       "      <td>39</td>\n",
       "      <td>...</td>\n",
       "      <td>0.0</td>\n",
       "      <td>0.0</td>\n",
       "      <td>162.0</td>\n",
       "      <td>17.0</td>\n",
       "      <td>0.0</td>\n",
       "      <td>3.0</td>\n",
       "      <td>0.0</td>\n",
       "      <td>155.0</td>\n",
       "      <td>21.0</td>\n",
       "      <td>16345743</td>\n",
       "    </tr>\n",
       "    <tr>\n",
       "      <th>2017-03-31</th>\n",
       "      <td>15216</td>\n",
       "      <td>2769</td>\n",
       "      <td>168</td>\n",
       "      <td>469</td>\n",
       "      <td>404</td>\n",
       "      <td>19.0</td>\n",
       "      <td>0</td>\n",
       "      <td>3</td>\n",
       "      <td>0</td>\n",
       "      <td>4</td>\n",
       "      <td>...</td>\n",
       "      <td>0.0</td>\n",
       "      <td>0.0</td>\n",
       "      <td>178.0</td>\n",
       "      <td>35.0</td>\n",
       "      <td>0.0</td>\n",
       "      <td>4.0</td>\n",
       "      <td>1.0</td>\n",
       "      <td>206.0</td>\n",
       "      <td>2.0</td>\n",
       "      <td>19495890</td>\n",
       "    </tr>\n",
       "  </tbody>\n",
       "</table>\n",
       "<p>640 rows × 244 columns</p>\n",
       "</div>"
      ],
      "text/plain": [
       "              lead_time  arrival_date_week_number  stays_in_weekend_nights  \\\n",
       "arrival_date                                                                 \n",
       "2015-07-01        22783                      3294                       45   \n",
       "2015-07-02        14241                      2511                       75   \n",
       "2015-07-03         4080                      1512                       53   \n",
       "2015-07-04        13637                      2376                      164   \n",
       "2015-07-05         4433                      1484                      121   \n",
       "...                 ...                       ...                      ...   \n",
       "2017-03-27        16987                      2379                      192   \n",
       "2017-03-28         5377                      1144                       46   \n",
       "2017-03-29         6875                      2002                       38   \n",
       "2017-03-30        20737                      2327                       97   \n",
       "2017-03-31        15216                      2769                      168   \n",
       "\n",
       "              stays_in_week_nights  adults  children  babies  \\\n",
       "arrival_date                                                   \n",
       "2015-07-01                     335     223       2.0       0   \n",
       "2015-07-02                     291     186       4.0       0   \n",
       "2015-07-03                     187     112       4.0       0   \n",
       "2015-07-04                     275     171       8.0       2   \n",
       "2015-07-05                     195     103      10.0       0   \n",
       "...                            ...     ...       ...     ...   \n",
       "2017-03-27                     326     338       2.0       0   \n",
       "2017-03-28                     308     155       3.0       1   \n",
       "2017-03-29                     399     258       8.0       2   \n",
       "2017-03-30                     510     311       9.0       3   \n",
       "2017-03-31                     469     404      19.0       0   \n",
       "\n",
       "              is_repeated_guest  previous_cancellations  \\\n",
       "arrival_date                                              \n",
       "2015-07-01                    1                      11   \n",
       "2015-07-02                   22                      47   \n",
       "2015-07-03                    0                       1   \n",
       "2015-07-04                    0                      32   \n",
       "2015-07-05                    1                       8   \n",
       "...                         ...                     ...   \n",
       "2017-03-27                    9                       1   \n",
       "2017-03-28                    7                       1   \n",
       "2017-03-29                   17                       2   \n",
       "2017-03-30                    6                       1   \n",
       "2017-03-31                    3                       0   \n",
       "\n",
       "              previous_bookings_not_canceled  ...  assigned_room_type_L  \\\n",
       "arrival_date                                  ...                         \n",
       "2015-07-01                                 9  ...                   0.0   \n",
       "2015-07-02                                 3  ...                   0.0   \n",
       "2015-07-03                                 0  ...                   0.0   \n",
       "2015-07-04                                 0  ...                   0.0   \n",
       "2015-07-05                                 0  ...                   0.0   \n",
       "...                                      ...  ...                   ...   \n",
       "2017-03-27                                18  ...                   0.0   \n",
       "2017-03-28                                43  ...                   0.0   \n",
       "2017-03-29                                72  ...                   0.0   \n",
       "2017-03-30                                39  ...                   0.0   \n",
       "2017-03-31                                 4  ...                   0.0   \n",
       "\n",
       "              assigned_room_type_P  deposit_type_No Deposit  \\\n",
       "arrival_date                                                  \n",
       "2015-07-01                     0.0                    122.0   \n",
       "2015-07-02                     0.0                     93.0   \n",
       "2015-07-03                     0.0                     56.0   \n",
       "2015-07-04                     0.0                     65.0   \n",
       "2015-07-05                     0.0                     53.0   \n",
       "...                            ...                      ...   \n",
       "2017-03-27                     0.0                    138.0   \n",
       "2017-03-28                     0.0                     88.0   \n",
       "2017-03-29                     0.0                    154.0   \n",
       "2017-03-30                     0.0                    162.0   \n",
       "2017-03-31                     0.0                    178.0   \n",
       "\n",
       "              deposit_type_Non Refund  deposit_type_Refundable  \\\n",
       "arrival_date                                                     \n",
       "2015-07-01                        0.0                      0.0   \n",
       "2015-07-02                        0.0                      0.0   \n",
       "2015-07-03                        0.0                      0.0   \n",
       "2015-07-04                       23.0                      0.0   \n",
       "2015-07-05                        0.0                      0.0   \n",
       "...                               ...                      ...   \n",
       "2017-03-27                       45.0                      0.0   \n",
       "2017-03-28                        0.0                      0.0   \n",
       "2017-03-29                        0.0                      0.0   \n",
       "2017-03-30                       17.0                      0.0   \n",
       "2017-03-31                       35.0                      0.0   \n",
       "\n",
       "              customer_type_Contract  customer_type_Group  \\\n",
       "arrival_date                                                \n",
       "2015-07-01                       6.0                  0.0   \n",
       "2015-07-02                      34.0                  0.0   \n",
       "2015-07-03                       7.0                  0.0   \n",
       "2015-07-04                       7.0                  0.0   \n",
       "2015-07-05                      10.0                  1.0   \n",
       "...                              ...                  ...   \n",
       "2017-03-27                       0.0                  2.0   \n",
       "2017-03-28                       0.0                  1.0   \n",
       "2017-03-29                       0.0                  3.0   \n",
       "2017-03-30                       3.0                  0.0   \n",
       "2017-03-31                       4.0                  1.0   \n",
       "\n",
       "              customer_type_Transient  customer_type_Transient-Party   date_id  \n",
       "arrival_date                                                                    \n",
       "2015-07-01                      114.0                            2.0     14762  \n",
       "2015-07-02                       36.0                           23.0     19902  \n",
       "2015-07-03                       36.0                           13.0     15120  \n",
       "2015-07-04                       44.0                           37.0     31504  \n",
       "2015-07-05                       40.0                            2.0     21783  \n",
       "...                               ...                            ...       ...  \n",
       "2017-03-27                      135.0                           46.0  16633968  \n",
       "2017-03-28                       85.0                            2.0   8006592  \n",
       "2017-03-29                      149.0                            2.0  14035252  \n",
       "2017-03-30                      155.0                           21.0  16345743  \n",
       "2017-03-31                      206.0                            2.0  19495890  \n",
       "\n",
       "[640 rows x 244 columns]"
      ]
     },
     "execution_count": 247,
     "metadata": {},
     "output_type": "execute_result"
    }
   ],
   "source": [
    "x_group"
   ]
  },
  {
   "cell_type": "code",
   "execution_count": 339,
   "metadata": {},
   "outputs": [],
   "source": [
    "x_train , x_val , y_train , y_val = train_test_split(aug_x, \\\n",
    "                                                   aug_y, test_size = .5, stratify=aug_y)\n",
    "\n",
    "\n",
    "# x_train , x_val , y_train , y_val = train_test_split(x_group.values, \\\n",
    "#                                                     y_3[['label']].values, test_size = .1, stratify=y_3['label'])\n",
    "\n",
    "# y_train , y_val =y_train.ravel() , y_val.ravel()\n",
    "# x_train=torch.FloatTensor(x_train)\n",
    "# x_val = torch.FloatTensor(x_val)\n",
    "# y_train=torch.LongTensor(y_train)\n",
    "# y_val=torch.LongTensor(y_val)"
   ]
  },
  {
   "cell_type": "code",
   "execution_count": null,
   "metadata": {},
   "outputs": [
    {
     "name": "stderr",
     "output_type": "stream",
     "text": [
      "<ipython-input-335-5ee02204ca2b>:28: UserWarning: Implicit dimension choice for softmax has been deprecated. Change the call to include dim=X as an argument.\n",
      "  x=self.sf(x)\n"
     ]
    },
    {
     "name": "stdout",
     "output_type": "stream",
     "text": [
      "epoch:   1 , loss: 2.3530, val_loss 2.4612, val_mae skip\n",
      "epoch:  51 , loss: 2.3663, val_loss 2.4606, val_mae skip\n",
      "epoch: 101 , loss: 2.3679, val_loss 2.4619, val_mae skip\n",
      "epoch: 151 , loss: 2.3706, val_loss 2.4641, val_mae skip\n",
      "epoch: 201 , loss: 2.3723, val_loss 2.4651, val_mae skip\n",
      "epoch: 251 , loss: 2.3730, val_loss 2.4658, val_mae skip\n",
      "epoch: 301 , loss: 2.3733, val_loss 2.4662, val_mae skip\n",
      "epoch: 351 , loss: 2.3729, val_loss 2.4648, val_mae skip\n",
      "epoch: 401 , loss: 2.3697, val_loss 2.4614, val_mae skip\n"
     ]
    }
   ],
   "source": [
    "\n",
    "net_v2.to(device)\n",
    "\n",
    "\n",
    "criterion_l = nn.CrossEntropyLoss()\n",
    "criterion_m = nn.MSELoss()\n",
    "# criterion= nn.NLLLoss()\n",
    "optimizer = optim.Adam(net_v2.parameters(), lr=1e-8)\n",
    "\n",
    "\n",
    "\n",
    "his_los = []\n",
    "his_val_los = []\n",
    "\n",
    "mlos=[]\n",
    "mvallos=[]\n",
    "\n",
    "\n",
    "for epoch in range(1, 3000):\n",
    "    \n",
    "    \n",
    "    los =0\n",
    "    los_val = 0\n",
    "    for i in np.unique(x_train[:,0].reshape(-1,)):\n",
    "        net_v2.train()\n",
    "        \n",
    "        optimizer.zero_grad()\n",
    "        batch_id = x_train[:,0]==i\n",
    "        x_batch = torch.FloatTensor(x_train[batch_id][:,1:]).to(device)\n",
    "        y_batch = y_train[batch_id]\n",
    "        y_label  , y_mid = torch.LongTensor(y_batch[[0],0]).to(device),\\\n",
    "                            torch.FloatTensor(y_batch[:, 1:]).to(device)\n",
    "        \n",
    "        y_label_pred,  y_mid_pred = net_v2(x_batch)\n",
    "        \n",
    "        label_loss= criterion_l(y_label_pred,y_label)\n",
    "        mid_loss =criterion_m(y_mid_pred , y_mid)\n",
    "        loss = label_loss + mid_loss\n",
    "        loss.backward()\n",
    "        optimizer.step()\n",
    "        his_los.append(label_loss.cpu().data)\n",
    "        mlos.append(mid_loss.cpu().data)\n",
    "#         print('Label loss %2.4f , mid loss %2.4f'%(label_loss.cpu().data , mid_loss.cpu().data))\n",
    "        \n",
    "    for i in np.unique(x_val[:,0].reshape(-1,)):\n",
    "        \n",
    "        net_v2.eval()\n",
    "        \n",
    "        batch_id = x_val[:,0]==i\n",
    "        x_batch_v = torch.FloatTensor(x_val[batch_id][:,1:]).to(device)\n",
    "        y_batch_v = y_val[batch_id]\n",
    "        y_label_v  , y_mid_v = torch.LongTensor(y_batch_v[[0],0] ).to(device), \\\n",
    "                                torch.FloatTensor(y_batch_v[:, 1:]).to(device)\n",
    "        \n",
    "        \n",
    "        y_label_pred_v,  y_mid_pred_v = net_v2(x_batch_v)\n",
    "        loss_label_v = criterion_l(y_label_pred_v ,y_label_v)\n",
    "        loss_mid_v = criterion_m(y_mid_pred_v , y_mid_v)\n",
    "        \n",
    "        his_val_los.append(loss_label.cpu().data)\n",
    "    \n",
    "        \n",
    "    if epoch%10 == 0:\n",
    "        \n",
    "        his_los.append(los)\n",
    "        his_val_los.append(los_val)\n",
    "    if (epoch % 50 == 1) :\n",
    "        \n",
    "        label_prediction = netpredict(net_v2, torch.FloatTensor(x_val[:,1:]).to(device))\n",
    "        \n",
    "#         maeloss= mae(label_prediction , torch.LongTensor(y_val))\n",
    "        print('epoch: %3d , loss: %2.4f, val_loss %2.4f, val_mae skip'%(epoch,\n",
    "                                                                         sum(his_los)/len(his_los) ,\n",
    "                                                                         sum(his_val_los)/len(his_val_los)))\n",
    "        \n",
    "        \n",
    "        \n",
    "# label_prediction = netpredict(net_v2, torch.FloatTensor(x_val[:,1:].to(device)))\n",
    "# maeloss= mae(label_prediction , y_val.cpu().data)\n",
    "# print('mae ',maeloss)\n",
    "\n",
    "# loss = criterion(y_pred, y_total_val)bb\n",
    "# print('validation loss' , loss.cpu().detach().numpy())"
   ]
  },
  {
   "cell_type": "code",
   "execution_count": 199,
   "metadata": {},
   "outputs": [],
   "source": [
    "def netpredict(net , x):\n",
    "    label,mid = net(x)\n",
    "    return torch.argmax(label , axis=1)"
   ]
  },
  {
   "cell_type": "code",
   "execution_count": null,
   "metadata": {
    "scrolled": false
   },
   "outputs": [],
   "source": [
    "plt.plot(his_los , label = 'train', color=  'blue')\n",
    "plt.plot(his_val_los , label ='val' , color= 'red')\n",
    "plt.legend(loc='upper right')\n",
    "# plt.yscale('log')\n",
    "plt.show()"
   ]
  },
  {
   "cell_type": "code",
   "execution_count": null,
   "metadata": {},
   "outputs": [],
   "source": []
  },
  {
   "cell_type": "code",
   "execution_count": null,
   "metadata": {},
   "outputs": [],
   "source": []
  },
  {
   "cell_type": "code",
   "execution_count": null,
   "metadata": {},
   "outputs": [],
   "source": []
  },
  {
   "cell_type": "code",
   "execution_count": 313,
   "metadata": {},
   "outputs": [
    {
     "data": {
      "text/plain": [
       "tensor(2.4612, device='cuda:0', grad_fn=<NllLossBackward>)"
      ]
     },
     "execution_count": 313,
     "metadata": {},
     "output_type": "execute_result"
    }
   ],
   "source": [
    "criterion_l(y_label_pred.reshape(1,-1), y_label[0])\n",
    "# y_label_pred\n",
    "# y_label"
   ]
  },
  {
   "cell_type": "code",
   "execution_count": 553,
   "metadata": {
    "scrolled": true
   },
   "outputs": [
    {
     "name": "stdout",
     "output_type": "stream",
     "text": [
      "epoch:   1 , loss: 1.2051, val_loss 2.6726\n"
     ]
    },
    {
     "data": {
      "text/plain": [
       "0.9325838"
      ]
     },
     "execution_count": 553,
     "metadata": {},
     "output_type": "execute_result"
    }
   ],
   "source": [
    "net.train()\n",
    "net.to(device)\n",
    "\n",
    "reg_loss = nn.MSELoss()\n",
    "cla_loss = nn.CrossEntropyLoss()\n",
    "optimizer = optim.Adam(net.parameters(), lr=1e-8)\n",
    "optimizera = optim.Adam(anet.parameters(), lr=1e-8)\n",
    "optimizerc = optim.Adam(cnet.parameters(), lr=1e-8)\n",
    "optimizerd = optim.Adam(dnet.parameters(), lr=1e-8)\n",
    "# optimizer = optim.SGD(net.parameters(), lr=1e-2)\n",
    "\n",
    "his_los = []\n",
    "his_val_los = []\n",
    "\n",
    "for epoch in range(1, 100):\n",
    "    \n",
    " \n",
    "        \n",
    "        \n",
    "    agg_m_train , x_train_b , y_train_b = train_loader.get_batch()\n",
    "    agg_m_val, x_val_b , y_val_b = val_loader.get_batch()\n",
    "    \n",
    "    optimizer.zero_grad()\n",
    "    optimizera.zero_grad()\n",
    "    optimizerc.zero_grad()\n",
    "    optimizerd.zero_grad()\n",
    "    \n",
    "    adr_pred = anet() \n",
    "    can_pred = cnet()\n",
    "    day_pred = dnet()\n",
    "    y_pred = net(x_train_b)\n",
    "    \n",
    "    \n",
    "    \n",
    "\n",
    "    loss = criterion(y_pred , y_train_b)\n",
    "    loss.backward()\n",
    "#     loss = criterion(y_pred[:10], y_train_b[:10])\n",
    "#     loss_2 =criterion(y_pred[10:] , y_train_b[10:])\n",
    "#     total_loss = loss + loss_2\n",
    "#     total_loss.backward()\n",
    "    \n",
    "    optimizera.step() \n",
    "    optimizerc.step() \n",
    "    optimizerd.step() \n",
    "    optimizer.step() \n",
    "    \n",
    "\n",
    "    y_pred_val = net(x_test_b)\n",
    "    loss_val = criterion(y_pred_val, y_test_b)\n",
    "    los , val_los =loss.cpu().data, loss_val.cpu().data\n",
    "#     if los >10000 or val_los>10000:\n",
    "#         continue\n",
    "    his_los.append(los.numpy().tolist())\n",
    "    his_val_los.append(val_los.numpy().tolist())\n",
    "    if (epoch % 1000 == 1):\n",
    "        print('epoch: %3d , loss: %2.4f, val_loss %2.4f'%(epoch,los , val_los))\n",
    "\n",
    "        \n",
    "x_total_val , y_total_val = test_loader.get_val() \n",
    "y_pred = net(x_total_val).cpu().data\n",
    "mae(y_pred , y_total_val.cpu().data)\n",
    "# loss = criterion(y_pred, y_total_val)bb\n",
    "# print('validation loss' , loss.cpu().detach().numpy())"
   ]
  },
  {
   "cell_type": "code",
   "execution_count": 332,
   "metadata": {},
   "outputs": [
    {
     "data": {
      "text/plain": [
       "(1579325, 244)"
      ]
     },
     "execution_count": 332,
     "metadata": {},
     "output_type": "execute_result"
    }
   ],
   "source": [
    "# mae(label_prediction , torch.LongTensor(y_val))\n",
    "label_prediction\n",
    "x_val.shape"
   ]
  },
  {
   "cell_type": "code",
   "execution_count": 554,
   "metadata": {
    "scrolled": true
   },
   "outputs": [
    {
     "data": {
      "image/png": "[encoded data removed]",
      "text/plain": [
       "<Figure size 432x288 with 1 Axes>"
      ]
     },
     "metadata": {
      "needs_background": "light"
     },
     "output_type": "display_data"
    }
   ],
   "source": [
    "plt.plot(his_los , label = 'train', color=  'blue')\n",
    "plt.plot(his_val_los , label ='val' , color= 'red')\n",
    "plt.legend(loc='upper right')\n",
    "# plt.yscale('log')\n",
    "plt.show()"
   ]
  },
  {
   "cell_type": "code",
   "execution_count": 557,
   "metadata": {
    "scrolled": false
   },
   "outputs": [
    {
     "data": {
      "image/png": "[encoded data removed]",
      "text/plain": [
       "<Figure size 432x288 with 1 Axes>"
      ]
     },
     "metadata": {
      "needs_background": "light"
     },
     "output_type": "display_data"
    }
   ],
   "source": [
    "plt.scatter(x_total_val.cpu(), y_total_val.cpu())\n",
    "plt.scatter(x_total_val.cpu(), y_pred.cpu())\n",
    "# y_pred_train = net(x_train_b)\n",
    "# plt.scatter(x_train_b.cpu(), y_train_b.cpu(), color = 'blue')\n",
    "# plt.scatter(x_train_b.cpu(),y_pred_train.cpu().detach()  , color = 'r')\n",
    "plt.yscale('log')\n",
    "\n",
    "plt.show()\n"
   ]
  },
  {
   "cell_type": "code",
   "execution_count": 540,
   "metadata": {},
   "outputs": [
    {
     "data": {
      "text/plain": [
       "torch.Size([10000, 1])"
      ]
     },
     "execution_count": 540,
     "metadata": {},
     "output_type": "execute_result"
    }
   ],
   "source": [
    "x_total_val.size()"
   ]
  },
  {
   "cell_type": "code",
   "execution_count": 523,
   "metadata": {},
   "outputs": [
    {
     "data": {
      "image/png": "[encoded data removed]",
      "text/plain": [
       "<Figure size 432x288 with 1 Axes>"
      ]
     },
     "metadata": {
      "needs_background": "light"
     },
     "output_type": "display_data"
    }
   ],
   "source": [
    "plt.scatter(x_total_val.cpu(), y_total_val.cpu())\n",
    "plt.scatter(x_total_val.cpu(), y_pred.cpu())\n",
    "# y_pred_train = net(x_train_b)\n",
    "# plt.scatter(x_train_b.cpu(), y_train_b.cpu(), color = 'blue')\n",
    "# plt.scatter(x_train_b.cpu(),y_pred_train.cpu().detach()  , color = 'r')\n",
    "\n",
    "\n",
    "plt.show()\n"
   ]
  },
  {
   "cell_type": "code",
   "execution_count": null,
   "metadata": {},
   "outputs": [],
   "source": []
  },
  {
   "cell_type": "code",
   "execution_count": null,
   "metadata": {},
   "outputs": [],
   "source": []
  },
  {
   "cell_type": "code",
   "execution_count": 208,
   "metadata": {},
   "outputs": [
    {
     "name": "stdout",
     "output_type": "stream",
     "text": [
      "Explained variation per principal component: [0.45811515 0.4060207  0.1117506 ]\n"
     ]
    }
   ],
   "source": [
    "pca = PCA(n_components=3)\n",
    "pca_result = pca.fit_transform(np_nn_x)\n",
    "pca_1 = pca_result[:,0]\n",
    "pca_2 = pca_result[:,1] \n",
    "pca_3 = pca_result[:,2]\n",
    "pca_df = pd.DataFrame({'one': pca_1,\n",
    "                      'two': pca_2,\n",
    "                      'three': pca_3})\n",
    "print('Explained variation per principal component: {}'.format(pca.explained_variance_ratio_))"
   ]
  },
  {
   "cell_type": "code",
   "execution_count": 212,
   "metadata": {
    "scrolled": true
   },
   "outputs": [
    {
     "name": "stdout",
     "output_type": "stream",
     "text": [
      "[t-SNE] Computing 121 nearest neighbors...\n",
      "[t-SNE] Indexed 91531 samples in 0.010s...\n",
      "[t-SNE] Computed neighbors for 91531 samples in 113.935s...\n",
      "[t-SNE] Computed conditional probabilities for sample 1000 / 91531\n",
      "[t-SNE] Computed conditional probabilities for sample 2000 / 91531\n",
      "[t-SNE] Computed conditional probabilities for sample 3000 / 91531\n",
      "[t-SNE] Computed conditional probabilities for sample 4000 / 91531\n",
      "[t-SNE] Computed conditional probabilities for sample 5000 / 91531\n",
      "[t-SNE] Computed conditional probabilities for sample 6000 / 91531\n",
      "[t-SNE] Computed conditional probabilities for sample 7000 / 91531\n",
      "[t-SNE] Computed conditional probabilities for sample 8000 / 91531\n",
      "[t-SNE] Computed conditional probabilities for sample 9000 / 91531\n",
      "[t-SNE] Computed conditional probabilities for sample 10000 / 91531\n",
      "[t-SNE] Computed conditional probabilities for sample 11000 / 91531\n",
      "[t-SNE] Computed conditional probabilities for sample 12000 / 91531\n",
      "[t-SNE] Computed conditional probabilities for sample 13000 / 91531\n",
      "[t-SNE] Computed conditional probabilities for sample 14000 / 91531\n",
      "[t-SNE] Computed conditional probabilities for sample 15000 / 91531\n",
      "[t-SNE] Computed conditional probabilities for sample 16000 / 91531\n",
      "[t-SNE] Computed conditional probabilities for sample 17000 / 91531\n",
      "[t-SNE] Computed conditional probabilities for sample 18000 / 91531\n",
      "[t-SNE] Computed conditional probabilities for sample 19000 / 91531\n",
      "[t-SNE] Computed conditional probabilities for sample 20000 / 91531\n",
      "[t-SNE] Computed conditional probabilities for sample 21000 / 91531\n",
      "[t-SNE] Computed conditional probabilities for sample 22000 / 91531\n",
      "[t-SNE] Computed conditional probabilities for sample 23000 / 91531\n",
      "[t-SNE] Computed conditional probabilities for sample 24000 / 91531\n",
      "[t-SNE] Computed conditional probabilities for sample 25000 / 91531\n",
      "[t-SNE] Computed conditional probabilities for sample 26000 / 91531\n",
      "[t-SNE] Computed conditional probabilities for sample 27000 / 91531\n",
      "[t-SNE] Computed conditional probabilities for sample 28000 / 91531\n",
      "[t-SNE] Computed conditional probabilities for sample 29000 / 91531\n",
      "[t-SNE] Computed conditional probabilities for sample 30000 / 91531\n",
      "[t-SNE] Computed conditional probabilities for sample 31000 / 91531\n",
      "[t-SNE] Computed conditional probabilities for sample 32000 / 91531\n",
      "[t-SNE] Computed conditional probabilities for sample 33000 / 91531\n",
      "[t-SNE] Computed conditional probabilities for sample 34000 / 91531\n",
      "[t-SNE] Computed conditional probabilities for sample 35000 / 91531\n",
      "[t-SNE] Computed conditional probabilities for sample 36000 / 91531\n",
      "[t-SNE] Computed conditional probabilities for sample 37000 / 91531\n",
      "[t-SNE] Computed conditional probabilities for sample 38000 / 91531\n",
      "[t-SNE] Computed conditional probabilities for sample 39000 / 91531\n",
      "[t-SNE] Computed conditional probabilities for sample 40000 / 91531\n",
      "[t-SNE] Computed conditional probabilities for sample 41000 / 91531\n",
      "[t-SNE] Computed conditional probabilities for sample 42000 / 91531\n",
      "[t-SNE] Computed conditional probabilities for sample 43000 / 91531\n",
      "[t-SNE] Computed conditional probabilities for sample 44000 / 91531\n",
      "[t-SNE] Computed conditional probabilities for sample 45000 / 91531\n",
      "[t-SNE] Computed conditional probabilities for sample 46000 / 91531\n",
      "[t-SNE] Computed conditional probabilities for sample 47000 / 91531\n",
      "[t-SNE] Computed conditional probabilities for sample 48000 / 91531\n",
      "[t-SNE] Computed conditional probabilities for sample 49000 / 91531\n",
      "[t-SNE] Computed conditional probabilities for sample 50000 / 91531\n",
      "[t-SNE] Computed conditional probabilities for sample 51000 / 91531\n",
      "[t-SNE] Computed conditional probabilities for sample 52000 / 91531\n",
      "[t-SNE] Computed conditional probabilities for sample 53000 / 91531\n",
      "[t-SNE] Computed conditional probabilities for sample 54000 / 91531\n",
      "[t-SNE] Computed conditional probabilities for sample 55000 / 91531\n",
      "[t-SNE] Computed conditional probabilities for sample 56000 / 91531\n",
      "[t-SNE] Computed conditional probabilities for sample 57000 / 91531\n",
      "[t-SNE] Computed conditional probabilities for sample 58000 / 91531\n",
      "[t-SNE] Computed conditional probabilities for sample 59000 / 91531\n",
      "[t-SNE] Computed conditional probabilities for sample 60000 / 91531\n",
      "[t-SNE] Computed conditional probabilities for sample 61000 / 91531\n",
      "[t-SNE] Computed conditional probabilities for sample 62000 / 91531\n",
      "[t-SNE] Computed conditional probabilities for sample 63000 / 91531\n",
      "[t-SNE] Computed conditional probabilities for sample 64000 / 91531\n",
      "[t-SNE] Computed conditional probabilities for sample 65000 / 91531\n",
      "[t-SNE] Computed conditional probabilities for sample 66000 / 91531\n",
      "[t-SNE] Computed conditional probabilities for sample 67000 / 91531\n",
      "[t-SNE] Computed conditional probabilities for sample 68000 / 91531\n",
      "[t-SNE] Computed conditional probabilities for sample 69000 / 91531\n",
      "[t-SNE] Computed conditional probabilities for sample 70000 / 91531\n",
      "[t-SNE] Computed conditional probabilities for sample 71000 / 91531\n",
      "[t-SNE] Computed conditional probabilities for sample 72000 / 91531\n",
      "[t-SNE] Computed conditional probabilities for sample 73000 / 91531\n",
      "[t-SNE] Computed conditional probabilities for sample 74000 / 91531\n",
      "[t-SNE] Computed conditional probabilities for sample 75000 / 91531\n",
      "[t-SNE] Computed conditional probabilities for sample 76000 / 91531\n",
      "[t-SNE] Computed conditional probabilities for sample 77000 / 91531\n",
      "[t-SNE] Computed conditional probabilities for sample 78000 / 91531\n",
      "[t-SNE] Computed conditional probabilities for sample 79000 / 91531\n",
      "[t-SNE] Computed conditional probabilities for sample 80000 / 91531\n",
      "[t-SNE] Computed conditional probabilities for sample 81000 / 91531\n",
      "[t-SNE] Computed conditional probabilities for sample 82000 / 91531\n",
      "[t-SNE] Computed conditional probabilities for sample 83000 / 91531\n",
      "[t-SNE] Computed conditional probabilities for sample 84000 / 91531\n",
      "[t-SNE] Computed conditional probabilities for sample 85000 / 91531\n",
      "[t-SNE] Computed conditional probabilities for sample 86000 / 91531\n",
      "[t-SNE] Computed conditional probabilities for sample 87000 / 91531\n",
      "[t-SNE] Computed conditional probabilities for sample 88000 / 91531\n",
      "[t-SNE] Computed conditional probabilities for sample 89000 / 91531\n",
      "[t-SNE] Computed conditional probabilities for sample 90000 / 91531\n",
      "[t-SNE] Computed conditional probabilities for sample 91000 / 91531\n",
      "[t-SNE] Computed conditional probabilities for sample 91531 / 91531\n",
      "[t-SNE] Mean sigma: 0.000000\n",
      "[t-SNE] KL divergence after 250 iterations with early exaggeration: 87.747345\n",
      "[t-SNE] KL divergence after 300 iterations: 4.634325\n"
     ]
    }
   ],
   "source": [
    "tsne = TSNE(n_components=2, verbose=1, perplexity=40, n_iter=300)\n",
    "tsne_results = tsne.fit_transform(np_nn_x)"
   ]
  },
  {
   "cell_type": "code",
   "execution_count": 224,
   "metadata": {},
   "outputs": [
    {
     "data": {
      "text/plain": [
       "<AxesSubplot:xlabel='t1', ylabel='t2'>"
      ]
     },
     "execution_count": 224,
     "metadata": {},
     "output_type": "execute_result"
    },
    {
     "data": {
      "image/png": "[encoded data removed]",
      "text/plain": [
       "<Figure size 1152x720 with 1 Axes>"
      ]
     },
     "metadata": {
      "needs_background": "light"
     },
     "output_type": "display_data"
    }
   ],
   "source": [
    "import seaborn as sns\n",
    "pca_df['t1']=tsne_results[:,0]\n",
    "pca_df['t2']=tsne_results[:,1]\n",
    "pca_df['y'] =df_y['label']\n",
    "plt.figure(figsize=(16,10))\n",
    "sns.scatterplot(\n",
    "    x=\"t1\", y=\"t2\",\n",
    "    hue=\"y\",\n",
    "    palette=sns.color_palette(\"hls\", 10),\n",
    "    data=pca_df,\n",
    "    legend=\"full\",\n",
    "    alpha=0.3\n",
    ")"
   ]
  },
  {
   "cell_type": "code",
   "execution_count": 216,
   "metadata": {},
   "outputs": [
    {
     "name": "stdout",
     "output_type": "stream",
     "text": [
      "pip 20.3.3 from /home/ican/.local/lib/python3.6/site-packages/pip (python 3.6)\r\n"
     ]
    }
   ],
   "source": [
    "!pip --version"
   ]
  },
  {
   "cell_type": "code",
   "execution_count": 159,
   "metadata": {},
   "outputs": [
    {
     "ename": "NameError",
     "evalue": "name 'tsne_results' is not defined",
     "output_type": "error",
     "traceback": [
      "\u001b[0;31m---------------------------------------------------------------------------\u001b[0m",
      "\u001b[0;31mNameError\u001b[0m                                 Traceback (most recent call last)",
      "\u001b[0;32m<ipython-input-159-d364d485a626>\u001b[0m in \u001b[0;36m<module>\u001b[0;34m\u001b[0m\n\u001b[0;32m----> 1\u001b[0;31m \u001b[0mtsne_results\u001b[0m\u001b[0;34m\u001b[0m\u001b[0;34m\u001b[0m\u001b[0m\n\u001b[0m",
      "\u001b[0;31mNameError\u001b[0m: name 'tsne_results' is not defined"
     ]
    }
   ],
   "source": [
    "tsne_results"
   ]
  },
  {
   "cell_type": "code",
   "execution_count": null,
   "metadata": {},
   "outputs": [],
   "source": []
  }
 ],
 "metadata": {
  "kernelspec": {
   "display_name": "Python 3",
   "language": "python",
   "name": "python3"
  },
  "language_info": {
   "codemirror_mode": {
    "name": "ipython",
    "version": 3
   },
   "file_extension": ".py",
   "mimetype": "text/x-python",
   "name": "python",
   "nbconvert_exporter": "python",
   "pygments_lexer": "ipython3",
   "version": "3.8.5"
  }
 },
 "nbformat": 4,
 "nbformat_minor": 4
}
