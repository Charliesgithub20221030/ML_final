{
 "cells": [
  {
   "cell_type": "markdown",
   "metadata": {},
   "source": [
    "# Feature Engineering "
   ]
  },
  {
   "cell_type": "code",
   "execution_count": 1,
   "metadata": {},
   "outputs": [],
   "source": [
    "import pandas as pd\n",
    "import numpy as np\n",
    "import math\n",
    "from datetime import datetime\n",
    "from copy import deepcopy\n",
    "import os\n",
    "from os.path import join as pj\n",
    "\n",
    "\n",
    "month_map = dict(zip(['January', 'February', 'March', 'April', 'May', 'June',\n",
    "     'July', 'August', 'September', 'October', 'November', 'December'],\n",
    "     list(range(1,13))))\n",
    "parse_date = lambda x: datetime.strptime(x , '%Y-%m-%d')\n",
    "\n",
    "\n",
    "root = 'dataset'\n",
    "train_x_path = pj(root ,'train.csv')\n",
    "train_y_path = pj(root , 'train_label.csv')\n",
    "test_x_path = pj(root , 'test.csv')\n",
    "test_y_path = pj(root,  'test_nolabel.csv')\n"
   ]
  },
  {
   "cell_type": "code",
   "execution_count": 4,
   "metadata": {},
   "outputs": [],
   "source": [
    "def preprocessing(df):\n",
    "    df = df.replace({'arrival_date_month' : month_map})\n",
    "    df['arrival_date'] = df[['arrival_date_year', 'arrival_date_month', 'arrival_date_day_of_month']].astype(str).agg('-'.join, axis=1)\n",
    "    df['arrival_date'] = df['arrival_date'].apply(parse_date)\n",
    "    return df\n",
    "# def agg(df , method='sum'):\n",
    "#     if method=='sum':\n",
    "#         df.groupby(['arrival_date']).sum()\n",
    "#     elif method=='mean':\n",
    "        "
   ]
  },
  {
   "cell_type": "code",
   "execution_count": 56,
   "metadata": {},
   "outputs": [],
   "source": [
    "df_x = pd.read_csv(train_x_path)\n",
    "df_y = pd.read_csv(train_y_path)\n",
    "\n",
    "df_x_t = pd.read_csv(test_x_path)\n",
    "df_y_t = pd.read_csv(test_y_path)\n",
    "\n",
    "\n",
    "    \n",
    "df_x = preprocessing(df_x)\n",
    "df_y['arrival_date'] = df_y['arrival_date'].apply(parse_date)\n",
    "\n",
    "df_x_t = preprocessing(df_x_t)\n",
    "df_y_t['arrival_date'] = df_y_t['arrival_date'].apply(parse_date)"
   ]
  },
  {
   "cell_type": "code",
   "execution_count": 57,
   "metadata": {
    "scrolled": true
   },
   "outputs": [
    {
     "data": {
      "text/plain": [
       "[(91531, 34), (27859, 30)]"
      ]
     },
     "execution_count": 57,
     "metadata": {},
     "output_type": "execute_result"
    }
   ],
   "source": [
    "[df_x.shape , df_x_t.shape]\n",
    "# df_x['arrival_date'].unique()\n",
    "# df_x[['arrival_date_year' , 'arrival_date_month', 'arrival_date_day_of_month']]"
   ]
  },
  {
   "cell_type": "code",
   "execution_count": null,
   "metadata": {},
   "outputs": [],
   "source": []
  },
  {
   "cell_type": "code",
   "execution_count": 7,
   "metadata": {},
   "outputs": [
    {
     "name": "stdout",
     "output_type": "stream",
     "text": [
      "<class 'pandas.core.frame.DataFrame'>\n",
      "RangeIndex: 91531 entries, 0 to 91530\n",
      "Data columns (total 34 columns):\n",
      " #   Column                          Non-Null Count  Dtype         \n",
      "---  ------                          --------------  -----         \n",
      " 0   ID                              91531 non-null  int64         \n",
      " 1   hotel                           91531 non-null  object        \n",
      " 2   is_canceled                     91531 non-null  int64         \n",
      " 3   lead_time                       91531 non-null  int64         \n",
      " 4   arrival_date_year               91531 non-null  int64         \n",
      " 5   arrival_date_month              91531 non-null  int64         \n",
      " 6   arrival_date_week_number        91531 non-null  int64         \n",
      " 7   arrival_date_day_of_month       91531 non-null  int64         \n",
      " 8   stays_in_weekend_nights         91531 non-null  int64         \n",
      " 9   stays_in_week_nights            91531 non-null  int64         \n",
      " 10  adults                          91531 non-null  int64         \n",
      " 11  children                        91527 non-null  float64       \n",
      " 12  babies                          91531 non-null  int64         \n",
      " 13  meal                            91531 non-null  object        \n",
      " 14  country                         91063 non-null  object        \n",
      " 15  market_segment                  91531 non-null  object        \n",
      " 16  distribution_channel            91531 non-null  object        \n",
      " 17  is_repeated_guest               91531 non-null  int64         \n",
      " 18  previous_cancellations          91531 non-null  int64         \n",
      " 19  previous_bookings_not_canceled  91531 non-null  int64         \n",
      " 20  reserved_room_type              91531 non-null  object        \n",
      " 21  assigned_room_type              91531 non-null  object        \n",
      " 22  booking_changes                 91531 non-null  int64         \n",
      " 23  deposit_type                    91531 non-null  object        \n",
      " 24  agent                           78314 non-null  float64       \n",
      " 25  company                         5614 non-null   float64       \n",
      " 26  days_in_waiting_list            91531 non-null  int64         \n",
      " 27  customer_type                   91531 non-null  object        \n",
      " 28  adr                             91531 non-null  float64       \n",
      " 29  required_car_parking_spaces     91531 non-null  int64         \n",
      " 30  total_of_special_requests       91531 non-null  int64         \n",
      " 31  reservation_status              91531 non-null  object        \n",
      " 32  reservation_status_date         91531 non-null  object        \n",
      " 33  arrival_date                    91531 non-null  datetime64[ns]\n",
      "dtypes: datetime64[ns](1), float64(4), int64(18), object(11)\n",
      "memory usage: 23.7+ MB\n"
     ]
    }
   ],
   "source": [
    "df_x.info()"
   ]
  },
  {
   "cell_type": "code",
   "execution_count": 8,
   "metadata": {
    "scrolled": true
   },
   "outputs": [
    {
     "data": {
      "text/html": [
       "<div>\n",
       "<style scoped>\n",
       "    .dataframe tbody tr th:only-of-type {\n",
       "        vertical-align: middle;\n",
       "    }\n",
       "\n",
       "    .dataframe tbody tr th {\n",
       "        vertical-align: top;\n",
       "    }\n",
       "\n",
       "    .dataframe thead th {\n",
       "        text-align: right;\n",
       "    }\n",
       "</style>\n",
       "<table border=\"1\" class=\"dataframe\">\n",
       "  <thead>\n",
       "    <tr style=\"text-align: right;\">\n",
       "      <th></th>\n",
       "      <th>adults</th>\n",
       "      <th>children</th>\n",
       "      <th>babies</th>\n",
       "      <th>is_repeated_guest</th>\n",
       "      <th>previous_cancellations</th>\n",
       "      <th>previous_bookings_not_canceled</th>\n",
       "      <th>booking_changes</th>\n",
       "      <th>agent</th>\n",
       "      <th>company</th>\n",
       "      <th>days_in_waiting_list</th>\n",
       "      <th>adr</th>\n",
       "      <th>required_car_parking_spaces</th>\n",
       "      <th>total_of_special_requests</th>\n",
       "    </tr>\n",
       "  </thead>\n",
       "  <tbody>\n",
       "    <tr>\n",
       "      <th>count</th>\n",
       "      <td>91531.000000</td>\n",
       "      <td>91527.000000</td>\n",
       "      <td>91531.000000</td>\n",
       "      <td>91531.000000</td>\n",
       "      <td>91531.000000</td>\n",
       "      <td>91531.000000</td>\n",
       "      <td>91531.000000</td>\n",
       "      <td>78314.000000</td>\n",
       "      <td>5614.000000</td>\n",
       "      <td>91531.000000</td>\n",
       "      <td>91531.000000</td>\n",
       "      <td>91531.000000</td>\n",
       "      <td>91531.000000</td>\n",
       "    </tr>\n",
       "    <tr>\n",
       "      <th>mean</th>\n",
       "      <td>1.835761</td>\n",
       "      <td>0.090968</td>\n",
       "      <td>0.008369</td>\n",
       "      <td>0.033890</td>\n",
       "      <td>0.110236</td>\n",
       "      <td>0.134566</td>\n",
       "      <td>0.213480</td>\n",
       "      <td>83.343834</td>\n",
       "      <td>181.809939</td>\n",
       "      <td>2.962177</td>\n",
       "      <td>84.644487</td>\n",
       "      <td>0.065519</td>\n",
       "      <td>0.528346</td>\n",
       "    </tr>\n",
       "    <tr>\n",
       "      <th>std</th>\n",
       "      <td>0.605828</td>\n",
       "      <td>0.373917</td>\n",
       "      <td>0.101749</td>\n",
       "      <td>0.180947</td>\n",
       "      <td>0.957503</td>\n",
       "      <td>1.397675</td>\n",
       "      <td>0.635941</td>\n",
       "      <td>107.157625</td>\n",
       "      <td>128.603363</td>\n",
       "      <td>19.925026</td>\n",
       "      <td>51.408067</td>\n",
       "      <td>0.250991</td>\n",
       "      <td>0.766310</td>\n",
       "    </tr>\n",
       "    <tr>\n",
       "      <th>min</th>\n",
       "      <td>0.000000</td>\n",
       "      <td>0.000000</td>\n",
       "      <td>0.000000</td>\n",
       "      <td>0.000000</td>\n",
       "      <td>0.000000</td>\n",
       "      <td>0.000000</td>\n",
       "      <td>0.000000</td>\n",
       "      <td>1.000000</td>\n",
       "      <td>6.000000</td>\n",
       "      <td>0.000000</td>\n",
       "      <td>-144.704486</td>\n",
       "      <td>0.000000</td>\n",
       "      <td>0.000000</td>\n",
       "    </tr>\n",
       "    <tr>\n",
       "      <th>25%</th>\n",
       "      <td>2.000000</td>\n",
       "      <td>0.000000</td>\n",
       "      <td>0.000000</td>\n",
       "      <td>0.000000</td>\n",
       "      <td>0.000000</td>\n",
       "      <td>0.000000</td>\n",
       "      <td>0.000000</td>\n",
       "      <td>9.000000</td>\n",
       "      <td>51.000000</td>\n",
       "      <td>0.000000</td>\n",
       "      <td>52.677038</td>\n",
       "      <td>0.000000</td>\n",
       "      <td>0.000000</td>\n",
       "    </tr>\n",
       "    <tr>\n",
       "      <th>50%</th>\n",
       "      <td>2.000000</td>\n",
       "      <td>0.000000</td>\n",
       "      <td>0.000000</td>\n",
       "      <td>0.000000</td>\n",
       "      <td>0.000000</td>\n",
       "      <td>0.000000</td>\n",
       "      <td>0.000000</td>\n",
       "      <td>14.000000</td>\n",
       "      <td>174.000000</td>\n",
       "      <td>0.000000</td>\n",
       "      <td>80.770793</td>\n",
       "      <td>0.000000</td>\n",
       "      <td>0.000000</td>\n",
       "    </tr>\n",
       "    <tr>\n",
       "      <th>75%</th>\n",
       "      <td>2.000000</td>\n",
       "      <td>0.000000</td>\n",
       "      <td>0.000000</td>\n",
       "      <td>0.000000</td>\n",
       "      <td>0.000000</td>\n",
       "      <td>0.000000</td>\n",
       "      <td>0.000000</td>\n",
       "      <td>192.000000</td>\n",
       "      <td>242.000000</td>\n",
       "      <td>0.000000</td>\n",
       "      <td>110.468168</td>\n",
       "      <td>0.000000</td>\n",
       "      <td>1.000000</td>\n",
       "    </tr>\n",
       "    <tr>\n",
       "      <th>max</th>\n",
       "      <td>55.000000</td>\n",
       "      <td>10.000000</td>\n",
       "      <td>10.000000</td>\n",
       "      <td>1.000000</td>\n",
       "      <td>26.000000</td>\n",
       "      <td>61.000000</td>\n",
       "      <td>21.000000</td>\n",
       "      <td>510.000000</td>\n",
       "      <td>523.000000</td>\n",
       "      <td>391.000000</td>\n",
       "      <td>5399.424061</td>\n",
       "      <td>8.000000</td>\n",
       "      <td>5.000000</td>\n",
       "    </tr>\n",
       "  </tbody>\n",
       "</table>\n",
       "</div>"
      ],
      "text/plain": [
       "             adults      children        babies  is_repeated_guest  \\\n",
       "count  91531.000000  91527.000000  91531.000000       91531.000000   \n",
       "mean       1.835761      0.090968      0.008369           0.033890   \n",
       "std        0.605828      0.373917      0.101749           0.180947   \n",
       "min        0.000000      0.000000      0.000000           0.000000   \n",
       "25%        2.000000      0.000000      0.000000           0.000000   \n",
       "50%        2.000000      0.000000      0.000000           0.000000   \n",
       "75%        2.000000      0.000000      0.000000           0.000000   \n",
       "max       55.000000     10.000000     10.000000           1.000000   \n",
       "\n",
       "       previous_cancellations  previous_bookings_not_canceled  \\\n",
       "count            91531.000000                    91531.000000   \n",
       "mean                 0.110236                        0.134566   \n",
       "std                  0.957503                        1.397675   \n",
       "min                  0.000000                        0.000000   \n",
       "25%                  0.000000                        0.000000   \n",
       "50%                  0.000000                        0.000000   \n",
       "75%                  0.000000                        0.000000   \n",
       "max                 26.000000                       61.000000   \n",
       "\n",
       "       booking_changes         agent      company  days_in_waiting_list  \\\n",
       "count     91531.000000  78314.000000  5614.000000          91531.000000   \n",
       "mean          0.213480     83.343834   181.809939              2.962177   \n",
       "std           0.635941    107.157625   128.603363             19.925026   \n",
       "min           0.000000      1.000000     6.000000              0.000000   \n",
       "25%           0.000000      9.000000    51.000000              0.000000   \n",
       "50%           0.000000     14.000000   174.000000              0.000000   \n",
       "75%           0.000000    192.000000   242.000000              0.000000   \n",
       "max          21.000000    510.000000   523.000000            391.000000   \n",
       "\n",
       "                adr  required_car_parking_spaces  total_of_special_requests  \n",
       "count  91531.000000                 91531.000000               91531.000000  \n",
       "mean      84.644487                     0.065519                   0.528346  \n",
       "std       51.408067                     0.250991                   0.766310  \n",
       "min     -144.704486                     0.000000                   0.000000  \n",
       "25%       52.677038                     0.000000                   0.000000  \n",
       "50%       80.770793                     0.000000                   0.000000  \n",
       "75%      110.468168                     0.000000                   1.000000  \n",
       "max     5399.424061                     8.000000                   5.000000  "
      ]
     },
     "execution_count": 8,
     "metadata": {},
     "output_type": "execute_result"
    }
   ],
   "source": [
    "df_x.describe().iloc[:,9:]"
   ]
  },
  {
   "cell_type": "code",
   "execution_count": 9,
   "metadata": {},
   "outputs": [],
   "source": [
    "# df_clean = df_x[['is_canceled','adults', 'children', 'babies', 'meal',\n",
    "#        'country', 'market_segment', 'distribution_channel',\n",
    "#        'is_repeated_guest', 'previous_cancellations',\n",
    "#        'previous_bookings_not_canceled', 'reserved_room_type',\n",
    "#        'assigned_room_type', 'booking_changes', 'deposit_type', 'agent',\n",
    "#        'company', 'days_in_waiting_list', 'customer_type', 'adr',\n",
    "#        'required_car_parking_spaces', 'total_of_special_requests',\n",
    "#        'reservation_status', 'reservation_status_date']]"
   ]
  },
  {
   "cell_type": "code",
   "execution_count": 44,
   "metadata": {},
   "outputs": [
    {
     "data": {
      "text/plain": [
       "Index(['ID', 'hotel', 'lead_time', 'arrival_date_year', 'arrival_date_month',\n",
       "       'arrival_date_week_number', 'arrival_date_day_of_month',\n",
       "       'stays_in_weekend_nights', 'stays_in_week_nights', 'adults', 'children',\n",
       "       'babies', 'meal', 'country', 'market_segment', 'distribution_channel',\n",
       "       'is_repeated_guest', 'previous_cancellations',\n",
       "       'previous_bookings_not_canceled', 'reserved_room_type',\n",
       "       'assigned_room_type', 'booking_changes', 'deposit_type', 'agent',\n",
       "       'company', 'days_in_waiting_list', 'customer_type',\n",
       "       'required_car_parking_spaces', 'total_of_special_requests',\n",
       "       'arrival_date'],\n",
       "      dtype='object')"
      ]
     },
     "execution_count": 44,
     "metadata": {},
     "output_type": "execute_result"
    }
   ],
   "source": [
    "df_x_t.columns"
   ]
  },
  {
   "cell_type": "code",
   "execution_count": 42,
   "metadata": {
    "scrolled": true
   },
   "outputs": [
    {
     "ename": "KeyError",
     "evalue": "\"['adr'] not in index\"",
     "output_type": "error",
     "traceback": [
      "\u001b[0;31m---------------------------------------------------------------------------\u001b[0m",
      "\u001b[0;31mKeyError\u001b[0m                                  Traceback (most recent call last)",
      "\u001b[0;32m<ipython-input-42-8bd9ee677be0>\u001b[0m in \u001b[0;36m<module>\u001b[0;34m\u001b[0m\n\u001b[1;32m      2\u001b[0m          'required_car_parking_spaces','total_of_special_requests' ]]\n\u001b[1;32m      3\u001b[0m \u001b[0;34m\u001b[0m\u001b[0m\n\u001b[0;32m----> 4\u001b[0;31m df_clean_t =df_x_t[['arrival_date','adr','adults' ,'children','babies',\n\u001b[0m\u001b[1;32m      5\u001b[0m          'required_car_parking_spaces','total_of_special_requests' ]]\n",
      "\u001b[0;32m/usr/local/lib/python3.8/site-packages/pandas/core/frame.py\u001b[0m in \u001b[0;36m__getitem__\u001b[0;34m(self, key)\u001b[0m\n\u001b[1;32m   2903\u001b[0m             \u001b[0;32mif\u001b[0m \u001b[0mis_iterator\u001b[0m\u001b[0;34m(\u001b[0m\u001b[0mkey\u001b[0m\u001b[0;34m)\u001b[0m\u001b[0;34m:\u001b[0m\u001b[0;34m\u001b[0m\u001b[0;34m\u001b[0m\u001b[0m\n\u001b[1;32m   2904\u001b[0m                 \u001b[0mkey\u001b[0m \u001b[0;34m=\u001b[0m \u001b[0mlist\u001b[0m\u001b[0;34m(\u001b[0m\u001b[0mkey\u001b[0m\u001b[0;34m)\u001b[0m\u001b[0;34m\u001b[0m\u001b[0;34m\u001b[0m\u001b[0m\n\u001b[0;32m-> 2905\u001b[0;31m             \u001b[0mindexer\u001b[0m \u001b[0;34m=\u001b[0m \u001b[0mself\u001b[0m\u001b[0;34m.\u001b[0m\u001b[0mloc\u001b[0m\u001b[0;34m.\u001b[0m\u001b[0m_get_listlike_indexer\u001b[0m\u001b[0;34m(\u001b[0m\u001b[0mkey\u001b[0m\u001b[0;34m,\u001b[0m \u001b[0maxis\u001b[0m\u001b[0;34m=\u001b[0m\u001b[0;36m1\u001b[0m\u001b[0;34m,\u001b[0m \u001b[0mraise_missing\u001b[0m\u001b[0;34m=\u001b[0m\u001b[0;32mTrue\u001b[0m\u001b[0;34m)\u001b[0m\u001b[0;34m[\u001b[0m\u001b[0;36m1\u001b[0m\u001b[0;34m]\u001b[0m\u001b[0;34m\u001b[0m\u001b[0;34m\u001b[0m\u001b[0m\n\u001b[0m\u001b[1;32m   2906\u001b[0m \u001b[0;34m\u001b[0m\u001b[0m\n\u001b[1;32m   2907\u001b[0m         \u001b[0;31m# take() does not accept boolean indexers\u001b[0m\u001b[0;34m\u001b[0m\u001b[0;34m\u001b[0m\u001b[0;34m\u001b[0m\u001b[0m\n",
      "\u001b[0;32m/usr/local/lib/python3.8/site-packages/pandas/core/indexing.py\u001b[0m in \u001b[0;36m_get_listlike_indexer\u001b[0;34m(self, key, axis, raise_missing)\u001b[0m\n\u001b[1;32m   1252\u001b[0m             \u001b[0mkeyarr\u001b[0m\u001b[0;34m,\u001b[0m \u001b[0mindexer\u001b[0m\u001b[0;34m,\u001b[0m \u001b[0mnew_indexer\u001b[0m \u001b[0;34m=\u001b[0m \u001b[0max\u001b[0m\u001b[0;34m.\u001b[0m\u001b[0m_reindex_non_unique\u001b[0m\u001b[0;34m(\u001b[0m\u001b[0mkeyarr\u001b[0m\u001b[0;34m)\u001b[0m\u001b[0;34m\u001b[0m\u001b[0;34m\u001b[0m\u001b[0m\n\u001b[1;32m   1253\u001b[0m \u001b[0;34m\u001b[0m\u001b[0m\n\u001b[0;32m-> 1254\u001b[0;31m         \u001b[0mself\u001b[0m\u001b[0;34m.\u001b[0m\u001b[0m_validate_read_indexer\u001b[0m\u001b[0;34m(\u001b[0m\u001b[0mkeyarr\u001b[0m\u001b[0;34m,\u001b[0m \u001b[0mindexer\u001b[0m\u001b[0;34m,\u001b[0m \u001b[0maxis\u001b[0m\u001b[0;34m,\u001b[0m \u001b[0mraise_missing\u001b[0m\u001b[0;34m=\u001b[0m\u001b[0mraise_missing\u001b[0m\u001b[0;34m)\u001b[0m\u001b[0;34m\u001b[0m\u001b[0;34m\u001b[0m\u001b[0m\n\u001b[0m\u001b[1;32m   1255\u001b[0m         \u001b[0;32mreturn\u001b[0m \u001b[0mkeyarr\u001b[0m\u001b[0;34m,\u001b[0m \u001b[0mindexer\u001b[0m\u001b[0;34m\u001b[0m\u001b[0;34m\u001b[0m\u001b[0m\n\u001b[1;32m   1256\u001b[0m \u001b[0;34m\u001b[0m\u001b[0m\n",
      "\u001b[0;32m/usr/local/lib/python3.8/site-packages/pandas/core/indexing.py\u001b[0m in \u001b[0;36m_validate_read_indexer\u001b[0;34m(self, key, indexer, axis, raise_missing)\u001b[0m\n\u001b[1;32m   1302\u001b[0m             \u001b[0;32mif\u001b[0m \u001b[0mraise_missing\u001b[0m\u001b[0;34m:\u001b[0m\u001b[0;34m\u001b[0m\u001b[0;34m\u001b[0m\u001b[0m\n\u001b[1;32m   1303\u001b[0m                 \u001b[0mnot_found\u001b[0m \u001b[0;34m=\u001b[0m \u001b[0mlist\u001b[0m\u001b[0;34m(\u001b[0m\u001b[0mset\u001b[0m\u001b[0;34m(\u001b[0m\u001b[0mkey\u001b[0m\u001b[0;34m)\u001b[0m \u001b[0;34m-\u001b[0m \u001b[0mset\u001b[0m\u001b[0;34m(\u001b[0m\u001b[0max\u001b[0m\u001b[0;34m)\u001b[0m\u001b[0;34m)\u001b[0m\u001b[0;34m\u001b[0m\u001b[0;34m\u001b[0m\u001b[0m\n\u001b[0;32m-> 1304\u001b[0;31m                 \u001b[0;32mraise\u001b[0m \u001b[0mKeyError\u001b[0m\u001b[0;34m(\u001b[0m\u001b[0;34mf\"{not_found} not in index\"\u001b[0m\u001b[0;34m)\u001b[0m\u001b[0;34m\u001b[0m\u001b[0;34m\u001b[0m\u001b[0m\n\u001b[0m\u001b[1;32m   1305\u001b[0m \u001b[0;34m\u001b[0m\u001b[0m\n\u001b[1;32m   1306\u001b[0m             \u001b[0;31m# we skip the warning on Categorical\u001b[0m\u001b[0;34m\u001b[0m\u001b[0;34m\u001b[0m\u001b[0;34m\u001b[0m\u001b[0m\n",
      "\u001b[0;31mKeyError\u001b[0m: \"['adr'] not in index\""
     ]
    }
   ],
   "source": [
    "df_clean =df_x[['arrival_date','adr','adults' ,'children','babies',\n",
    "         'required_car_parking_spaces','total_of_special_requests' ]]\n",
    "\n",
    "df_clean_t =df_x_t[['arrival_date','adr','adults' ,'children','babies',\n",
    "         'required_car_parking_spaces','total_of_special_requests' ]]"
   ]
  },
  {
   "cell_type": "code",
   "execution_count": 11,
   "metadata": {},
   "outputs": [],
   "source": [
    "df_agg = df_clean.groupby(['arrival_date']).sum()\n",
    "# df_agg['arrival_date'] = df_agg.index"
   ]
  },
  {
   "cell_type": "code",
   "execution_count": 12,
   "metadata": {},
   "outputs": [],
   "source": [
    "df_agg_mean = df_clean.groupby(['arrival_date']).mean()"
   ]
  },
  {
   "cell_type": "code",
   "execution_count": 13,
   "metadata": {},
   "outputs": [
    {
     "data": {
      "text/html": [
       "<div>\n",
       "<style scoped>\n",
       "    .dataframe tbody tr th:only-of-type {\n",
       "        vertical-align: middle;\n",
       "    }\n",
       "\n",
       "    .dataframe tbody tr th {\n",
       "        vertical-align: top;\n",
       "    }\n",
       "\n",
       "    .dataframe thead th {\n",
       "        text-align: right;\n",
       "    }\n",
       "</style>\n",
       "<table border=\"1\" class=\"dataframe\">\n",
       "  <thead>\n",
       "    <tr style=\"text-align: right;\">\n",
       "      <th></th>\n",
       "      <th>adr</th>\n",
       "      <th>adults</th>\n",
       "      <th>children</th>\n",
       "      <th>babies</th>\n",
       "      <th>required_car_parking_spaces</th>\n",
       "      <th>total_of_special_requests</th>\n",
       "    </tr>\n",
       "    <tr>\n",
       "      <th>arrival_date</th>\n",
       "      <th></th>\n",
       "      <th></th>\n",
       "      <th></th>\n",
       "      <th></th>\n",
       "      <th></th>\n",
       "      <th></th>\n",
       "    </tr>\n",
       "  </thead>\n",
       "  <tbody>\n",
       "    <tr>\n",
       "      <th>2015-07-01</th>\n",
       "      <td>8490.218248</td>\n",
       "      <td>223</td>\n",
       "      <td>2.0</td>\n",
       "      <td>0</td>\n",
       "      <td>4</td>\n",
       "      <td>39</td>\n",
       "    </tr>\n",
       "    <tr>\n",
       "      <th>2015-07-02</th>\n",
       "      <td>5938.812547</td>\n",
       "      <td>186</td>\n",
       "      <td>4.0</td>\n",
       "      <td>0</td>\n",
       "      <td>5</td>\n",
       "      <td>38</td>\n",
       "    </tr>\n",
       "    <tr>\n",
       "      <th>2015-07-03</th>\n",
       "      <td>4709.476079</td>\n",
       "      <td>112</td>\n",
       "      <td>4.0</td>\n",
       "      <td>0</td>\n",
       "      <td>7</td>\n",
       "      <td>27</td>\n",
       "    </tr>\n",
       "    <tr>\n",
       "      <th>2015-07-04</th>\n",
       "      <td>6301.681498</td>\n",
       "      <td>171</td>\n",
       "      <td>8.0</td>\n",
       "      <td>2</td>\n",
       "      <td>7</td>\n",
       "      <td>45</td>\n",
       "    </tr>\n",
       "    <tr>\n",
       "      <th>2015-07-05</th>\n",
       "      <td>4807.284096</td>\n",
       "      <td>103</td>\n",
       "      <td>10.0</td>\n",
       "      <td>0</td>\n",
       "      <td>13</td>\n",
       "      <td>24</td>\n",
       "    </tr>\n",
       "    <tr>\n",
       "      <th>...</th>\n",
       "      <td>...</td>\n",
       "      <td>...</td>\n",
       "      <td>...</td>\n",
       "      <td>...</td>\n",
       "      <td>...</td>\n",
       "      <td>...</td>\n",
       "    </tr>\n",
       "    <tr>\n",
       "      <th>2017-03-27</th>\n",
       "      <td>14325.917045</td>\n",
       "      <td>338</td>\n",
       "      <td>2.0</td>\n",
       "      <td>0</td>\n",
       "      <td>8</td>\n",
       "      <td>115</td>\n",
       "    </tr>\n",
       "    <tr>\n",
       "      <th>2017-03-28</th>\n",
       "      <td>5693.387155</td>\n",
       "      <td>155</td>\n",
       "      <td>3.0</td>\n",
       "      <td>1</td>\n",
       "      <td>4</td>\n",
       "      <td>53</td>\n",
       "    </tr>\n",
       "    <tr>\n",
       "      <th>2017-03-29</th>\n",
       "      <td>10538.395178</td>\n",
       "      <td>258</td>\n",
       "      <td>8.0</td>\n",
       "      <td>2</td>\n",
       "      <td>13</td>\n",
       "      <td>95</td>\n",
       "    </tr>\n",
       "    <tr>\n",
       "      <th>2017-03-30</th>\n",
       "      <td>12306.789825</td>\n",
       "      <td>311</td>\n",
       "      <td>9.0</td>\n",
       "      <td>3</td>\n",
       "      <td>9</td>\n",
       "      <td>108</td>\n",
       "    </tr>\n",
       "    <tr>\n",
       "      <th>2017-03-31</th>\n",
       "      <td>19385.186046</td>\n",
       "      <td>404</td>\n",
       "      <td>19.0</td>\n",
       "      <td>0</td>\n",
       "      <td>8</td>\n",
       "      <td>133</td>\n",
       "    </tr>\n",
       "  </tbody>\n",
       "</table>\n",
       "<p>640 rows × 6 columns</p>\n",
       "</div>"
      ],
      "text/plain": [
       "                       adr  adults  children  babies  \\\n",
       "arrival_date                                           \n",
       "2015-07-01     8490.218248     223       2.0       0   \n",
       "2015-07-02     5938.812547     186       4.0       0   \n",
       "2015-07-03     4709.476079     112       4.0       0   \n",
       "2015-07-04     6301.681498     171       8.0       2   \n",
       "2015-07-05     4807.284096     103      10.0       0   \n",
       "...                    ...     ...       ...     ...   \n",
       "2017-03-27    14325.917045     338       2.0       0   \n",
       "2017-03-28     5693.387155     155       3.0       1   \n",
       "2017-03-29    10538.395178     258       8.0       2   \n",
       "2017-03-30    12306.789825     311       9.0       3   \n",
       "2017-03-31    19385.186046     404      19.0       0   \n",
       "\n",
       "              required_car_parking_spaces  total_of_special_requests  \n",
       "arrival_date                                                          \n",
       "2015-07-01                              4                         39  \n",
       "2015-07-02                              5                         38  \n",
       "2015-07-03                              7                         27  \n",
       "2015-07-04                              7                         45  \n",
       "2015-07-05                             13                         24  \n",
       "...                                   ...                        ...  \n",
       "2017-03-27                              8                        115  \n",
       "2017-03-28                              4                         53  \n",
       "2017-03-29                             13                         95  \n",
       "2017-03-30                              9                        108  \n",
       "2017-03-31                              8                        133  \n",
       "\n",
       "[640 rows x 6 columns]"
      ]
     },
     "execution_count": 13,
     "metadata": {},
     "output_type": "execute_result"
    }
   ],
   "source": [
    "df_agg"
   ]
  },
  {
   "cell_type": "code",
   "execution_count": 14,
   "metadata": {},
   "outputs": [],
   "source": [
    "df_merged = pd.merge(df_y , \n",
    "             df_agg ,\n",
    "             on = 'arrival_date').sort_values('arrival_date')\n",
    "\n",
    "df_merged_mean = pd.merge(df_y , \n",
    "             df_agg_mean ,\n",
    "             on = 'arrival_date').sort_values('arrival_date')\n",
    "\n",
    "# df_merged[df_merged['arrival_date']==parse_date('2015-10-27')]"
   ]
  },
  {
   "cell_type": "markdown",
   "metadata": {},
   "source": [
    "## Plot for distribution"
   ]
  },
  {
   "cell_type": "markdown",
   "metadata": {},
   "source": [
    "### sum aggregation"
   ]
  },
  {
   "cell_type": "code",
   "execution_count": 15,
   "metadata": {},
   "outputs": [
    {
     "data": {
      "text/plain": [
       "array([[<AxesSubplot:title={'center':'adr'}>,\n",
       "        <AxesSubplot:title={'center':'label'}>]], dtype=object)"
      ]
     },
     "execution_count": 15,
     "metadata": {},
     "output_type": "execute_result"
    },
    {
     "data": {
      "image/png": "[encoded data removed]",
      "text/plain": [
       "<Figure size 432x288 with 2 Axes>"
      ]
     },
     "metadata": {
      "needs_background": "light"
     },
     "output_type": "display_data"
    }
   ],
   "source": [
    "# df_agg[df_agg.index==parse_date('2015-10-30')]\n",
    "df_merged[['adr',  'label']].hist()"
   ]
  },
  {
   "cell_type": "markdown",
   "metadata": {},
   "source": [
    "### mean aggregation"
   ]
  },
  {
   "cell_type": "code",
   "execution_count": 16,
   "metadata": {},
   "outputs": [
    {
     "data": {
      "text/plain": [
       "array([[<AxesSubplot:title={'center':'adr'}>,\n",
       "        <AxesSubplot:title={'center':'label'}>]], dtype=object)"
      ]
     },
     "execution_count": 16,
     "metadata": {},
     "output_type": "execute_result"
    },
    {
     "data": {
      "image/png": "[encoded data removed]",
      "text/plain": [
       "<Figure size 432x288 with 2 Axes>"
      ]
     },
     "metadata": {
      "needs_background": "light"
     },
     "output_type": "display_data"
    }
   ],
   "source": [
    "df_merged_mean[['adr','label']].hist()"
   ]
  },
  {
   "cell_type": "code",
   "execution_count": null,
   "metadata": {},
   "outputs": [],
   "source": []
  },
  {
   "cell_type": "code",
   "execution_count": null,
   "metadata": {},
   "outputs": [],
   "source": []
  },
  {
   "cell_type": "code",
   "execution_count": 17,
   "metadata": {},
   "outputs": [
    {
     "name": "stdout",
     "output_type": "stream",
     "text": [
      "Requirement already satisfied: lightgbm in /usr/local/lib/python3.8/site-packages (3.1.1)\r\n",
      "Requirement already satisfied: scikit-learn!=0.22.0 in /usr/local/lib/python3.8/site-packages (from lightgbm) (0.23.2)\r\n",
      "Requirement already satisfied: numpy in /usr/local/lib/python3.8/site-packages (from lightgbm) (1.18.5)\r\n",
      "Requirement already satisfied: scipy in /usr/local/lib/python3.8/site-packages (from lightgbm) (1.5.4)\r\n",
      "Requirement already satisfied: wheel in /usr/local/lib/python3.8/site-packages (from lightgbm) (0.35.1)\r\n",
      "Requirement already satisfied: threadpoolctl>=2.0.0 in /usr/local/lib/python3.8/site-packages (from scikit-learn!=0.22.0->lightgbm) (2.1.0)\r\n",
      "Requirement already satisfied: joblib>=0.11 in /usr/local/lib/python3.8/site-packages (from scikit-learn!=0.22.0->lightgbm) (0.16.0)\r\n"
     ]
    }
   ],
   "source": [
    "!pip install lightgbm"
   ]
  },
  {
   "cell_type": "markdown",
   "metadata": {},
   "source": [
    "# Training and validation\n",
    "\n",
    "### Input\n",
    "```\n",
    "df_merged: dataframe [['arrival_date' , 'label' , 'adr' ,...]]\n",
    "```\n"
   ]
  },
  {
   "cell_type": "code",
   "execution_count": 18,
   "metadata": {},
   "outputs": [],
   "source": [
    "from sklearn.svm import SVC\n",
    "from sklearn.metrics import accuracy_score , f1_score , recall_score\n",
    "from sklearn.neighbors import KNeighborsClassifier\n",
    "from sklearn.model_selection import train_test_split, LeaveOneOut"
   ]
  },
  {
   "cell_type": "code",
   "execution_count": 19,
   "metadata": {},
   "outputs": [],
   "source": [
    "def evaluation(model ,val_x ,val_y):\n",
    "    pred_y =model.predict(val_x)\n",
    "    output = 'acc: '+str(accuracy_score(val_y , pred_y)) +'\\n'\n",
    "#             'f1: '+ str(f1_score(val_y , pred_y, average = 'weighted')) +'\\n'+\\\n",
    "#             'recall: '+ str(recall_score(val_y , pred_y))\n",
    "                        \n",
    "    print(output)\n",
    "    "
   ]
  },
  {
   "cell_type": "code",
   "execution_count": 20,
   "metadata": {},
   "outputs": [],
   "source": [
    "model_svc_rbf = SVC(kernel='rbf')\n",
    "model_svc_linear = SVC(kernel='linear')\n",
    "model_svc_poly = SVC(kernel='poly')\n",
    "model_svc_sig  = SVC(kernel = 'sigmoid')\n",
    "model_knn = KNeighborsClassifier()\n"
   ]
  },
  {
   "cell_type": "code",
   "execution_count": 33,
   "metadata": {},
   "outputs": [],
   "source": [
    "X , y = df_merged.drop(['arrival_date' ,'label'], axis=1 ,inplace = False) ,\\\n",
    "        df_merged[['arrival_date' ,'label']]\n",
    "\n",
    "\n",
    "train_x,val_x,train_y,val_y = train_test_split(X , y, test_size= 0.3, random_state = 10)"
   ]
  },
  {
   "cell_type": "code",
   "execution_count": 34,
   "metadata": {
    "scrolled": true
   },
   "outputs": [
    {
     "data": {
      "text/plain": [
       "<AxesSubplot:>"
      ]
     },
     "execution_count": 34,
     "metadata": {},
     "output_type": "execute_result"
    },
    {
     "data": {
      "image/png": "[encoded data removed]",
      "text/plain": [
       "<Figure size 432x288 with 1 Axes>"
      ]
     },
     "metadata": {
      "needs_background": "light"
     },
     "output_type": "display_data"
    }
   ],
   "source": [
    "train_y['label'].hist(color='blue')\n",
    "val_y['label'].hist(color='orange')"
   ]
  },
  {
   "cell_type": "code",
   "execution_count": 35,
   "metadata": {},
   "outputs": [
    {
     "data": {
      "text/plain": [
       "<AxesSubplot:>"
      ]
     },
     "execution_count": 35,
     "metadata": {},
     "output_type": "execute_result"
    },
    {
     "data": {
      "image/png": "[encoded data removed]",
      "text/plain": [
       "<Figure size 432x288 with 1 Axes>"
      ]
     },
     "metadata": {
      "needs_background": "light"
     },
     "output_type": "display_data"
    }
   ],
   "source": [
    "val_y['label'].hist(color='orange')"
   ]
  },
  {
   "cell_type": "code",
   "execution_count": 36,
   "metadata": {},
   "outputs": [
    {
     "data": {
      "text/plain": [
       "<AxesSubplot:>"
      ]
     },
     "execution_count": 36,
     "metadata": {},
     "output_type": "execute_result"
    },
    {
     "data": {
      "image/png": "[encoded data removed]",
      "text/plain": [
       "<Figure size 432x288 with 1 Axes>"
      ]
     },
     "metadata": {
      "needs_background": "light"
     },
     "output_type": "display_data"
    }
   ],
   "source": [
    "train_y['label'].hist(color='blue')"
   ]
  },
  {
   "cell_type": "code",
   "execution_count": 37,
   "metadata": {},
   "outputs": [
    {
     "name": "stderr",
     "output_type": "stream",
     "text": [
      "<ipython-input-37-a2c1b36690d2>:1: SettingWithCopyWarning: \n",
      "A value is trying to be set on a copy of a slice from a DataFrame.\n",
      "Try using .loc[row_indexer,col_indexer] = value instead\n",
      "\n",
      "See the caveats in the documentation: https://pandas.pydata.org/pandas-docs/stable/user_guide/indexing.html#returning-a-view-versus-a-copy\n",
      "  train_y['label'] = train_y['label'].astype(int)\n",
      "<ipython-input-37-a2c1b36690d2>:2: SettingWithCopyWarning: \n",
      "A value is trying to be set on a copy of a slice from a DataFrame.\n",
      "Try using .loc[row_indexer,col_indexer] = value instead\n",
      "\n",
      "See the caveats in the documentation: https://pandas.pydata.org/pandas-docs/stable/user_guide/indexing.html#returning-a-view-versus-a-copy\n",
      "  val_y['label'] =val_y['label'].astype(int)\n"
     ]
    }
   ],
   "source": [
    "train_y['label'] = train_y['label'].astype(int)\n",
    "val_y['label'] =val_y['label'].astype(int) "
   ]
  },
  {
   "cell_type": "code",
   "execution_count": 38,
   "metadata": {},
   "outputs": [
    {
     "data": {
      "text/plain": [
       "KNeighborsClassifier()"
      ]
     },
     "execution_count": 38,
     "metadata": {},
     "output_type": "execute_result"
    }
   ],
   "source": [
    "model_svc_rbf.fit(train_x, train_y['label'])\n",
    "model_svc_linear.fit(train_x, train_y['label'])\n",
    "model_svc_poly.fit(train_x, train_y['label'])\n",
    "model_svc_sig.fit(train_x, train_y['label'])\n",
    "model_knn.fit(train_x, train_y['label'])"
   ]
  },
  {
   "cell_type": "code",
   "execution_count": 39,
   "metadata": {},
   "outputs": [
    {
     "name": "stdout",
     "output_type": "stream",
     "text": [
      "acc: 0.5416666666666666\n",
      "\n",
      "acc: 0.4947916666666667\n",
      "\n",
      "acc: 0.40625\n",
      "\n",
      "acc: 0.2760416666666667\n",
      "\n",
      "acc: 0.4583333333333333\n",
      "\n"
     ]
    }
   ],
   "source": [
    "evaluation(model_svc_rbf , val_x , val_y['label'])\n",
    "evaluation(model_svc_linear , val_x , val_y['label'])\n",
    "evaluation(model_svc_poly , val_x , val_y['label'])\n",
    "evaluation(model_svc_sig , val_x , val_y['label'])\n",
    "evaluation(model_knn , val_x , val_y['label'])"
   ]
  },
  {
   "cell_type": "code",
   "execution_count": null,
   "metadata": {},
   "outputs": [],
   "source": []
  },
  {
   "cell_type": "code",
   "execution_count": 24,
   "metadata": {},
   "outputs": [],
   "source": [
    "from sklearn.linear_model import LinearRegression\n",
    "from sklearn.metrics import mean_absolute_error"
   ]
  },
  {
   "cell_type": "code",
   "execution_count": 25,
   "metadata": {},
   "outputs": [
    {
     "data": {
      "text/plain": [
       "LinearRegression()"
      ]
     },
     "execution_count": 25,
     "metadata": {},
     "output_type": "execute_result"
    }
   ],
   "source": []
  },
  {
   "cell_type": "code",
   "execution_count": 26,
   "metadata": {},
   "outputs": [
    {
     "data": {
      "text/plain": [
       "0.5848741103271664"
      ]
     },
     "execution_count": 26,
     "metadata": {},
     "output_type": "execute_result"
    }
   ],
   "source": [
    "mean_absolute_error(model_lr.predict(X) , y['label'])"
   ]
  },
  {
   "cell_type": "code",
   "execution_count": 29,
   "metadata": {},
   "outputs": [
    {
     "data": {
      "text/plain": [
       "SVR()"
      ]
     },
     "execution_count": 29,
     "metadata": {},
     "output_type": "execute_result"
    }
   ],
   "source": [
    "from sklearn.svm import SVR\n",
    "model_svr = SVR(kernel='rbf')\n",
    "model_lr = LinearRegression( normalize = False)\n",
    "model_lr.fit(train_x,  train_y['label'])\n",
    "model_svr.fit(train_x,  train_y['label'])\n"
   ]
  },
  {
   "cell_type": "code",
   "execution_count": 31,
   "metadata": {},
   "outputs": [
    {
     "data": {
      "text/plain": [
       "0.6007132583838191"
      ]
     },
     "execution_count": 31,
     "metadata": {},
     "output_type": "execute_result"
    }
   ],
   "source": [
    "mean_absolute_error(model_svr.predict(val_x) , val_y['label'])"
   ]
  },
  {
   "cell_type": "code",
   "execution_count": 32,
   "metadata": {},
   "outputs": [
    {
     "data": {
      "text/plain": [
       "0.6023328769092061"
      ]
     },
     "execution_count": 32,
     "metadata": {},
     "output_type": "execute_result"
    }
   ],
   "source": [
    "mean_absolute_error(model_lr.predict(val_x) , val_y['label'])"
   ]
  },
  {
   "cell_type": "code",
   "execution_count": null,
   "metadata": {},
   "outputs": [],
   "source": [
    "\n",
    "\n",
    "\n",
    "def predict_test(model , )"
   ]
  },
  {
   "cell_type": "code",
   "execution_count": null,
   "metadata": {},
   "outputs": [],
   "source": []
  }
 ],
 "metadata": {
  "kernelspec": {
   "display_name": "Python 3",
   "language": "python",
   "name": "python3"
  },
  "language_info": {
   "codemirror_mode": {
    "name": "ipython",
    "version": 3
   },
   "file_extension": ".py",
   "mimetype": "text/x-python",
   "name": "python",
   "nbconvert_exporter": "python",
   "pygments_lexer": "ipython3",
   "version": "3.8.6"
  }
 },
 "nbformat": 4,
 "nbformat_minor": 4
}
