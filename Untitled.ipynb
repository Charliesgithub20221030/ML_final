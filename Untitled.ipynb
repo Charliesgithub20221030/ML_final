{
 "cells": [
  {
   "cell_type": "markdown",
   "metadata": {},
   "source": [
    "# Feature Engineering "
   ]
  },
  {
   "cell_type": "code",
   "execution_count": 1,
   "metadata": {},
   "outputs": [],
   "source": [
    "import pandas as pd\n",
    "import numpy as np\n",
    "import math\n",
    "from datetime import datetime\n",
    "from copy import deepcopy\n",
    "import os\n",
    "from os.path import join as pj\n",
    "\n",
    "\n",
    "month_map = dict(zip(['January', 'February', 'March', 'April', 'May', 'June',\n",
    "     'July', 'August', 'September', 'October', 'November', 'December'],\n",
    "     list(range(1,13))))\n",
    "parse_date = lambda x: datetime.strptime(x , '%Y-%m-%d')\n",
    "\n",
    "\n",
    "root = 'dataset'\n",
    "train_x_path = pj(root ,'train.csv')\n",
    "train_y_path = pj(root , 'train_label.csv')\n",
    "test_x_path = pj(root , 'test.csv')\n",
    "test_y_path = pj(root,  'test_nolabel.csv')\n"
   ]
  },
  {
   "cell_type": "code",
   "execution_count": 51,
   "metadata": {},
   "outputs": [],
   "source": [
    "def preprocessing(df):\n",
    "    df = df.replace({'arrival_date_month' : month_map})\n",
    "    df['arrival_date'] = df[['arrival_date_year', 'arrival_date_month', 'arrival_date_day_of_month']].astype(str).agg('-'.join, axis=1)\n",
    "    df['arrival_date'] = df['arrival_date'].apply(parse_date)\n",
    "#     for future in ['adr', 'is_canceled', 'reservation_status_date', 'reservation_status']:\n",
    "#         if future in df.columns:\n",
    "#             df = df.drop([future] ,axis=1)\n",
    "    return df\n",
    "\n",
    "def get_feature(df , adr = False ):\n",
    "    \n",
    "    key = ['arrival_date']\n",
    "    feat_level=[\n",
    "        'hotel', \n",
    "        'meal',\n",
    "        'country',\n",
    "        'market_segment',\n",
    "        'distribution_channel',\n",
    "        'reserved_room_type',\n",
    "        'assigned_room_type',\n",
    "        'deposit_type',\n",
    "        'customer_type']\n",
    "\n",
    "    feat_num=['lead_time',\n",
    "        'stays_in_weekend_nights',\n",
    "        'stays_in_week_nights',\n",
    "        'adults',\n",
    "        'children',\n",
    "        'babies', \n",
    "        'is_repeated_guest',\n",
    "        'previous_cancellations',\n",
    "        'previous_bookings_not_canceled',\n",
    "        'booking_changes',\n",
    "        'agent',\n",
    "        'company', \n",
    "        'days_in_waiting_list',\n",
    "        'required_car_parking_spaces',\n",
    "        'total_of_special_requests']\n",
    "    \n",
    "    df[['children', 'agent' , 'company']] = df[['children', 'agent' , 'company']].fillna(0.0)\n",
    "    df_proce = pd.get_dummies(df[feat_num + feat_level])\n",
    "    df_proce = pd.concat([df[key], df_proce] ,axis=1)\n",
    "\n",
    "    if adr:\n",
    "        return df_proce , df['adr']\n",
    "    return df_proce\n",
    "\n",
    "def agg_by_date(df):\n",
    "    df = df.groupby(['arrival_date']).sum()\n",
    "    return df \n",
    "\n",
    "def data_augmentor(df, y, times = 10, sigma=0.1):\n",
    "    df_g = deepcopy(df)\n",
    "    y_g = deepcopy(y)\n",
    "    print('original shape: ', df_g.shape)\n",
    "    for _ in range(times):\n",
    "        df_noise = np.random.normal(0,sigma, df.shape)\n",
    "        df_g = pd.concat([df_g , df.add(df_noise, axis =1)], axis =0)\n",
    "        y_g = pd.concat([y_g , deepcopy(y)], axis =0)\n",
    "    print('augmented shape:' , df_g.shape)\n",
    "    return df_g , y_g\n",
    "# def agg(df , method='sum'):\n",
    "#     if method=='sum':\n",
    "#         df.groupby(['arrival_date']).sum()\n",
    "#     elif method=='mean':\n",
    "        "
   ]
  },
  {
   "cell_type": "code",
   "execution_count": 56,
   "metadata": {},
   "outputs": [],
   "source": [
    "df_x = pd.read_csv(train_x_path)\n",
    "df_y = pd.read_csv(train_y_path)\n",
    "\n",
    "df_x_t = pd.read_csv(test_x_path)\n",
    "df_y_t = pd.read_csv(test_y_path)\n",
    "\n",
    "\n",
    "    \n",
    "df_x = preprocessing(df_x)\n",
    "df_y['arrival_date'] = df_y['arrival_date'].apply(parse_date)\n",
    "\n",
    "df_x_t = preprocessing(df_x_t)\n",
    "df_y_t['arrival_date'] = df_y_t['arrival_date'].apply(parse_date)"
   ]
  },
  {
   "cell_type": "code",
   "execution_count": 61,
   "metadata": {
    "scrolled": true
   },
   "outputs": [
    {
     "data": {
      "text/html": [
       "<div>\n",
       "<style scoped>\n",
       "    .dataframe tbody tr th:only-of-type {\n",
       "        vertical-align: middle;\n",
       "    }\n",
       "\n",
       "    .dataframe tbody tr th {\n",
       "        vertical-align: top;\n",
       "    }\n",
       "\n",
       "    .dataframe thead th {\n",
       "        text-align: right;\n",
       "    }\n",
       "</style>\n",
       "<table border=\"1\" class=\"dataframe\">\n",
       "  <thead>\n",
       "    <tr style=\"text-align: right;\">\n",
       "      <th></th>\n",
       "      <th>hotel</th>\n",
       "      <th>lead_time</th>\n",
       "      <th>arrival_date_week_number</th>\n",
       "      <th>stays_in_weekend_nights</th>\n",
       "      <th>stays_in_week_nights</th>\n",
       "      <th>adults</th>\n",
       "      <th>children</th>\n",
       "      <th>babies</th>\n",
       "      <th>meal</th>\n",
       "      <th>country</th>\n",
       "      <th>...</th>\n",
       "      <th>company</th>\n",
       "      <th>days_in_waiting_list</th>\n",
       "      <th>customer_type</th>\n",
       "      <th>required_car_parking_spaces</th>\n",
       "      <th>total_of_special_requests</th>\n",
       "      <th>is_canceled</th>\n",
       "      <th>adr</th>\n",
       "      <th>reservation_status</th>\n",
       "      <th>reservation_status_date</th>\n",
       "      <th>arrival_date</th>\n",
       "    </tr>\n",
       "  </thead>\n",
       "  <tbody>\n",
       "    <tr>\n",
       "      <th>0</th>\n",
       "      <td>Resort Hotel</td>\n",
       "      <td>342</td>\n",
       "      <td>27</td>\n",
       "      <td>0</td>\n",
       "      <td>0</td>\n",
       "      <td>2</td>\n",
       "      <td>0.0</td>\n",
       "      <td>0</td>\n",
       "      <td>BB</td>\n",
       "      <td>PRT</td>\n",
       "      <td>...</td>\n",
       "      <td>NaN</td>\n",
       "      <td>0</td>\n",
       "      <td>Transient</td>\n",
       "      <td>0</td>\n",
       "      <td>0</td>\n",
       "      <td>0</td>\n",
       "      <td>-6.305161</td>\n",
       "      <td>Check-Out</td>\n",
       "      <td>2015-07-01</td>\n",
       "      <td>2015-07-01</td>\n",
       "    </tr>\n",
       "    <tr>\n",
       "      <th>1</th>\n",
       "      <td>City Hotel</td>\n",
       "      <td>257</td>\n",
       "      <td>27</td>\n",
       "      <td>0</td>\n",
       "      <td>2</td>\n",
       "      <td>1</td>\n",
       "      <td>0.0</td>\n",
       "      <td>0</td>\n",
       "      <td>HB</td>\n",
       "      <td>PRT</td>\n",
       "      <td>...</td>\n",
       "      <td>NaN</td>\n",
       "      <td>0</td>\n",
       "      <td>Transient</td>\n",
       "      <td>0</td>\n",
       "      <td>0</td>\n",
       "      <td>0</td>\n",
       "      <td>75.052227</td>\n",
       "      <td>Check-Out</td>\n",
       "      <td>2015-07-03</td>\n",
       "      <td>2015-07-01</td>\n",
       "    </tr>\n",
       "    <tr>\n",
       "      <th>2</th>\n",
       "      <td>City Hotel</td>\n",
       "      <td>257</td>\n",
       "      <td>27</td>\n",
       "      <td>0</td>\n",
       "      <td>2</td>\n",
       "      <td>2</td>\n",
       "      <td>0.0</td>\n",
       "      <td>0</td>\n",
       "      <td>HB</td>\n",
       "      <td>PRT</td>\n",
       "      <td>...</td>\n",
       "      <td>NaN</td>\n",
       "      <td>0</td>\n",
       "      <td>Transient</td>\n",
       "      <td>0</td>\n",
       "      <td>0</td>\n",
       "      <td>0</td>\n",
       "      <td>74.546401</td>\n",
       "      <td>Check-Out</td>\n",
       "      <td>2015-07-03</td>\n",
       "      <td>2015-07-01</td>\n",
       "    </tr>\n",
       "    <tr>\n",
       "      <th>3</th>\n",
       "      <td>City Hotel</td>\n",
       "      <td>257</td>\n",
       "      <td>27</td>\n",
       "      <td>0</td>\n",
       "      <td>2</td>\n",
       "      <td>2</td>\n",
       "      <td>0.0</td>\n",
       "      <td>0</td>\n",
       "      <td>HB</td>\n",
       "      <td>PRT</td>\n",
       "      <td>...</td>\n",
       "      <td>NaN</td>\n",
       "      <td>0</td>\n",
       "      <td>Transient</td>\n",
       "      <td>0</td>\n",
       "      <td>0</td>\n",
       "      <td>0</td>\n",
       "      <td>76.376288</td>\n",
       "      <td>Check-Out</td>\n",
       "      <td>2015-07-03</td>\n",
       "      <td>2015-07-01</td>\n",
       "    </tr>\n",
       "    <tr>\n",
       "      <th>4</th>\n",
       "      <td>City Hotel</td>\n",
       "      <td>257</td>\n",
       "      <td>27</td>\n",
       "      <td>0</td>\n",
       "      <td>2</td>\n",
       "      <td>2</td>\n",
       "      <td>0.0</td>\n",
       "      <td>0</td>\n",
       "      <td>HB</td>\n",
       "      <td>PRT</td>\n",
       "      <td>...</td>\n",
       "      <td>NaN</td>\n",
       "      <td>0</td>\n",
       "      <td>Transient</td>\n",
       "      <td>0</td>\n",
       "      <td>0</td>\n",
       "      <td>0</td>\n",
       "      <td>49.411647</td>\n",
       "      <td>Check-Out</td>\n",
       "      <td>2015-07-03</td>\n",
       "      <td>2015-07-01</td>\n",
       "    </tr>\n",
       "    <tr>\n",
       "      <th>...</th>\n",
       "      <td>...</td>\n",
       "      <td>...</td>\n",
       "      <td>...</td>\n",
       "      <td>...</td>\n",
       "      <td>...</td>\n",
       "      <td>...</td>\n",
       "      <td>...</td>\n",
       "      <td>...</td>\n",
       "      <td>...</td>\n",
       "      <td>...</td>\n",
       "      <td>...</td>\n",
       "      <td>...</td>\n",
       "      <td>...</td>\n",
       "      <td>...</td>\n",
       "      <td>...</td>\n",
       "      <td>...</td>\n",
       "      <td>...</td>\n",
       "      <td>...</td>\n",
       "      <td>...</td>\n",
       "      <td>...</td>\n",
       "      <td>...</td>\n",
       "    </tr>\n",
       "    <tr>\n",
       "      <th>91526</th>\n",
       "      <td>Resort Hotel</td>\n",
       "      <td>19</td>\n",
       "      <td>13</td>\n",
       "      <td>0</td>\n",
       "      <td>2</td>\n",
       "      <td>2</td>\n",
       "      <td>2.0</td>\n",
       "      <td>0</td>\n",
       "      <td>BB</td>\n",
       "      <td>ESP</td>\n",
       "      <td>...</td>\n",
       "      <td>NaN</td>\n",
       "      <td>0</td>\n",
       "      <td>Transient</td>\n",
       "      <td>0</td>\n",
       "      <td>1</td>\n",
       "      <td>1</td>\n",
       "      <td>79.223571</td>\n",
       "      <td>Canceled</td>\n",
       "      <td>2017-03-22</td>\n",
       "      <td>2017-03-31</td>\n",
       "    </tr>\n",
       "    <tr>\n",
       "      <th>91527</th>\n",
       "      <td>Resort Hotel</td>\n",
       "      <td>28</td>\n",
       "      <td>13</td>\n",
       "      <td>0</td>\n",
       "      <td>2</td>\n",
       "      <td>2</td>\n",
       "      <td>0.0</td>\n",
       "      <td>0</td>\n",
       "      <td>BB</td>\n",
       "      <td>PRT</td>\n",
       "      <td>...</td>\n",
       "      <td>NaN</td>\n",
       "      <td>0</td>\n",
       "      <td>Transient</td>\n",
       "      <td>0</td>\n",
       "      <td>0</td>\n",
       "      <td>0</td>\n",
       "      <td>-6.822102</td>\n",
       "      <td>Check-Out</td>\n",
       "      <td>2017-04-02</td>\n",
       "      <td>2017-03-31</td>\n",
       "    </tr>\n",
       "    <tr>\n",
       "      <th>91528</th>\n",
       "      <td>Resort Hotel</td>\n",
       "      <td>2</td>\n",
       "      <td>13</td>\n",
       "      <td>0</td>\n",
       "      <td>1</td>\n",
       "      <td>2</td>\n",
       "      <td>0.0</td>\n",
       "      <td>0</td>\n",
       "      <td>BB</td>\n",
       "      <td>FRA</td>\n",
       "      <td>...</td>\n",
       "      <td>NaN</td>\n",
       "      <td>0</td>\n",
       "      <td>Transient</td>\n",
       "      <td>0</td>\n",
       "      <td>2</td>\n",
       "      <td>0</td>\n",
       "      <td>90.814554</td>\n",
       "      <td>Check-Out</td>\n",
       "      <td>2017-04-01</td>\n",
       "      <td>2017-03-31</td>\n",
       "    </tr>\n",
       "    <tr>\n",
       "      <th>91529</th>\n",
       "      <td>Resort Hotel</td>\n",
       "      <td>30</td>\n",
       "      <td>13</td>\n",
       "      <td>3</td>\n",
       "      <td>7</td>\n",
       "      <td>2</td>\n",
       "      <td>0.0</td>\n",
       "      <td>0</td>\n",
       "      <td>BB</td>\n",
       "      <td>FIN</td>\n",
       "      <td>...</td>\n",
       "      <td>NaN</td>\n",
       "      <td>0</td>\n",
       "      <td>Transient</td>\n",
       "      <td>0</td>\n",
       "      <td>1</td>\n",
       "      <td>0</td>\n",
       "      <td>38.135565</td>\n",
       "      <td>Check-Out</td>\n",
       "      <td>2017-04-10</td>\n",
       "      <td>2017-03-31</td>\n",
       "    </tr>\n",
       "    <tr>\n",
       "      <th>91530</th>\n",
       "      <td>Resort Hotel</td>\n",
       "      <td>1</td>\n",
       "      <td>13</td>\n",
       "      <td>0</td>\n",
       "      <td>1</td>\n",
       "      <td>1</td>\n",
       "      <td>0.0</td>\n",
       "      <td>0</td>\n",
       "      <td>BB</td>\n",
       "      <td>PRT</td>\n",
       "      <td>...</td>\n",
       "      <td>NaN</td>\n",
       "      <td>0</td>\n",
       "      <td>Transient</td>\n",
       "      <td>0</td>\n",
       "      <td>1</td>\n",
       "      <td>0</td>\n",
       "      <td>58.196470</td>\n",
       "      <td>Check-Out</td>\n",
       "      <td>2017-04-01</td>\n",
       "      <td>2017-03-31</td>\n",
       "    </tr>\n",
       "  </tbody>\n",
       "</table>\n",
       "<p>91531 rows × 30 columns</p>\n",
       "</div>"
      ],
      "text/plain": [
       "              hotel  lead_time  arrival_date_week_number  \\\n",
       "0      Resort Hotel        342                        27   \n",
       "1        City Hotel        257                        27   \n",
       "2        City Hotel        257                        27   \n",
       "3        City Hotel        257                        27   \n",
       "4        City Hotel        257                        27   \n",
       "...             ...        ...                       ...   \n",
       "91526  Resort Hotel         19                        13   \n",
       "91527  Resort Hotel         28                        13   \n",
       "91528  Resort Hotel          2                        13   \n",
       "91529  Resort Hotel         30                        13   \n",
       "91530  Resort Hotel          1                        13   \n",
       "\n",
       "       stays_in_weekend_nights  stays_in_week_nights  adults  children  \\\n",
       "0                            0                     0       2       0.0   \n",
       "1                            0                     2       1       0.0   \n",
       "2                            0                     2       2       0.0   \n",
       "3                            0                     2       2       0.0   \n",
       "4                            0                     2       2       0.0   \n",
       "...                        ...                   ...     ...       ...   \n",
       "91526                        0                     2       2       2.0   \n",
       "91527                        0                     2       2       0.0   \n",
       "91528                        0                     1       2       0.0   \n",
       "91529                        3                     7       2       0.0   \n",
       "91530                        0                     1       1       0.0   \n",
       "\n",
       "       babies meal country  ... company days_in_waiting_list  customer_type  \\\n",
       "0           0   BB     PRT  ...     NaN                    0      Transient   \n",
       "1           0   HB     PRT  ...     NaN                    0      Transient   \n",
       "2           0   HB     PRT  ...     NaN                    0      Transient   \n",
       "3           0   HB     PRT  ...     NaN                    0      Transient   \n",
       "4           0   HB     PRT  ...     NaN                    0      Transient   \n",
       "...       ...  ...     ...  ...     ...                  ...            ...   \n",
       "91526       0   BB     ESP  ...     NaN                    0      Transient   \n",
       "91527       0   BB     PRT  ...     NaN                    0      Transient   \n",
       "91528       0   BB     FRA  ...     NaN                    0      Transient   \n",
       "91529       0   BB     FIN  ...     NaN                    0      Transient   \n",
       "91530       0   BB     PRT  ...     NaN                    0      Transient   \n",
       "\n",
       "       required_car_parking_spaces  total_of_special_requests is_canceled  \\\n",
       "0                                0                          0           0   \n",
       "1                                0                          0           0   \n",
       "2                                0                          0           0   \n",
       "3                                0                          0           0   \n",
       "4                                0                          0           0   \n",
       "...                            ...                        ...         ...   \n",
       "91526                            0                          1           1   \n",
       "91527                            0                          0           0   \n",
       "91528                            0                          2           0   \n",
       "91529                            0                          1           0   \n",
       "91530                            0                          1           0   \n",
       "\n",
       "             adr  reservation_status reservation_status_date  arrival_date  \n",
       "0      -6.305161           Check-Out              2015-07-01    2015-07-01  \n",
       "1      75.052227           Check-Out              2015-07-03    2015-07-01  \n",
       "2      74.546401           Check-Out              2015-07-03    2015-07-01  \n",
       "3      76.376288           Check-Out              2015-07-03    2015-07-01  \n",
       "4      49.411647           Check-Out              2015-07-03    2015-07-01  \n",
       "...          ...                 ...                     ...           ...  \n",
       "91526  79.223571            Canceled              2017-03-22    2017-03-31  \n",
       "91527  -6.822102           Check-Out              2017-04-02    2017-03-31  \n",
       "91528  90.814554           Check-Out              2017-04-01    2017-03-31  \n",
       "91529  38.135565           Check-Out              2017-04-10    2017-03-31  \n",
       "91530  58.196470           Check-Out              2017-04-01    2017-03-31  \n",
       "\n",
       "[91531 rows x 30 columns]"
      ]
     },
     "execution_count": 61,
     "metadata": {},
     "output_type": "execute_result"
    }
   ],
   "source": [
    "df_x=df_x[[\\\n",
    "        'hotel', \n",
    "        'lead_time',\n",
    "        'arrival_date_week_number',\n",
    "        'stays_in_weekend_nights', \n",
    "        'stays_in_week_nights',\n",
    "        'adults', 'children',\n",
    "        'babies', \n",
    "        'meal',\n",
    "        'country',\n",
    "        'market_segment',\n",
    "        'distribution_channel',\n",
    "        'is_repeated_guest', \n",
    "        'previous_cancellations',\n",
    "        'previous_bookings_not_canceled',\n",
    "        'reserved_room_type',\n",
    "        'assigned_room_type', \n",
    "        'booking_changes',\n",
    "        'deposit_type',\n",
    "        'agent',\n",
    "        'company',\n",
    "        'days_in_waiting_list',\n",
    "        'customer_type',\n",
    "        'required_car_parking_spaces', \n",
    "        'total_of_special_requests',\n",
    "        'is_canceled',\n",
    "        'adr',\n",
    "        'reservation_status', \n",
    "        'reservation_status_date',\n",
    "        'arrival_date'\n",
    "          ]]\n",
    "df_x"
   ]
  },
  {
   "cell_type": "markdown",
   "metadata": {},
   "source": [
    "#### distribution of negative adr"
   ]
  },
  {
   "cell_type": "code",
   "execution_count": 70,
   "metadata": {},
   "outputs": [
    {
     "data": {
      "text/plain": [
       "<AxesSubplot:>"
      ]
     },
     "execution_count": 70,
     "metadata": {},
     "output_type": "execute_result"
    },
    {
     "data": {
      "image/png": "[encoded data removed]",
      "text/plain": [
       "<Figure size 432x288 with 1 Axes>"
      ]
     },
     "metadata": {
      "needs_background": "light"
     },
     "output_type": "display_data"
    }
   ],
   "source": [
    "df_x[df_x['adr']<0]['adr'].hist(bins=50,density=True)"
   ]
  },
  {
   "cell_type": "code",
   "execution_count": null,
   "metadata": {},
   "outputs": [],
   "source": []
  },
  {
   "cell_type": "code",
   "execution_count": null,
   "metadata": {},
   "outputs": [],
   "source": []
  },
  {
   "cell_type": "code",
   "execution_count": null,
   "metadata": {},
   "outputs": [],
   "source": []
  },
  {
   "cell_type": "code",
   "execution_count": null,
   "metadata": {},
   "outputs": [],
   "source": []
  },
  {
   "cell_type": "code",
   "execution_count": null,
   "metadata": {},
   "outputs": [],
   "source": []
  },
  {
   "cell_type": "code",
   "execution_count": 4,
   "metadata": {
    "scrolled": false
   },
   "outputs": [
    {
     "name": "stdout",
     "output_type": "stream",
     "text": [
      "shape of train, test \n",
      " [(91531, 30), (27859, 30)]\n",
      "\n",
      "train_set - test_set\n",
      " set()\n"
     ]
    }
   ],
   "source": [
    "print('shape of train, test \\n',[df_x.shape , df_x_t.shape])\n",
    "print('\\ntrain_set - test_set\\n',set(df_x.columns) - set(df_x_t.columns))\n",
    "# df_x['arrival_date'].unique()\n",
    "# df_x[['arrival_date_year' , 'arrival_date_month', 'arrival_date_day_of_month']]"
   ]
  },
  {
   "cell_type": "code",
   "execution_count": 5,
   "metadata": {},
   "outputs": [],
   "source": [
    "df_whole = pd.concat([df_x , df_x_t] , axis=0)\n",
    "y = df_y['label']\n",
    "df_feat= get_feature(df_whole)\n"
   ]
  },
  {
   "cell_type": "code",
   "execution_count": 6,
   "metadata": {
    "scrolled": true
   },
   "outputs": [
    {
     "data": {
      "text/plain": [
       "0       2015-07-01\n",
       "1       2015-07-01\n",
       "2       2015-07-01\n",
       "3       2015-07-01\n",
       "4       2015-07-01\n",
       "           ...    \n",
       "27854   2017-08-31\n",
       "27855   2017-08-31\n",
       "27856   2017-08-31\n",
       "27857   2017-08-31\n",
       "27858   2017-08-31\n",
       "Name: arrival_date, Length: 119390, dtype: datetime64[ns]"
      ]
     },
     "execution_count": 6,
     "metadata": {},
     "output_type": "execute_result"
    }
   ],
   "source": [
    "df_feat['arrival_date']"
   ]
  },
  {
   "cell_type": "code",
   "execution_count": 7,
   "metadata": {},
   "outputs": [],
   "source": [
    "# df_y_t.arrival_date = df_y_t.arrival_date.astype(str)\n",
    "# df_whole.index = df_whole.index.astype(str)"
   ]
  },
  {
   "cell_type": "code",
   "execution_count": 8,
   "metadata": {},
   "outputs": [],
   "source": [
    "df_train = df_feat.merge(df_y['arrival_date'], left_on='arrival_date' ,right_on='arrival_date')\n",
    "df_test = df_feat.merge(df_y_t['arrival_date'], left_on='arrival_date' ,right_on='arrival_date')"
   ]
  },
  {
   "cell_type": "code",
   "execution_count": 9,
   "metadata": {},
   "outputs": [
    {
     "data": {
      "text/plain": [
       "((27859, 242), (91531, 242))"
      ]
     },
     "execution_count": 9,
     "metadata": {},
     "output_type": "execute_result"
    }
   ],
   "source": [
    "(df_test.shape,df_train.shape)"
   ]
  },
  {
   "cell_type": "code",
   "execution_count": 10,
   "metadata": {
    "scrolled": true
   },
   "outputs": [],
   "source": [
    "df_agg = agg_by_date(df_train)\n",
    "df_agg_t = agg_by_date(df_test)\n",
    "y = df_y[['label']]"
   ]
  },
  {
   "cell_type": "markdown",
   "metadata": {},
   "source": [
    "#### After get feature"
   ]
  },
  {
   "cell_type": "code",
   "execution_count": null,
   "metadata": {},
   "outputs": [],
   "source": []
  },
  {
   "cell_type": "code",
   "execution_count": 11,
   "metadata": {},
   "outputs": [
    {
     "data": {
      "text/plain": [
       "(640, 1)"
      ]
     },
     "execution_count": 11,
     "metadata": {},
     "output_type": "execute_result"
    }
   ],
   "source": [
    "y.shape"
   ]
  },
  {
   "cell_type": "code",
   "execution_count": 12,
   "metadata": {
    "scrolled": false
   },
   "outputs": [
    {
     "data": {
      "text/html": [
       "<div>\n",
       "<style scoped>\n",
       "    .dataframe tbody tr th:only-of-type {\n",
       "        vertical-align: middle;\n",
       "    }\n",
       "\n",
       "    .dataframe tbody tr th {\n",
       "        vertical-align: top;\n",
       "    }\n",
       "\n",
       "    .dataframe thead th {\n",
       "        text-align: right;\n",
       "    }\n",
       "</style>\n",
       "<table border=\"1\" class=\"dataframe\">\n",
       "  <thead>\n",
       "    <tr style=\"text-align: right;\">\n",
       "      <th></th>\n",
       "      <th>label</th>\n",
       "      <th>lead_time</th>\n",
       "      <th>stays_in_weekend_nights</th>\n",
       "      <th>stays_in_week_nights</th>\n",
       "      <th>adults</th>\n",
       "      <th>children</th>\n",
       "      <th>babies</th>\n",
       "      <th>is_repeated_guest</th>\n",
       "      <th>previous_cancellations</th>\n",
       "      <th>previous_bookings_not_canceled</th>\n",
       "      <th>...</th>\n",
       "      <th>assigned_room_type_K</th>\n",
       "      <th>assigned_room_type_L</th>\n",
       "      <th>assigned_room_type_P</th>\n",
       "      <th>deposit_type_No Deposit</th>\n",
       "      <th>deposit_type_Non Refund</th>\n",
       "      <th>deposit_type_Refundable</th>\n",
       "      <th>customer_type_Contract</th>\n",
       "      <th>customer_type_Group</th>\n",
       "      <th>customer_type_Transient</th>\n",
       "      <th>customer_type_Transient-Party</th>\n",
       "    </tr>\n",
       "  </thead>\n",
       "  <tbody>\n",
       "    <tr>\n",
       "      <th>label</th>\n",
       "      <td>1.0</td>\n",
       "      <td>NaN</td>\n",
       "      <td>NaN</td>\n",
       "      <td>NaN</td>\n",
       "      <td>NaN</td>\n",
       "      <td>NaN</td>\n",
       "      <td>NaN</td>\n",
       "      <td>NaN</td>\n",
       "      <td>NaN</td>\n",
       "      <td>NaN</td>\n",
       "      <td>...</td>\n",
       "      <td>NaN</td>\n",
       "      <td>NaN</td>\n",
       "      <td>NaN</td>\n",
       "      <td>NaN</td>\n",
       "      <td>NaN</td>\n",
       "      <td>NaN</td>\n",
       "      <td>NaN</td>\n",
       "      <td>NaN</td>\n",
       "      <td>NaN</td>\n",
       "      <td>NaN</td>\n",
       "    </tr>\n",
       "    <tr>\n",
       "      <th>lead_time</th>\n",
       "      <td>NaN</td>\n",
       "      <td>1.000000</td>\n",
       "      <td>0.342950</td>\n",
       "      <td>0.752619</td>\n",
       "      <td>0.809737</td>\n",
       "      <td>0.274927</td>\n",
       "      <td>0.094193</td>\n",
       "      <td>0.083254</td>\n",
       "      <td>0.128481</td>\n",
       "      <td>0.088290</td>\n",
       "      <td>...</td>\n",
       "      <td>0.179640</td>\n",
       "      <td>0.034450</td>\n",
       "      <td>0.024362</td>\n",
       "      <td>0.663706</td>\n",
       "      <td>0.599075</td>\n",
       "      <td>0.050845</td>\n",
       "      <td>0.173653</td>\n",
       "      <td>0.034104</td>\n",
       "      <td>0.534580</td>\n",
       "      <td>0.586713</td>\n",
       "    </tr>\n",
       "    <tr>\n",
       "      <th>stays_in_weekend_nights</th>\n",
       "      <td>NaN</td>\n",
       "      <td>0.342950</td>\n",
       "      <td>1.000000</td>\n",
       "      <td>0.242447</td>\n",
       "      <td>0.524372</td>\n",
       "      <td>0.375137</td>\n",
       "      <td>0.275103</td>\n",
       "      <td>0.186849</td>\n",
       "      <td>0.048385</td>\n",
       "      <td>0.148287</td>\n",
       "      <td>...</td>\n",
       "      <td>0.059684</td>\n",
       "      <td>0.016867</td>\n",
       "      <td>0.038878</td>\n",
       "      <td>0.525365</td>\n",
       "      <td>0.145600</td>\n",
       "      <td>0.013183</td>\n",
       "      <td>0.072890</td>\n",
       "      <td>0.049670</td>\n",
       "      <td>0.404712</td>\n",
       "      <td>0.246740</td>\n",
       "    </tr>\n",
       "    <tr>\n",
       "      <th>stays_in_week_nights</th>\n",
       "      <td>NaN</td>\n",
       "      <td>0.752619</td>\n",
       "      <td>0.242447</td>\n",
       "      <td>1.000000</td>\n",
       "      <td>0.826537</td>\n",
       "      <td>0.348007</td>\n",
       "      <td>0.112213</td>\n",
       "      <td>0.084009</td>\n",
       "      <td>0.105784</td>\n",
       "      <td>0.102751</td>\n",
       "      <td>...</td>\n",
       "      <td>0.257112</td>\n",
       "      <td>0.000276</td>\n",
       "      <td>0.030144</td>\n",
       "      <td>0.750868</td>\n",
       "      <td>0.532783</td>\n",
       "      <td>0.068912</td>\n",
       "      <td>0.107711</td>\n",
       "      <td>0.036460</td>\n",
       "      <td>0.662973</td>\n",
       "      <td>0.501491</td>\n",
       "    </tr>\n",
       "    <tr>\n",
       "      <th>adults</th>\n",
       "      <td>NaN</td>\n",
       "      <td>0.809737</td>\n",
       "      <td>0.524372</td>\n",
       "      <td>0.826537</td>\n",
       "      <td>1.000000</td>\n",
       "      <td>0.439049</td>\n",
       "      <td>0.185092</td>\n",
       "      <td>0.016638</td>\n",
       "      <td>0.116263</td>\n",
       "      <td>0.039203</td>\n",
       "      <td>...</td>\n",
       "      <td>0.211377</td>\n",
       "      <td>0.004991</td>\n",
       "      <td>0.036160</td>\n",
       "      <td>0.878737</td>\n",
       "      <td>0.615248</td>\n",
       "      <td>0.067606</td>\n",
       "      <td>0.091491</td>\n",
       "      <td>0.000267</td>\n",
       "      <td>0.761085</td>\n",
       "      <td>0.604970</td>\n",
       "    </tr>\n",
       "    <tr>\n",
       "      <th>...</th>\n",
       "      <td>...</td>\n",
       "      <td>...</td>\n",
       "      <td>...</td>\n",
       "      <td>...</td>\n",
       "      <td>...</td>\n",
       "      <td>...</td>\n",
       "      <td>...</td>\n",
       "      <td>...</td>\n",
       "      <td>...</td>\n",
       "      <td>...</td>\n",
       "      <td>...</td>\n",
       "      <td>...</td>\n",
       "      <td>...</td>\n",
       "      <td>...</td>\n",
       "      <td>...</td>\n",
       "      <td>...</td>\n",
       "      <td>...</td>\n",
       "      <td>...</td>\n",
       "      <td>...</td>\n",
       "      <td>...</td>\n",
       "      <td>...</td>\n",
       "    </tr>\n",
       "    <tr>\n",
       "      <th>deposit_type_Refundable</th>\n",
       "      <td>NaN</td>\n",
       "      <td>0.050845</td>\n",
       "      <td>0.013183</td>\n",
       "      <td>0.068912</td>\n",
       "      <td>0.067606</td>\n",
       "      <td>0.010550</td>\n",
       "      <td>0.028883</td>\n",
       "      <td>0.014239</td>\n",
       "      <td>0.014442</td>\n",
       "      <td>0.040193</td>\n",
       "      <td>...</td>\n",
       "      <td>0.007685</td>\n",
       "      <td>0.002470</td>\n",
       "      <td>0.004285</td>\n",
       "      <td>0.018460</td>\n",
       "      <td>0.006714</td>\n",
       "      <td>1.000000</td>\n",
       "      <td>0.010179</td>\n",
       "      <td>0.075510</td>\n",
       "      <td>0.004965</td>\n",
       "      <td>0.107329</td>\n",
       "    </tr>\n",
       "    <tr>\n",
       "      <th>customer_type_Contract</th>\n",
       "      <td>NaN</td>\n",
       "      <td>0.173653</td>\n",
       "      <td>0.072890</td>\n",
       "      <td>0.107711</td>\n",
       "      <td>0.091491</td>\n",
       "      <td>0.124794</td>\n",
       "      <td>0.070019</td>\n",
       "      <td>0.039786</td>\n",
       "      <td>0.293585</td>\n",
       "      <td>0.277379</td>\n",
       "      <td>...</td>\n",
       "      <td>0.070087</td>\n",
       "      <td>0.014381</td>\n",
       "      <td>0.039575</td>\n",
       "      <td>0.003584</td>\n",
       "      <td>0.172021</td>\n",
       "      <td>0.010179</td>\n",
       "      <td>1.000000</td>\n",
       "      <td>0.170611</td>\n",
       "      <td>0.220087</td>\n",
       "      <td>0.161953</td>\n",
       "    </tr>\n",
       "    <tr>\n",
       "      <th>customer_type_Group</th>\n",
       "      <td>NaN</td>\n",
       "      <td>0.034104</td>\n",
       "      <td>0.049670</td>\n",
       "      <td>0.036460</td>\n",
       "      <td>0.000267</td>\n",
       "      <td>0.109941</td>\n",
       "      <td>0.015240</td>\n",
       "      <td>0.134026</td>\n",
       "      <td>0.050090</td>\n",
       "      <td>0.018163</td>\n",
       "      <td>...</td>\n",
       "      <td>0.052860</td>\n",
       "      <td>0.010361</td>\n",
       "      <td>0.017975</td>\n",
       "      <td>0.000168</td>\n",
       "      <td>0.014205</td>\n",
       "      <td>0.075510</td>\n",
       "      <td>0.170611</td>\n",
       "      <td>1.000000</td>\n",
       "      <td>0.071907</td>\n",
       "      <td>0.038505</td>\n",
       "    </tr>\n",
       "    <tr>\n",
       "      <th>customer_type_Transient</th>\n",
       "      <td>NaN</td>\n",
       "      <td>0.534580</td>\n",
       "      <td>0.404712</td>\n",
       "      <td>0.662973</td>\n",
       "      <td>0.761085</td>\n",
       "      <td>0.470296</td>\n",
       "      <td>0.143727</td>\n",
       "      <td>0.058930</td>\n",
       "      <td>0.039903</td>\n",
       "      <td>0.137375</td>\n",
       "      <td>...</td>\n",
       "      <td>0.245437</td>\n",
       "      <td>0.025726</td>\n",
       "      <td>0.013743</td>\n",
       "      <td>0.629976</td>\n",
       "      <td>0.556694</td>\n",
       "      <td>0.004965</td>\n",
       "      <td>0.220087</td>\n",
       "      <td>0.071907</td>\n",
       "      <td>1.000000</td>\n",
       "      <td>0.016877</td>\n",
       "    </tr>\n",
       "    <tr>\n",
       "      <th>customer_type_Transient-Party</th>\n",
       "      <td>NaN</td>\n",
       "      <td>0.586713</td>\n",
       "      <td>0.246740</td>\n",
       "      <td>0.501491</td>\n",
       "      <td>0.604970</td>\n",
       "      <td>0.000471</td>\n",
       "      <td>0.023911</td>\n",
       "      <td>0.011578</td>\n",
       "      <td>0.155454</td>\n",
       "      <td>0.072951</td>\n",
       "      <td>...</td>\n",
       "      <td>0.069037</td>\n",
       "      <td>0.043377</td>\n",
       "      <td>0.049348</td>\n",
       "      <td>0.644659</td>\n",
       "      <td>0.313064</td>\n",
       "      <td>0.107329</td>\n",
       "      <td>0.161953</td>\n",
       "      <td>0.038505</td>\n",
       "      <td>0.016877</td>\n",
       "      <td>1.000000</td>\n",
       "    </tr>\n",
       "  </tbody>\n",
       "</table>\n",
       "<p>242 rows × 242 columns</p>\n",
       "</div>"
      ],
      "text/plain": [
       "                               label  lead_time  stays_in_weekend_nights  \\\n",
       "label                            1.0        NaN                      NaN   \n",
       "lead_time                        NaN   1.000000                 0.342950   \n",
       "stays_in_weekend_nights          NaN   0.342950                 1.000000   \n",
       "stays_in_week_nights             NaN   0.752619                 0.242447   \n",
       "adults                           NaN   0.809737                 0.524372   \n",
       "...                              ...        ...                      ...   \n",
       "deposit_type_Refundable          NaN   0.050845                 0.013183   \n",
       "customer_type_Contract           NaN   0.173653                 0.072890   \n",
       "customer_type_Group              NaN   0.034104                 0.049670   \n",
       "customer_type_Transient          NaN   0.534580                 0.404712   \n",
       "customer_type_Transient-Party    NaN   0.586713                 0.246740   \n",
       "\n",
       "                               stays_in_week_nights    adults  children  \\\n",
       "label                                           NaN       NaN       NaN   \n",
       "lead_time                                  0.752619  0.809737  0.274927   \n",
       "stays_in_weekend_nights                    0.242447  0.524372  0.375137   \n",
       "stays_in_week_nights                       1.000000  0.826537  0.348007   \n",
       "adults                                     0.826537  1.000000  0.439049   \n",
       "...                                             ...       ...       ...   \n",
       "deposit_type_Refundable                    0.068912  0.067606  0.010550   \n",
       "customer_type_Contract                     0.107711  0.091491  0.124794   \n",
       "customer_type_Group                        0.036460  0.000267  0.109941   \n",
       "customer_type_Transient                    0.662973  0.761085  0.470296   \n",
       "customer_type_Transient-Party              0.501491  0.604970  0.000471   \n",
       "\n",
       "                                 babies  is_repeated_guest  \\\n",
       "label                               NaN                NaN   \n",
       "lead_time                      0.094193           0.083254   \n",
       "stays_in_weekend_nights        0.275103           0.186849   \n",
       "stays_in_week_nights           0.112213           0.084009   \n",
       "adults                         0.185092           0.016638   \n",
       "...                                 ...                ...   \n",
       "deposit_type_Refundable        0.028883           0.014239   \n",
       "customer_type_Contract         0.070019           0.039786   \n",
       "customer_type_Group            0.015240           0.134026   \n",
       "customer_type_Transient        0.143727           0.058930   \n",
       "customer_type_Transient-Party  0.023911           0.011578   \n",
       "\n",
       "                               previous_cancellations  \\\n",
       "label                                             NaN   \n",
       "lead_time                                    0.128481   \n",
       "stays_in_weekend_nights                      0.048385   \n",
       "stays_in_week_nights                         0.105784   \n",
       "adults                                       0.116263   \n",
       "...                                               ...   \n",
       "deposit_type_Refundable                      0.014442   \n",
       "customer_type_Contract                       0.293585   \n",
       "customer_type_Group                          0.050090   \n",
       "customer_type_Transient                      0.039903   \n",
       "customer_type_Transient-Party                0.155454   \n",
       "\n",
       "                               previous_bookings_not_canceled  ...  \\\n",
       "label                                                     NaN  ...   \n",
       "lead_time                                            0.088290  ...   \n",
       "stays_in_weekend_nights                              0.148287  ...   \n",
       "stays_in_week_nights                                 0.102751  ...   \n",
       "adults                                               0.039203  ...   \n",
       "...                                                       ...  ...   \n",
       "deposit_type_Refundable                              0.040193  ...   \n",
       "customer_type_Contract                               0.277379  ...   \n",
       "customer_type_Group                                  0.018163  ...   \n",
       "customer_type_Transient                              0.137375  ...   \n",
       "customer_type_Transient-Party                        0.072951  ...   \n",
       "\n",
       "                               assigned_room_type_K  assigned_room_type_L  \\\n",
       "label                                           NaN                   NaN   \n",
       "lead_time                                  0.179640              0.034450   \n",
       "stays_in_weekend_nights                    0.059684              0.016867   \n",
       "stays_in_week_nights                       0.257112              0.000276   \n",
       "adults                                     0.211377              0.004991   \n",
       "...                                             ...                   ...   \n",
       "deposit_type_Refundable                    0.007685              0.002470   \n",
       "customer_type_Contract                     0.070087              0.014381   \n",
       "customer_type_Group                        0.052860              0.010361   \n",
       "customer_type_Transient                    0.245437              0.025726   \n",
       "customer_type_Transient-Party              0.069037              0.043377   \n",
       "\n",
       "                               assigned_room_type_P  deposit_type_No Deposit  \\\n",
       "label                                           NaN                      NaN   \n",
       "lead_time                                  0.024362                 0.663706   \n",
       "stays_in_weekend_nights                    0.038878                 0.525365   \n",
       "stays_in_week_nights                       0.030144                 0.750868   \n",
       "adults                                     0.036160                 0.878737   \n",
       "...                                             ...                      ...   \n",
       "deposit_type_Refundable                    0.004285                 0.018460   \n",
       "customer_type_Contract                     0.039575                 0.003584   \n",
       "customer_type_Group                        0.017975                 0.000168   \n",
       "customer_type_Transient                    0.013743                 0.629976   \n",
       "customer_type_Transient-Party              0.049348                 0.644659   \n",
       "\n",
       "                               deposit_type_Non Refund  \\\n",
       "label                                              NaN   \n",
       "lead_time                                     0.599075   \n",
       "stays_in_weekend_nights                       0.145600   \n",
       "stays_in_week_nights                          0.532783   \n",
       "adults                                        0.615248   \n",
       "...                                                ...   \n",
       "deposit_type_Refundable                       0.006714   \n",
       "customer_type_Contract                        0.172021   \n",
       "customer_type_Group                           0.014205   \n",
       "customer_type_Transient                       0.556694   \n",
       "customer_type_Transient-Party                 0.313064   \n",
       "\n",
       "                               deposit_type_Refundable  \\\n",
       "label                                              NaN   \n",
       "lead_time                                     0.050845   \n",
       "stays_in_weekend_nights                       0.013183   \n",
       "stays_in_week_nights                          0.068912   \n",
       "adults                                        0.067606   \n",
       "...                                                ...   \n",
       "deposit_type_Refundable                       1.000000   \n",
       "customer_type_Contract                        0.010179   \n",
       "customer_type_Group                           0.075510   \n",
       "customer_type_Transient                       0.004965   \n",
       "customer_type_Transient-Party                 0.107329   \n",
       "\n",
       "                               customer_type_Contract  customer_type_Group  \\\n",
       "label                                             NaN                  NaN   \n",
       "lead_time                                    0.173653             0.034104   \n",
       "stays_in_weekend_nights                      0.072890             0.049670   \n",
       "stays_in_week_nights                         0.107711             0.036460   \n",
       "adults                                       0.091491             0.000267   \n",
       "...                                               ...                  ...   \n",
       "deposit_type_Refundable                      0.010179             0.075510   \n",
       "customer_type_Contract                       1.000000             0.170611   \n",
       "customer_type_Group                          0.170611             1.000000   \n",
       "customer_type_Transient                      0.220087             0.071907   \n",
       "customer_type_Transient-Party                0.161953             0.038505   \n",
       "\n",
       "                               customer_type_Transient  \\\n",
       "label                                              NaN   \n",
       "lead_time                                     0.534580   \n",
       "stays_in_weekend_nights                       0.404712   \n",
       "stays_in_week_nights                          0.662973   \n",
       "adults                                        0.761085   \n",
       "...                                                ...   \n",
       "deposit_type_Refundable                       0.004965   \n",
       "customer_type_Contract                        0.220087   \n",
       "customer_type_Group                           0.071907   \n",
       "customer_type_Transient                       1.000000   \n",
       "customer_type_Transient-Party                 0.016877   \n",
       "\n",
       "                               customer_type_Transient-Party  \n",
       "label                                                    NaN  \n",
       "lead_time                                           0.586713  \n",
       "stays_in_weekend_nights                             0.246740  \n",
       "stays_in_week_nights                                0.501491  \n",
       "adults                                              0.604970  \n",
       "...                                                      ...  \n",
       "deposit_type_Refundable                             0.107329  \n",
       "customer_type_Contract                              0.161953  \n",
       "customer_type_Group                                 0.038505  \n",
       "customer_type_Transient                             0.016877  \n",
       "customer_type_Transient-Party                       1.000000  \n",
       "\n",
       "[242 rows x 242 columns]"
      ]
     },
     "execution_count": 12,
     "metadata": {},
     "output_type": "execute_result"
    }
   ],
   "source": [
    "(((pd.concat([ df_y[['label']] ,df_agg ])).corr()**2)**.5)"
   ]
  },
  {
   "cell_type": "code",
   "execution_count": 13,
   "metadata": {},
   "outputs": [
    {
     "data": {
      "text/plain": [
       "(640, 241)"
      ]
     },
     "execution_count": 13,
     "metadata": {},
     "output_type": "execute_result"
    }
   ],
   "source": [
    "df_agg.shape"
   ]
  },
  {
   "cell_type": "code",
   "execution_count": 14,
   "metadata": {},
   "outputs": [
    {
     "data": {
      "text/html": [
       "<div>\n",
       "<style scoped>\n",
       "    .dataframe tbody tr th:only-of-type {\n",
       "        vertical-align: middle;\n",
       "    }\n",
       "\n",
       "    .dataframe tbody tr th {\n",
       "        vertical-align: top;\n",
       "    }\n",
       "\n",
       "    .dataframe thead th {\n",
       "        text-align: right;\n",
       "    }\n",
       "</style>\n",
       "<table border=\"1\" class=\"dataframe\">\n",
       "  <thead>\n",
       "    <tr style=\"text-align: right;\">\n",
       "      <th></th>\n",
       "      <th>label</th>\n",
       "    </tr>\n",
       "  </thead>\n",
       "  <tbody>\n",
       "    <tr>\n",
       "      <th>0</th>\n",
       "      <td>2.0</td>\n",
       "    </tr>\n",
       "    <tr>\n",
       "      <th>1</th>\n",
       "      <td>1.0</td>\n",
       "    </tr>\n",
       "    <tr>\n",
       "      <th>2</th>\n",
       "      <td>1.0</td>\n",
       "    </tr>\n",
       "    <tr>\n",
       "      <th>3</th>\n",
       "      <td>1.0</td>\n",
       "    </tr>\n",
       "    <tr>\n",
       "      <th>4</th>\n",
       "      <td>1.0</td>\n",
       "    </tr>\n",
       "    <tr>\n",
       "      <th>...</th>\n",
       "      <td>...</td>\n",
       "    </tr>\n",
       "    <tr>\n",
       "      <th>635</th>\n",
       "      <td>2.0</td>\n",
       "    </tr>\n",
       "    <tr>\n",
       "      <th>636</th>\n",
       "      <td>1.0</td>\n",
       "    </tr>\n",
       "    <tr>\n",
       "      <th>637</th>\n",
       "      <td>2.0</td>\n",
       "    </tr>\n",
       "    <tr>\n",
       "      <th>638</th>\n",
       "      <td>3.0</td>\n",
       "    </tr>\n",
       "    <tr>\n",
       "      <th>639</th>\n",
       "      <td>3.0</td>\n",
       "    </tr>\n",
       "  </tbody>\n",
       "</table>\n",
       "<p>640 rows × 1 columns</p>\n",
       "</div>"
      ],
      "text/plain": [
       "     label\n",
       "0      2.0\n",
       "1      1.0\n",
       "2      1.0\n",
       "3      1.0\n",
       "4      1.0\n",
       "..     ...\n",
       "635    2.0\n",
       "636    1.0\n",
       "637    2.0\n",
       "638    3.0\n",
       "639    3.0\n",
       "\n",
       "[640 rows x 1 columns]"
      ]
     },
     "execution_count": 14,
     "metadata": {},
     "output_type": "execute_result"
    }
   ],
   "source": [
    "df_y[['label']]"
   ]
  },
  {
   "cell_type": "code",
   "execution_count": null,
   "metadata": {},
   "outputs": [],
   "source": []
  },
  {
   "cell_type": "code",
   "execution_count": 15,
   "metadata": {},
   "outputs": [],
   "source": [
    "from sklearn.svm import SVR, SVC\n",
    "from sklearn.linear_model import LinearRegression \n",
    "from sklearn.metrics import mean_absolute_error as mae\n",
    "from sklearn.metrics import accuracy_score , f1_score , recall_score\n",
    "from sklearn.neighbors import KNeighborsClassifier\n",
    "from sklearn.model_selection import train_test_split, LeaveOneOut\n",
    "from sklearn.preprocessing import StandardScaler as sc"
   ]
  },
  {
   "cell_type": "code",
   "execution_count": 16,
   "metadata": {},
   "outputs": [],
   "source": [
    "scalar = sc()\n",
    "\n",
    "x = df_agg\n",
    "x_t = df_agg_t\n",
    "y = df_y[['label']]\n",
    "# y = df_y['label'].astype(int).values\n"
   ]
  },
  {
   "cell_type": "markdown",
   "metadata": {},
   "source": [
    "### Partial training"
   ]
  },
  {
   "cell_type": "code",
   "execution_count": null,
   "metadata": {},
   "outputs": [],
   "source": []
  },
  {
   "cell_type": "code",
   "execution_count": 17,
   "metadata": {
    "scrolled": true
   },
   "outputs": [
    {
     "name": "stdout",
     "output_type": "stream",
     "text": [
      "original shape:  (428, 241)\n",
      "augmented shape: (43228, 241)\n"
     ]
    }
   ],
   "source": [
    "import lightgbm as lgb\n",
    "# y = [int(n) for n in y['label'].values]\n",
    "xtrain, xval , ytrain , yval = train_test_split(x, y , test_size =0.33)\n",
    "\n",
    "# aug to train\n",
    "xtrain , ytrain = data_augmentor(xtrain, ytrain , times = 100)\n",
    "\n",
    "\n",
    "xtrain = scalar.fit_transform(xtrain)\n",
    "xval = scalar.transform(xval)\n",
    "\n",
    "\n",
    "# whole = lgb.Dataset(scalar.transform(x), y )\n",
    "train = lgb.Dataset(xtrain , ytrain['label'])\n",
    "val = lgb.Dataset(xval , yval['label'])"
   ]
  },
  {
   "cell_type": "code",
   "execution_count": 18,
   "metadata": {},
   "outputs": [],
   "source": [
    "from lightgbm import LGBMClassifier\n",
    "\n",
    "model = LGBMClassifier( max_depth = 70,\n",
    "                   max_leaf = 600 , \n",
    "                   feature_fraction = .7,\n",
    "                   bagging_fraction = .7,\n",
    "                   lambda_l1 = .2,\n",
    "                   lambda_l2 = 15,\n",
    "                   cat_smooth = 5,\n",
    "                   num_threads = 6,\n",
    "                   learning_rate = .4, \n",
    "                   objective = 'multiclass',\n",
    "                   num_class = 10 ,\n",
    "                   metric = 'multi_logloss')\n"
   ]
  },
  {
   "cell_type": "code",
   "execution_count": 19,
   "metadata": {
    "scrolled": false
   },
   "outputs": [
    {
     "name": "stderr",
     "output_type": "stream",
     "text": [
      "/mnt/data/anaconda3/envs/charlie_dgtn/lib/python3.8/site-packages/sklearn/utils/validation.py:63: DataConversionWarning: A column-vector y was passed when a 1d array was expected. Please change the shape of y to (n_samples, ), for example using ravel().\n",
      "  return f(*args, **kwargs)\n"
     ]
    },
    {
     "name": "stdout",
     "output_type": "stream",
     "text": [
      "[LightGBM] [Warning] num_threads is set=6, n_jobs=-1 will be ignored. Current value: num_threads=6\n",
      "[LightGBM] [Warning] lambda_l2 is set=15, reg_lambda=0.0 will be ignored. Current value: lambda_l2=15\n",
      "[LightGBM] [Warning] lambda_l1 is set=0.2, reg_alpha=0.0 will be ignored. Current value: lambda_l1=0.2\n",
      "[LightGBM] [Warning] num_leaves is set=31, max_leaf=600 will be ignored. Current value: num_leaves=31\n",
      "[LightGBM] [Warning] feature_fraction is set=0.7, colsample_bytree=1.0 will be ignored. Current value: feature_fraction=0.7\n",
      "[LightGBM] [Warning] bagging_fraction is set=0.7, subsample=1.0 will be ignored. Current value: bagging_fraction=0.7\n",
      "[LightGBM] [Warning] Accuracy may be bad since you didn't explicitly set num_leaves OR 2^max_depth > num_leaves. (num_leaves=31).\n"
     ]
    },
    {
     "data": {
      "text/plain": [
       "LGBMClassifier(bagging_fraction=0.7, cat_smooth=5, feature_fraction=0.7,\n",
       "               lambda_l1=0.2, lambda_l2=15, learning_rate=0.4, max_depth=70,\n",
       "               max_leaf=600, metric='multi_logloss', num_class=10,\n",
       "               num_threads=6, objective='multiclass')"
      ]
     },
     "execution_count": 19,
     "metadata": {},
     "output_type": "execute_result"
    }
   ],
   "source": [
    "model.fit(xtrain , ytrain )\n",
    "#, eval_set = (xval , yval)"
   ]
  },
  {
   "cell_type": "code",
   "execution_count": 44,
   "metadata": {
    "scrolled": true
   },
   "outputs": [
    {
     "name": "stderr",
     "output_type": "stream",
     "text": [
      "/mnt/data/anaconda3/envs/charlie_dgtn/lib/python3.8/site-packages/sklearn/utils/validation.py:63: DataConversionWarning: A column-vector y was passed when a 1d array was expected. Please change the shape of y to (n_samples, ), for example using ravel().\n",
      "  return f(*args, **kwargs)\n"
     ]
    },
    {
     "name": "stdout",
     "output_type": "stream",
     "text": [
      "[LightGBM] [Warning] lambda_l2 is set=7, reg_lambda=0.0 will be ignored. Current value: lambda_l2=7\n",
      "[LightGBM] [Warning] lambda_l1 is set=0.3, reg_alpha=0.0 will be ignored. Current value: lambda_l1=0.3\n",
      "[LightGBM] [Warning] num_leaves is set=31, max_leaf=100 will be ignored. Current value: num_leaves=31\n",
      "[LightGBM] [Warning] feature_fraction is set=0.5, colsample_bytree=1.0 will be ignored. Current value: feature_fraction=0.5\n",
      "[LightGBM] [Warning] bagging_fraction is set=0.5, subsample=1.0 will be ignored. Current value: bagging_fraction=0.5\n",
      "[LightGBM] [Warning] bagging_freq is set=2, subsample_freq=0 will be ignored. Current value: bagging_freq=2\n",
      "[LightGBM] [Warning] Accuracy may be bad since you didn't explicitly set num_leaves OR 2^max_depth > num_leaves. (num_leaves=31).\n"
     ]
    },
    {
     "data": {
      "text/plain": [
       "GridSearchCV(estimator=LGBMClassifier(metric='multi_logloss', num_class=10,\n",
       "                                      objective='multiclass'),\n",
       "             n_jobs=20,\n",
       "             param_grid={'bagging_fraction': [0.5, 0.6, 0.7],\n",
       "                         'bagging_freq': [2, 3, 5], 'cat_smooth': [1, 10, 20],\n",
       "                         'feature_fraction': [0.5, 0.6, 0.7],\n",
       "                         'lambda_l1': [0.3, 0.4, 0.5], 'lambda_l2': [7, 10, 12],\n",
       "                         'learning_rate': [0.03, 0.05, 0.09],\n",
       "                         'max_depth': [10, 15, 25],\n",
       "                         'max_leaf': [100, 200, 300]})"
      ]
     },
     "execution_count": 44,
     "metadata": {},
     "output_type": "execute_result"
    }
   ],
   "source": [
    "from sklearn.model_selection import GridSearchCV \n",
    "\n",
    "parameters ={\n",
    "    'max_leaf': [100 , 200, 300 ,400 , 600],\n",
    "    'max_depth': [15, 20, 25, 30, 35],\n",
    "    'learning_rate': [0.01, 0.02, 0.05, 0.1, 0.15],\n",
    "    'feature_fraction': [0.6, 0.7, 0.8, 0.95],\n",
    "    'bagging_fraction': [0.6, 0.7, 0.8, 0.95],\n",
    "    'bagging_freq': [2, 4, 6, 8],\n",
    "    'lambda_l1': [0.1, 0.4, 0.6],\n",
    "    'lambda_l2': [10, 15, 35],\n",
    "    'cat_smooth': [1, 10, 15, 20, 35],\n",
    "    }\n",
    "\n",
    "## V1\n",
    "parameters ={\n",
    "    'max_leaf': [100 , 600],\n",
    "    'max_depth': [15, 35],\n",
    "    'learning_rate': [0.01, 0.05],\n",
    "    'feature_fraction': [0.6, 0.9],\n",
    "    'bagging_fraction': [0.6,  0.9],\n",
    "    'bagging_freq': [2, 8],\n",
    "    'lambda_l1': [0.4, 0.6],\n",
    "    'lambda_l2': [10, 15],\n",
    "    'cat_smooth': [1, 35],\n",
    "    }\n",
    "\"\"\"\n",
    "gs.best_params_\n",
    "{ \n",
    "'max_leaf': 100\n",
    "'max_depth': 15,\n",
    "'learning_rate': 0.05,\n",
    "'feature_fraction': 0.6,\n",
    "'bagging_fraction': 0.6,\n",
    "'bagging_freq': 2,\n",
    "'lambda_l1': 0.4,\n",
    "'lambda_l2': 10,\n",
    "'cat_smooth': 1,\n",
    " }\n",
    " \"\"\"\n",
    "\n",
    "\n",
    "## V2\n",
    "parameters ={\n",
    "    'max_leaf': [100 , 200 , 300],\n",
    "    'max_depth': [10 , 15, 25],\n",
    "    'learning_rate': [0.03, 0.05 , 0.09],\n",
    "    'feature_fraction': [0.5, 0.6 , 0.7],\n",
    "    'bagging_fraction': [0.5, 0.6, 0.7,],\n",
    "    'bagging_freq': [2, 3, 5],\n",
    "    'lambda_l1': [0.3, 0.4, 0.5],\n",
    "    'lambda_l2': [ 7,10, 12],\n",
    "    'cat_smooth': [1, 10 , 20],\n",
    "    }\n",
    "\"\"\"\n",
    "{\n",
    "'max_leaf': 100\n",
    "'max_depth': 10,\n",
    "'learning_rate': 0.03,\n",
    "'feature_fraction': 0.5,\n",
    "'bagging_fraction': 0.5,\n",
    "'bagging_freq': 2,\n",
    "'lambda_l1': 0.3,\n",
    "'lambda_l2': 7,\n",
    "'cat_smooth': 1,\n",
    "}\n",
    " \"\"\"\n",
    "\n",
    "#                    num_threads = 6,\n",
    "model_gs = LGBMClassifier( \n",
    "                   objective = 'multiclass',\n",
    "                   num_class = 10 ,\n",
    "                   metric = 'multi_logloss')\n",
    "gs = GridSearchCV(model_gs , param_grid =parameters , n_jobs = 20)\n",
    "gs.fit(xtrain ,ytrain)"
   ]
  },
  {
   "cell_type": "code",
   "execution_count": 71,
   "metadata": {},
   "outputs": [
    {
     "data": {
      "text/plain": [
       "{'bagging_fraction': 0.5,\n",
       " 'bagging_freq': 2,\n",
       " 'cat_smooth': 1,\n",
       " 'feature_fraction': 0.5,\n",
       " 'lambda_l1': 0.3,\n",
       " 'lambda_l2': 7,\n",
       " 'learning_rate': 0.03,\n",
       " 'max_depth': 10,\n",
       " 'max_leaf': 100}"
      ]
     },
     "execution_count": 71,
     "metadata": {},
     "output_type": "execute_result"
    }
   ],
   "source": [
    "gs.best_params_"
   ]
  },
  {
   "cell_type": "code",
   "execution_count": null,
   "metadata": {},
   "outputs": [],
   "source": [
    "#Accuracy may be bad since you didn't explicitly set num_leaves OR 2^max_depth > num_leaves\n",
    "# (num_leaves=31)"
   ]
  },
  {
   "cell_type": "code",
   "execution_count": 29,
   "metadata": {},
   "outputs": [
    {
     "data": {
      "text/plain": [
       "(43228, 241)"
      ]
     },
     "execution_count": 29,
     "metadata": {},
     "output_type": "execute_result"
    }
   ],
   "source": [
    "xtrain.shape"
   ]
  },
  {
   "cell_type": "code",
   "execution_count": 46,
   "metadata": {},
   "outputs": [
    {
     "data": {
      "text/plain": [
       "['gs_model_v2.pkl']"
      ]
     },
     "execution_count": 46,
     "metadata": {},
     "output_type": "execute_result"
    }
   ],
   "source": [
    "import joblib\n",
    "\n",
    "#save your model or results\n",
    "joblib.dump(gs, 'gs_model_v2.pkl')\n",
    "\n"
   ]
  },
  {
   "cell_type": "code",
   "execution_count": 37,
   "metadata": {},
   "outputs": [],
   "source": [
    "#load your model for further usage\n",
    "gs_ = joblib.load(\"gs_model_v1.pkl\")"
   ]
  },
  {
   "cell_type": "code",
   "execution_count": null,
   "metadata": {},
   "outputs": [],
   "source": []
  },
  {
   "cell_type": "code",
   "execution_count": null,
   "metadata": {},
   "outputs": [],
   "source": [
    "from sklearn.model_selection import GridSearchCV \n",
    "from lightgbm import LGBMClassifier\n",
    "import joblib\n",
    "import pickle \n",
    "with open('yy.pickle' ,'rb') as f:\n",
    "    x_train , y_train  =  pickle.load(f)\n",
    "\n",
    "model_lgb = LGBMClassifier(num_class =10 ,\n",
    "                           objective='multiclass',\n",
    "                           metric='multi_logloss',\n",
    "                           **params)\n",
    "\n",
    "parameters ={\n",
    "    'max_leaf': [100 , 200, 300 ,400],\n",
    "    'max_depth': [2, 5 ,10 , 15, 20,  35],\n",
    "    'learning_rate': [0.01, 0.02, 0.05, 0.1, 0.15],\n",
    "    'feature_fraction': [0.6, 0.7, 0.8, 0.95],\n",
    "    'bagging_fraction': [0.6, 0.7, 0.8, 0.95],\n",
    "    'bagging_freq': [2, 4, 6, 8],\n",
    "    'lambda_l1': [0.1, 0.4, 0.6],\n",
    "    'lambda_l2': [10, 15, 35],\n",
    "    'cat_smooth': [1, 10, 15, 20, 35],\n",
    "    }\n",
    "gs = GridSearchCV(model_lgb , \n",
    "                  param_grid =parameters , \n",
    "                  n_jobs = 20)\n",
    "gs.fit(x_train , y_train)\n",
    "\n",
    "joblib.dump(gs, 'gs_model_yy')\n",
    "print('GS Done')\n"
   ]
  },
  {
   "cell_type": "code",
   "execution_count": null,
   "metadata": {},
   "outputs": [],
   "source": []
  },
  {
   "cell_type": "code",
   "execution_count": 47,
   "metadata": {
    "scrolled": true
   },
   "outputs": [],
   "source": [
    "model = gs_.estimator"
   ]
  },
  {
   "cell_type": "code",
   "execution_count": 50,
   "metadata": {},
   "outputs": [
    {
     "data": {
      "text/plain": [
       "LGBMClassifier(bagging_fraction=0.7, cat_smooth=5, feature_fraction=0.7,\n",
       "               lambda_l1=0.2, lambda_l2=15, learning_rate=0.4, max_depth=70,\n",
       "               max_leaf=600, metric='multi_logloss', num_class=10,\n",
       "               objective='multiclass')"
      ]
     },
     "execution_count": 50,
     "metadata": {},
     "output_type": "execute_result"
    }
   ],
   "source": [
    "model"
   ]
  },
  {
   "cell_type": "code",
   "execution_count": 41,
   "metadata": {},
   "outputs": [],
   "source": [
    "model_best = LGBMClassifier(bagging_fraction=0.6,\n",
    "                            bagging_freq = 2,\n",
    "                            feature_fraction=0.6,\n",
    "                            cat_smooth=1, \n",
    "                            lambda_l1=0.4, \n",
    "                            lambda_l2=10, \n",
    "                            learning_rate=0.05, \n",
    "                            max_depth=15,\n",
    "                            max_leaf=100,\n",
    "                            metric='multi_logloss',\n",
    "                            num_class=10,\n",
    "                            objective='multiclass')"
   ]
  },
  {
   "cell_type": "code",
   "execution_count": 42,
   "metadata": {},
   "outputs": [
    {
     "name": "stderr",
     "output_type": "stream",
     "text": [
      "/mnt/data/anaconda3/envs/charlie_dgtn/lib/python3.8/site-packages/sklearn/utils/validation.py:63: DataConversionWarning: A column-vector y was passed when a 1d array was expected. Please change the shape of y to (n_samples, ), for example using ravel().\n",
      "  return f(*args, **kwargs)\n"
     ]
    },
    {
     "name": "stdout",
     "output_type": "stream",
     "text": [
      "[LightGBM] [Warning] lambda_l2 is set=10, reg_lambda=0.0 will be ignored. Current value: lambda_l2=10\n",
      "[LightGBM] [Warning] lambda_l1 is set=0.4, reg_alpha=0.0 will be ignored. Current value: lambda_l1=0.4\n",
      "[LightGBM] [Warning] num_leaves is set=31, max_leaf=100 will be ignored. Current value: num_leaves=31\n",
      "[LightGBM] [Warning] feature_fraction is set=0.6, colsample_bytree=1.0 will be ignored. Current value: feature_fraction=0.6\n",
      "[LightGBM] [Warning] bagging_fraction is set=0.6, subsample=1.0 will be ignored. Current value: bagging_fraction=0.6\n",
      "[LightGBM] [Warning] bagging_freq is set=2, subsample_freq=0 will be ignored. Current value: bagging_freq=2\n",
      "[LightGBM] [Warning] Accuracy may be bad since you didn't explicitly set num_leaves OR 2^max_depth > num_leaves. (num_leaves=31).\n"
     ]
    },
    {
     "data": {
      "text/plain": [
       "LGBMClassifier(bagging_fraction=0.6, bagging_freq=2, cat_smooth=1,\n",
       "               feature_fraction=0.6, lambda_l1=0.4, lambda_l2=10,\n",
       "               learning_rate=0.05, max_depth=15, max_leaf=100,\n",
       "               metric='multi_logloss', num_class=10, objective='multiclass')"
      ]
     },
     "execution_count": 42,
     "metadata": {},
     "output_type": "execute_result"
    }
   ],
   "source": [
    "model_best.fit(xtrain , ytrain)"
   ]
  },
  {
   "cell_type": "code",
   "execution_count": 43,
   "metadata": {},
   "outputs": [
    {
     "data": {
      "text/plain": [
       "0.5801886792452831"
      ]
     },
     "execution_count": 43,
     "metadata": {},
     "output_type": "execute_result"
    }
   ],
   "source": [
    "mae( yval ,model_best.predict(xval) )"
   ]
  },
  {
   "cell_type": "code",
   "execution_count": 49,
   "metadata": {},
   "outputs": [
    {
     "data": {
      "text/plain": [
       "0.5990566037735849"
      ]
     },
     "execution_count": 49,
     "metadata": {},
     "output_type": "execute_result"
    }
   ],
   "source": [
    "mae( yval ,gs.predict(xval) )"
   ]
  },
  {
   "cell_type": "code",
   "execution_count": null,
   "metadata": {},
   "outputs": [],
   "source": []
  },
  {
   "cell_type": "code",
   "execution_count": 40,
   "metadata": {},
   "outputs": [
    {
     "data": {
      "text/plain": [
       "0.6084905660377359"
      ]
     },
     "execution_count": 40,
     "metadata": {},
     "output_type": "execute_result"
    }
   ],
   "source": [
    "# yval_pred = lgb.predict(xval)\n",
    "# yval_pred = [np.argmax(line) for line in yval_pred]\n",
    "# mae(yval , yval_pred)\n",
    "mae( yval ,model.predict(xval) )\n"
   ]
  },
  {
   "cell_type": "code",
   "execution_count": null,
   "metadata": {},
   "outputs": [],
   "source": []
  },
  {
   "cell_type": "code",
   "execution_count": null,
   "metadata": {},
   "outputs": [],
   "source": []
  },
  {
   "cell_type": "code",
   "execution_count": null,
   "metadata": {},
   "outputs": [],
   "source": []
  },
  {
   "cell_type": "markdown",
   "metadata": {},
   "source": [
    "## Full train"
   ]
  },
  {
   "cell_type": "code",
   "execution_count": 95,
   "metadata": {
    "scrolled": true
   },
   "outputs": [
    {
     "name": "stdout",
     "output_type": "stream",
     "text": [
      "original shape:  (640, 241)\n",
      "augmented shape: (64640, 241)\n"
     ]
    }
   ],
   "source": [
    "import lightgbm as lgb\n",
    "\n",
    "# aug to train\n",
    "xtrain , ytrain = data_augmentor(x, y , times = 100)\n",
    "\n",
    "\n",
    "xtrain = scalar.fit_transform(xtrain)\n",
    "x_t_sc = scalar.transform(x_t)\n",
    "\n",
    "\n",
    "# whole = lgb.Dataset(scalar.transform(x), y )\n",
    "train = lgb.Dataset(xtrain , ytrain['label'])\n",
    "# val = lgb.Dataset(xval , yval['label'])"
   ]
  },
  {
   "cell_type": "code",
   "execution_count": 96,
   "metadata": {},
   "outputs": [],
   "source": [
    "from lightgbm import LGBMClassifier\n",
    "\n",
    "model = LGBMClassifier( max_depth = 70,\n",
    "                   max_leaf = 600 , \n",
    "                   feature_fraction = .7,\n",
    "                   bagging_fraction = .7,\n",
    "                   lambda_l1 = .2,\n",
    "                   lambda_l2 = 15,\n",
    "                   cat_smooth = 5,\n",
    "                   num_threads = 6,\n",
    "                   learning_rate = .4, \n",
    "                   objective = 'multiclass',\n",
    "                   num_class = 10 ,\n",
    "                   metric = 'multi_logloss')\n"
   ]
  },
  {
   "cell_type": "code",
   "execution_count": 97,
   "metadata": {
    "scrolled": true
   },
   "outputs": [
    {
     "name": "stderr",
     "output_type": "stream",
     "text": [
      "/mnt/data/anaconda3/envs/charlie_dgtn/lib/python3.8/site-packages/sklearn/utils/validation.py:63: DataConversionWarning: A column-vector y was passed when a 1d array was expected. Please change the shape of y to (n_samples, ), for example using ravel().\n",
      "  return f(*args, **kwargs)\n"
     ]
    },
    {
     "name": "stdout",
     "output_type": "stream",
     "text": [
      "[LightGBM] [Warning] num_threads is set=6, n_jobs=-1 will be ignored. Current value: num_threads=6\n",
      "[LightGBM] [Warning] lambda_l2 is set=15, reg_lambda=0.0 will be ignored. Current value: lambda_l2=15\n",
      "[LightGBM] [Warning] lambda_l1 is set=0.2, reg_alpha=0.0 will be ignored. Current value: lambda_l1=0.2\n",
      "[LightGBM] [Warning] num_leaves is set=31, max_leaf=600 will be ignored. Current value: num_leaves=31\n",
      "[LightGBM] [Warning] feature_fraction is set=0.7, colsample_bytree=1.0 will be ignored. Current value: feature_fraction=0.7\n",
      "[LightGBM] [Warning] bagging_fraction is set=0.7, subsample=1.0 will be ignored. Current value: bagging_fraction=0.7\n",
      "[LightGBM] [Warning] Accuracy may be bad since you didn't explicitly set num_leaves OR 2^max_depth > num_leaves. (num_leaves=31).\n"
     ]
    },
    {
     "data": {
      "text/plain": [
       "LGBMClassifier(bagging_fraction=0.7, cat_smooth=5, feature_fraction=0.7,\n",
       "               lambda_l1=0.2, lambda_l2=15, learning_rate=0.4, max_depth=70,\n",
       "               max_leaf=600, metric='multi_logloss', num_class=10,\n",
       "               num_threads=6, objective='multiclass')"
      ]
     },
     "execution_count": 97,
     "metadata": {},
     "output_type": "execute_result"
    }
   ],
   "source": [
    "model.fit(xtrain , ytrain )\n",
    "#, eval_set = (xval , yval)"
   ]
  },
  {
   "cell_type": "code",
   "execution_count": 98,
   "metadata": {},
   "outputs": [
    {
     "data": {
      "text/plain": [
       "0.0"
      ]
     },
     "execution_count": 98,
     "metadata": {},
     "output_type": "execute_result"
    }
   ],
   "source": [
    "# yval_pred = lgb.predict(xval)\n",
    "# yval_pred = [np.argmax(line) for line in yval_pred]\n",
    "# mae(yval , yval_pred)\n",
    "mae( ytrain ,model.predict(xtrain) )\n"
   ]
  },
  {
   "cell_type": "code",
   "execution_count": 100,
   "metadata": {},
   "outputs": [],
   "source": [
    "y_t_pred = model.predict(x_t_sc)"
   ]
  },
  {
   "cell_type": "code",
   "execution_count": null,
   "metadata": {},
   "outputs": [],
   "source": []
  },
  {
   "cell_type": "code",
   "execution_count": null,
   "metadata": {},
   "outputs": [],
   "source": []
  },
  {
   "cell_type": "code",
   "execution_count": 113,
   "metadata": {
    "scrolled": false
   },
   "outputs": [
    {
     "data": {
      "text/plain": [
       "0.6179245283018868"
      ]
     },
     "execution_count": 113,
     "metadata": {},
     "output_type": "execute_result"
    }
   ],
   "source": [
    "# 613\n",
    "# multi class output\n",
    "y_pred = [np.argmax(line) for line in model.predict(xval)]\n",
    "# y_pred = model.predict(xval)\n",
    "mae(yval , y_pred)"
   ]
  },
  {
   "cell_type": "markdown",
   "metadata": {},
   "source": [
    "#### SVC for regression"
   ]
  },
  {
   "cell_type": "code",
   "execution_count": 22,
   "metadata": {},
   "outputs": [
    {
     "data": {
      "text/plain": [
       "2.0283018867924527"
      ]
     },
     "execution_count": 22,
     "metadata": {},
     "output_type": "execute_result"
    }
   ],
   "source": [
    "svc = SVC()\n",
    "svc.fit(model.predict(xtrain).reshape(-1 ,1) , ytrain )\n",
    "yval_svc = svc.predict(np.array(y_pred).reshape(-1 ,1))\n",
    "mae(yval , yval_svc)"
   ]
  },
  {
   "cell_type": "markdown",
   "metadata": {},
   "source": [
    "### Whole training"
   ]
  },
  {
   "cell_type": "code",
   "execution_count": 28,
   "metadata": {},
   "outputs": [],
   "source": [
    "scalar = sc()\n",
    "x_sc = scalar.fit_transform(x)\n",
    "x_t_sc = scalar.transform(x_t)\n",
    "train = lgb.Dataset(x_sc, y)\n"
   ]
  },
  {
   "cell_type": "code",
   "execution_count": 30,
   "metadata": {
    "scrolled": true
   },
   "outputs": [
    {
     "ename": "LightGBMError",
     "evalue": "Cannot set reference after freed raw data, set free_raw_data=False when construct Dataset to avoid this.",
     "output_type": "error",
     "traceback": [
      "\u001b[0;31m---------------------------------------------------------------------------\u001b[0m",
      "\u001b[0;31mLightGBMError\u001b[0m                             Traceback (most recent call last)",
      "\u001b[0;32m<ipython-input-30-fc2d89501380>\u001b[0m in \u001b[0;36m<module>\u001b[0;34m\u001b[0m\n\u001b[0;32m----> 1\u001b[0;31m \u001b[0mmodel_whole\u001b[0m \u001b[0;34m=\u001b[0m \u001b[0mlgb\u001b[0m\u001b[0;34m.\u001b[0m\u001b[0mtrain\u001b[0m\u001b[0;34m(\u001b[0m\u001b[0mparam\u001b[0m \u001b[0;34m,\u001b[0m \u001b[0mtrain\u001b[0m \u001b[0;34m,\u001b[0m\u001b[0;36m500\u001b[0m \u001b[0;34m,\u001b[0m \u001b[0mvalid_sets\u001b[0m \u001b[0;34m=\u001b[0m \u001b[0;34m[\u001b[0m\u001b[0mval\u001b[0m\u001b[0;34m]\u001b[0m\u001b[0;34m)\u001b[0m\u001b[0;34m\u001b[0m\u001b[0;34m\u001b[0m\u001b[0m\n\u001b[0m",
      "\u001b[0;32m/usr/local/lib/python3.8/site-packages/lightgbm/engine.py\u001b[0m in \u001b[0;36mtrain\u001b[0;34m(params, train_set, num_boost_round, valid_sets, valid_names, fobj, feval, init_model, feature_name, categorical_feature, early_stopping_rounds, evals_result, verbose_eval, learning_rates, keep_training_booster, callbacks)\u001b[0m\n\u001b[1;32m    194\u001b[0m             \u001b[0;32mif\u001b[0m \u001b[0;32mnot\u001b[0m \u001b[0misinstance\u001b[0m\u001b[0;34m(\u001b[0m\u001b[0mvalid_data\u001b[0m\u001b[0;34m,\u001b[0m \u001b[0mDataset\u001b[0m\u001b[0;34m)\u001b[0m\u001b[0;34m:\u001b[0m\u001b[0;34m\u001b[0m\u001b[0;34m\u001b[0m\u001b[0m\n\u001b[1;32m    195\u001b[0m                 \u001b[0;32mraise\u001b[0m \u001b[0mTypeError\u001b[0m\u001b[0;34m(\u001b[0m\u001b[0;34m\"Training only accepts Dataset object\"\u001b[0m\u001b[0;34m)\u001b[0m\u001b[0;34m\u001b[0m\u001b[0;34m\u001b[0m\u001b[0m\n\u001b[0;32m--> 196\u001b[0;31m             \u001b[0mreduced_valid_sets\u001b[0m\u001b[0;34m.\u001b[0m\u001b[0mappend\u001b[0m\u001b[0;34m(\u001b[0m\u001b[0mvalid_data\u001b[0m\u001b[0;34m.\u001b[0m\u001b[0m_update_params\u001b[0m\u001b[0;34m(\u001b[0m\u001b[0mparams\u001b[0m\u001b[0;34m)\u001b[0m\u001b[0;34m.\u001b[0m\u001b[0mset_reference\u001b[0m\u001b[0;34m(\u001b[0m\u001b[0mtrain_set\u001b[0m\u001b[0;34m)\u001b[0m\u001b[0;34m)\u001b[0m\u001b[0;34m\u001b[0m\u001b[0;34m\u001b[0m\u001b[0m\n\u001b[0m\u001b[1;32m    197\u001b[0m             \u001b[0;32mif\u001b[0m \u001b[0mvalid_names\u001b[0m \u001b[0;32mis\u001b[0m \u001b[0;32mnot\u001b[0m \u001b[0;32mNone\u001b[0m \u001b[0;32mand\u001b[0m \u001b[0mlen\u001b[0m\u001b[0;34m(\u001b[0m\u001b[0mvalid_names\u001b[0m\u001b[0;34m)\u001b[0m \u001b[0;34m>\u001b[0m \u001b[0mi\u001b[0m\u001b[0;34m:\u001b[0m\u001b[0;34m\u001b[0m\u001b[0;34m\u001b[0m\u001b[0m\n\u001b[1;32m    198\u001b[0m                 \u001b[0mname_valid_sets\u001b[0m\u001b[0;34m.\u001b[0m\u001b[0mappend\u001b[0m\u001b[0;34m(\u001b[0m\u001b[0mvalid_names\u001b[0m\u001b[0;34m[\u001b[0m\u001b[0mi\u001b[0m\u001b[0;34m]\u001b[0m\u001b[0;34m)\u001b[0m\u001b[0;34m\u001b[0m\u001b[0;34m\u001b[0m\u001b[0m\n",
      "\u001b[0;32m/usr/local/lib/python3.8/site-packages/lightgbm/basic.py\u001b[0m in \u001b[0;36mset_reference\u001b[0;34m(self, reference)\u001b[0m\n\u001b[1;32m   1604\u001b[0m             \u001b[0;32mreturn\u001b[0m \u001b[0mself\u001b[0m\u001b[0;34m.\u001b[0m\u001b[0m_free_handle\u001b[0m\u001b[0;34m(\u001b[0m\u001b[0;34m)\u001b[0m\u001b[0;34m\u001b[0m\u001b[0;34m\u001b[0m\u001b[0m\n\u001b[1;32m   1605\u001b[0m         \u001b[0;32melse\u001b[0m\u001b[0;34m:\u001b[0m\u001b[0;34m\u001b[0m\u001b[0;34m\u001b[0m\u001b[0m\n\u001b[0;32m-> 1606\u001b[0;31m             raise LightGBMError(\"Cannot set reference after freed raw data, \"\n\u001b[0m\u001b[1;32m   1607\u001b[0m                                 \"set free_raw_data=False when construct Dataset to avoid this.\")\n\u001b[1;32m   1608\u001b[0m \u001b[0;34m\u001b[0m\u001b[0m\n",
      "\u001b[0;31mLightGBMError\u001b[0m: Cannot set reference after freed raw data, set free_raw_data=False when construct Dataset to avoid this."
     ]
    }
   ],
   "source": [
    "model_whole = lgb.train(param , train ,500 )"
   ]
  },
  {
   "cell_type": "markdown",
   "metadata": {},
   "source": [
    "#### Self-measure"
   ]
  },
  {
   "cell_type": "markdown",
   "metadata": {},
   "source": [
    "##### mlluticlass"
   ]
  },
  {
   "cell_type": "code",
   "execution_count": 32,
   "metadata": {},
   "outputs": [
    {
     "data": {
      "text/plain": [
       "0.00018564356435643565"
      ]
     },
     "execution_count": 32,
     "metadata": {},
     "output_type": "execute_result"
    }
   ],
   "source": [
    "y_pred_t = [np.argmax(line) for line in model.predict(x_sc)]\n",
    "mae(y , y_pred_t)"
   ]
  },
  {
   "cell_type": "markdown",
   "metadata": {},
   "source": [
    "##### Regression method"
   ]
  },
  {
   "cell_type": "code",
   "execution_count": 26,
   "metadata": {
    "scrolled": true
   },
   "outputs": [
    {
     "data": {
      "text/plain": [
       "0.31039085196086125"
      ]
     },
     "execution_count": 26,
     "metadata": {},
     "output_type": "execute_result"
    }
   ],
   "source": [
    "# y_pred = [np.argmax(line) for line in model.predict(x_sc)]\n",
    "y_pred_t = model.predict(x_sc)\n",
    "mae(y , y_pred_t)"
   ]
  },
  {
   "cell_type": "code",
   "execution_count": null,
   "metadata": {},
   "outputs": [],
   "source": []
  },
  {
   "cell_type": "code",
   "execution_count": 27,
   "metadata": {
    "scrolled": true
   },
   "outputs": [
    {
     "data": {
      "text/plain": [
       "0.228125"
      ]
     },
     "execution_count": 27,
     "metadata": {},
     "output_type": "execute_result"
    }
   ],
   "source": [
    "y_pred_reg_t = model.predict(x_t_sc)\n",
    "y_pred_reg = model.predict(x_sc)\n",
    "y_true = y\n",
    "\n",
    "svc = SVC()\n",
    "svc.fit(y_pred_reg.reshape(-1 ,1) , y_true )\n",
    "y_pred_svc_t= svc.predict(y_pred_reg_t.reshape(-1,1))\n",
    "y_pred_svc= svc.predict(y_pred_reg.reshape(-1,1))\n",
    "\n",
    "mae(y , y_pred_svc)\n",
    "\n"
   ]
  },
  {
   "cell_type": "code",
   "execution_count": 28,
   "metadata": {},
   "outputs": [
    {
     "data": {
      "text/plain": [
       "(153,)"
      ]
     },
     "execution_count": 28,
     "metadata": {},
     "output_type": "execute_result"
    }
   ],
   "source": [
    "y_pred_svc_t.shape"
   ]
  },
  {
   "cell_type": "markdown",
   "metadata": {},
   "source": [
    "#### upload"
   ]
  },
  {
   "cell_type": "code",
   "execution_count": 33,
   "metadata": {},
   "outputs": [],
   "source": [
    "# multiclassi output\n",
    "y_pred_t = [np.argmax(line) for line in model.predict(x_t_sc)]\n"
   ]
  },
  {
   "cell_type": "code",
   "execution_count": 36,
   "metadata": {},
   "outputs": [
    {
     "data": {
      "text/plain": [
       "153"
      ]
     },
     "execution_count": 36,
     "metadata": {},
     "output_type": "execute_result"
    }
   ],
   "source": [
    "len(y_pred_t)\n"
   ]
  },
  {
   "cell_type": "code",
   "execution_count": 38,
   "metadata": {},
   "outputs": [
    {
     "data": {
      "text/html": [
       "<div>\n",
       "<style scoped>\n",
       "    .dataframe tbody tr th:only-of-type {\n",
       "        vertical-align: middle;\n",
       "    }\n",
       "\n",
       "    .dataframe tbody tr th {\n",
       "        vertical-align: top;\n",
       "    }\n",
       "\n",
       "    .dataframe thead th {\n",
       "        text-align: right;\n",
       "    }\n",
       "</style>\n",
       "<table border=\"1\" class=\"dataframe\">\n",
       "  <thead>\n",
       "    <tr style=\"text-align: right;\">\n",
       "      <th></th>\n",
       "      <th>arrival_date</th>\n",
       "      <th>label</th>\n",
       "    </tr>\n",
       "  </thead>\n",
       "  <tbody>\n",
       "    <tr>\n",
       "      <th>0</th>\n",
       "      <td>2017-04-01</td>\n",
       "      <td>2</td>\n",
       "    </tr>\n",
       "    <tr>\n",
       "      <th>1</th>\n",
       "      <td>2017-04-02</td>\n",
       "      <td>2</td>\n",
       "    </tr>\n",
       "    <tr>\n",
       "      <th>2</th>\n",
       "      <td>2017-04-03</td>\n",
       "      <td>3</td>\n",
       "    </tr>\n",
       "    <tr>\n",
       "      <th>3</th>\n",
       "      <td>2017-04-04</td>\n",
       "      <td>1</td>\n",
       "    </tr>\n",
       "    <tr>\n",
       "      <th>4</th>\n",
       "      <td>2017-04-05</td>\n",
       "      <td>3</td>\n",
       "    </tr>\n",
       "    <tr>\n",
       "      <th>...</th>\n",
       "      <td>...</td>\n",
       "      <td>...</td>\n",
       "    </tr>\n",
       "    <tr>\n",
       "      <th>148</th>\n",
       "      <td>2017-08-27</td>\n",
       "      <td>5</td>\n",
       "    </tr>\n",
       "    <tr>\n",
       "      <th>149</th>\n",
       "      <td>2017-08-28</td>\n",
       "      <td>5</td>\n",
       "    </tr>\n",
       "    <tr>\n",
       "      <th>150</th>\n",
       "      <td>2017-08-29</td>\n",
       "      <td>3</td>\n",
       "    </tr>\n",
       "    <tr>\n",
       "      <th>151</th>\n",
       "      <td>2017-08-30</td>\n",
       "      <td>1</td>\n",
       "    </tr>\n",
       "    <tr>\n",
       "      <th>152</th>\n",
       "      <td>2017-08-31</td>\n",
       "      <td>2</td>\n",
       "    </tr>\n",
       "  </tbody>\n",
       "</table>\n",
       "<p>153 rows × 2 columns</p>\n",
       "</div>"
      ],
      "text/plain": [
       "    arrival_date  label\n",
       "0     2017-04-01      2\n",
       "1     2017-04-02      2\n",
       "2     2017-04-03      3\n",
       "3     2017-04-04      1\n",
       "4     2017-04-05      3\n",
       "..           ...    ...\n",
       "148   2017-08-27      5\n",
       "149   2017-08-28      5\n",
       "150   2017-08-29      3\n",
       "151   2017-08-30      1\n",
       "152   2017-08-31      2\n",
       "\n",
       "[153 rows x 2 columns]"
      ]
     },
     "execution_count": 38,
     "metadata": {},
     "output_type": "execute_result"
    }
   ],
   "source": [
    "df_y_t['label']=y_pred_t\n",
    "df_y_t"
   ]
  },
  {
   "cell_type": "code",
   "execution_count": 30,
   "metadata": {},
   "outputs": [],
   "source": [
    "# reg output\n",
    "df_y_t['label']=[int(v) for v in y_pred_svc_t]"
   ]
  },
  {
   "cell_type": "code",
   "execution_count": 105,
   "metadata": {},
   "outputs": [],
   "source": [
    "df_y_t['label'] = y_t_pred\n"
   ]
  },
  {
   "cell_type": "code",
   "execution_count": 106,
   "metadata": {
    "scrolled": true
   },
   "outputs": [
    {
     "data": {
      "text/html": [
       "<div>\n",
       "<style scoped>\n",
       "    .dataframe tbody tr th:only-of-type {\n",
       "        vertical-align: middle;\n",
       "    }\n",
       "\n",
       "    .dataframe tbody tr th {\n",
       "        vertical-align: top;\n",
       "    }\n",
       "\n",
       "    .dataframe thead th {\n",
       "        text-align: right;\n",
       "    }\n",
       "</style>\n",
       "<table border=\"1\" class=\"dataframe\">\n",
       "  <thead>\n",
       "    <tr style=\"text-align: right;\">\n",
       "      <th></th>\n",
       "      <th>arrival_date</th>\n",
       "      <th>label</th>\n",
       "    </tr>\n",
       "  </thead>\n",
       "  <tbody>\n",
       "    <tr>\n",
       "      <th>0</th>\n",
       "      <td>2017-04-01</td>\n",
       "      <td>2.0</td>\n",
       "    </tr>\n",
       "    <tr>\n",
       "      <th>1</th>\n",
       "      <td>2017-04-02</td>\n",
       "      <td>2.0</td>\n",
       "    </tr>\n",
       "    <tr>\n",
       "      <th>2</th>\n",
       "      <td>2017-04-03</td>\n",
       "      <td>3.0</td>\n",
       "    </tr>\n",
       "    <tr>\n",
       "      <th>3</th>\n",
       "      <td>2017-04-04</td>\n",
       "      <td>1.0</td>\n",
       "    </tr>\n",
       "    <tr>\n",
       "      <th>4</th>\n",
       "      <td>2017-04-05</td>\n",
       "      <td>2.0</td>\n",
       "    </tr>\n",
       "    <tr>\n",
       "      <th>...</th>\n",
       "      <td>...</td>\n",
       "      <td>...</td>\n",
       "    </tr>\n",
       "    <tr>\n",
       "      <th>148</th>\n",
       "      <td>2017-08-27</td>\n",
       "      <td>3.0</td>\n",
       "    </tr>\n",
       "    <tr>\n",
       "      <th>149</th>\n",
       "      <td>2017-08-28</td>\n",
       "      <td>3.0</td>\n",
       "    </tr>\n",
       "    <tr>\n",
       "      <th>150</th>\n",
       "      <td>2017-08-29</td>\n",
       "      <td>2.0</td>\n",
       "    </tr>\n",
       "    <tr>\n",
       "      <th>151</th>\n",
       "      <td>2017-08-30</td>\n",
       "      <td>2.0</td>\n",
       "    </tr>\n",
       "    <tr>\n",
       "      <th>152</th>\n",
       "      <td>2017-08-31</td>\n",
       "      <td>2.0</td>\n",
       "    </tr>\n",
       "  </tbody>\n",
       "</table>\n",
       "<p>153 rows × 2 columns</p>\n",
       "</div>"
      ],
      "text/plain": [
       "    arrival_date  label\n",
       "0     2017-04-01    2.0\n",
       "1     2017-04-02    2.0\n",
       "2     2017-04-03    3.0\n",
       "3     2017-04-04    1.0\n",
       "4     2017-04-05    2.0\n",
       "..           ...    ...\n",
       "148   2017-08-27    3.0\n",
       "149   2017-08-28    3.0\n",
       "150   2017-08-29    2.0\n",
       "151   2017-08-30    2.0\n",
       "152   2017-08-31    2.0\n",
       "\n",
       "[153 rows x 2 columns]"
      ]
     },
     "execution_count": 106,
     "metadata": {},
     "output_type": "execute_result"
    }
   ],
   "source": [
    "df_y_t"
   ]
  },
  {
   "cell_type": "code",
   "execution_count": 108,
   "metadata": {},
   "outputs": [],
   "source": [
    "df_y_t.to_csv('test_output_20210105-5.csv' , index = False)"
   ]
  },
  {
   "cell_type": "code",
   "execution_count": 223,
   "metadata": {
    "scrolled": true
   },
   "outputs": [
    {
     "data": {
      "text/plain": [
       "array([[<AxesSubplot:title={'center':'0'}>]], dtype=object)"
      ]
     },
     "execution_count": 223,
     "metadata": {},
     "output_type": "execute_result"
    },
    {
     "data": {
      "image/png": "[encoded data removed]",
      "text/plain": [
       "<Figure size 432x288 with 1 Axes>"
      ]
     },
     "metadata": {
      "needs_background": "light"
     },
     "output_type": "display_data"
    }
   ],
   "source": [
    "pd.DataFrame(y_pred).hist()"
   ]
  },
  {
   "cell_type": "code",
   "execution_count": 107,
   "metadata": {
    "scrolled": true
   },
   "outputs": [
    {
     "data": {
      "text/plain": [
       "<AxesSubplot:>"
      ]
     },
     "execution_count": 107,
     "metadata": {},
     "output_type": "execute_result"
    },
    {
     "data": {
      "image/png": "[encoded data removed]",
      "text/plain": [
       "<Figure size 432x288 with 1 Axes>"
      ]
     },
     "metadata": {
      "needs_background": "light"
     },
     "output_type": "display_data"
    }
   ],
   "source": [
    "df_y_t['label'].hist()"
   ]
  },
  {
   "cell_type": "markdown",
   "metadata": {},
   "source": [
    "### Best distribution"
   ]
  },
  {
   "cell_type": "code",
   "execution_count": 41,
   "metadata": {},
   "outputs": [
    {
     "data": {
      "text/plain": [
       "<AxesSubplot:>"
      ]
     },
     "execution_count": 41,
     "metadata": {},
     "output_type": "execute_result"
    },
    {
     "data": {
      "image/png": "[encoded data removed]",
      "text/plain": [
       "<Figure size 432x288 with 1 Axes>"
      ]
     },
     "metadata": {
      "needs_background": "light"
     },
     "output_type": "display_data"
    }
   ],
   "source": [
    "\n",
    "pd.read_csv('test_output_20210105-3.csv')['label'].hist()"
   ]
  },
  {
   "cell_type": "markdown",
   "metadata": {},
   "source": [
    "## Testing"
   ]
  },
  {
   "cell_type": "code",
   "execution_count": null,
   "metadata": {},
   "outputs": [],
   "source": []
  },
  {
   "cell_type": "code",
   "execution_count": null,
   "metadata": {},
   "outputs": [],
   "source": []
  },
  {
   "cell_type": "markdown",
   "metadata": {},
   "source": [
    "## Torch model "
   ]
  },
  {
   "cell_type": "code",
   "execution_count": null,
   "metadata": {},
   "outputs": [],
   "source": [
    "import toe"
   ]
  },
  {
   "cell_type": "code",
   "execution_count": null,
   "metadata": {},
   "outputs": [],
   "source": []
  },
  {
   "cell_type": "code",
   "execution_count": null,
   "metadata": {},
   "outputs": [],
   "source": []
  },
  {
   "cell_type": "code",
   "execution_count": null,
   "metadata": {},
   "outputs": [],
   "source": []
  },
  {
   "cell_type": "code",
   "execution_count": null,
   "metadata": {},
   "outputs": [],
   "source": []
  },
  {
   "cell_type": "code",
   "execution_count": null,
   "metadata": {},
   "outputs": [],
   "source": []
  },
  {
   "cell_type": "code",
   "execution_count": null,
   "metadata": {},
   "outputs": [],
   "source": []
  },
  {
   "cell_type": "code",
   "execution_count": null,
   "metadata": {},
   "outputs": [],
   "source": []
  },
  {
   "cell_type": "markdown",
   "metadata": {},
   "source": [
    "# Training and validation\n",
    "\n",
    "### Input\n",
    "```\n",
    "df_merged: dataframe [['arrival_date' , 'label' , 'adr' ,...]]\n",
    "```\n"
   ]
  },
  {
   "cell_type": "code",
   "execution_count": 28,
   "metadata": {},
   "outputs": [],
   "source": []
  },
  {
   "cell_type": "code",
   "execution_count": 19,
   "metadata": {},
   "outputs": [],
   "source": [
    "def evaluation(model ,val_x ,val_y):\n",
    "    pred_y =model.predict(val_x)\n",
    "    output = 'acc: '+str(accuracy_score(val_y , pred_y)) +'\\n'\n",
    "#             'f1: '+ str(f1_score(val_y , pred_y, average = 'weighted')) +'\\n'+\\\n",
    "#             'recall: '+ str(recall_score(val_y , pred_y))\n",
    "                        \n",
    "    print(output)\n",
    "    "
   ]
  },
  {
   "cell_type": "code",
   "execution_count": 20,
   "metadata": {},
   "outputs": [],
   "source": [
    "model_svc_rbf = SVC(kernel='rbf')\n",
    "model_svc_linear = SVC(kernel='linear')\n",
    "model_svc_poly = SVC(kernel='poly')\n",
    "model_svc_sig  = SVC(kernel = 'sigmoid')\n",
    "model_knn = KNeighborsClassifier()\n"
   ]
  },
  {
   "cell_type": "code",
   "execution_count": 33,
   "metadata": {},
   "outputs": [],
   "source": [
    "X , y = df_merged.drop(['arrival_date' ,'label'], axis=1 ,inplace = False) ,\\\n",
    "        df_merged[['arrival_date' ,'label']]\n",
    "\n",
    "\n",
    "train_x,val_x,train_y,val_y = train_test_split(X , y, test_size= 0.3, random_state = 10)"
   ]
  },
  {
   "cell_type": "code",
   "execution_count": 34,
   "metadata": {
    "scrolled": true
   },
   "outputs": [
    {
     "data": {
      "text/plain": [
       "<AxesSubplot:>"
      ]
     },
     "execution_count": 34,
     "metadata": {},
     "output_type": "execute_result"
    },
    {
     "data": {
      "image/png": "[encoded data removed]",
      "text/plain": [
       "<Figure size 432x288 with 1 Axes>"
      ]
     },
     "metadata": {
      "needs_background": "light"
     },
     "output_type": "display_data"
    }
   ],
   "source": [
    "train_y['label'].hist(color='blue')\n",
    "val_y['label'].hist(color='orange')"
   ]
  },
  {
   "cell_type": "code",
   "execution_count": 35,
   "metadata": {},
   "outputs": [
    {
     "data": {
      "text/plain": [
       "<AxesSubplot:>"
      ]
     },
     "execution_count": 35,
     "metadata": {},
     "output_type": "execute_result"
    },
    {
     "data": {
      "image/png": "[encoded data removed]",
      "text/plain": [
       "<Figure size 432x288 with 1 Axes>"
      ]
     },
     "metadata": {
      "needs_background": "light"
     },
     "output_type": "display_data"
    }
   ],
   "source": [
    "val_y['label'].hist(color='orange')"
   ]
  },
  {
   "cell_type": "code",
   "execution_count": 36,
   "metadata": {},
   "outputs": [
    {
     "data": {
      "text/plain": [
       "<AxesSubplot:>"
      ]
     },
     "execution_count": 36,
     "metadata": {},
     "output_type": "execute_result"
    },
    {
     "data": {
      "image/png": "[encoded data removed]",
      "text/plain": [
       "<Figure size 432x288 with 1 Axes>"
      ]
     },
     "metadata": {
      "needs_background": "light"
     },
     "output_type": "display_data"
    }
   ],
   "source": [
    "train_y['label'].hist(color='blue')"
   ]
  },
  {
   "cell_type": "code",
   "execution_count": 37,
   "metadata": {},
   "outputs": [
    {
     "name": "stderr",
     "output_type": "stream",
     "text": [
      "<ipython-input-37-a2c1b36690d2>:1: SettingWithCopyWarning: \n",
      "A value is trying to be set on a copy of a slice from a DataFrame.\n",
      "Try using .loc[row_indexer,col_indexer] = value instead\n",
      "\n",
      "See the caveats in the documentation: https://pandas.pydata.org/pandas-docs/stable/user_guide/indexing.html#returning-a-view-versus-a-copy\n",
      "  train_y['label'] = train_y['label'].astype(int)\n",
      "<ipython-input-37-a2c1b36690d2>:2: SettingWithCopyWarning: \n",
      "A value is trying to be set on a copy of a slice from a DataFrame.\n",
      "Try using .loc[row_indexer,col_indexer] = value instead\n",
      "\n",
      "See the caveats in the documentation: https://pandas.pydata.org/pandas-docs/stable/user_guide/indexing.html#returning-a-view-versus-a-copy\n",
      "  val_y['label'] =val_y['label'].astype(int)\n"
     ]
    }
   ],
   "source": [
    "train_y['label'] = train_y['label'].astype(int)\n",
    "val_y['label'] =val_y['label'].astype(int) "
   ]
  },
  {
   "cell_type": "code",
   "execution_count": 38,
   "metadata": {},
   "outputs": [
    {
     "data": {
      "text/plain": [
       "KNeighborsClassifier()"
      ]
     },
     "execution_count": 38,
     "metadata": {},
     "output_type": "execute_result"
    }
   ],
   "source": [
    "model_svc_rbf.fit(train_x, train_y['label'])\n",
    "model_svc_linear.fit(train_x, train_y['label'])\n",
    "model_svc_poly.fit(train_x, train_y['label'])\n",
    "model_svc_sig.fit(train_x, train_y['label'])\n",
    "model_knn.fit(train_x, train_y['label'])"
   ]
  },
  {
   "cell_type": "code",
   "execution_count": 39,
   "metadata": {},
   "outputs": [
    {
     "name": "stdout",
     "output_type": "stream",
     "text": [
      "acc: 0.5416666666666666\n",
      "\n",
      "acc: 0.4947916666666667\n",
      "\n",
      "acc: 0.40625\n",
      "\n",
      "acc: 0.2760416666666667\n",
      "\n",
      "acc: 0.4583333333333333\n",
      "\n"
     ]
    }
   ],
   "source": [
    "evaluation(model_svc_rbf , val_x , val_y['label'])\n",
    "evaluation(model_svc_linear , val_x , val_y['label'])\n",
    "evaluation(model_svc_poly , val_x , val_y['label'])\n",
    "evaluation(model_svc_sig , val_x , val_y['label'])\n",
    "evaluation(model_knn , val_x , val_y['label'])"
   ]
  },
  {
   "cell_type": "code",
   "execution_count": null,
   "metadata": {},
   "outputs": [],
   "source": []
  },
  {
   "cell_type": "code",
   "execution_count": 24,
   "metadata": {},
   "outputs": [],
   "source": [
    "from sklearn.linear_model import LinearRegression\n",
    "from sklearn.metrics import mean_absolute_error"
   ]
  },
  {
   "cell_type": "code",
   "execution_count": 25,
   "metadata": {},
   "outputs": [
    {
     "data": {
      "text/plain": [
       "LinearRegression()"
      ]
     },
     "execution_count": 25,
     "metadata": {},
     "output_type": "execute_result"
    }
   ],
   "source": []
  },
  {
   "cell_type": "code",
   "execution_count": 26,
   "metadata": {},
   "outputs": [
    {
     "data": {
      "text/plain": [
       "0.5848741103271664"
      ]
     },
     "execution_count": 26,
     "metadata": {},
     "output_type": "execute_result"
    }
   ],
   "source": [
    "mean_absolute_error(model_lr.predict(X) , y['label'])"
   ]
  },
  {
   "cell_type": "code",
   "execution_count": 29,
   "metadata": {},
   "outputs": [
    {
     "data": {
      "text/plain": [
       "SVR()"
      ]
     },
     "execution_count": 29,
     "metadata": {},
     "output_type": "execute_result"
    }
   ],
   "source": [
    "from sklearn.svm import SVR\n",
    "model_svr = SVR(kernel='rbf')\n",
    "model_lr = LinearRegression( normalize = False)\n",
    "model_lr.fit(train_x,  train_y['label'])\n",
    "model_svr.fit(train_x,  train_y['label'])\n"
   ]
  },
  {
   "cell_type": "code",
   "execution_count": 31,
   "metadata": {},
   "outputs": [
    {
     "data": {
      "text/plain": [
       "0.6007132583838191"
      ]
     },
     "execution_count": 31,
     "metadata": {},
     "output_type": "execute_result"
    }
   ],
   "source": [
    "mean_absolute_error(model_svr.predict(val_x) , val_y['label'])"
   ]
  },
  {
   "cell_type": "code",
   "execution_count": 32,
   "metadata": {},
   "outputs": [
    {
     "data": {
      "text/plain": [
       "0.6023328769092061"
      ]
     },
     "execution_count": 32,
     "metadata": {},
     "output_type": "execute_result"
    }
   ],
   "source": [
    "mean_absolute_error(model_lr.predict(val_x) , val_y['label'])"
   ]
  },
  {
   "cell_type": "code",
   "execution_count": null,
   "metadata": {},
   "outputs": [],
   "source": [
    "\n",
    "\n",
    "\n",
    "def predict_test(model , )"
   ]
  },
  {
   "cell_type": "code",
   "execution_count": null,
   "metadata": {},
   "outputs": [],
   "source": []
  }
 ],
 "metadata": {
  "kernelspec": {
   "display_name": "Python 3",
   "language": "python",
   "name": "python3"
  },
  "language_info": {
   "codemirror_mode": {
    "name": "ipython",
    "version": 3
   },
   "file_extension": ".py",
   "mimetype": "text/x-python",
   "name": "python",
   "nbconvert_exporter": "python",
   "pygments_lexer": "ipython3",
   "version": "3.8.5"
  }
 },
 "nbformat": 4,
 "nbformat_minor": 4
}
